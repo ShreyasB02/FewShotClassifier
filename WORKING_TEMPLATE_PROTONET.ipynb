{
  "nbformat": 4,
  "nbformat_minor": 0,
  "metadata": {
    "colab": {
      "provenance": [],
      "gpuType": "T4"
    },
    "kernelspec": {
      "name": "python3",
      "display_name": "Python 3"
    },
    "accelerator": "GPU",
    "widgets": {
      "application/vnd.jupyter.widget-state+json": {
        "03dfcc66d3db4dfa8a67fb40ecfd6eee": {
          "model_module": "@jupyter-widgets/controls",
          "model_name": "HBoxModel",
          "model_module_version": "1.5.0",
          "state": {
            "_dom_classes": [],
            "_model_module": "@jupyter-widgets/controls",
            "_model_module_version": "1.5.0",
            "_model_name": "HBoxModel",
            "_view_count": null,
            "_view_module": "@jupyter-widgets/controls",
            "_view_module_version": "1.5.0",
            "_view_name": "HBoxView",
            "box_style": "",
            "children": [
              "IPY_MODEL_df5099ed72c942dba3c4d33569a24406",
              "IPY_MODEL_81a4ccdee7044790a9a121d1b0c2f6cc",
              "IPY_MODEL_235fecb1f2364a4c8ea4d5b390bc6ecc"
            ],
            "layout": "IPY_MODEL_032dca4ecb824ab2b4f7678af607ef59"
          }
        },
        "df5099ed72c942dba3c4d33569a24406": {
          "model_module": "@jupyter-widgets/controls",
          "model_name": "HTMLModel",
          "model_module_version": "1.5.0",
          "state": {
            "_dom_classes": [],
            "_model_module": "@jupyter-widgets/controls",
            "_model_module_version": "1.5.0",
            "_model_name": "HTMLModel",
            "_view_count": null,
            "_view_module": "@jupyter-widgets/controls",
            "_view_module_version": "1.5.0",
            "_view_name": "HTMLView",
            "description": "",
            "description_tooltip": null,
            "layout": "IPY_MODEL_75535542e28548b5b417804264a4b83b",
            "placeholder": "​",
            "style": "IPY_MODEL_2f3a7ea865244d58947ed3007e0b1ca4",
            "value": "Epoch 1 train: 100%"
          }
        },
        "81a4ccdee7044790a9a121d1b0c2f6cc": {
          "model_module": "@jupyter-widgets/controls",
          "model_name": "FloatProgressModel",
          "model_module_version": "1.5.0",
          "state": {
            "_dom_classes": [],
            "_model_module": "@jupyter-widgets/controls",
            "_model_module_version": "1.5.0",
            "_model_name": "FloatProgressModel",
            "_view_count": null,
            "_view_module": "@jupyter-widgets/controls",
            "_view_module_version": "1.5.0",
            "_view_name": "ProgressView",
            "bar_style": "success",
            "description": "",
            "description_tooltip": null,
            "layout": "IPY_MODEL_a0a31e76344944f9a57657f79e979744",
            "max": 2000,
            "min": 0,
            "orientation": "horizontal",
            "style": "IPY_MODEL_98e20fb874e4442a9b2811d62d70cbf2",
            "value": 2000
          }
        },
        "235fecb1f2364a4c8ea4d5b390bc6ecc": {
          "model_module": "@jupyter-widgets/controls",
          "model_name": "HTMLModel",
          "model_module_version": "1.5.0",
          "state": {
            "_dom_classes": [],
            "_model_module": "@jupyter-widgets/controls",
            "_model_module_version": "1.5.0",
            "_model_name": "HTMLModel",
            "_view_count": null,
            "_view_module": "@jupyter-widgets/controls",
            "_view_module_version": "1.5.0",
            "_view_name": "HTMLView",
            "description": "",
            "description_tooltip": null,
            "layout": "IPY_MODEL_ee14c06b2c664730b4709380b9e0edaa",
            "placeholder": "​",
            "style": "IPY_MODEL_d77ad6e36b244d1bb2f000c93194ded1",
            "value": " 2000/2000 [01:28&lt;00:00, 24.99it/s]"
          }
        },
        "032dca4ecb824ab2b4f7678af607ef59": {
          "model_module": "@jupyter-widgets/base",
          "model_name": "LayoutModel",
          "model_module_version": "1.2.0",
          "state": {
            "_model_module": "@jupyter-widgets/base",
            "_model_module_version": "1.2.0",
            "_model_name": "LayoutModel",
            "_view_count": null,
            "_view_module": "@jupyter-widgets/base",
            "_view_module_version": "1.2.0",
            "_view_name": "LayoutView",
            "align_content": null,
            "align_items": null,
            "align_self": null,
            "border": null,
            "bottom": null,
            "display": null,
            "flex": null,
            "flex_flow": null,
            "grid_area": null,
            "grid_auto_columns": null,
            "grid_auto_flow": null,
            "grid_auto_rows": null,
            "grid_column": null,
            "grid_gap": null,
            "grid_row": null,
            "grid_template_areas": null,
            "grid_template_columns": null,
            "grid_template_rows": null,
            "height": null,
            "justify_content": null,
            "justify_items": null,
            "left": null,
            "margin": null,
            "max_height": null,
            "max_width": null,
            "min_height": null,
            "min_width": null,
            "object_fit": null,
            "object_position": null,
            "order": null,
            "overflow": null,
            "overflow_x": null,
            "overflow_y": null,
            "padding": null,
            "right": null,
            "top": null,
            "visibility": null,
            "width": null
          }
        },
        "75535542e28548b5b417804264a4b83b": {
          "model_module": "@jupyter-widgets/base",
          "model_name": "LayoutModel",
          "model_module_version": "1.2.0",
          "state": {
            "_model_module": "@jupyter-widgets/base",
            "_model_module_version": "1.2.0",
            "_model_name": "LayoutModel",
            "_view_count": null,
            "_view_module": "@jupyter-widgets/base",
            "_view_module_version": "1.2.0",
            "_view_name": "LayoutView",
            "align_content": null,
            "align_items": null,
            "align_self": null,
            "border": null,
            "bottom": null,
            "display": null,
            "flex": null,
            "flex_flow": null,
            "grid_area": null,
            "grid_auto_columns": null,
            "grid_auto_flow": null,
            "grid_auto_rows": null,
            "grid_column": null,
            "grid_gap": null,
            "grid_row": null,
            "grid_template_areas": null,
            "grid_template_columns": null,
            "grid_template_rows": null,
            "height": null,
            "justify_content": null,
            "justify_items": null,
            "left": null,
            "margin": null,
            "max_height": null,
            "max_width": null,
            "min_height": null,
            "min_width": null,
            "object_fit": null,
            "object_position": null,
            "order": null,
            "overflow": null,
            "overflow_x": null,
            "overflow_y": null,
            "padding": null,
            "right": null,
            "top": null,
            "visibility": null,
            "width": null
          }
        },
        "2f3a7ea865244d58947ed3007e0b1ca4": {
          "model_module": "@jupyter-widgets/controls",
          "model_name": "DescriptionStyleModel",
          "model_module_version": "1.5.0",
          "state": {
            "_model_module": "@jupyter-widgets/controls",
            "_model_module_version": "1.5.0",
            "_model_name": "DescriptionStyleModel",
            "_view_count": null,
            "_view_module": "@jupyter-widgets/base",
            "_view_module_version": "1.2.0",
            "_view_name": "StyleView",
            "description_width": ""
          }
        },
        "a0a31e76344944f9a57657f79e979744": {
          "model_module": "@jupyter-widgets/base",
          "model_name": "LayoutModel",
          "model_module_version": "1.2.0",
          "state": {
            "_model_module": "@jupyter-widgets/base",
            "_model_module_version": "1.2.0",
            "_model_name": "LayoutModel",
            "_view_count": null,
            "_view_module": "@jupyter-widgets/base",
            "_view_module_version": "1.2.0",
            "_view_name": "LayoutView",
            "align_content": null,
            "align_items": null,
            "align_self": null,
            "border": null,
            "bottom": null,
            "display": null,
            "flex": null,
            "flex_flow": null,
            "grid_area": null,
            "grid_auto_columns": null,
            "grid_auto_flow": null,
            "grid_auto_rows": null,
            "grid_column": null,
            "grid_gap": null,
            "grid_row": null,
            "grid_template_areas": null,
            "grid_template_columns": null,
            "grid_template_rows": null,
            "height": null,
            "justify_content": null,
            "justify_items": null,
            "left": null,
            "margin": null,
            "max_height": null,
            "max_width": null,
            "min_height": null,
            "min_width": null,
            "object_fit": null,
            "object_position": null,
            "order": null,
            "overflow": null,
            "overflow_x": null,
            "overflow_y": null,
            "padding": null,
            "right": null,
            "top": null,
            "visibility": null,
            "width": null
          }
        },
        "98e20fb874e4442a9b2811d62d70cbf2": {
          "model_module": "@jupyter-widgets/controls",
          "model_name": "ProgressStyleModel",
          "model_module_version": "1.5.0",
          "state": {
            "_model_module": "@jupyter-widgets/controls",
            "_model_module_version": "1.5.0",
            "_model_name": "ProgressStyleModel",
            "_view_count": null,
            "_view_module": "@jupyter-widgets/base",
            "_view_module_version": "1.2.0",
            "_view_name": "StyleView",
            "bar_color": null,
            "description_width": ""
          }
        },
        "ee14c06b2c664730b4709380b9e0edaa": {
          "model_module": "@jupyter-widgets/base",
          "model_name": "LayoutModel",
          "model_module_version": "1.2.0",
          "state": {
            "_model_module": "@jupyter-widgets/base",
            "_model_module_version": "1.2.0",
            "_model_name": "LayoutModel",
            "_view_count": null,
            "_view_module": "@jupyter-widgets/base",
            "_view_module_version": "1.2.0",
            "_view_name": "LayoutView",
            "align_content": null,
            "align_items": null,
            "align_self": null,
            "border": null,
            "bottom": null,
            "display": null,
            "flex": null,
            "flex_flow": null,
            "grid_area": null,
            "grid_auto_columns": null,
            "grid_auto_flow": null,
            "grid_auto_rows": null,
            "grid_column": null,
            "grid_gap": null,
            "grid_row": null,
            "grid_template_areas": null,
            "grid_template_columns": null,
            "grid_template_rows": null,
            "height": null,
            "justify_content": null,
            "justify_items": null,
            "left": null,
            "margin": null,
            "max_height": null,
            "max_width": null,
            "min_height": null,
            "min_width": null,
            "object_fit": null,
            "object_position": null,
            "order": null,
            "overflow": null,
            "overflow_x": null,
            "overflow_y": null,
            "padding": null,
            "right": null,
            "top": null,
            "visibility": null,
            "width": null
          }
        },
        "d77ad6e36b244d1bb2f000c93194ded1": {
          "model_module": "@jupyter-widgets/controls",
          "model_name": "DescriptionStyleModel",
          "model_module_version": "1.5.0",
          "state": {
            "_model_module": "@jupyter-widgets/controls",
            "_model_module_version": "1.5.0",
            "_model_name": "DescriptionStyleModel",
            "_view_count": null,
            "_view_module": "@jupyter-widgets/base",
            "_view_module_version": "1.2.0",
            "_view_name": "StyleView",
            "description_width": ""
          }
        },
        "9a088bc9da5b4b2789232b3e8cadcf57": {
          "model_module": "@jupyter-widgets/controls",
          "model_name": "HBoxModel",
          "model_module_version": "1.5.0",
          "state": {
            "_dom_classes": [],
            "_model_module": "@jupyter-widgets/controls",
            "_model_module_version": "1.5.0",
            "_model_name": "HBoxModel",
            "_view_count": null,
            "_view_module": "@jupyter-widgets/controls",
            "_view_module_version": "1.5.0",
            "_view_name": "HBoxView",
            "box_style": "",
            "children": [
              "IPY_MODEL_eb6b5e0026da48a18278555e37d004c1",
              "IPY_MODEL_f10d16fba055456085d3e351ef2ff8be",
              "IPY_MODEL_729d8b032ceb4c829c6e6f2f04a2ca9a"
            ],
            "layout": "IPY_MODEL_7dc718ac264f442a817ac930cf014811"
          }
        },
        "eb6b5e0026da48a18278555e37d004c1": {
          "model_module": "@jupyter-widgets/controls",
          "model_name": "HTMLModel",
          "model_module_version": "1.5.0",
          "state": {
            "_dom_classes": [],
            "_model_module": "@jupyter-widgets/controls",
            "_model_module_version": "1.5.0",
            "_model_name": "HTMLModel",
            "_view_count": null,
            "_view_module": "@jupyter-widgets/controls",
            "_view_module_version": "1.5.0",
            "_view_name": "HTMLView",
            "description": "",
            "description_tooltip": null,
            "layout": "IPY_MODEL_53789c79ac524d6eb455d85557c76f5d",
            "placeholder": "​",
            "style": "IPY_MODEL_db9ff830ca0b46ac8690f0121d3e1f37",
            "value": "Epoch 2 train: 100%"
          }
        },
        "f10d16fba055456085d3e351ef2ff8be": {
          "model_module": "@jupyter-widgets/controls",
          "model_name": "FloatProgressModel",
          "model_module_version": "1.5.0",
          "state": {
            "_dom_classes": [],
            "_model_module": "@jupyter-widgets/controls",
            "_model_module_version": "1.5.0",
            "_model_name": "FloatProgressModel",
            "_view_count": null,
            "_view_module": "@jupyter-widgets/controls",
            "_view_module_version": "1.5.0",
            "_view_name": "ProgressView",
            "bar_style": "success",
            "description": "",
            "description_tooltip": null,
            "layout": "IPY_MODEL_9cdf66c50d3443c7ab846050be0e1f65",
            "max": 2000,
            "min": 0,
            "orientation": "horizontal",
            "style": "IPY_MODEL_a8322f0c98614b7b89bd539edf0c92fb",
            "value": 2000
          }
        },
        "729d8b032ceb4c829c6e6f2f04a2ca9a": {
          "model_module": "@jupyter-widgets/controls",
          "model_name": "HTMLModel",
          "model_module_version": "1.5.0",
          "state": {
            "_dom_classes": [],
            "_model_module": "@jupyter-widgets/controls",
            "_model_module_version": "1.5.0",
            "_model_name": "HTMLModel",
            "_view_count": null,
            "_view_module": "@jupyter-widgets/controls",
            "_view_module_version": "1.5.0",
            "_view_name": "HTMLView",
            "description": "",
            "description_tooltip": null,
            "layout": "IPY_MODEL_7288f634cd364fb8aa36eafc6314de05",
            "placeholder": "​",
            "style": "IPY_MODEL_b125aaf6017544d2adae6e069917a2ca",
            "value": " 2000/2000 [01:28&lt;00:00, 28.18it/s]"
          }
        },
        "7dc718ac264f442a817ac930cf014811": {
          "model_module": "@jupyter-widgets/base",
          "model_name": "LayoutModel",
          "model_module_version": "1.2.0",
          "state": {
            "_model_module": "@jupyter-widgets/base",
            "_model_module_version": "1.2.0",
            "_model_name": "LayoutModel",
            "_view_count": null,
            "_view_module": "@jupyter-widgets/base",
            "_view_module_version": "1.2.0",
            "_view_name": "LayoutView",
            "align_content": null,
            "align_items": null,
            "align_self": null,
            "border": null,
            "bottom": null,
            "display": null,
            "flex": null,
            "flex_flow": null,
            "grid_area": null,
            "grid_auto_columns": null,
            "grid_auto_flow": null,
            "grid_auto_rows": null,
            "grid_column": null,
            "grid_gap": null,
            "grid_row": null,
            "grid_template_areas": null,
            "grid_template_columns": null,
            "grid_template_rows": null,
            "height": null,
            "justify_content": null,
            "justify_items": null,
            "left": null,
            "margin": null,
            "max_height": null,
            "max_width": null,
            "min_height": null,
            "min_width": null,
            "object_fit": null,
            "object_position": null,
            "order": null,
            "overflow": null,
            "overflow_x": null,
            "overflow_y": null,
            "padding": null,
            "right": null,
            "top": null,
            "visibility": null,
            "width": null
          }
        },
        "53789c79ac524d6eb455d85557c76f5d": {
          "model_module": "@jupyter-widgets/base",
          "model_name": "LayoutModel",
          "model_module_version": "1.2.0",
          "state": {
            "_model_module": "@jupyter-widgets/base",
            "_model_module_version": "1.2.0",
            "_model_name": "LayoutModel",
            "_view_count": null,
            "_view_module": "@jupyter-widgets/base",
            "_view_module_version": "1.2.0",
            "_view_name": "LayoutView",
            "align_content": null,
            "align_items": null,
            "align_self": null,
            "border": null,
            "bottom": null,
            "display": null,
            "flex": null,
            "flex_flow": null,
            "grid_area": null,
            "grid_auto_columns": null,
            "grid_auto_flow": null,
            "grid_auto_rows": null,
            "grid_column": null,
            "grid_gap": null,
            "grid_row": null,
            "grid_template_areas": null,
            "grid_template_columns": null,
            "grid_template_rows": null,
            "height": null,
            "justify_content": null,
            "justify_items": null,
            "left": null,
            "margin": null,
            "max_height": null,
            "max_width": null,
            "min_height": null,
            "min_width": null,
            "object_fit": null,
            "object_position": null,
            "order": null,
            "overflow": null,
            "overflow_x": null,
            "overflow_y": null,
            "padding": null,
            "right": null,
            "top": null,
            "visibility": null,
            "width": null
          }
        },
        "db9ff830ca0b46ac8690f0121d3e1f37": {
          "model_module": "@jupyter-widgets/controls",
          "model_name": "DescriptionStyleModel",
          "model_module_version": "1.5.0",
          "state": {
            "_model_module": "@jupyter-widgets/controls",
            "_model_module_version": "1.5.0",
            "_model_name": "DescriptionStyleModel",
            "_view_count": null,
            "_view_module": "@jupyter-widgets/base",
            "_view_module_version": "1.2.0",
            "_view_name": "StyleView",
            "description_width": ""
          }
        },
        "9cdf66c50d3443c7ab846050be0e1f65": {
          "model_module": "@jupyter-widgets/base",
          "model_name": "LayoutModel",
          "model_module_version": "1.2.0",
          "state": {
            "_model_module": "@jupyter-widgets/base",
            "_model_module_version": "1.2.0",
            "_model_name": "LayoutModel",
            "_view_count": null,
            "_view_module": "@jupyter-widgets/base",
            "_view_module_version": "1.2.0",
            "_view_name": "LayoutView",
            "align_content": null,
            "align_items": null,
            "align_self": null,
            "border": null,
            "bottom": null,
            "display": null,
            "flex": null,
            "flex_flow": null,
            "grid_area": null,
            "grid_auto_columns": null,
            "grid_auto_flow": null,
            "grid_auto_rows": null,
            "grid_column": null,
            "grid_gap": null,
            "grid_row": null,
            "grid_template_areas": null,
            "grid_template_columns": null,
            "grid_template_rows": null,
            "height": null,
            "justify_content": null,
            "justify_items": null,
            "left": null,
            "margin": null,
            "max_height": null,
            "max_width": null,
            "min_height": null,
            "min_width": null,
            "object_fit": null,
            "object_position": null,
            "order": null,
            "overflow": null,
            "overflow_x": null,
            "overflow_y": null,
            "padding": null,
            "right": null,
            "top": null,
            "visibility": null,
            "width": null
          }
        },
        "a8322f0c98614b7b89bd539edf0c92fb": {
          "model_module": "@jupyter-widgets/controls",
          "model_name": "ProgressStyleModel",
          "model_module_version": "1.5.0",
          "state": {
            "_model_module": "@jupyter-widgets/controls",
            "_model_module_version": "1.5.0",
            "_model_name": "ProgressStyleModel",
            "_view_count": null,
            "_view_module": "@jupyter-widgets/base",
            "_view_module_version": "1.2.0",
            "_view_name": "StyleView",
            "bar_color": null,
            "description_width": ""
          }
        },
        "7288f634cd364fb8aa36eafc6314de05": {
          "model_module": "@jupyter-widgets/base",
          "model_name": "LayoutModel",
          "model_module_version": "1.2.0",
          "state": {
            "_model_module": "@jupyter-widgets/base",
            "_model_module_version": "1.2.0",
            "_model_name": "LayoutModel",
            "_view_count": null,
            "_view_module": "@jupyter-widgets/base",
            "_view_module_version": "1.2.0",
            "_view_name": "LayoutView",
            "align_content": null,
            "align_items": null,
            "align_self": null,
            "border": null,
            "bottom": null,
            "display": null,
            "flex": null,
            "flex_flow": null,
            "grid_area": null,
            "grid_auto_columns": null,
            "grid_auto_flow": null,
            "grid_auto_rows": null,
            "grid_column": null,
            "grid_gap": null,
            "grid_row": null,
            "grid_template_areas": null,
            "grid_template_columns": null,
            "grid_template_rows": null,
            "height": null,
            "justify_content": null,
            "justify_items": null,
            "left": null,
            "margin": null,
            "max_height": null,
            "max_width": null,
            "min_height": null,
            "min_width": null,
            "object_fit": null,
            "object_position": null,
            "order": null,
            "overflow": null,
            "overflow_x": null,
            "overflow_y": null,
            "padding": null,
            "right": null,
            "top": null,
            "visibility": null,
            "width": null
          }
        },
        "b125aaf6017544d2adae6e069917a2ca": {
          "model_module": "@jupyter-widgets/controls",
          "model_name": "DescriptionStyleModel",
          "model_module_version": "1.5.0",
          "state": {
            "_model_module": "@jupyter-widgets/controls",
            "_model_module_version": "1.5.0",
            "_model_name": "DescriptionStyleModel",
            "_view_count": null,
            "_view_module": "@jupyter-widgets/base",
            "_view_module_version": "1.2.0",
            "_view_name": "StyleView",
            "description_width": ""
          }
        },
        "1f93822bd6df48b29cf87e613a9a31a2": {
          "model_module": "@jupyter-widgets/controls",
          "model_name": "HBoxModel",
          "model_module_version": "1.5.0",
          "state": {
            "_dom_classes": [],
            "_model_module": "@jupyter-widgets/controls",
            "_model_module_version": "1.5.0",
            "_model_name": "HBoxModel",
            "_view_count": null,
            "_view_module": "@jupyter-widgets/controls",
            "_view_module_version": "1.5.0",
            "_view_name": "HBoxView",
            "box_style": "",
            "children": [
              "IPY_MODEL_bd7c4f22389b44978ef325205b3b55b5",
              "IPY_MODEL_7a261f209dc04ba1af8d0e06287de885",
              "IPY_MODEL_deec902f0de1491696fbe281245174ad"
            ],
            "layout": "IPY_MODEL_a8e935c268f6419d89c764c33f013b26"
          }
        },
        "bd7c4f22389b44978ef325205b3b55b5": {
          "model_module": "@jupyter-widgets/controls",
          "model_name": "HTMLModel",
          "model_module_version": "1.5.0",
          "state": {
            "_dom_classes": [],
            "_model_module": "@jupyter-widgets/controls",
            "_model_module_version": "1.5.0",
            "_model_name": "HTMLModel",
            "_view_count": null,
            "_view_module": "@jupyter-widgets/controls",
            "_view_module_version": "1.5.0",
            "_view_name": "HTMLView",
            "description": "",
            "description_tooltip": null,
            "layout": "IPY_MODEL_3e50c0f2652f47c3b9736a45356e56d8",
            "placeholder": "​",
            "style": "IPY_MODEL_e4ff2f449f0949e492a9def49a833e18",
            "value": "Epoch 3 train: 100%"
          }
        },
        "7a261f209dc04ba1af8d0e06287de885": {
          "model_module": "@jupyter-widgets/controls",
          "model_name": "FloatProgressModel",
          "model_module_version": "1.5.0",
          "state": {
            "_dom_classes": [],
            "_model_module": "@jupyter-widgets/controls",
            "_model_module_version": "1.5.0",
            "_model_name": "FloatProgressModel",
            "_view_count": null,
            "_view_module": "@jupyter-widgets/controls",
            "_view_module_version": "1.5.0",
            "_view_name": "ProgressView",
            "bar_style": "success",
            "description": "",
            "description_tooltip": null,
            "layout": "IPY_MODEL_abe50e5eac26409ab82cecdcb97c74d8",
            "max": 2000,
            "min": 0,
            "orientation": "horizontal",
            "style": "IPY_MODEL_d5d7f7c6507f40fbbf7c0aec35400b93",
            "value": 2000
          }
        },
        "deec902f0de1491696fbe281245174ad": {
          "model_module": "@jupyter-widgets/controls",
          "model_name": "HTMLModel",
          "model_module_version": "1.5.0",
          "state": {
            "_dom_classes": [],
            "_model_module": "@jupyter-widgets/controls",
            "_model_module_version": "1.5.0",
            "_model_name": "HTMLModel",
            "_view_count": null,
            "_view_module": "@jupyter-widgets/controls",
            "_view_module_version": "1.5.0",
            "_view_name": "HTMLView",
            "description": "",
            "description_tooltip": null,
            "layout": "IPY_MODEL_e166b55e43064ccf958e4b10c218f86c",
            "placeholder": "​",
            "style": "IPY_MODEL_037e3fa12ff74455b9f415efcd5ea499",
            "value": " 2000/2000 [01:27&lt;00:00, 27.14it/s]"
          }
        },
        "a8e935c268f6419d89c764c33f013b26": {
          "model_module": "@jupyter-widgets/base",
          "model_name": "LayoutModel",
          "model_module_version": "1.2.0",
          "state": {
            "_model_module": "@jupyter-widgets/base",
            "_model_module_version": "1.2.0",
            "_model_name": "LayoutModel",
            "_view_count": null,
            "_view_module": "@jupyter-widgets/base",
            "_view_module_version": "1.2.0",
            "_view_name": "LayoutView",
            "align_content": null,
            "align_items": null,
            "align_self": null,
            "border": null,
            "bottom": null,
            "display": null,
            "flex": null,
            "flex_flow": null,
            "grid_area": null,
            "grid_auto_columns": null,
            "grid_auto_flow": null,
            "grid_auto_rows": null,
            "grid_column": null,
            "grid_gap": null,
            "grid_row": null,
            "grid_template_areas": null,
            "grid_template_columns": null,
            "grid_template_rows": null,
            "height": null,
            "justify_content": null,
            "justify_items": null,
            "left": null,
            "margin": null,
            "max_height": null,
            "max_width": null,
            "min_height": null,
            "min_width": null,
            "object_fit": null,
            "object_position": null,
            "order": null,
            "overflow": null,
            "overflow_x": null,
            "overflow_y": null,
            "padding": null,
            "right": null,
            "top": null,
            "visibility": null,
            "width": null
          }
        },
        "3e50c0f2652f47c3b9736a45356e56d8": {
          "model_module": "@jupyter-widgets/base",
          "model_name": "LayoutModel",
          "model_module_version": "1.2.0",
          "state": {
            "_model_module": "@jupyter-widgets/base",
            "_model_module_version": "1.2.0",
            "_model_name": "LayoutModel",
            "_view_count": null,
            "_view_module": "@jupyter-widgets/base",
            "_view_module_version": "1.2.0",
            "_view_name": "LayoutView",
            "align_content": null,
            "align_items": null,
            "align_self": null,
            "border": null,
            "bottom": null,
            "display": null,
            "flex": null,
            "flex_flow": null,
            "grid_area": null,
            "grid_auto_columns": null,
            "grid_auto_flow": null,
            "grid_auto_rows": null,
            "grid_column": null,
            "grid_gap": null,
            "grid_row": null,
            "grid_template_areas": null,
            "grid_template_columns": null,
            "grid_template_rows": null,
            "height": null,
            "justify_content": null,
            "justify_items": null,
            "left": null,
            "margin": null,
            "max_height": null,
            "max_width": null,
            "min_height": null,
            "min_width": null,
            "object_fit": null,
            "object_position": null,
            "order": null,
            "overflow": null,
            "overflow_x": null,
            "overflow_y": null,
            "padding": null,
            "right": null,
            "top": null,
            "visibility": null,
            "width": null
          }
        },
        "e4ff2f449f0949e492a9def49a833e18": {
          "model_module": "@jupyter-widgets/controls",
          "model_name": "DescriptionStyleModel",
          "model_module_version": "1.5.0",
          "state": {
            "_model_module": "@jupyter-widgets/controls",
            "_model_module_version": "1.5.0",
            "_model_name": "DescriptionStyleModel",
            "_view_count": null,
            "_view_module": "@jupyter-widgets/base",
            "_view_module_version": "1.2.0",
            "_view_name": "StyleView",
            "description_width": ""
          }
        },
        "abe50e5eac26409ab82cecdcb97c74d8": {
          "model_module": "@jupyter-widgets/base",
          "model_name": "LayoutModel",
          "model_module_version": "1.2.0",
          "state": {
            "_model_module": "@jupyter-widgets/base",
            "_model_module_version": "1.2.0",
            "_model_name": "LayoutModel",
            "_view_count": null,
            "_view_module": "@jupyter-widgets/base",
            "_view_module_version": "1.2.0",
            "_view_name": "LayoutView",
            "align_content": null,
            "align_items": null,
            "align_self": null,
            "border": null,
            "bottom": null,
            "display": null,
            "flex": null,
            "flex_flow": null,
            "grid_area": null,
            "grid_auto_columns": null,
            "grid_auto_flow": null,
            "grid_auto_rows": null,
            "grid_column": null,
            "grid_gap": null,
            "grid_row": null,
            "grid_template_areas": null,
            "grid_template_columns": null,
            "grid_template_rows": null,
            "height": null,
            "justify_content": null,
            "justify_items": null,
            "left": null,
            "margin": null,
            "max_height": null,
            "max_width": null,
            "min_height": null,
            "min_width": null,
            "object_fit": null,
            "object_position": null,
            "order": null,
            "overflow": null,
            "overflow_x": null,
            "overflow_y": null,
            "padding": null,
            "right": null,
            "top": null,
            "visibility": null,
            "width": null
          }
        },
        "d5d7f7c6507f40fbbf7c0aec35400b93": {
          "model_module": "@jupyter-widgets/controls",
          "model_name": "ProgressStyleModel",
          "model_module_version": "1.5.0",
          "state": {
            "_model_module": "@jupyter-widgets/controls",
            "_model_module_version": "1.5.0",
            "_model_name": "ProgressStyleModel",
            "_view_count": null,
            "_view_module": "@jupyter-widgets/base",
            "_view_module_version": "1.2.0",
            "_view_name": "StyleView",
            "bar_color": null,
            "description_width": ""
          }
        },
        "e166b55e43064ccf958e4b10c218f86c": {
          "model_module": "@jupyter-widgets/base",
          "model_name": "LayoutModel",
          "model_module_version": "1.2.0",
          "state": {
            "_model_module": "@jupyter-widgets/base",
            "_model_module_version": "1.2.0",
            "_model_name": "LayoutModel",
            "_view_count": null,
            "_view_module": "@jupyter-widgets/base",
            "_view_module_version": "1.2.0",
            "_view_name": "LayoutView",
            "align_content": null,
            "align_items": null,
            "align_self": null,
            "border": null,
            "bottom": null,
            "display": null,
            "flex": null,
            "flex_flow": null,
            "grid_area": null,
            "grid_auto_columns": null,
            "grid_auto_flow": null,
            "grid_auto_rows": null,
            "grid_column": null,
            "grid_gap": null,
            "grid_row": null,
            "grid_template_areas": null,
            "grid_template_columns": null,
            "grid_template_rows": null,
            "height": null,
            "justify_content": null,
            "justify_items": null,
            "left": null,
            "margin": null,
            "max_height": null,
            "max_width": null,
            "min_height": null,
            "min_width": null,
            "object_fit": null,
            "object_position": null,
            "order": null,
            "overflow": null,
            "overflow_x": null,
            "overflow_y": null,
            "padding": null,
            "right": null,
            "top": null,
            "visibility": null,
            "width": null
          }
        },
        "037e3fa12ff74455b9f415efcd5ea499": {
          "model_module": "@jupyter-widgets/controls",
          "model_name": "DescriptionStyleModel",
          "model_module_version": "1.5.0",
          "state": {
            "_model_module": "@jupyter-widgets/controls",
            "_model_module_version": "1.5.0",
            "_model_name": "DescriptionStyleModel",
            "_view_count": null,
            "_view_module": "@jupyter-widgets/base",
            "_view_module_version": "1.2.0",
            "_view_name": "StyleView",
            "description_width": ""
          }
        },
        "1d71e40cf591427ba885f31310470507": {
          "model_module": "@jupyter-widgets/controls",
          "model_name": "HBoxModel",
          "model_module_version": "1.5.0",
          "state": {
            "_dom_classes": [],
            "_model_module": "@jupyter-widgets/controls",
            "_model_module_version": "1.5.0",
            "_model_name": "HBoxModel",
            "_view_count": null,
            "_view_module": "@jupyter-widgets/controls",
            "_view_module_version": "1.5.0",
            "_view_name": "HBoxView",
            "box_style": "",
            "children": [
              "IPY_MODEL_e77c7d90f5fe4dbf99fd60d554fb79d3",
              "IPY_MODEL_07ceab74ceb148f99e25073f0910685e",
              "IPY_MODEL_014b87430d9b4d778e8fcfce22e03568"
            ],
            "layout": "IPY_MODEL_bcc0d95ad7c0400d8136c90253681128"
          }
        },
        "e77c7d90f5fe4dbf99fd60d554fb79d3": {
          "model_module": "@jupyter-widgets/controls",
          "model_name": "HTMLModel",
          "model_module_version": "1.5.0",
          "state": {
            "_dom_classes": [],
            "_model_module": "@jupyter-widgets/controls",
            "_model_module_version": "1.5.0",
            "_model_name": "HTMLModel",
            "_view_count": null,
            "_view_module": "@jupyter-widgets/controls",
            "_view_module_version": "1.5.0",
            "_view_name": "HTMLView",
            "description": "",
            "description_tooltip": null,
            "layout": "IPY_MODEL_3fbc70738cc342079d12344389c9713b",
            "placeholder": "​",
            "style": "IPY_MODEL_1c49424ba5b94aaa8ba5a5e4c89531a5",
            "value": "Epoch 4 train: 100%"
          }
        },
        "07ceab74ceb148f99e25073f0910685e": {
          "model_module": "@jupyter-widgets/controls",
          "model_name": "FloatProgressModel",
          "model_module_version": "1.5.0",
          "state": {
            "_dom_classes": [],
            "_model_module": "@jupyter-widgets/controls",
            "_model_module_version": "1.5.0",
            "_model_name": "FloatProgressModel",
            "_view_count": null,
            "_view_module": "@jupyter-widgets/controls",
            "_view_module_version": "1.5.0",
            "_view_name": "ProgressView",
            "bar_style": "success",
            "description": "",
            "description_tooltip": null,
            "layout": "IPY_MODEL_ed09a6b7f4b347c9b81af5d4bd072752",
            "max": 2000,
            "min": 0,
            "orientation": "horizontal",
            "style": "IPY_MODEL_982bda3410df4b729ff2e881983a8bd5",
            "value": 2000
          }
        },
        "014b87430d9b4d778e8fcfce22e03568": {
          "model_module": "@jupyter-widgets/controls",
          "model_name": "HTMLModel",
          "model_module_version": "1.5.0",
          "state": {
            "_dom_classes": [],
            "_model_module": "@jupyter-widgets/controls",
            "_model_module_version": "1.5.0",
            "_model_name": "HTMLModel",
            "_view_count": null,
            "_view_module": "@jupyter-widgets/controls",
            "_view_module_version": "1.5.0",
            "_view_name": "HTMLView",
            "description": "",
            "description_tooltip": null,
            "layout": "IPY_MODEL_3787156cd52c4df6bff9af6ed7966552",
            "placeholder": "​",
            "style": "IPY_MODEL_e1074824b7504da48bdb6ca5f33df856",
            "value": " 2000/2000 [01:27&lt;00:00, 19.63it/s]"
          }
        },
        "bcc0d95ad7c0400d8136c90253681128": {
          "model_module": "@jupyter-widgets/base",
          "model_name": "LayoutModel",
          "model_module_version": "1.2.0",
          "state": {
            "_model_module": "@jupyter-widgets/base",
            "_model_module_version": "1.2.0",
            "_model_name": "LayoutModel",
            "_view_count": null,
            "_view_module": "@jupyter-widgets/base",
            "_view_module_version": "1.2.0",
            "_view_name": "LayoutView",
            "align_content": null,
            "align_items": null,
            "align_self": null,
            "border": null,
            "bottom": null,
            "display": null,
            "flex": null,
            "flex_flow": null,
            "grid_area": null,
            "grid_auto_columns": null,
            "grid_auto_flow": null,
            "grid_auto_rows": null,
            "grid_column": null,
            "grid_gap": null,
            "grid_row": null,
            "grid_template_areas": null,
            "grid_template_columns": null,
            "grid_template_rows": null,
            "height": null,
            "justify_content": null,
            "justify_items": null,
            "left": null,
            "margin": null,
            "max_height": null,
            "max_width": null,
            "min_height": null,
            "min_width": null,
            "object_fit": null,
            "object_position": null,
            "order": null,
            "overflow": null,
            "overflow_x": null,
            "overflow_y": null,
            "padding": null,
            "right": null,
            "top": null,
            "visibility": null,
            "width": null
          }
        },
        "3fbc70738cc342079d12344389c9713b": {
          "model_module": "@jupyter-widgets/base",
          "model_name": "LayoutModel",
          "model_module_version": "1.2.0",
          "state": {
            "_model_module": "@jupyter-widgets/base",
            "_model_module_version": "1.2.0",
            "_model_name": "LayoutModel",
            "_view_count": null,
            "_view_module": "@jupyter-widgets/base",
            "_view_module_version": "1.2.0",
            "_view_name": "LayoutView",
            "align_content": null,
            "align_items": null,
            "align_self": null,
            "border": null,
            "bottom": null,
            "display": null,
            "flex": null,
            "flex_flow": null,
            "grid_area": null,
            "grid_auto_columns": null,
            "grid_auto_flow": null,
            "grid_auto_rows": null,
            "grid_column": null,
            "grid_gap": null,
            "grid_row": null,
            "grid_template_areas": null,
            "grid_template_columns": null,
            "grid_template_rows": null,
            "height": null,
            "justify_content": null,
            "justify_items": null,
            "left": null,
            "margin": null,
            "max_height": null,
            "max_width": null,
            "min_height": null,
            "min_width": null,
            "object_fit": null,
            "object_position": null,
            "order": null,
            "overflow": null,
            "overflow_x": null,
            "overflow_y": null,
            "padding": null,
            "right": null,
            "top": null,
            "visibility": null,
            "width": null
          }
        },
        "1c49424ba5b94aaa8ba5a5e4c89531a5": {
          "model_module": "@jupyter-widgets/controls",
          "model_name": "DescriptionStyleModel",
          "model_module_version": "1.5.0",
          "state": {
            "_model_module": "@jupyter-widgets/controls",
            "_model_module_version": "1.5.0",
            "_model_name": "DescriptionStyleModel",
            "_view_count": null,
            "_view_module": "@jupyter-widgets/base",
            "_view_module_version": "1.2.0",
            "_view_name": "StyleView",
            "description_width": ""
          }
        },
        "ed09a6b7f4b347c9b81af5d4bd072752": {
          "model_module": "@jupyter-widgets/base",
          "model_name": "LayoutModel",
          "model_module_version": "1.2.0",
          "state": {
            "_model_module": "@jupyter-widgets/base",
            "_model_module_version": "1.2.0",
            "_model_name": "LayoutModel",
            "_view_count": null,
            "_view_module": "@jupyter-widgets/base",
            "_view_module_version": "1.2.0",
            "_view_name": "LayoutView",
            "align_content": null,
            "align_items": null,
            "align_self": null,
            "border": null,
            "bottom": null,
            "display": null,
            "flex": null,
            "flex_flow": null,
            "grid_area": null,
            "grid_auto_columns": null,
            "grid_auto_flow": null,
            "grid_auto_rows": null,
            "grid_column": null,
            "grid_gap": null,
            "grid_row": null,
            "grid_template_areas": null,
            "grid_template_columns": null,
            "grid_template_rows": null,
            "height": null,
            "justify_content": null,
            "justify_items": null,
            "left": null,
            "margin": null,
            "max_height": null,
            "max_width": null,
            "min_height": null,
            "min_width": null,
            "object_fit": null,
            "object_position": null,
            "order": null,
            "overflow": null,
            "overflow_x": null,
            "overflow_y": null,
            "padding": null,
            "right": null,
            "top": null,
            "visibility": null,
            "width": null
          }
        },
        "982bda3410df4b729ff2e881983a8bd5": {
          "model_module": "@jupyter-widgets/controls",
          "model_name": "ProgressStyleModel",
          "model_module_version": "1.5.0",
          "state": {
            "_model_module": "@jupyter-widgets/controls",
            "_model_module_version": "1.5.0",
            "_model_name": "ProgressStyleModel",
            "_view_count": null,
            "_view_module": "@jupyter-widgets/base",
            "_view_module_version": "1.2.0",
            "_view_name": "StyleView",
            "bar_color": null,
            "description_width": ""
          }
        },
        "3787156cd52c4df6bff9af6ed7966552": {
          "model_module": "@jupyter-widgets/base",
          "model_name": "LayoutModel",
          "model_module_version": "1.2.0",
          "state": {
            "_model_module": "@jupyter-widgets/base",
            "_model_module_version": "1.2.0",
            "_model_name": "LayoutModel",
            "_view_count": null,
            "_view_module": "@jupyter-widgets/base",
            "_view_module_version": "1.2.0",
            "_view_name": "LayoutView",
            "align_content": null,
            "align_items": null,
            "align_self": null,
            "border": null,
            "bottom": null,
            "display": null,
            "flex": null,
            "flex_flow": null,
            "grid_area": null,
            "grid_auto_columns": null,
            "grid_auto_flow": null,
            "grid_auto_rows": null,
            "grid_column": null,
            "grid_gap": null,
            "grid_row": null,
            "grid_template_areas": null,
            "grid_template_columns": null,
            "grid_template_rows": null,
            "height": null,
            "justify_content": null,
            "justify_items": null,
            "left": null,
            "margin": null,
            "max_height": null,
            "max_width": null,
            "min_height": null,
            "min_width": null,
            "object_fit": null,
            "object_position": null,
            "order": null,
            "overflow": null,
            "overflow_x": null,
            "overflow_y": null,
            "padding": null,
            "right": null,
            "top": null,
            "visibility": null,
            "width": null
          }
        },
        "e1074824b7504da48bdb6ca5f33df856": {
          "model_module": "@jupyter-widgets/controls",
          "model_name": "DescriptionStyleModel",
          "model_module_version": "1.5.0",
          "state": {
            "_model_module": "@jupyter-widgets/controls",
            "_model_module_version": "1.5.0",
            "_model_name": "DescriptionStyleModel",
            "_view_count": null,
            "_view_module": "@jupyter-widgets/base",
            "_view_module_version": "1.2.0",
            "_view_name": "StyleView",
            "description_width": ""
          }
        },
        "437076fe5ffb47ce979bad127e72c7dd": {
          "model_module": "@jupyter-widgets/controls",
          "model_name": "HBoxModel",
          "model_module_version": "1.5.0",
          "state": {
            "_dom_classes": [],
            "_model_module": "@jupyter-widgets/controls",
            "_model_module_version": "1.5.0",
            "_model_name": "HBoxModel",
            "_view_count": null,
            "_view_module": "@jupyter-widgets/controls",
            "_view_module_version": "1.5.0",
            "_view_name": "HBoxView",
            "box_style": "",
            "children": [
              "IPY_MODEL_a8696b18c3614e3a819c986422448e70",
              "IPY_MODEL_fa83d9393325438f8261949fc3c401de",
              "IPY_MODEL_1fc713cbed724594a185cffd8b468584"
            ],
            "layout": "IPY_MODEL_524d61a44e474b68b486115df2cef3a4"
          }
        },
        "a8696b18c3614e3a819c986422448e70": {
          "model_module": "@jupyter-widgets/controls",
          "model_name": "HTMLModel",
          "model_module_version": "1.5.0",
          "state": {
            "_dom_classes": [],
            "_model_module": "@jupyter-widgets/controls",
            "_model_module_version": "1.5.0",
            "_model_name": "HTMLModel",
            "_view_count": null,
            "_view_module": "@jupyter-widgets/controls",
            "_view_module_version": "1.5.0",
            "_view_name": "HTMLView",
            "description": "",
            "description_tooltip": null,
            "layout": "IPY_MODEL_e97c0d035f5e40ad8d8bec9dead1f0ca",
            "placeholder": "​",
            "style": "IPY_MODEL_4bf7d9d491524fdf88f2385029cd4660",
            "value": "Epoch 5 train: 100%"
          }
        },
        "fa83d9393325438f8261949fc3c401de": {
          "model_module": "@jupyter-widgets/controls",
          "model_name": "FloatProgressModel",
          "model_module_version": "1.5.0",
          "state": {
            "_dom_classes": [],
            "_model_module": "@jupyter-widgets/controls",
            "_model_module_version": "1.5.0",
            "_model_name": "FloatProgressModel",
            "_view_count": null,
            "_view_module": "@jupyter-widgets/controls",
            "_view_module_version": "1.5.0",
            "_view_name": "ProgressView",
            "bar_style": "success",
            "description": "",
            "description_tooltip": null,
            "layout": "IPY_MODEL_7f260644bc114ef3a42a88449144195e",
            "max": 2000,
            "min": 0,
            "orientation": "horizontal",
            "style": "IPY_MODEL_adffbab2c8164480aff0883029ab9b73",
            "value": 2000
          }
        },
        "1fc713cbed724594a185cffd8b468584": {
          "model_module": "@jupyter-widgets/controls",
          "model_name": "HTMLModel",
          "model_module_version": "1.5.0",
          "state": {
            "_dom_classes": [],
            "_model_module": "@jupyter-widgets/controls",
            "_model_module_version": "1.5.0",
            "_model_name": "HTMLModel",
            "_view_count": null,
            "_view_module": "@jupyter-widgets/controls",
            "_view_module_version": "1.5.0",
            "_view_name": "HTMLView",
            "description": "",
            "description_tooltip": null,
            "layout": "IPY_MODEL_c4957606da2644bfbd661b94a0e5c358",
            "placeholder": "​",
            "style": "IPY_MODEL_38b7f0b81978452d814eaf5d7c05337d",
            "value": " 2000/2000 [01:29&lt;00:00, 17.92it/s]"
          }
        },
        "524d61a44e474b68b486115df2cef3a4": {
          "model_module": "@jupyter-widgets/base",
          "model_name": "LayoutModel",
          "model_module_version": "1.2.0",
          "state": {
            "_model_module": "@jupyter-widgets/base",
            "_model_module_version": "1.2.0",
            "_model_name": "LayoutModel",
            "_view_count": null,
            "_view_module": "@jupyter-widgets/base",
            "_view_module_version": "1.2.0",
            "_view_name": "LayoutView",
            "align_content": null,
            "align_items": null,
            "align_self": null,
            "border": null,
            "bottom": null,
            "display": null,
            "flex": null,
            "flex_flow": null,
            "grid_area": null,
            "grid_auto_columns": null,
            "grid_auto_flow": null,
            "grid_auto_rows": null,
            "grid_column": null,
            "grid_gap": null,
            "grid_row": null,
            "grid_template_areas": null,
            "grid_template_columns": null,
            "grid_template_rows": null,
            "height": null,
            "justify_content": null,
            "justify_items": null,
            "left": null,
            "margin": null,
            "max_height": null,
            "max_width": null,
            "min_height": null,
            "min_width": null,
            "object_fit": null,
            "object_position": null,
            "order": null,
            "overflow": null,
            "overflow_x": null,
            "overflow_y": null,
            "padding": null,
            "right": null,
            "top": null,
            "visibility": null,
            "width": null
          }
        },
        "e97c0d035f5e40ad8d8bec9dead1f0ca": {
          "model_module": "@jupyter-widgets/base",
          "model_name": "LayoutModel",
          "model_module_version": "1.2.0",
          "state": {
            "_model_module": "@jupyter-widgets/base",
            "_model_module_version": "1.2.0",
            "_model_name": "LayoutModel",
            "_view_count": null,
            "_view_module": "@jupyter-widgets/base",
            "_view_module_version": "1.2.0",
            "_view_name": "LayoutView",
            "align_content": null,
            "align_items": null,
            "align_self": null,
            "border": null,
            "bottom": null,
            "display": null,
            "flex": null,
            "flex_flow": null,
            "grid_area": null,
            "grid_auto_columns": null,
            "grid_auto_flow": null,
            "grid_auto_rows": null,
            "grid_column": null,
            "grid_gap": null,
            "grid_row": null,
            "grid_template_areas": null,
            "grid_template_columns": null,
            "grid_template_rows": null,
            "height": null,
            "justify_content": null,
            "justify_items": null,
            "left": null,
            "margin": null,
            "max_height": null,
            "max_width": null,
            "min_height": null,
            "min_width": null,
            "object_fit": null,
            "object_position": null,
            "order": null,
            "overflow": null,
            "overflow_x": null,
            "overflow_y": null,
            "padding": null,
            "right": null,
            "top": null,
            "visibility": null,
            "width": null
          }
        },
        "4bf7d9d491524fdf88f2385029cd4660": {
          "model_module": "@jupyter-widgets/controls",
          "model_name": "DescriptionStyleModel",
          "model_module_version": "1.5.0",
          "state": {
            "_model_module": "@jupyter-widgets/controls",
            "_model_module_version": "1.5.0",
            "_model_name": "DescriptionStyleModel",
            "_view_count": null,
            "_view_module": "@jupyter-widgets/base",
            "_view_module_version": "1.2.0",
            "_view_name": "StyleView",
            "description_width": ""
          }
        },
        "7f260644bc114ef3a42a88449144195e": {
          "model_module": "@jupyter-widgets/base",
          "model_name": "LayoutModel",
          "model_module_version": "1.2.0",
          "state": {
            "_model_module": "@jupyter-widgets/base",
            "_model_module_version": "1.2.0",
            "_model_name": "LayoutModel",
            "_view_count": null,
            "_view_module": "@jupyter-widgets/base",
            "_view_module_version": "1.2.0",
            "_view_name": "LayoutView",
            "align_content": null,
            "align_items": null,
            "align_self": null,
            "border": null,
            "bottom": null,
            "display": null,
            "flex": null,
            "flex_flow": null,
            "grid_area": null,
            "grid_auto_columns": null,
            "grid_auto_flow": null,
            "grid_auto_rows": null,
            "grid_column": null,
            "grid_gap": null,
            "grid_row": null,
            "grid_template_areas": null,
            "grid_template_columns": null,
            "grid_template_rows": null,
            "height": null,
            "justify_content": null,
            "justify_items": null,
            "left": null,
            "margin": null,
            "max_height": null,
            "max_width": null,
            "min_height": null,
            "min_width": null,
            "object_fit": null,
            "object_position": null,
            "order": null,
            "overflow": null,
            "overflow_x": null,
            "overflow_y": null,
            "padding": null,
            "right": null,
            "top": null,
            "visibility": null,
            "width": null
          }
        },
        "adffbab2c8164480aff0883029ab9b73": {
          "model_module": "@jupyter-widgets/controls",
          "model_name": "ProgressStyleModel",
          "model_module_version": "1.5.0",
          "state": {
            "_model_module": "@jupyter-widgets/controls",
            "_model_module_version": "1.5.0",
            "_model_name": "ProgressStyleModel",
            "_view_count": null,
            "_view_module": "@jupyter-widgets/base",
            "_view_module_version": "1.2.0",
            "_view_name": "StyleView",
            "bar_color": null,
            "description_width": ""
          }
        },
        "c4957606da2644bfbd661b94a0e5c358": {
          "model_module": "@jupyter-widgets/base",
          "model_name": "LayoutModel",
          "model_module_version": "1.2.0",
          "state": {
            "_model_module": "@jupyter-widgets/base",
            "_model_module_version": "1.2.0",
            "_model_name": "LayoutModel",
            "_view_count": null,
            "_view_module": "@jupyter-widgets/base",
            "_view_module_version": "1.2.0",
            "_view_name": "LayoutView",
            "align_content": null,
            "align_items": null,
            "align_self": null,
            "border": null,
            "bottom": null,
            "display": null,
            "flex": null,
            "flex_flow": null,
            "grid_area": null,
            "grid_auto_columns": null,
            "grid_auto_flow": null,
            "grid_auto_rows": null,
            "grid_column": null,
            "grid_gap": null,
            "grid_row": null,
            "grid_template_areas": null,
            "grid_template_columns": null,
            "grid_template_rows": null,
            "height": null,
            "justify_content": null,
            "justify_items": null,
            "left": null,
            "margin": null,
            "max_height": null,
            "max_width": null,
            "min_height": null,
            "min_width": null,
            "object_fit": null,
            "object_position": null,
            "order": null,
            "overflow": null,
            "overflow_x": null,
            "overflow_y": null,
            "padding": null,
            "right": null,
            "top": null,
            "visibility": null,
            "width": null
          }
        },
        "38b7f0b81978452d814eaf5d7c05337d": {
          "model_module": "@jupyter-widgets/controls",
          "model_name": "DescriptionStyleModel",
          "model_module_version": "1.5.0",
          "state": {
            "_model_module": "@jupyter-widgets/controls",
            "_model_module_version": "1.5.0",
            "_model_name": "DescriptionStyleModel",
            "_view_count": null,
            "_view_module": "@jupyter-widgets/base",
            "_view_module_version": "1.2.0",
            "_view_name": "StyleView",
            "description_width": ""
          }
        },
        "23058510cb354d45bcbd69057c59acb9": {
          "model_module": "@jupyter-widgets/controls",
          "model_name": "HBoxModel",
          "model_module_version": "1.5.0",
          "state": {
            "_dom_classes": [],
            "_model_module": "@jupyter-widgets/controls",
            "_model_module_version": "1.5.0",
            "_model_name": "HBoxModel",
            "_view_count": null,
            "_view_module": "@jupyter-widgets/controls",
            "_view_module_version": "1.5.0",
            "_view_name": "HBoxView",
            "box_style": "",
            "children": [
              "IPY_MODEL_a6bfaf2cfdfa4b2aa35517451ec46749",
              "IPY_MODEL_e77b09c057354ebfa8c2e1a9c492eff8",
              "IPY_MODEL_408d26d4a5a84deb9516a0f41927b711"
            ],
            "layout": "IPY_MODEL_ce5bb3a7f4a340fc97c69f37b734cf48"
          }
        },
        "a6bfaf2cfdfa4b2aa35517451ec46749": {
          "model_module": "@jupyter-widgets/controls",
          "model_name": "HTMLModel",
          "model_module_version": "1.5.0",
          "state": {
            "_dom_classes": [],
            "_model_module": "@jupyter-widgets/controls",
            "_model_module_version": "1.5.0",
            "_model_name": "HTMLModel",
            "_view_count": null,
            "_view_module": "@jupyter-widgets/controls",
            "_view_module_version": "1.5.0",
            "_view_name": "HTMLView",
            "description": "",
            "description_tooltip": null,
            "layout": "IPY_MODEL_94e16bdca1314262b4a8fac9d70860e5",
            "placeholder": "​",
            "style": "IPY_MODEL_242cc762232a4c6a9275169e4a319503",
            "value": "100%"
          }
        },
        "e77b09c057354ebfa8c2e1a9c492eff8": {
          "model_module": "@jupyter-widgets/controls",
          "model_name": "FloatProgressModel",
          "model_module_version": "1.5.0",
          "state": {
            "_dom_classes": [],
            "_model_module": "@jupyter-widgets/controls",
            "_model_module_version": "1.5.0",
            "_model_name": "FloatProgressModel",
            "_view_count": null,
            "_view_module": "@jupyter-widgets/controls",
            "_view_module_version": "1.5.0",
            "_view_name": "ProgressView",
            "bar_style": "success",
            "description": "",
            "description_tooltip": null,
            "layout": "IPY_MODEL_3de0a07da5c94c6c91b882c24f7d1097",
            "max": 1000,
            "min": 0,
            "orientation": "horizontal",
            "style": "IPY_MODEL_69093d0211244632b1b0b1e83314e93a",
            "value": 1000
          }
        },
        "408d26d4a5a84deb9516a0f41927b711": {
          "model_module": "@jupyter-widgets/controls",
          "model_name": "HTMLModel",
          "model_module_version": "1.5.0",
          "state": {
            "_dom_classes": [],
            "_model_module": "@jupyter-widgets/controls",
            "_model_module_version": "1.5.0",
            "_model_name": "HTMLModel",
            "_view_count": null,
            "_view_module": "@jupyter-widgets/controls",
            "_view_module_version": "1.5.0",
            "_view_name": "HTMLView",
            "description": "",
            "description_tooltip": null,
            "layout": "IPY_MODEL_76b241e053f24831a36b8f7c0c20b348",
            "placeholder": "​",
            "style": "IPY_MODEL_7139c5af81fe4f3fb1ae34a2b38674a7",
            "value": " 1000/1000 [00:31&lt;00:00, 22.59it/s]"
          }
        },
        "ce5bb3a7f4a340fc97c69f37b734cf48": {
          "model_module": "@jupyter-widgets/base",
          "model_name": "LayoutModel",
          "model_module_version": "1.2.0",
          "state": {
            "_model_module": "@jupyter-widgets/base",
            "_model_module_version": "1.2.0",
            "_model_name": "LayoutModel",
            "_view_count": null,
            "_view_module": "@jupyter-widgets/base",
            "_view_module_version": "1.2.0",
            "_view_name": "LayoutView",
            "align_content": null,
            "align_items": null,
            "align_self": null,
            "border": null,
            "bottom": null,
            "display": null,
            "flex": null,
            "flex_flow": null,
            "grid_area": null,
            "grid_auto_columns": null,
            "grid_auto_flow": null,
            "grid_auto_rows": null,
            "grid_column": null,
            "grid_gap": null,
            "grid_row": null,
            "grid_template_areas": null,
            "grid_template_columns": null,
            "grid_template_rows": null,
            "height": null,
            "justify_content": null,
            "justify_items": null,
            "left": null,
            "margin": null,
            "max_height": null,
            "max_width": null,
            "min_height": null,
            "min_width": null,
            "object_fit": null,
            "object_position": null,
            "order": null,
            "overflow": null,
            "overflow_x": null,
            "overflow_y": null,
            "padding": null,
            "right": null,
            "top": null,
            "visibility": null,
            "width": null
          }
        },
        "94e16bdca1314262b4a8fac9d70860e5": {
          "model_module": "@jupyter-widgets/base",
          "model_name": "LayoutModel",
          "model_module_version": "1.2.0",
          "state": {
            "_model_module": "@jupyter-widgets/base",
            "_model_module_version": "1.2.0",
            "_model_name": "LayoutModel",
            "_view_count": null,
            "_view_module": "@jupyter-widgets/base",
            "_view_module_version": "1.2.0",
            "_view_name": "LayoutView",
            "align_content": null,
            "align_items": null,
            "align_self": null,
            "border": null,
            "bottom": null,
            "display": null,
            "flex": null,
            "flex_flow": null,
            "grid_area": null,
            "grid_auto_columns": null,
            "grid_auto_flow": null,
            "grid_auto_rows": null,
            "grid_column": null,
            "grid_gap": null,
            "grid_row": null,
            "grid_template_areas": null,
            "grid_template_columns": null,
            "grid_template_rows": null,
            "height": null,
            "justify_content": null,
            "justify_items": null,
            "left": null,
            "margin": null,
            "max_height": null,
            "max_width": null,
            "min_height": null,
            "min_width": null,
            "object_fit": null,
            "object_position": null,
            "order": null,
            "overflow": null,
            "overflow_x": null,
            "overflow_y": null,
            "padding": null,
            "right": null,
            "top": null,
            "visibility": null,
            "width": null
          }
        },
        "242cc762232a4c6a9275169e4a319503": {
          "model_module": "@jupyter-widgets/controls",
          "model_name": "DescriptionStyleModel",
          "model_module_version": "1.5.0",
          "state": {
            "_model_module": "@jupyter-widgets/controls",
            "_model_module_version": "1.5.0",
            "_model_name": "DescriptionStyleModel",
            "_view_count": null,
            "_view_module": "@jupyter-widgets/base",
            "_view_module_version": "1.2.0",
            "_view_name": "StyleView",
            "description_width": ""
          }
        },
        "3de0a07da5c94c6c91b882c24f7d1097": {
          "model_module": "@jupyter-widgets/base",
          "model_name": "LayoutModel",
          "model_module_version": "1.2.0",
          "state": {
            "_model_module": "@jupyter-widgets/base",
            "_model_module_version": "1.2.0",
            "_model_name": "LayoutModel",
            "_view_count": null,
            "_view_module": "@jupyter-widgets/base",
            "_view_module_version": "1.2.0",
            "_view_name": "LayoutView",
            "align_content": null,
            "align_items": null,
            "align_self": null,
            "border": null,
            "bottom": null,
            "display": null,
            "flex": null,
            "flex_flow": null,
            "grid_area": null,
            "grid_auto_columns": null,
            "grid_auto_flow": null,
            "grid_auto_rows": null,
            "grid_column": null,
            "grid_gap": null,
            "grid_row": null,
            "grid_template_areas": null,
            "grid_template_columns": null,
            "grid_template_rows": null,
            "height": null,
            "justify_content": null,
            "justify_items": null,
            "left": null,
            "margin": null,
            "max_height": null,
            "max_width": null,
            "min_height": null,
            "min_width": null,
            "object_fit": null,
            "object_position": null,
            "order": null,
            "overflow": null,
            "overflow_x": null,
            "overflow_y": null,
            "padding": null,
            "right": null,
            "top": null,
            "visibility": null,
            "width": null
          }
        },
        "69093d0211244632b1b0b1e83314e93a": {
          "model_module": "@jupyter-widgets/controls",
          "model_name": "ProgressStyleModel",
          "model_module_version": "1.5.0",
          "state": {
            "_model_module": "@jupyter-widgets/controls",
            "_model_module_version": "1.5.0",
            "_model_name": "ProgressStyleModel",
            "_view_count": null,
            "_view_module": "@jupyter-widgets/base",
            "_view_module_version": "1.2.0",
            "_view_name": "StyleView",
            "bar_color": null,
            "description_width": ""
          }
        },
        "76b241e053f24831a36b8f7c0c20b348": {
          "model_module": "@jupyter-widgets/base",
          "model_name": "LayoutModel",
          "model_module_version": "1.2.0",
          "state": {
            "_model_module": "@jupyter-widgets/base",
            "_model_module_version": "1.2.0",
            "_model_name": "LayoutModel",
            "_view_count": null,
            "_view_module": "@jupyter-widgets/base",
            "_view_module_version": "1.2.0",
            "_view_name": "LayoutView",
            "align_content": null,
            "align_items": null,
            "align_self": null,
            "border": null,
            "bottom": null,
            "display": null,
            "flex": null,
            "flex_flow": null,
            "grid_area": null,
            "grid_auto_columns": null,
            "grid_auto_flow": null,
            "grid_auto_rows": null,
            "grid_column": null,
            "grid_gap": null,
            "grid_row": null,
            "grid_template_areas": null,
            "grid_template_columns": null,
            "grid_template_rows": null,
            "height": null,
            "justify_content": null,
            "justify_items": null,
            "left": null,
            "margin": null,
            "max_height": null,
            "max_width": null,
            "min_height": null,
            "min_width": null,
            "object_fit": null,
            "object_position": null,
            "order": null,
            "overflow": null,
            "overflow_x": null,
            "overflow_y": null,
            "padding": null,
            "right": null,
            "top": null,
            "visibility": null,
            "width": null
          }
        },
        "7139c5af81fe4f3fb1ae34a2b38674a7": {
          "model_module": "@jupyter-widgets/controls",
          "model_name": "DescriptionStyleModel",
          "model_module_version": "1.5.0",
          "state": {
            "_model_module": "@jupyter-widgets/controls",
            "_model_module_version": "1.5.0",
            "_model_name": "DescriptionStyleModel",
            "_view_count": null,
            "_view_module": "@jupyter-widgets/base",
            "_view_module_version": "1.2.0",
            "_view_name": "StyleView",
            "description_width": ""
          }
        }
      }
    }
  },
  "cells": [
    {
      "cell_type": "markdown",
      "metadata": {
        "id": "GlyMLKngmf-t"
      },
      "source": [
        "#Prototypical Netwoks on the Omniglot dataset"
      ]
    },
    {
      "cell_type": "markdown",
      "metadata": {
        "id": "70f3awDiuabG"
      },
      "source": [
        "You can save a copy to your Drive before executing this notebook"
      ]
    },
    {
      "cell_type": "markdown",
      "metadata": {
        "id": "ajyUEekbufOD"
      },
      "source": [
        "\n",
        "\n",
        "*   `Author:` Shreyas B\n",
        "*   `Date:` 07/2023\n"
      ]
    },
    {
      "cell_type": "markdown",
      "metadata": {
        "id": "uh1W3Lszseoa"
      },
      "source": [
        "##Import libraries"
      ]
    },
    {
      "cell_type": "code",
      "metadata": {
        "id": "F8XY5yCCZCYZ"
      },
      "source": [
        "import numpy as np\n",
        "import matplotlib.pyplot as plt\n",
        "from scipy import ndimage\n",
        "import multiprocessing as mp\n",
        "import os\n",
        "import cv2\n",
        "\n",
        "import torch\n",
        "import torch.nn as nn\n",
        "import torchvision\n",
        "import torch.nn.functional as F\n",
        "import torch.optim as optim\n",
        "from torch.autograd import Variable"
      ],
      "execution_count": 3,
      "outputs": []
    },
    {
      "cell_type": "code",
      "metadata": {
        "id": "X5zGtLpGIziY",
        "colab": {
          "base_uri": "https://localhost:8080/"
        },
        "outputId": "50f723b2-db4e-4706-f600-179a953afbb4"
      },
      "source": [
        "#Check GPU support, please do activate GPU\n",
        "print(torch.cuda.is_available())"
      ],
      "execution_count": 4,
      "outputs": [
        {
          "output_type": "stream",
          "name": "stdout",
          "text": [
            "True\n"
          ]
        }
      ]
    },
    {
      "cell_type": "code",
      "source": [
        "from google.colab import drive\n",
        "drive.mount('/content/drive')"
      ],
      "metadata": {
        "colab": {
          "base_uri": "https://localhost:8080/"
        },
        "id": "isl8z3t28gpp",
        "outputId": "10516275-6293-4f0f-dcdf-c3692a8add47"
      },
      "execution_count": 2,
      "outputs": [
        {
          "output_type": "stream",
          "name": "stdout",
          "text": [
            "Mounted at /content/drive\n"
          ]
        }
      ]
    },
    {
      "cell_type": "markdown",
      "metadata": {
        "id": "Ebffp6XBskUN"
      },
      "source": [
        "##Import data"
      ]
    },
    {
      "cell_type": "markdown",
      "metadata": {
        "id": "5-R_Clr7tEQh"
      },
      "source": [
        "The Omniglot dataset is taken on [the official GitHub repository](https://github.com/brendenlake/omniglot)"
      ]
    },
    {
      "cell_type": "markdown",
      "metadata": {
        "id": "l33V3V0asntp"
      },
      "source": [
        "##Read data"
      ]
    },
    {
      "cell_type": "code",
      "source": [
        "def read_plants(plant_directory_path,plant_directory_name ):\n",
        "    \"\"\"\n",
        "    Reads all the characters from a given alphabet_directory\n",
        "    \"\"\"\n",
        "    datax = []\n",
        "    datay = []\n",
        "    # plants = os.listdir(plant_directory_path)\n",
        "    print(plant_directory_path)\n",
        "    # for p in plants:\n",
        "    #   print(plant_directory_path+'/'+p)\n",
        "    images = os.listdir(plant_directory_path)\n",
        "    print(images)\n",
        "    for img in images:\n",
        "        image = cv2.resize(\n",
        "                 cv2.imread\n",
        "                   (plant_directory_path +'/' + img),\n",
        "                   (64,64)\n",
        "                 )\n",
        "\n",
        "        datax.append(image)\n",
        "        datay.append(\n",
        "                plant_directory_name\n",
        "            )\n",
        "    return np.array(datax), np.array(datay)\n",
        "\n",
        "def read_images(base_directory):\n",
        "    \"\"\"\n",
        "    Reads all the alphabets from the base_directory\n",
        "    Uses multithreading to decrease the reading time drastically\n",
        "    \"\"\"\n",
        "    datax = None\n",
        "    datay = None\n",
        "    pool = mp.Pool(mp.cpu_count())\n",
        "    results = [pool.apply(read_plants,\n",
        "                          args=(\n",
        "                              base_directory+'/'+directory,directory\n",
        "                              )) for directory in os.listdir(base_directory)]\n",
        "    pool.close()\n",
        "    for result in results:\n",
        "        if datax is None:\n",
        "            datax = result[0]\n",
        "            datay = result[1]\n",
        "        else:\n",
        "            datax = np.vstack([datax, result[0]])\n",
        "            datay = np.concatenate([datay, result[1]])\n",
        "    return datax, datay"
      ],
      "metadata": {
        "id": "zQZbJHeESpPx"
      },
      "execution_count": 14,
      "outputs": []
    },
    {
      "cell_type": "code",
      "source": [
        "# plant_directory_path='drive/MyDrive/TEST'\n",
        "# plants = os.listdir(plant_directory_path)\n",
        "# images = os.listdir(plant_directory_path +'/'+ plants[0])\n",
        "# print(images)\n",
        "# for img in images:\n",
        "#    image = cv2.resize(\n",
        "#                  cv2.imread\n",
        "#                    (plant_directory_path + '/'+ plants[0] + '/' + img),\n",
        "#                    (28,28)\n",
        "#                  )\n"
      ],
      "metadata": {
        "colab": {
          "base_uri": "https://localhost:8080/"
        },
        "id": "Rq-9Na9MnT5l",
        "outputId": "02d5e912-55c3-4e98-9559-0e8dda4e81c0"
      },
      "execution_count": 39,
      "outputs": [
        {
          "output_type": "stream",
          "name": "stdout",
          "text": [
            "['image (449).JPG', 'image (388).JPG', 'image (330).JPG', 'image (367).JPG', 'image (222).JPG', 'image (275).JPG', 'image (408).JPG', 'image (234).JPG', 'image (263).JPG', 'image (371).JPG', 'image (326).JPG', 'image (598).JPG', 'image (259).JPG', 'image (577).JPG', 'image (432).JPG', 'image (609).JPG', 'image (127).JPG', 'image (465).JPG', 'image (71).JPG', 'image (26).JPG', 'image (429).JPG', 'image (215).JPG', 'image (583).JPG', 'image (350).JPG', 'image (351).JPG', 'image (214).JPG', 'image (428).JPG', 'image (84).JPG', 'image (582).JPG', 'image (306).JPG', 'image (243).JPG', 'image (613).JPG', 'image (605).JPG', 'image (490).JPG', 'image (185).JPG', 'image (310).JPG', 'image (193).JPG', 'image (486).JPG', 'image (255).JPG', 'image (9).JPG', 'image (594).JPG', 'image (469).JPG', 'image (92).JPG', 'image (445).JPG', 'image (279).JPG', 'image (500).JPG', 'image (347).JPG', 'image (202).JPG', 'image (296).JPG', 'image (150).JPG', 'image (238).JPG', 'image (51).JPG', 'image (107).JPG', 'image (557).JPG', 'image (412).JPG', 'image (384).JPG', 'image (404).JPG', 'image (47).JPG', 'image (392).JPG', 'image (541).JPG', 'image (453).JPG', 'image (10).JPG', 'image (111).JPG', 'image (146).JPG', 'image (516).JPG', 'image (280).JPG', 'image (131).JPG', 'image (88).JPG', 'image (561).JPG', 'image (424).JPG', 'image (218).JPG', 'image (166).JPG', 'image (67).JPG', 'image (30).JPG', 'image (189).JPG', 'image (473).JPG', 'image (536).JPG', 'image (520).JPG', 'image (5).JPG', 'image (170).JPG', 'image (366).JPG', 'image (274).JPG', 'image (448).JPG', 'image (331).JPG', 'image (126).JPG', 'image (70).JPG', 'image (576).JPG', 'image (599).JPG', 'image (433).JPG', 'image (608).JPG', 'image (521).JPG', 'image (464).JPG', 'image (258).JPG', 'image (4).JPG', 'image (171).JPG', 'image (472).JPG', 'image (188).JPG', 'image (167).JPG', 'image (27).JPG', 'image (31).JPG', 'image (537).JPG', 'image (219).JPG', 'image (560).JPG', 'image (130).JPG', 'image (89).JPG', 'image (517).JPG', 'image (11).JPG', 'image (66).JPG', 'image (147).JPG', 'image (452).JPG', 'image (425).JPG', 'image (281).JPG', 'image (405).JPG', 'image (540).JPG', 'image (46).JPG', 'image (50).JPG', 'image (413).JPG', 'image (393).JPG', 'image (106).JPG', 'image (239).JPG', 'image (110).JPG', 'image (444).JPG', 'image (556).JPG', 'image (385).JPG', 'image (501).JPG', 'image (595).JPG', 'image (151).JPG', 'image (93).JPG', 'image (297).JPG', 'image (346).JPG', 'image (278).JPG', 'image (203).JPG', 'image (487).JPG', 'image (192).JPG', 'image (468).JPG', 'image (604).JPG', 'image (491).JPG', 'image (184).JPG', 'image (311).JPG', 'image (254).JPG', 'image (8).JPG', 'image (85).JPG', 'image (612).JPG', 'image (307).JPG', 'image (242).JPG', 'image (121).JPG', 'image (571).JPG', 'image (98).JPG', 'image (77).JPG', 'image (208).JPG', 'image (224).JPG', 'image (434).JPG', 'image (273).JPG', 'image (336).JPG', 'image (418).JPG', 'image (377).JPG', 'image (320).JPG', 'image (232).JPG', 'image (398).JPG', 'image (361).JPG', 'image (459).JPG', 'image (265).JPG', 'image (357).JPG', 'image (82).JPG', 'image (212).JPG', 'image (245).JPG', 'image (496).JPG', 'image (300).JPG', 'image (615).JPG', 'image (183).JPG', 'image (584).JPG', 'image (479).JPG', 'image (253).JPG', 'image (316).JPG', 'image (603).JPG', 'image (341).JPG', 'image (480).JPG', 'image (195).JPG', 'image (438).JPG', 'image (592).JPG', 'image (204).JPG', 'image (94).JPG', 'image (290).JPG', 'image (443).JPG', 'image (506).JPG', 'image (382).JPG', 'image (228).JPG', 'image (414).JPG', 'image (57).JPG', 'image (101).JPG', 'image (156).JPG', 'image (41).JPG', 'image (551).JPG', 'image (394).JPG', 'image (402).JPG', 'image (269).JPG', 'image (117).JPG', 'image (547).JPG', 'image (510).JPG', 'image (16).JPG', 'image (455).JPG', 'image (286).JPG', 'image (140).JPG', 'image (262).JPG', 'image (327).JPG', 'image (389).JPG', 'image (223).JPG', 'image (409).JPG', 'image (370).JPG', 'image (235).JPG', 'image (497).JPG', 'image (182).JPG', 'image (478).JPG', 'image (244).JPG', 'image (301).JPG', 'image (614).JPG', 'image (83).JPG', 'image (585).JPG', 'image (213).JPG', 'image (356).JPG', 'image (264).JPG', 'image (321).JPG', 'image (376).JPG', 'image (458).JPG', 'image (399).JPG', 'image (225).JPG', 'image (233).JPG', 'image (272).JPG', 'image (360).JPG', 'image (419).JPG', 'image (337).JPG', 'image (99).JPG', 'image (209).JPG', 'image (435).JPG', 'image (570).JPG', 'image (76).JPG', 'image (120).JPG', 'image (2).JPG', 'image (527).JPG', 'image (198).JPG', 'image (177).JPG', 'image (462).JPG', 'image (248).JPG', 'image (21).JPG', 'image (161).JPG', 'image (531).JPG', 'image (618).JPG', 'image (566).JPG', 'image (474).JPG', 'image (37).JPG', 'image (567).JPG', 'image (137).JPG', 'image (423).JPG', 'image (60).JPG', 'image (422).JPG', 'image (589).JPG', 'image (136).JPG', 'image (160).JPG', 'image (61).JPG', 'image (588).JPG', 'image (530).JPG', 'image (36).JPG', 'image (619).JPG', 'image (475).JPG', 'image (249).JPG', 'image (199).JPG', 'image (176).JPG', 'image (3).JPG', 'image (526).JPG', 'image (20).JPG', 'image (463).JPG', 'image (55).JPG', 'image (416).JPG', 'image (504).JPG', 'image (380).JPG', 'image (292).JPG', 'image (590).JPG', 'image (441).JPG', 'image (338).JPG', 'image (154).JPG', 'image (79).JPG', 'image (206).JPG', 'image (343).JPG', 'image (96).JPG', 'image (197).JPG', 'image (251).JPG', 'image (482).JPG', 'image (178).JPG', 'image (601).JPG', 'image (314).JPG', 'image (528).JPG', 'image (181).JPG', 'image (38).JPG', 'image (247).JPG', 'image (494).JPG', 'image (617).JPG', 'image (139).JPG', 'image (569).JPG', 'image (302).JPG', 'image (80).JPG', 'image (586).JPG', 'image (210).JPG', 'image (355).JPG', 'image (17).JPG', 'image (454).JPG', 'image (511).JPG', 'image (40).JPG', 'image (403).JPG', 'image (287).JPG', 'image (141).JPG', 'image (268).JPG', 'image (546).JPG', 'image (116).JPG', 'image (56).JPG', 'image (395).JPG', 'image (550).JPG', 'image (415).JPG', 'image (100).JPG', 'image (507).JPG', 'image (229).JPG', 'image (383).JPG', 'image (442).JPG', 'image (95).JPG', 'image (157).JPG', 'image (291).JPG', 'image (439).JPG', 'image (593).JPG', 'image (205).JPG', 'image (481).JPG', 'image (194).JPG', 'image (340).JPG', 'image (317).JPG', 'image (252).JPG', 'image (602).JPG', 'image (227).JPG', 'image (58).JPG', 'image (362).JPG', 'image (118).JPG', 'image (374).JPG', 'image (289).JPG', 'image (323).JPG', 'image (231).JPG', 'image (19).JPG', 'image (548).JPG', 'image (266).JPG', 'image (322).JPG', 'image (267).JPG', 'image (288).JPG', 'image (18).JPG', 'image (549).JPG', 'image (119).JPG', 'image (375).JPG', 'image (363).JPG', 'image (230).JPG', 'image (59).JPG', 'image (621).JPG', 'image (226).JPG', 'image (334).JPG', 'image (123).JPG', 'image (75).JPG', 'image (271).JPG', 'image (158).JPG', 'image (508).JPG', 'image (436).JPG', 'image (573).JPG', 'image (318).JPG', 'image (22).JPG', 'image (461).JPG', 'image (1).JPG', 'image (174).JPG', 'image (34).JPG', 'image (477).JPG', 'image (524).JPG', 'image (498).JPG', 'image (162).JPG', 'image (420).JPG', 'image (532).JPG', 'image (359).JPG', 'image (63).JPG', 'image (565).JPG', 'image (135).JPG', 'image (284).JPG', 'image (142).JPG', 'image (545).JPG', 'image (457).JPG', 'image (14).JPG', 'image (512).JPG', 'image (115).JPG', 'image (103).JPG', 'image (553).JPG', 'image (396).JPG', 'image (43).JPG', 'image (400).JPG', 'image (379).JPG', 'image (616).JPG', 'image (138).JPG', 'image (568).JPG', 'image (246).JPG', 'image (81).JPG', 'image (303).JPG', 'image (180).JPG', 'image (495).JPG', 'image (39).JPG', 'image (600).JPG', 'image (315).JPG', 'image (196).JPG', 'image (250).JPG', 'image (483).JPG', 'image (179).JPG', 'image (342).JPG', 'image (529).JPG', 'image (207).JPG', 'image (591).JPG', 'image (78).JPG', 'image (97).JPG', 'image (505).JPG', 'image (339).JPG', 'image (155).JPG', 'image (440).JPG', 'image (293).JPG', 'image (102).JPG', 'image (381).JPG', 'image (54).JPG', 'image (552).JPG', 'image (378).JPG', 'image (417).JPG', 'image (114).JPG', 'image (401).JPG', 'image (544).JPG', 'image (397).JPG', 'image (285).JPG', 'image (42).JPG', 'image (143).JPG', 'image (513).JPG', 'image (456).JPG', 'image (62).JPG', 'image (421).JPG', 'image (15).JPG', 'image (564).JPG', 'image (134).JPG', 'image (358).JPG', 'image (35).JPG', 'image (476).JPG', 'image (499).JPG', 'image (319).JPG', 'image (175).JPG', 'image (460).JPG', 'image (122).JPG', 'image (23).JPG', 'image (74).JPG', 'image (525).JPG', 'image (533).JPG', 'image (163).JPG', 'image (437).JPG', 'image (159).JPG', 'image (572).JPG', 'image (509).JPG', 'image (270).JPG', 'image (620).JPG', 'image (335).JPG', 'image (579).JPG', 'image (90).JPG', 'image (28).JPG', 'image (345).JPG', 'image (191).JPG', 'image (129).JPG', 'image (200).JPG', 'image (484).JPG', 'image (607).JPG', 'image (257).JPG', 'image (187).JPG', 'image (538).JPG', 'image (492).JPG', 'image (168).JPG', 'image (312).JPG', 'image (69).JPG', 'image (611).JPG', 'image (580).JPG', 'image (241).JPG', 'image (304).JPG', 'image (148).JPG', 'image (353).JPG', 'image (216).JPG', 'image (86).JPG', 'image (261).JPG', 'image (518).JPG', 'image (324).JPG', 'image (49).JPG', 'image (373).JPG', 'image (236).JPG', 'image (220).JPG', 'image (365).JPG', 'image (559).JPG', 'image (277).JPG', 'image (332).JPG', 'image (298).JPG', 'image (109).JPG', 'image (349).JPG', 'image (73).JPG', 'image (430).JPG', 'image (575).JPG', 'image (24).JPG', 'image (7).JPG', 'image (522).JPG', 'image (125).JPG', 'image (467).JPG', 'image (172).JPG', 'image (488).JPG', 'image (32).JPG', 'image (308).JPG', 'image (471).JPG', 'image (65).JPG', 'image (426).JPG', 'image (534).JPG', 'image (164).JPG', 'image (563).JPG', 'image (211).JPG', 'image (133).JPG', 'image (354).JPG', 'image (587).JPG', 'image (112).JPG', 'image (44).JPG', 'image (145).JPG', 'image (515).JPG', 'image (329).JPG', 'image (407).JPG', 'image (283).JPG', 'image (144).JPG', 'image (13).JPG', 'image (450).JPG', 'image (514).JPG', 'image (282).JPG', 'image (451).JPG', 'image (12).JPG', 'image (543).JPG', 'image (113).JPG', 'image (328).JPG', 'image (406).JPG', 'image (105).JPG', 'image (45).JPG', 'image (390).JPG', 'image (555).JPG', 'image (410).JPG', 'image (369).JPG', 'image (386).JPG', 'image (53).JPG', 'image (152).JPG', 'image (447).JPG', 'image (596).JPG', 'image (502).JPG', 'image (294).JPG', 'image (309).JPG', 'image (466).JPG', 'image (535).JPG', 'image (25).JPG', 'image (431).JPG', 'image (489).JPG', 'image (6).JPG', 'image (72).JPG', 'image (173).JPG', 'image (523).JPG', 'image (299).JPG', 'image (574).JPG', 'image (124).JPG', 'image (348).JPG', 'image (221).JPG', 'image (276).JPG', 'image (333).JPG', 'image (108).JPG', 'image (364).JPG', 'image (558).JPG', 'image (372).JPG', 'image (48).JPG', 'image (519).JPG', 'image (237).JPG', 'image (149).JPG', 'image (352).JPG', 'image (260).JPG', 'image (581).JPG', 'image (217).JPG', 'image (325).JPG', 'image (87).JPG', 'image (240).JPG', 'image (68).JPG', 'image (610).JPG', 'image (305).JPG', 'image (169).JPG', 'image (493).JPG', 'image (186).JPG', 'image (539).JPG', 'image (256).JPG', 'image (313).JPG', 'image (29).JPG', 'image (606).JPG', 'image (190).JPG', 'image (597).JPG', 'image (344).JPG', 'image (91).JPG', 'image (485).JPG', 'image (201).JPG', 'image (578).JPG', 'image (503).JPG', 'image (295).JPG', 'image (128).JPG', 'image (153).JPG', 'image (52).JPG', 'image (368).JPG', 'image (387).JPG', 'image (554).JPG', 'image (104).JPG', 'image (446).JPG', 'image (411).JPG', 'image (391).JPG', 'image (542).JPG', 'image (427).JPG', 'image (165).JPG', 'image (64).JPG', 'image (132).JPG', 'image (33).JPG', 'image (470).JPG', 'image (562).JPG']\n"
          ]
        }
      ]
    },
    {
      "cell_type": "code",
      "metadata": {
        "id": "P7UN-n0l7aT0",
        "colab": {
          "base_uri": "https://localhost:8080/"
        },
        "outputId": "0fc5646e-f8f8-4ffa-defd-eb04867064ac"
      },
      "source": [
        "%%time\n",
        "trainx, trainy = read_images('drive/MyDrive/TRAIN')"
      ],
      "execution_count": 15,
      "outputs": [
        {
          "output_type": "stream",
          "name": "stdout",
          "text": [
            "drive/MyDrive/TRAIN/Corn___Common_rust\n",
            "['image (941).JPG', 'image (293).JPG', 'image (199).JPG', 'image (1044).JPG', 'image (856).JPG', 'image (698).JPG', 'image (1046).JPG', 'image (886).JPG', 'image (103).JPG', 'image (135).JPG', 'image (5).JPG', 'image (1192).JPG', 'image (670).JPG', 'image (603).JPG', 'image (660).JPG', 'image (824).JPG', 'image (67).JPG', 'image (81).JPG', 'image (133).JPG', 'image (268).JPG', 'image (852).JPG', 'image (595).JPG', 'image (937).JPG', 'image (908).JPG', 'image (230).JPG', 'image (839).JPG', 'image (1100).JPG', 'image (322).JPG', 'image (64).JPG', 'image (1146).JPG', 'image (41).JPG', 'image (229).JPG', 'image (139).JPG', 'image (952).JPG', 'image (861).JPG', 'image (737).JPG', 'image (221).JPG', 'image (241).JPG', 'image (184).JPG', 'image (830).JPG', 'image (648).JPG', 'image (66).JPG', 'image (1172).JPG', 'image (1015).JPG', 'image (1089).JPG', 'image (1136).JPG', 'image (1106).JPG', 'image (237).JPG', 'image (610).JPG', 'image (1131).JPG', 'image (725).JPG', 'image (783).JPG', 'image (812).JPG', 'image (298).JPG', 'image (264).JPG', 'image (86).JPG', 'image (885).JPG', 'image (12).JPG', 'image (573).JPG', 'image (998).JPG', 'image (611).JPG', 'image (550).JPG', 'image (50).JPG', 'image (219).JPG', 'image (782).JPG', 'image (615).JPG', 'image (954).JPG', 'image (1150).JPG', 'image (1071).JPG', 'image (638).JPG', 'image (671).JPG', 'image (1014).JPG', 'image (1007).JPG', 'image (650).JPG', 'image (171).JPG', 'image (651).JPG', 'image (881).JPG', 'image (680).JPG', 'image (699).JPG', 'image (147).JPG', 'image (701).JPG', 'image (911).JPG', 'image (753).JPG', 'image (873).JPG', 'image (675).JPG', 'image (493).JPG', 'image (579).JPG', 'image (742).JPG', 'image (726).JPG', 'image (1182).JPG', 'image (810).JPG', 'image (1116).JPG', 'image (141).JPG', 'image (1093).JPG', 'image (872).JPG', 'image (584).JPG', 'image (292).JPG', 'image (739).JPG', 'image (263).JPG', 'image (718).JPG', 'image (317).JPG', 'image (1114).JPG', 'image (776).JPG', 'image (308).JPG', 'image (1165).JPG', 'image (170).JPG', 'image (748).JPG', 'image (283).JPG', 'image (1178).JPG', 'image (1107).JPG', 'image (56).JPG', 'image (732).JPG', 'image (468).JPG', 'image (1094).JPG', 'image (481).JPG', 'image (74).JPG', 'image (29).JPG', 'image (834).JPG', 'image (174).JPG', 'image (358).JPG', 'image (943).JPG', 'image (403).JPG', 'image (119).JPG', 'image (851).JPG', 'image (80).JPG', 'image (26).JPG', 'image (577).JPG', 'image (959).JPG', 'image (46).JPG', 'image (1064).JPG', 'image (1145).JPG', 'image (784).JPG', 'image (785).JPG', 'image (123).JPG', 'image (696).JPG', 'image (1020).JPG', 'image (741).JPG', 'image (617).JPG', 'image (525).JPG', 'image (528).JPG', 'image (709).JPG', 'image (1147).JPG', 'image (203).JPG', 'image (505).JPG', 'image (84).JPG', 'image (882).JPG', 'image (503).JPG', 'image (328).JPG', 'image (129).JPG', 'image (556).JPG', 'image (65).JPG', 'image (272).JPG', 'image (981).JPG', 'image (313).JPG', 'image (389).JPG', 'image (922).JPG', 'image (1011).JPG', 'image (255).JPG', 'image (690).JPG', 'image (895).JPG', 'image (819).JPG', 'image (193).JPG', 'image (764).JPG', 'image (561).JPG', 'image (52).JPG', 'image (226).JPG', 'image (497).JPG', 'image (988).JPG', 'image (1176).JPG', 'image (767).JPG', 'image (245).JPG', 'image (751).JPG', 'image (401).JPG', 'image (89).JPG', 'image (777).JPG', 'image (121).JPG', 'image (1181).JPG', 'image (897).JPG', 'image (876).JPG', 'image (781).JPG', 'image (1143).JPG', 'image (437).JPG', 'image (802).JPG', 'image (1049).JPG', 'image (820).JPG', 'image (877).JPG', 'image (791).JPG', 'image (262).JPG', 'image (318).JPG', 'image (114).JPG', 'image (807).JPG', 'image (368).JPG', 'image (968).JPG', 'image (884).JPG', 'image (1023).JPG', 'image (1092).JPG', 'image (663).JPG', 'image (189).JPG', 'image (747).JPG', 'image (220).JPG', 'image (940).JPG', 'image (654).JPG', 'image (838).JPG', 'image (620).JPG', 'image (48).JPG', 'image (835).JPG', 'image (1109).JPG', 'image (1054).JPG', 'image (159).JPG', 'image (1037).JPG', 'image (722).JPG', 'image (793).JPG', 'image (362).JPG', 'image (250).JPG', 'image (1030).JPG', 'image (495).JPG', 'image (794).JPG', 'image (949).JPG', 'image (631).JPG', 'image (778).JPG', 'image (125).JPG', 'image (524).JPG', 'image (242).JPG', 'image (674).JPG', 'image (1025).JPG', 'image (1001).JPG', 'image (276).JPG', 'image (1069).JPG', 'image (43).JPG', 'image (335).JPG', 'image (372).JPG', 'image (339).JPG', 'image (804).JPG', 'image (188).JPG', 'image (444).JPG', 'image (931).JPG', 'image (901).JPG', 'image (797).JPG', 'image (489).JPG', 'image (700).JPG', 'image (869).JPG', 'image (1057).JPG', 'image (1029).JPG', 'image (1091).JPG', 'image (738).JPG', 'image (864).JPG', 'image (413).JPG', 'image (837).JPG', 'image (570).JPG', 'image (231).JPG', 'image (429).JPG', 'image (731).JPG', 'image (1039).JPG', 'image (513).JPG', 'image (275).JPG', 'image (113).JPG', 'image (1175).JPG', 'image (904).JPG', 'image (591).JPG', 'image (270).JPG', 'image (131).JPG', 'image (207).JPG', 'image (62).JPG', 'image (827).JPG', 'image (333).JPG', 'image (1096).JPG', 'image (375).JPG', 'image (494).JPG', 'image (332).JPG', 'image (1186).JPG', 'image (921).JPG', 'image (999).JPG', 'image (522).JPG', 'image (63).JPG', 'image (472).JPG', 'image (520).JPG', 'image (633).JPG', 'image (1102).JPG', 'image (735).JPG', 'image (1050).JPG', 'image (694).JPG', 'image (635).JPG', 'image (115).JPG', 'image (432).JPG', 'image (16).JPG', 'image (291).JPG', 'image (962).JPG', 'image (667).JPG', 'image (966).JPG', 'image (478).JPG', 'image (412).JPG', 'image (870).JPG', 'image (1174).JPG', 'image (398).JPG', 'image (815).JPG', 'image (506).JPG', 'image (632).JPG', 'image (978).JPG', 'image (575).JPG', 'image (421).JPG', 'image (324).JPG', 'image (440).JPG', 'image (386).JPG', 'image (1111).JPG', 'image (604).JPG', 'image (246).JPG', 'image (47).JPG', 'image (808).JPG', 'image (1024).JPG', 'image (639).JPG', 'image (630).JPG', 'image (137).JPG', 'image (156).JPG', 'image (30).JPG', 'image (37).JPG', 'image (191).JPG', 'image (102).JPG', 'image (973).JPG', 'image (889).JPG', 'image (305).JPG', 'image (507).JPG', 'image (605).JPG', 'image (374).JPG', 'image (572).JPG', 'image (248).JPG', 'image (117).JPG', 'image (163).JPG', 'image (880).JPG', 'image (665).JPG', 'image (290).JPG', 'image (963).JPG', 'image (907).JPG', 'image (763).JPG', 'image (730).JPG', 'image (176).JPG', 'image (359).JPG', 'image (523).JPG', 'image (850).JPG', 'image (1119).JPG', 'image (860).JPG', 'image (243).JPG', 'image (752).JPG', 'image (944).JPG', 'image (566).JPG', 'image (393).JPG', 'image (552).JPG', 'image (585).JPG', 'image (9).JPG', 'image (977).JPG', 'image (695).JPG', 'image (799).JPG', 'image (927).JPG', 'image (508).JPG', 'image (236).JPG', 'image (1149).JPG', 'image (257).JPG', 'image (1152).JPG', 'image (331).JPG', 'image (1104).JPG', 'image (684).JPG', 'image (969).JPG', 'image (569).JPG', 'image (970).JPG', 'image (288).JPG', 'image (474).JPG', 'image (757).JPG', 'image (1129).JPG', 'image (542).JPG', 'image (92).JPG', 'image (729).JPG', 'image (574).JPG', 'image (173).JPG', 'image (469).JPG', 'image (1048).JPG', 'image (424).JPG', 'image (366).JPG', 'image (1151).JPG', 'image (443).JPG', 'image (923).JPG', 'image (234).JPG', 'image (516).JPG', 'image (817).JPG', 'image (1068).JPG', 'image (416).JPG', 'image (204).JPG', 'image (483).JPG', 'image (404).JPG', 'image (76).JPG', 'image (898).JPG', 'image (161).JPG', 'image (367).JPG', 'image (136).JPG', 'image (430).JPG', 'image (490).JPG', 'image (77).JPG', 'image (166).JPG', 'image (974).JPG', 'image (350).JPG', 'image (857).JPG', 'image (883).JPG', 'image (628).JPG', 'image (405).JPG', 'image (458).JPG', 'image (99).JPG', 'image (280).JPG', 'image (1156).JPG', 'image (251).JPG', 'image (1027).JPG', 'image (682).JPG', 'image (1137).JPG', 'image (874).JPG', 'image (1056).JPG', 'image (756).JPG', 'image (518).JPG', 'image (803).JPG', 'image (702).JPG', 'image (232).JPG', 'image (515).JPG', 'image (938).JPG', 'image (304).JPG', 'image (634).JPG', 'image (408).JPG', 'image (773).JPG', 'image (258).JPG', 'image (387).JPG', 'image (194).JPG', 'image (540).JPG', 'image (259).JPG', 'image (686).JPG', 'image (151).JPG', 'image (4).JPG', 'image (277).JPG', 'image (531).JPG', 'image (426).JPG', 'image (647).JPG', 'image (8).JPG', 'image (254).JPG', 'image (526).JPG', 'image (392).JPG', 'image (673).JPG', 'image (363).JPG', 'image (539).JPG', 'image (172).JPG', 'image (410).JPG', 'image (653).JPG', 'image (411).JPG', 'image (314).JPG', 'image (1073).JPG', 'image (1033).JPG', 'image (45).JPG', 'image (1173).JPG', 'image (532).JPG', 'image (1021).JPG', 'image (342).JPG', 'image (320).JPG', 'image (27).JPG', 'image (498).JPG', 'image (514).JPG', 'image (1016).JPG', 'image (538).JPG', 'image (625).JPG', 'image (582).JPG', 'image (662).JPG', 'image (613).JPG', 'image (340).JPG', 'image (345).JPG', 'image (823).JPG', 'image (892).JPG', 'image (953).JPG', 'image (688).JPG', 'image (560).JPG', 'image (337).JPG', 'image (261).JPG', 'image (423).JPG', 'image (1132).JPG', 'image (1062).JPG', 'image (728).JPG', 'image (456).JPG', 'image (683).JPG', 'image (583).JPG', 'image (107).JPG', 'image (646).JPG', 'image (717).JPG', 'image (178).JPG', 'image (627).JPG', 'image (417).JPG', 'image (918).JPG', 'image (182).JPG', 'image (576).JPG', 'image (153).JPG', 'image (1076).JPG', 'image (218).JPG', 'image (900).JPG', 'image (93).JPG', 'image (1140).JPG', 'image (400).JPG', 'image (669).JPG', 'image (608).JPG', 'image (414).JPG', 'image (1179).JPG', 'image (840).JPG', 'image (480).JPG', 'image (833).JPG', 'image (13).JPG', 'image (917).JPG', 'image (24).JPG', 'image (993).JPG', 'image (95).JPG', 'image (743).JPG', 'image (779).JPG', 'image (106).JPG', 'image (58).JPG', 'image (1085).JPG', 'image (912).JPG', 'image (786).JPG', 'image (1075).JPG', 'image (640).JPG', 'image (586).JPG', 'image (1042).JPG', 'image (652).JPG', 'image (704).JPG', 'image (626).JPG', 'image (844).JPG', 'image (79).JPG', 'image (383).JPG', 'image (68).JPG', 'image (1115).JPG', 'image (286).JPG', 'image (960).JPG', 'image (179).JPG', 'image (679).JPG', 'image (1134).JPG', 'image (787).JPG', 'image (832).JPG', 'image (659).JPG', 'image (843).JPG', 'image (645).JPG', 'image (484).JPG', 'image (925).JPG', 'image (364).JPG', 'image (828).JPG', 'image (1060).JPG', 'image (198).JPG', 'image (105).JPG', 'image (431).JPG', 'image (140).JPG', 'image (501).JPG', 'image (44).JPG', 'image (987).JPG', 'image (1159).JPG', 'image (1008).JPG', 'image (462).JPG', 'image (598).JPG', 'image (154).JPG', 'image (602).JPG', 'image (811).JPG', 'image (936).JPG', 'image (596).JPG', 'image (128).JPG', 'image (70).JPG', 'image (896).JPG', 'image (415).JPG', 'image (434).JPG', 'image (567).JPG', 'image (488).JPG', 'image (1059).JPG', 'image (565).JPG', 'image (1099).JPG', 'image (866).JPG', 'image (905).JPG', 'image (1130).JPG', 'image (165).JPG', 'image (453).JPG', 'image (765).JPG', 'image (1012).JPG', 'image (511).JPG', 'image (1103).JPG', 'image (1084).JPG', 'image (487).JPG', 'image (1184).JPG', 'image (1128).JPG', 'image (297).JPG', 'image (816).JPG', 'image (760).JPG', 'image (72).JPG', 'image (274).JPG', 'image (841).JPG', 'image (130).JPG', 'image (351).JPG', 'image (878).JPG', 'image (83).JPG', 'image (685).JPG', 'image (186).JPG', 'image (185).JPG', 'image (380).JPG', 'image (965).JPG', 'image (537).JPG', 'image (269).JPG', 'image (849).JPG', 'image (3).JPG', 'image (512).JPG', 'image (382).JPG', 'image (1078).JPG', 'image (150).JPG', 'image (409).JPG', 'image (28).JPG', 'image (551).JPG', 'image (463).JPG', 'image (719).JPG', 'image (210).JPG', 'image (284).JPG', 'image (664).JPG', 'image (932).JPG', 'image (535).JPG', 'image (15).JPG', 'image (330).JPG', 'image (836).JPG', 'image (282).JPG', 'image (599).JPG', 'image (1190).JPG', 'image (160).JPG', 'image (744).JPG', 'image (124).JPG', 'image (713).JPG', 'image (705).JPG', 'image (470).JPG', 'image (1148).JPG', 'image (91).JPG', 'image (55).JPG', 'image (956).JPG', 'image (529).JPG', 'image (792).JPG', 'image (388).JPG', 'image (913).JPG', 'image (976).JPG', 'image (19).JPG', 'image (914).JPG', 'image (915).JPG', 'image (499).JPG', 'image (120).JPG', 'image (1144).JPG', 'image (534).JPG', 'image (919).JPG', 'image (721).JPG', 'image (736).JPG', 'image (1006).JPG', 'image (1171).JPG', 'image (1180).JPG', 'image (85).JPG', 'image (504).JPG', 'image (768).JPG', 'image (302).JPG', 'image (775).JPG', 'image (715).JPG', 'image (536).JPG', 'image (893).JPG', 'image (17).JPG', 'image (223).JPG', 'image (467).JPG', 'image (1185).JPG', 'image (492).JPG', 'image (1108).JPG', 'image (609).JPG', 'image (517).JPG', 'image (90).JPG', 'image (813).JPG', 'image (533).JPG', 'image (96).JPG', 'image (54).JPG', 'image (564).JPG', 'image (678).JPG', 'image (446).JPG', 'image (343).JPG', 'image (714).JPG', 'image (196).JPG', 'image (740).JPG', 'image (1095).JPG', 'image (319).JPG', 'image (1004).JPG', 'image (1155).JPG', 'image (39).JPG', 'image (299).JPG', 'image (381).JPG', 'image (228).JPG', 'image (356).JPG', 'image (928).JPG', 'image (346).JPG', 'image (347).JPG', 'image (1063).JPG', 'image (1).JPG', 'image (211).JPG', 'image (780).JPG', 'image (459).JPG', 'image (457).JPG', 'image (385).JPG', 'image (183).JPG', 'image (2).JPG', 'image (235).JPG', 'image (419).JPG', 'image (984).JPG', 'image (247).JPG', 'image (303).JPG', 'image (285).JPG', 'image (1079).JPG', 'image (1105).JPG', 'image (597).JPG', 'image (510).JPG', 'image (69).JPG', 'image (1065).JPG', 'image (1038).JPG', 'image (1036).JPG', 'image (334).JPG', 'image (859).JPG', 'image (831).JPG', 'image (1160).JPG', 'image (706).JPG', 'image (271).JPG', 'image (1157).JPG', 'image (749).JPG', 'image (300).JPG', 'image (902).JPG', 'image (1053).JPG', 'image (485).JPG', 'image (606).JPG', 'image (355).JPG', 'image (162).JPG', 'image (624).JPG', 'image (1026).JPG', 'image (287).JPG', 'image (371).JPG', 'image (547).JPG', 'image (967).JPG', 'image (325).JPG', 'image (482).JPG', 'image (427).JPG', 'image (1110).JPG', 'image (676).JPG', 'image (1169).JPG', 'image (947).JPG', 'image (1121).JPG', 'image (995).JPG', 'image (612).JPG', 'image (97).JPG', 'image (53).JPG', 'image (164).JPG', 'image (273).JPG', 'image (629).JPG', 'image (1126).JPG', 'image (693).JPG', 'image (169).JPG', 'image (657).JPG', 'image (939).JPG', 'image (252).JPG', 'image (112).JPG', 'image (360).JPG', 'image (818).JPG', 'image (1031).JPG', 'image (555).JPG', 'image (134).JPG', 'image (379).JPG', 'image (1067).JPG', 'image (766).JPG', 'image (541).JPG', 'image (754).JPG', 'image (692).JPG', 'image (294).JPG', 'image (924).JPG', 'image (989).JPG', 'image (452).JPG', 'image (590).JPG', 'image (465).JPG', 'image (344).JPG', 'image (466).JPG', 'image (681).JPG', 'image (899).JPG', 'image (116).JPG', 'image (568).JPG', 'image (691).JPG', 'image (144).JPG', 'image (296).JPG', 'image (788).JPG', 'image (338).JPG', 'image (180).JPG', 'image (402).JPG', 'image (1153).JPG', 'image (138).JPG', 'image (312).JPG', 'image (190).JPG', 'image (336).JPG', 'image (772).JPG', 'image (34).JPG', 'image (716).JPG', 'image (266).JPG', 'image (307).JPG', 'image (990).JPG', 'image (1124).JPG', 'image (926).JPG', 'image (205).JPG', 'image (607).JPG', 'image (755).JPG', 'image (447).JPG', 'image (1077).JPG', 'image (1055).JPG', 'image (1082).JPG', 'image (1017).JPG', 'image (769).JPG', 'image (486).JPG', 'image (25).JPG', 'image (697).JPG', 'image (349).JPG', 'image (991).JPG', 'image (734).JPG', 'image (422).JPG', 'image (909).JPG', 'image (879).JPG', 'image (865).JPG', 'image (479).JPG', 'image (394).JPG', 'image (100).JPG', 'image (997).JPG', 'image (475).JPG', 'image (1187).JPG', 'image (407).JPG', 'image (996).JPG', 'image (825).JPG', 'image (558).JPG', 'image (175).JPG', 'image (378).JPG', 'image (1188).JPG', 'image (396).JPG', 'image (796).JPG', 'image (214).JPG', 'image (929).JPG', 'image (985).JPG', 'image (1162).JPG', 'image (557).JPG', 'image (326).JPG', 'image (477).JPG', 'image (315).JPG', 'image (1010).JPG', 'image (972).JPG', 'image (545).JPG', 'image (110).JPG', 'image (321).JPG', 'image (98).JPG', 'image (622).JPG', 'image (1041).JPG', 'image (215).JPG', 'image (948).JPG', 'image (181).JPG', 'image (260).JPG', 'image (723).JPG', 'image (1034).JPG', 'image (1080).JPG', 'image (1118).JPG', 'image (127).JPG', 'image (310).JPG', 'image (224).JPG', 'image (771).JPG', 'image (87).JPG', 'image (587).JPG', 'image (677).JPG', 'image (549).JPG', 'image (544).JPG', 'image (101).JPG', 'image (800).JPG', 'image (316).JPG', 'image (1101).JPG', 'image (32).JPG', 'image (460).JPG', 'image (592).JPG', 'image (373).JPG', 'image (814).JPG', 'image (1135).JPG', 'image (666).JPG', 'image (38).JPG', 'image (6).JPG', 'image (942).JPG', 'image (957).JPG', 'image (1088).JPG', 'image (553).JPG', 'image (946).JPG', 'image (530).JPG', 'image (354).JPG', 'image (1170).JPG', 'image (623).JPG', 'image (711).JPG', 'image (1066).JPG', 'image (891).JPG', 'image (845).JPG', 'image (244).JPG', 'image (168).JPG', 'image (543).JPG', 'image (594).JPG', 'image (945).JPG', 'image (1123).JPG', 'image (809).JPG', 'image (49).JPG', 'image (78).JPG', 'image (854).JPG', 'image (279).JPG', 'image (795).JPG', 'image (227).JPG', 'image (1189).JPG', 'image (240).JPG', 'image (152).JPG', 'image (1032).JPG', 'image (1120).JPG', 'image (51).JPG', 'image (1158).JPG', 'image (798).JPG', 'image (357).JPG', 'image (656).JPG', 'image (842).JPG', 'image (36).JPG', 'image (500).JPG', 'image (890).JPG', 'image (1098).JPG', 'image (703).JPG', 'image (57).JPG', 'image (21).JPG', 'image (301).JPG', 'image (992).JPG', 'image (846).JPG', 'image (208).JPG', 'image (519).JPG', 'image (1168).JPG', 'image (323).JPG', 'image (1138).JPG', 'image (212).JPG', 'image (1051).JPG', 'image (306).JPG', 'image (222).JPG', 'image (438).JPG', 'image (1097).JPG', 'image (118).JPG', 'image (571).JPG', 'image (789).JPG', 'image (920).JPG', 'image (600).JPG', 'image (439).JPG', 'image (149).JPG', 'image (132).JPG', 'image (353).JPG', 'image (399).JPG', 'image (454).JPG', 'image (33).JPG', 'image (1018).JPG', 'image (448).JPG', 'image (1183).JPG', 'image (933).JPG', 'image (593).JPG', 'image (871).JPG', 'image (449).JPG', 'image (71).JPG', 'image (958).JPG', 'image (94).JPG', 'image (964).JPG', 'image (249).JPG', 'image (1166).JPG', 'image (1125).JPG', 'image (1028).JPG', 'image (369).JPG', 'image (406).JPG', 'image (1035).JPG', 'image (916).JPG', 'image (238).JPG', 'image (910).JPG', 'image (1005).JPG', 'image (122).JPG', 'image (863).JPG', 'image (689).JPG', 'image (1002).JPG', 'image (563).JPG', 'image (855).JPG', 'image (352).JPG', 'image (982).JPG', 'image (1003).JPG', 'image (770).JPG', 'image (14).JPG', 'image (1127).JPG', 'image (11).JPG', 'image (1043).JPG', 'image (370).JPG', 'image (217).JPG', 'image (930).JPG', 'image (712).JPG', 'image (59).JPG', 'image (1191).JPG', 'image (126).JPG', 'image (853).JPG', 'image (961).JPG', 'image (145).JPG', 'image (806).JPG', 'image (216).JPG', 'image (471).JPG', 'image (875).JPG', 'image (329).JPG', 'image (281).JPG', 'image (1177).JPG', 'image (265).JPG', 'image (980).JPG', 'image (762).JPG', 'image (60).JPG', 'image (200).JPG', 'image (1019).JPG', 'image (418).JPG', 'image (862).JPG', 'image (581).JPG', 'image (278).JPG', 'image (195).JPG', 'image (994).JPG', 'image (759).JPG', 'image (527).JPG', 'image (509).JPG', 'image (225).JPG', 'image (822).JPG', 'image (1133).JPG', 'image (554).JPG', 'image (1061).JPG', 'image (1117).JPG', 'image (390).JPG', 'image (955).JPG', 'image (433).JPG', 'image (642).JPG', 'image (847).JPG', 'image (10).JPG', 'image (668).JPG', 'image (934).JPG', 'image (311).JPG', 'image (546).JPG', 'image (975).JPG', 'image (1161).JPG', 'image (733).JPG', 'image (425).JPG', 'image (774).JPG', 'image (614).JPG', 'image (309).JPG', 'image (971).JPG', 'image (209).JPG', 'image (826).JPG', 'image (187).JPG', 'image (88).JPG', 'image (906).JPG', 'image (239).JPG', 'image (441).JPG', 'image (1087).JPG', 'image (109).JPG', 'image (289).JPG', 'image (727).JPG', 'image (621).JPG', 'image (637).JPG', 'image (589).JPG', 'image (157).JPG', 'image (858).JPG', 'image (202).JPG', 'image (1154).JPG', 'image (18).JPG', 'image (40).JPG', 'image (502).JPG', 'image (461).JPG', 'image (1052).JPG', 'image (979).JPG', 'image (104).JPG', 'image (619).JPG', 'image (1122).JPG', 'image (177).JPG', 'image (745).JPG', 'image (1090).JPG', 'image (761).JPG', 'image (643).JPG', 'image (148).JPG', 'image (365).JPG', 'image (649).JPG', 'image (213).JPG', 'image (601).JPG', 'image (442).JPG', 'image (167).JPG', 'image (950).JPG', 'image (197).JPG', 'image (1045).JPG', 'image (1081).JPG', 'image (1072).JPG', 'image (22).JPG', 'image (1142).JPG', 'image (73).JPG', 'image (636).JPG', 'image (750).JPG', 'image (445).JPG', 'image (521).JPG', 'image (821).JPG', 'image (1139).JPG', 'image (7).JPG', 'image (436).JPG', 'image (580).JPG', 'image (867).JPG', 'image (473).JPG', 'image (496).JPG', 'image (720).JPG', 'image (672).JPG', 'image (548).JPG', 'image (391).JPG', 'image (253).JPG', 'image (1040).JPG', 'image (935).JPG', 'image (559).JPG', 'image (435).JPG', 'image (1164).JPG', 'image (868).JPG', 'image (395).JPG', 'image (724).JPG', 'image (42).JPG', 'image (201).JPG', 'image (746).JPG', 'image (476).JPG', 'image (1000).JPG', 'image (155).JPG', 'image (562).JPG', 'image (758).JPG', 'image (450).JPG', 'image (348).JPG', 'image (829).JPG', 'image (451).JPG', 'image (377).JPG', 'image (616).JPG', 'image (108).JPG', 'image (327).JPG', 'image (848).JPG', 'image (295).JPG', 'image (790).JPG', 'image (903).JPG', 'image (1141).JPG', 'image (1074).JPG', 'image (61).JPG', 'image (1163).JPG', 'image (23).JPG', 'image (655).JPG', 'image (267).JPG', 'image (142).JPG', 'image (1009).JPG', 'image (420).JPG', 'image (1070).JPG', 'image (20).JPG', 'image (661).JPG', 'image (428).JPG', 'image (644).JPG', 'image (31).JPG', 'image (82).JPG', 'image (578).JPG', 'image (641).JPG', 'image (1047).JPG', 'image (588).JPG', 'image (143).JPG', 'image (491).JPG', 'image (146).JPG', 'image (983).JPG', 'image (687).JPG', 'image (111).JPG', 'image (1112).JPG', 'image (618).JPG', 'image (376).JPG', 'image (1167).JPG', 'image (801).JPG', 'image (1113).JPG', 'image (1058).JPG', 'image (455).JPG', 'image (192).JPG', 'image (658).JPG', 'image (894).JPG', 'image (707).JPG', 'image (35).JPG', 'image (1013).JPG', 'image (464).JPG', 'image (397).JPG', 'image (206).JPG', 'image (75).JPG', 'image (233).JPG', 'image (887).JPG', 'image (708).JPG', 'image (1022).JPG', 'image (710).JPG', 'image (1086).JPG', 'image (951).JPG', 'image (986).JPG', 'image (384).JPG', 'image (256).JPG', 'image (805).JPG', 'image (361).JPG', 'image (341).JPG', 'image (888).JPG', 'image (1083).JPG', 'image (158).JPG']\n",
            "drive/MyDrive/TRAIN/Raspberry___healthy\n",
            "['image (319).JPG', 'image (143).JPG', 'image (90).JPG', 'image (70).JPG', 'image (218).JPG', 'image (52).JPG', 'image (119).JPG', 'image (239).JPG', 'image (54).JPG', 'image (167).JPG', 'image (186).JPG', 'image (278).JPG', 'image (147).JPG', 'image (361).JPG', 'image (238).JPG', 'image (146).JPG', 'image (293).JPG', 'image (65).JPG', 'image (371).JPG', 'image (205).JPG', 'image (67).JPG', 'image (80).JPG', 'image (39).JPG', 'image (285).JPG', 'image (64).JPG', 'image (243).JPG', 'image (255).JPG', 'image (182).JPG', 'image (257).JPG', 'image (77).JPG', 'image (178).JPG', 'image (335).JPG', 'image (46).JPG', 'image (110).JPG', 'image (166).JPG', 'image (316).JPG', 'image (300).JPG', 'image (201).JPG', 'image (84).JPG', 'image (183).JPG', 'image (232).JPG', 'image (176).JPG', 'image (341).JPG', 'image (45).JPG', 'image (173).JPG', 'image (207).JPG', 'image (345).JPG', 'image (317).JPG', 'image (266).JPG', 'image (21).JPG', 'image (194).JPG', 'image (226).JPG', 'image (118).JPG', 'image (359).JPG', 'image (344).JPG', 'image (337).JPG', 'image (213).JPG', 'image (1).JPG', 'image (53).JPG', 'image (101).JPG', 'image (75).JPG', 'image (312).JPG', 'image (195).JPG', 'image (19).JPG', 'image (199).JPG', 'image (157).JPG', 'image (73).JPG', 'image (112).JPG', 'image (298).JPG', 'image (78).JPG', 'image (227).JPG', 'image (30).JPG', 'image (237).JPG', 'image (284).JPG', 'image (120).JPG', 'image (148).JPG', 'image (339).JPG', 'image (68).JPG', 'image (286).JPG', 'image (134).JPG', 'image (158).JPG', 'image (5).JPG', 'image (236).JPG', 'image (192).JPG', 'image (14).JPG', 'image (156).JPG', 'image (247).JPG', 'image (209).JPG', 'image (141).JPG', 'image (33).JPG', 'image (365).JPG', 'image (287).JPG', 'image (41).JPG', 'image (79).JPG', 'image (202).JPG', 'image (291).JPG', 'image (124).JPG', 'image (249).JPG', 'image (309).JPG', 'image (69).JPG', 'image (87).JPG', 'image (15).JPG', 'image (282).JPG', 'image (13).JPG', 'image (206).JPG', 'image (295).JPG', 'image (133).JPG', 'image (200).JPG', 'image (329).JPG', 'image (219).JPG', 'image (191).JPG', 'image (214).JPG', 'image (129).JPG', 'image (252).JPG', 'image (302).JPG', 'image (334).JPG', 'image (224).JPG', 'image (288).JPG', 'image (338).JPG', 'image (171).JPG', 'image (17).JPG', 'image (208).JPG', 'image (290).JPG', 'image (230).JPG', 'image (231).JPG', 'image (170).JPG', 'image (55).JPG', 'image (308).JPG', 'image (352).JPG', 'image (347).JPG', 'image (264).JPG', 'image (105).JPG', 'image (22).JPG', 'image (31).JPG', 'image (260).JPG', 'image (35).JPG', 'image (161).JPG', 'image (203).JPG', 'image (145).JPG', 'image (217).JPG', 'image (363).JPG', 'image (180).JPG', 'image (216).JPG', 'image (314).JPG', 'image (47).JPG', 'image (196).JPG', 'image (185).JPG', 'image (187).JPG', 'image (82).JPG', 'image (48).JPG', 'image (364).JPG', 'image (184).JPG', 'image (43).JPG', 'image (250).JPG', 'image (36).JPG', 'image (356).JPG', 'image (140).JPG', 'image (210).JPG', 'image (342).JPG', 'image (181).JPG', 'image (150).JPG', 'image (256).JPG', 'image (58).JPG', 'image (220).JPG', 'image (71).JPG', 'image (350).JPG', 'image (108).JPG', 'image (137).JPG', 'image (281).JPG', 'image (151).JPG', 'image (93).JPG', 'image (326).JPG', 'image (369).JPG', 'image (301).JPG', 'image (215).JPG', 'image (244).JPG', 'image (299).JPG', 'image (294).JPG', 'image (328).JPG', 'image (251).JPG', 'image (331).JPG', 'image (343).JPG', 'image (225).JPG', 'image (7).JPG', 'image (248).JPG', 'image (100).JPG', 'image (103).JPG', 'image (190).JPG', 'image (6).JPG', 'image (321).JPG', 'image (234).JPG', 'image (4).JPG', 'image (40).JPG', 'image (72).JPG', 'image (62).JPG', 'image (254).JPG', 'image (305).JPG', 'image (60).JPG', 'image (233).JPG', 'image (204).JPG', 'image (66).JPG', 'image (139).JPG', 'image (130).JPG', 'image (296).JPG', 'image (162).JPG', 'image (99).JPG', 'image (306).JPG', 'image (85).JPG', 'image (362).JPG', 'image (267).JPG', 'image (8).JPG', 'image (221).JPG', 'image (142).JPG', 'image (24).JPG', 'image (20).JPG', 'image (49).JPG', 'image (168).JPG', 'image (44).JPG', 'image (222).JPG', 'image (265).JPG', 'image (123).JPG', 'image (10).JPG', 'image (325).JPG', 'image (313).JPG', 'image (131).JPG', 'image (136).JPG', 'image (358).JPG', 'image (235).JPG', 'image (320).JPG', 'image (323).JPG', 'image (212).JPG', 'image (109).JPG', 'image (11).JPG', 'image (351).JPG', 'image (126).JPG', 'image (253).JPG', 'image (50).JPG', 'image (324).JPG', 'image (37).JPG', 'image (318).JPG', 'image (57).JPG', 'image (297).JPG', 'image (188).JPG', 'image (12).JPG', 'image (346).JPG', 'image (34).JPG', 'image (262).JPG', 'image (92).JPG', 'image (273).JPG', 'image (127).JPG', 'image (128).JPG', 'image (81).JPG', 'image (25).JPG', 'image (175).JPG', 'image (153).JPG', 'image (241).JPG', 'image (353).JPG', 'image (74).JPG', 'image (307).JPG', 'image (159).JPG', 'image (95).JPG', 'image (122).JPG', 'image (283).JPG', 'image (333).JPG', 'image (16).JPG', 'image (106).JPG', 'image (261).JPG', 'image (113).JPG', 'image (155).JPG', 'image (32).JPG', 'image (115).JPG', 'image (104).JPG', 'image (149).JPG', 'image (152).JPG', 'image (259).JPG', 'image (56).JPG', 'image (94).JPG', 'image (330).JPG', 'image (228).JPG', 'image (332).JPG', 'image (125).JPG', 'image (51).JPG', 'image (116).JPG', 'image (2).JPG', 'image (172).JPG', 'image (292).JPG', 'image (357).JPG', 'image (89).JPG', 'image (163).JPG', 'image (368).JPG', 'image (263).JPG', 'image (193).JPG', 'image (117).JPG', 'image (355).JPG', 'image (27).JPG', 'image (271).JPG', 'image (242).JPG', 'image (86).JPG', 'image (322).JPG', 'image (258).JPG', 'image (270).JPG', 'image (107).JPG', 'image (26).JPG', 'image (96).JPG', 'image (179).JPG', 'image (197).JPG', 'image (303).JPG', 'image (348).JPG', 'image (280).JPG', 'image (174).JPG', 'image (275).JPG', 'image (245).JPG', 'image (165).JPG', 'image (304).JPG', 'image (97).JPG', 'image (272).JPG', 'image (211).JPG', 'image (349).JPG', 'image (63).JPG', 'image (327).JPG', 'image (114).JPG', 'image (91).JPG', 'image (42).JPG', 'image (310).JPG', 'image (177).JPG', 'image (83).JPG', 'image (88).JPG', 'image (276).JPG', 'image (277).JPG', 'image (144).JPG', 'image (9).JPG', 'image (3).JPG', 'image (132).JPG', 'image (29).JPG', 'image (160).JPG', 'image (367).JPG', 'image (38).JPG', 'image (189).JPG', 'image (154).JPG', 'image (246).JPG', 'image (138).JPG', 'image (28).JPG', 'image (336).JPG', 'image (240).JPG', 'image (121).JPG', 'image (354).JPG', 'image (18).JPG', 'image (340).JPG', 'image (23).JPG', 'image (269).JPG', 'image (229).JPG', 'image (61).JPG', 'image (111).JPG', 'image (366).JPG', 'image (289).JPG', 'image (198).JPG', 'image (360).JPG', 'image (315).JPG', 'image (76).JPG', 'image (279).JPG', 'image (98).JPG', 'image (274).JPG', 'image (102).JPG', 'image (135).JPG', 'image (59).JPG', 'image (311).JPG', 'image (268).JPG', 'image (370).JPG', 'image (223).JPG', 'image (164).JPG', 'image (169).JPG']\n",
            "drive/MyDrive/TRAIN/Peach___Bacterial_spot\n",
            "['image (1180).JPG', 'image (1821).JPG', 'image (1405).JPG', 'image (483).JPG', 'image (688).JPG', 'image (1252).JPG', 'image (446).JPG', 'image (1492).JPG', 'image (556).JPG', 'image (977).JPG', 'image (260).JPG', 'image (569).JPG', 'image (2242).JPG', 'image (87).JPG', 'image (1823).JPG', 'image (2275).JPG', 'image (439).JPG', 'image (2198).JPG', 'image (1760).JPG', 'image (747).JPG', 'image (1278).JPG', 'image (1682).JPG', 'image (786).JPG', 'image (728).JPG', 'image (1998).JPG', 'image (557).JPG', 'image (1168).JPG', 'image (885).JPG', 'image (1528).JPG', 'image (1685).JPG', 'image (1548).JPG', 'image (1655).JPG', 'image (2233).JPG', 'image (1612).JPG', 'image (250).JPG', 'image (822).JPG', 'image (2218).JPG', 'image (719).JPG', 'image (152).JPG', 'image (2227).JPG', 'image (1740).JPG', 'image (58).JPG', 'image (687).JPG', 'image (1494).JPG', 'image (1302).JPG', 'image (964).JPG', 'image (1598).JPG', 'image (2071).JPG', 'image (1651).JPG', 'image (2129).JPG', 'image (2213).JPG', 'image (2132).JPG', 'image (1229).JPG', 'image (826).JPG', 'image (2013).JPG', 'image (1699).JPG', 'image (1029).JPG', 'image (2111).JPG', 'image (1092).JPG', 'image (759).JPG', 'image (923).JPG', 'image (1398).JPG', 'image (645).JPG', 'image (310).JPG', 'image (1411).JPG', 'image (2114).JPG', 'image (1934).JPG', 'image (218).JPG', 'image (2200).JPG', 'image (30).JPG', 'image (1567).JPG', 'image (970).JPG', 'image (1525).JPG', 'image (1856).JPG', 'image (168).JPG', 'image (100).JPG', 'image (2183).JPG', 'image (1112).JPG', 'image (1333).JPG', 'image (1150).JPG', 'image (1170).JPG', 'image (820).JPG', 'image (985).JPG', 'image (13).JPG', 'image (265).JPG', 'image (386).JPG', 'image (1344).JPG', 'image (1570).JPG', 'image (2086).JPG', 'image (2015).JPG', 'image (1014).JPG', 'image (1067).JPG', 'image (1533).JPG', 'image (1009).JPG', 'image (44).JPG', 'image (1055).JPG', 'image (257).JPG', 'image (1620).JPG', 'image (791).JPG', 'image (417).JPG', 'image (729).JPG', 'image (1125).JPG', 'image (479).JPG', 'image (2138).JPG', 'image (2067).JPG', 'image (412).JPG', 'image (566).JPG', 'image (1266).JPG', 'image (1458).JPG', 'image (1324).JPG', 'image (496).JPG', 'image (1300).JPG', 'image (595).JPG', 'image (1176).JPG', 'image (1789).JPG', 'image (1755).JPG', 'image (1805).JPG', 'image (854).JPG', 'image (407).JPG', 'image (1622).JPG', 'image (1707).JPG', 'image (7).JPG', 'image (828).JPG', 'image (1864).JPG', 'image (1072).JPG', 'image (925).JPG', 'image (1566).JPG', 'image (45).JPG', 'image (990).JPG', 'image (1171).JPG', 'image (262).JPG', 'image (1139).JPG', 'image (211).JPG', 'image (10).JPG', 'image (869).JPG', 'image (1751).JPG', 'image (467).JPG', 'image (76).JPG', 'image (376).JPG', 'image (2201).JPG', 'image (1563).JPG', 'image (710).JPG', 'image (1002).JPG', 'image (1147).JPG', 'image (233).JPG', 'image (291).JPG', 'image (737).JPG', 'image (337).JPG', 'image (1564).JPG', 'image (928).JPG', 'image (2027).JPG', 'image (2182).JPG', 'image (397).JPG', 'image (1596).JPG', 'image (642).JPG', 'image (1204).JPG', 'image (945).JPG', 'image (1484).JPG', 'image (332).JPG', 'image (1539).JPG', 'image (628).JPG', 'image (1510).JPG', 'image (1402).JPG', 'image (1802).JPG', 'image (972).JPG', 'image (2241).JPG', 'image (764).JPG', 'image (1054).JPG', 'image (2160).JPG', 'image (1818).JPG', 'image (1737).JPG', 'image (2263).JPG', 'image (1683).JPG', 'image (1987).JPG', 'image (1980).JPG', 'image (388).JPG', 'image (1142).JPG', 'image (1160).JPG', 'image (302).JPG', 'image (426).JPG', 'image (1353).JPG', 'image (2065).JPG', 'image (458).JPG', 'image (2110).JPG', 'image (1423).JPG', 'image (224).JPG', 'image (1102).JPG', 'image (1991).JPG', 'image (316).JPG', 'image (64).JPG', 'image (1948).JPG', 'image (1811).JPG', 'image (993).JPG', 'image (1465).JPG', 'image (1034).JPG', 'image (2104).JPG', 'image (448).JPG', 'image (5).JPG', 'image (2078).JPG', 'image (1962).JPG', 'image (1078).JPG', 'image (1264).JPG', 'image (596).JPG', 'image (1198).JPG', 'image (1785).JPG', 'image (1922).JPG', 'image (432).JPG', 'image (114).JPG', 'image (1438).JPG', 'image (104).JPG', 'image (270).JPG', 'image (621).JPG', 'image (590).JPG', 'image (1025).JPG', 'image (150).JPG', 'image (1504).JPG', 'image (2159).JPG', 'image (1005).JPG', 'image (1165).JPG', 'image (2080).JPG', 'image (193).JPG', 'image (1053).JPG', 'image (1840).JPG', 'image (2231).JPG', 'image (932).JPG', 'image (603).JPG', 'image (1831).JPG', 'image (2075).JPG', 'image (2135).JPG', 'image (981).JPG', 'image (663).JPG', 'image (112).JPG', 'image (1738).JPG', 'image (365).JPG', 'image (995).JPG', 'image (1048).JPG', 'image (1928).JPG', 'image (866).JPG', 'image (1076).JPG', 'image (234).JPG', 'image (16).JPG', 'image (2168).JPG', 'image (1148).JPG', 'image (69).JPG', 'image (672).JPG', 'image (2033).JPG', 'image (1960).JPG', 'image (121).JPG', 'image (1217).JPG', 'image (1813).JPG', 'image (379).JPG', 'image (78).JPG', 'image (605).JPG', 'image (835).JPG', 'image (494).JPG', 'image (351).JPG', 'image (1312).JPG', 'image (701).JPG', 'image (2284).JPG', 'image (1008).JPG', 'image (1763).JPG', 'image (2085).JPG', 'image (867).JPG', 'image (982).JPG', 'image (1687).JPG', 'image (11).JPG', 'image (1241).JPG', 'image (323).JPG', 'image (317).JPG', 'image (873).JPG', 'image (441).JPG', 'image (263).JPG', 'image (2215).JPG', 'image (911).JPG', 'image (277).JPG', 'image (278).JPG', 'image (1979).JPG', 'image (1294).JPG', 'image (462).JPG', 'image (1973).JPG', 'image (1384).JPG', 'image (2147).JPG', 'image (1625).JPG', 'image (886).JPG', 'image (500).JPG', 'image (333).JPG', 'image (1208).JPG', 'image (1971).JPG', 'image (1594).JPG', 'image (395).JPG', 'image (691).JPG', 'image (1619).JPG', 'image (1819).JPG', 'image (2285).JPG', 'image (1136).JPG', 'image (2178).JPG', 'image (2189).JPG', 'image (1236).JPG', 'image (882).JPG', 'image (195).JPG', 'image (2046).JPG', 'image (594).JPG', 'image (625).JPG', 'image (461).JPG', 'image (1527).JPG', 'image (915).JPG', 'image (853).JPG', 'image (1519).JPG', 'image (904).JPG', 'image (1788).JPG', 'image (416).JPG', 'image (750).JPG', 'image (353).JPG', 'image (2088).JPG', 'image (954).JPG', 'image (2236).JPG', 'image (2119).JPG', 'image (206).JPG', 'image (1267).JPG', 'image (1468).JPG', 'image (2197).JPG', 'image (2025).JPG', 'image (1432).JPG', 'image (98).JPG', 'image (1281).JPG', 'image (1814).JPG', 'image (1897).JPG', 'image (1299).JPG', 'image (1804).JPG', 'image (1169).JPG', 'image (1800).JPG', 'image (1135).JPG', 'image (626).JPG', 'image (1671).JPG', 'image (1095).JPG', 'image (1976).JPG', 'image (1631).JPG', 'image (535).JPG', 'image (1967).JPG', 'image (405).JPG', 'image (705).JPG', 'image (421).JPG', 'image (987).JPG', 'image (1108).JPG', 'image (957).JPG', 'image (1234).JPG', 'image (1251).JPG', 'image (833).JPG', 'image (423).JPG', 'image (1431).JPG', 'image (1881).JPG', 'image (3).JPG', 'image (916).JPG', 'image (1039).JPG', 'image (1352).JPG', 'image (677).JPG', 'image (757).JPG', 'image (2193).JPG', 'image (346).JPG', 'image (1001).JPG', 'image (1379).JPG', 'image (2042).JPG', 'image (2102).JPG', 'image (865).JPG', 'image (1288).JPG', 'image (648).JPG', 'image (1549).JPG', 'image (684).JPG', 'image (618).JPG', 'image (1748).JPG', 'image (501).JPG', 'image (971).JPG', 'image (1206).JPG', 'image (1012).JPG', 'image (77).JPG', 'image (1778).JPG', 'image (2069).JPG', 'image (361).JPG', 'image (1289).JPG', 'image (505).JPG', 'image (646).JPG', 'image (809).JPG', 'image (1).JPG', 'image (1461).JPG', 'image (2016).JPG', 'image (2073).JPG', 'image (1978).JPG', 'image (137).JPG', 'image (1409).JPG', 'image (1673).JPG', 'image (1770).JPG', 'image (1049).JPG', 'image (2199).JPG', 'image (1714).JPG', 'image (51).JPG', 'image (430).JPG', 'image (1593).JPG', 'image (612).JPG', 'image (694).JPG', 'image (814).JPG', 'image (1219).JPG', 'image (130).JPG', 'image (2008).JPG', 'image (2097).JPG', 'image (686).JPG', 'image (2092).JPG', 'image (2294).JPG', 'image (1696).JPG', 'image (507).JPG', 'image (939).JPG', 'image (1397).JPG', 'image (2212).JPG', 'image (1286).JPG', 'image (697).JPG', 'image (455).JPG', 'image (1997).JPG', 'image (858).JPG', 'image (378).JPG', 'image (1874).JPG', 'image (901).JPG', 'image (1694).JPG', 'image (797).JPG', 'image (1609).JPG', 'image (145).JPG', 'image (2133).JPG', 'image (380).JPG', 'image (533).JPG', 'image (1860).JPG', 'image (93).JPG', 'image (2223).JPG', 'image (516).JPG', 'image (627).JPG', 'image (1296).JPG', 'image (1822).JPG', 'image (1944).JPG', 'image (2149).JPG', 'image (1179).JPG', 'image (435).JPG', 'image (840).JPG', 'image (1358).JPG', 'image (531).JPG', 'image (919).JPG', 'image (1151).JPG', 'image (1335).JPG', 'image (1476).JPG', 'image (2190).JPG', 'image (1021).JPG', 'image (1391).JPG', 'image (1121).JPG', 'image (268).JPG', 'image (781).JPG', 'image (453).JPG', 'image (2144).JPG', 'image (1849).JPG', 'image (1809).JPG', 'image (671).JPG', 'image (1569).JPG', 'image (251).JPG', 'image (1779).JPG', 'image (1745).JPG', 'image (874).JPG', 'image (1143).JPG', 'image (1926).JPG', 'image (966).JPG', 'image (286).JPG', 'image (433).JPG', 'image (599).JPG', 'image (575).JPG', 'image (1883).JPG', 'image (287).JPG', 'image (79).JPG', 'image (1920).JPG', 'image (1664).JPG', 'image (2072).JPG', 'image (1891).JPG', 'image (903).JPG', 'image (1896).JPG', 'image (542).JPG', 'image (1639).JPG', 'image (2047).JPG', 'image (989).JPG', 'image (1726).JPG', 'image (107).JPG', 'image (256).JPG', 'image (1408).JPG', 'image (1969).JPG', 'image (593).JPG', 'image (1616).JPG', 'image (173).JPG', 'image (1184).JPG', 'image (1297).JPG', 'image (2219).JPG', 'image (2188).JPG', 'image (2130).JPG', 'image (62).JPG', 'image (1395).JPG', 'image (651).JPG', 'image (2103).JPG', 'image (980).JPG', 'image (1766).JPG', 'image (1203).JPG', 'image (6).JPG', 'image (1520).JPG', 'image (1532).JPG', 'image (743).JPG', 'image (837).JPG', 'image (185).JPG', 'image (1816).JPG', 'image (2269).JPG', 'image (1590).JPG', 'image (1172).JPG', 'image (1023).JPG', 'image (2026).JPG', 'image (1370).JPG', 'image (2171).JPG', 'image (976).JPG', 'image (497).JPG', 'image (2037).JPG', 'image (1407).JPG', 'image (9).JPG', 'image (930).JPG', 'image (2165).JPG', 'image (1090).JPG', 'image (1460).JPG', 'image (1041).JPG', 'image (1660).JPG', 'image (411).JPG', 'image (2291).JPG', 'image (2272).JPG', 'image (1935).JPG', 'image (2258).JPG', 'image (918).JPG', 'image (913).JPG', 'image (1412).JPG', 'image (1536).JPG', 'image (1723).JPG', 'image (1579).JPG', 'image (577).JPG', 'image (1993).JPG', 'image (1260).JPG', 'image (665).JPG', 'image (2176).JPG', 'image (1341).JPG', 'image (563).JPG', 'image (2186).JPG', 'image (20).JPG', 'image (18).JPG', 'image (2286).JPG', 'image (793).JPG', 'image (844).JPG', 'image (215).JPG', 'image (1501).JPG', 'image (176).JPG', 'image (1903).JPG', 'image (2181).JPG', 'image (568).JPG', 'image (341).JPG', 'image (1230).JPG', 'image (2274).JPG', 'image (135).JPG', 'image (863).JPG', 'image (153).JPG', 'image (1141).JPG', 'image (40).JPG', 'image (191).JPG', 'image (1538).JPG', 'image (1016).JPG', 'image (177).JPG', 'image (2288).JPG', 'image (1240).JPG', 'image (785).JPG', 'image (101).JPG', 'image (1543).JPG', 'image (1233).JPG', 'image (1872).JPG', 'image (546).JPG', 'image (522).JPG', 'image (155).JPG', 'image (768).JPG', 'image (179).JPG', 'image (2041).JPG', 'image (1280).JPG', 'image (1697).JPG', 'image (1837).JPG', 'image (935).JPG', 'image (2169).JPG', 'image (1801).JPG', 'image (788).JPG', 'image (1842).JPG', 'image (1024).JPG', 'image (1345).JPG', 'image (506).JPG', 'image (1970).JPG', 'image (192).JPG', 'image (2267).JPG', 'image (2156).JPG', 'image (2043).JPG', 'image (2136).JPG', 'image (1152).JPG', 'image (2105).JPG', 'image (1605).JPG', 'image (1429).JPG', 'image (367).JPG', 'image (2162).JPG', 'image (1709).JPG', 'image (1161).JPG', 'image (1986).JPG', 'image (1375).JPG', 'image (1658).JPG', 'image (2255).JPG', 'image (23).JPG', 'image (91).JPG', 'image (488).JPG', 'image (914).JPG', 'image (1194).JPG', 'image (1790).JPG', 'image (1043).JPG', 'image (1442).JPG', 'image (979).JPG', 'image (371).JPG', 'image (1396).JPG', 'image (965).JPG', 'image (2142).JPG', 'image (2174).JPG', 'image (1127).JPG', 'image (1946).JPG', 'image (658).JPG', 'image (374).JPG', 'image (1936).JPG', 'image (1224).JPG', 'image (790).JPG', 'image (187).JPG', 'image (2266).JPG', 'image (1485).JPG', 'image (2057).JPG', 'image (95).JPG', 'image (399).JPG', 'image (1641).JPG', 'image (116).JPG', 'image (1207).JPG', 'image (194).JPG', 'image (752).JPG', 'image (746).JPG', 'image (1518).JPG', 'image (1762).JPG', 'image (276).JPG', 'image (622).JPG', 'image (1919).JPG', 'image (1513).JPG', 'image (1242).JPG', 'image (789).JPG', 'image (1522).JPG', 'image (676).JPG', 'image (1988).JPG', 'image (1798).JPG', 'image (889).JPG', 'image (1995).JPG', 'image (482).JPG', 'image (1231).JPG', 'image (2230).JPG', 'image (960).JPG', 'image (1367).JPG', 'image (2167).JPG', 'image (1584).JPG', 'image (1378).JPG', 'image (1336).JPG', 'image (1628).JPG', 'image (106).JPG', 'image (1700).JPG', 'image (1575).JPG', 'image (2074).JPG', 'image (1610).JPG', 'image (1404).JPG', 'image (580).JPG', 'image (1321).JPG', 'image (443).JPG', 'image (778).JPG', 'image (2049).JPG', 'image (955).JPG', 'image (2095).JPG', 'image (1506).JPG', 'image (2044).JPG', 'image (560).JPG', 'image (243).JPG', 'image (1000).JPG', 'image (349).JPG', 'image (1356).JPG', 'image (1833).JPG', 'image (293).JPG', 'image (2143).JPG', 'image (1817).JPG', 'image (1727).JPG', 'image (948).JPG', 'image (1183).JPG', 'image (1776).JPG', 'image (226).JPG', 'image (1040).JPG', 'image (2210).JPG', 'image (551).JPG', 'image (2290).JPG', 'image (328).JPG', 'image (1640).JPG', 'image (2094).JPG', 'image (434).JPG', 'image (1982).JPG', 'image (1015).JPG', 'image (762).JPG', 'image (172).JPG', 'image (491).JPG', 'image (1984).JPG', 'image (834).JPG', 'image (1730).JPG', 'image (90).JPG', 'image (1830).JPG', 'image (2152).JPG', 'image (1693).JPG', 'image (1082).JPG', 'image (503).JPG', 'image (667).JPG', 'image (1304).JPG', 'image (1614).JPG', 'image (949).JPG', 'image (1941).JPG', 'image (1885).JPG', 'image (1126).JPG', 'image (1863).JPG', 'image (1239).JPG', 'image (1111).JPG', 'image (1654).JPG', 'image (180).JPG', 'image (946).JPG', 'image (2006).JPG', 'image (1615).JPG', 'image (1007).JPG', 'image (1786).JPG', 'image (1783).JPG', 'image (1606).JPG', 'image (47).JPG', 'image (242).JPG', 'image (927).JPG', 'image (1705).JPG', 'image (754).JPG', 'image (722).JPG', 'image (2116).JPG', 'image (396).JPG', 'image (2060).JPG', 'image (1710).JPG', 'image (818).JPG', 'image (803).JPG', 'image (819).JPG', 'image (359).JPG', 'image (821).JPG', 'image (1355).JPG', 'image (288).JPG', 'image (2031).JPG', 'image (1868).JPG', 'image (1725).JPG', 'image (285).JPG', 'image (1952).JPG', 'image (1433).JPG', 'image (1834).JPG', 'image (438).JPG', 'image (1659).JPG', 'image (1954).JPG', 'image (1803).JPG', 'image (766).JPG', 'image (102).JPG', 'image (1175).JPG', 'image (198).JPG', 'image (143).JPG', 'image (96).JPG', 'image (1852).JPG', 'image (862).JPG', 'image (2032).JPG', 'image (518).JPG', 'image (2194).JPG', 'image (1931).JPG', 'image (2261).JPG', 'image (1565).JPG', 'image (1259).JPG', 'image (2281).JPG', 'image (2029).JPG', 'image (398).JPG', 'image (1796).JPG', 'image (1369).JPG', 'image (1667).JPG', 'image (1529).JPG', 'image (1214).JPG', 'image (343).JPG', 'image (2030).JPG', 'image (481).JPG', 'image (2158).JPG', 'image (2214).JPG', 'image (1601).JPG', 'image (582).JPG', 'image (1844).JPG', 'image (2211).JPG', 'image (871).JPG', 'image (1326).JPG', 'image (1792).JPG', 'image (2054).JPG', 'image (364).JPG', 'image (132).JPG', 'image (1291).JPG', 'image (1679).JPG', 'image (1732).JPG', 'image (647).JPG', 'image (718).JPG', 'image (1020).JPG', 'image (487).JPG', 'image (693).JPG', 'image (2101).JPG', 'image (489).JPG', 'image (776).JPG', 'image (1446).JPG', 'image (1386).JPG', 'image (1758).JPG', 'image (490).JPG', 'image (14).JPG', 'image (2034).JPG', 'image (2036).JPG', 'image (600).JPG', 'image (1637).JPG', 'image (656).JPG', 'image (2164).JPG', 'image (1323).JPG', 'image (2155).JPG', 'image (824).JPG', 'image (1191).JPG', 'image (252).JPG', 'image (1083).JPG', 'image (841).JPG', 'image (753).JPG', 'image (466).JPG', 'image (1901).JPG', 'image (994).JPG', 'image (1965).JPG', 'image (1338).JPG', 'image (611).JPG', 'image (1577).JPG', 'image (2240).JPG', 'image (805).JPG', 'image (261).JPG', 'image (1981).JPG', 'image (2028).JPG', 'image (1047).JPG', 'image (402).JPG', 'image (232).JPG', 'image (1467).JPG', 'image (1205).JPG', 'image (1684).JPG', 'image (2020).JPG', 'image (527).JPG', 'image (875).JPG', 'image (199).JPG', 'image (598).JPG', 'image (2293).JPG', 'image (28).JPG', 'image (652).JPG', 'image (639).JPG', 'image (1865).JPG', 'image (1515).JPG', 'image (936).JPG', 'image (1473).JPG', 'image (1122).JPG', 'image (1882).JPG', 'image (2121).JPG', 'image (1582).JPG', 'image (1977).JPG', 'image (545).JPG', 'image (526).JPG', 'image (1201).JPG', 'image (342).JPG', 'image (2248).JPG', 'image (165).JPG', 'image (124).JPG', 'image (2139).JPG', 'image (1784).JPG', 'image (770).JPG', 'image (579).JPG', 'image (1933).JPG', 'image (2209).JPG', 'image (1225).JPG', 'image (188).JPG', 'image (1306).JPG', 'image (730).JPG', 'image (1657).JPG', 'image (240).JPG', 'image (413).JPG', 'image (649).JPG', 'image (850).JPG', 'image (392).JPG', 'image (504).JPG', 'image (223).JPG', 'image (842).JPG', 'image (2024).JPG', 'image (2273).JPG', 'image (1810).JPG', 'image (2157).JPG', 'image (1003).JPG', 'image (1216).JPG', 'image (1486).JPG', 'image (1759).JPG', 'image (1091).JPG', 'image (484).JPG', 'image (445).JPG', 'image (1642).JPG', 'image (1592).JPG', 'image (1841).JPG', 'image (1185).JPG', 'image (164).JPG', 'image (1155).JPG', 'image (723).JPG', 'image (1670).JPG', 'image (238).JPG', 'image (1277).JPG', 'image (1678).JPG', 'image (974).JPG', 'image (775).JPG', 'image (787).JPG', 'image (267).JPG', 'image (1195).JPG', 'image (1430).JPG', 'image (689).JPG', 'image (1514).JPG', 'image (1488).JPG', 'image (1777).JPG', 'image (565).JPG', 'image (1747).JPG', 'image (1330).JPG', 'image (184).JPG', 'image (259).JPG', 'image (1258).JPG', 'image (1576).JPG', 'image (83).JPG', 'image (1547).JPG', 'image (1621).JPG', 'image (1497).JPG', 'image (597).JPG', 'image (880).JPG', 'image (120).JPG', 'image (1389).JPG', 'image (848).JPG', 'image (197).JPG', 'image (239).JPG', 'image (1332).JPG', 'image (2145).JPG', 'image (1164).JPG', 'image (547).JPG', 'image (899).JPG', 'image (1081).JPG', 'image (1293).JPG', 'image (795).JPG', 'image (235).JPG', 'image (657).JPG', 'image (222).JPG', 'image (60).JPG', 'image (725).JPG', 'image (82).JPG', 'image (1772).JPG', 'image (654).JPG', 'image (584).JPG', 'image (1133).JPG', 'image (1890).JPG', 'image (1983).JPG', 'image (2220).JPG', 'image (664).JPG', 'image (1134).JPG', 'image (520).JPG', 'image (2217).JPG', 'image (779).JPG', 'image (99).JPG', 'image (682).JPG', 'image (463).JPG', 'image (1774).JPG', 'image (2128).JPG', 'image (115).JPG', 'image (1505).JPG', 'image (1013).JPG', 'image (804).JPG', 'image (2277).JPG', 'image (984).JPG', 'image (1011).JPG', 'image (335).JPG', 'image (329).JPG', 'image (1645).JPG', 'image (2012).JPG', 'image (254).JPG', 'image (175).JPG', 'image (2249).JPG', 'image (318).JPG', 'image (1692).JPG', 'image (1385).JPG', 'image (1604).JPG', 'image (1480).JPG', 'image (1634).JPG', 'image (550).JPG', 'image (2038).JPG', 'image (1888).JPG', 'image (748).JPG', 'image (1958).JPG', 'image (1875).JPG', 'image (253).JPG', 'image (245).JPG', 'image (773).JPG', 'image (891).JPG', 'image (459).JPG', 'image (1303).JPG', 'image (924).JPG', 'image (524).JPG', 'image (213).JPG', 'image (1421).JPG', 'image (340).JPG', 'image (715).JPG', 'image (907).JPG', 'image (1359).JPG', 'image (631).JPG', 'image (831).JPG', 'image (1951).JPG', 'image (377).JPG', 'image (1244).JPG', 'image (802).JPG', 'image (1793).JPG', 'image (241).JPG', 'image (133).JPG', 'image (1065).JPG', 'image (1717).JPG', 'image (1449).JPG', 'image (2061).JPG', 'image (857).JPG', 'image (1975).JPG', 'image (29).JPG', 'image (131).JPG', 'image (1551).JPG', 'image (219).JPG', 'image (1346).JPG', 'image (1132).JPG', 'image (486).JPG', 'image (485).JPG', 'image (66).JPG', 'image (1006).JPG', 'image (630).JPG', 'image (74).JPG', 'image (823).JPG', 'image (84).JPG', 'image (151).JPG', 'image (1045).JPG', 'image (283).JPG', 'image (41).JPG', 'image (148).JPG', 'image (280).JPG', 'image (2093).JPG', 'image (515).JPG', 'image (1452).JPG', 'image (2014).JPG', 'image (1688).JPG', 'image (1829).JPG', 'image (166).JPG', 'image (1646).JPG', 'image (1942).JPG', 'image (2206).JPG', 'image (1870).JPG', 'image (534).JPG', 'image (2187).JPG', 'image (1869).JPG', 'image (909).JPG', 'image (1124).JPG', 'image (1851).JPG', 'image (952).JPG', 'image (1361).JPG', 'image (2229).JPG', 'image (1915).JPG', 'image (1769).JPG', 'image (902).JPG', 'image (410).JPG', 'image (2011).JPG', 'image (870).JPG', 'image (1154).JPG', 'image (2252).JPG', 'image (1410).JPG', 'image (1742).JPG', 'image (808).JPG', 'image (1235).JPG', 'image (442).JPG', 'image (109).JPG', 'image (37).JPG', 'image (1349).JPG', 'image (1884).JPG', 'image (298).JPG', 'image (1629).JPG', 'image (1921).JPG', 'image (4).JPG', 'image (1545).JPG', 'image (1780).JPG', 'image (2053).JPG', 'image (1193).JPG', 'image (905).JPG', 'image (774).JPG', 'image (1298).JPG', 'image (8).JPG', 'image (521).JPG', 'image (295).JPG', 'image (355).JPG', 'image (741).JPG', 'image (237).JPG', 'image (929).JPG', 'image (1128).JPG', 'image (2247).JPG', 'image (2262).JPG', 'image (592).JPG', 'image (983).JPG', 'image (1342).JPG', 'image (2140).JPG', 'image (2265).JPG', 'image (19).JPG', 'image (1030).JPG', 'image (1990).JPG', 'image (733).JPG', 'image (555).JPG', 'image (1968).JPG', 'image (1767).JPG', 'image (1287).JPG', 'image (1035).JPG', 'image (1120).JPG', 'image (356).JPG', 'image (425).JPG', 'image (204).JPG', 'image (1390).JPG', 'image (2064).JPG', 'image (767).JPG', 'image (1104).JPG', 'image (644).JPG', 'image (1377).JPG', 'image (1835).JPG', 'image (1436).JPG', 'image (1923).JPG', 'image (1531).JPG', 'image (203).JPG', 'image (843).JPG', 'image (304).JPG', 'image (1877).JPG', 'image (314).JPG', 'image (1695).JPG', 'image (514).JPG', 'image (1585).JPG', 'image (424).JPG', 'image (2112).JPG', 'image (1109).JPG', 'image (1441).JPG', 'image (400).JPG', 'image (354).JPG', 'image (1956).JPG', 'image (1925).JPG', 'image (1765).JPG', 'image (1388).JPG', 'image (306).JPG', 'image (1953).JPG', 'image (784).JPG', 'image (15).JPG', 'image (898).JPG', 'image (1491).JPG', 'image (1038).JPG', 'image (80).JPG', 'image (1858).JPG', 'image (699).JPG', 'image (1428).JPG', 'image (1274).JPG', 'image (1627).JPG', 'image (1462).JPG', 'image (558).JPG', 'image (1599).JPG', 'image (704).JPG', 'image (2058).JPG', 'image (1589).JPG', 'image (2004).JPG', 'image (2253).JPG', 'image (1899).JPG', 'image (614).JPG', 'image (1613).JPG', 'image (956).JPG', 'image (208).JPG', 'image (1739).JPG', 'image (849).JPG', 'image (1866).JPG', 'image (1644).JPG', 'image (449).JPG', 'image (1075).JPG', 'image (2007).JPG', 'image (2245).JPG', 'image (702).JPG', 'image (141).JPG', 'image (469).JPG', 'image (1027).JPG', 'image (393).JPG', 'image (182).JPG', 'image (1424).JPG', 'image (471).JPG', 'image (2180).JPG', 'image (2234).JPG', 'image (2134).JPG', 'image (769).JPG', 'image (2131).JPG', 'image (1507).JPG', 'image (561).JPG', 'image (1985).JPG', 'image (344).JPG', 'image (108).JPG', 'image (1544).JPG', 'image (1607).JPG', 'image (1181).JPG', 'image (313).JPG', 'image (59).JPG', 'image (420).JPG', 'image (394).JPG', 'image (585).JPG', 'image (1228).JPG', 'image (1426).JPG', 'image (2056).JPG', 'image (1580).JPG', 'image (300).JPG', 'image (553).JPG', 'image (2195).JPG', 'image (216).JPG', 'image (297).JPG', 'image (2235).JPG', 'image (1938).JPG', 'image (1189).JPG', 'image (782).JPG', 'image (771).JPG', 'image (860).JPG', 'image (86).JPG', 'image (2096).JPG', 'image (888).JPG', 'image (229).JPG', 'image (714).JPG', 'image (171).JPG', 'image (1595).JPG', 'image (1940).JPG', 'image (1994).JPG', 'image (1799).JPG', 'image (2052).JPG', 'image (1434).JPG', 'image (617).JPG', 'image (1911).JPG', 'image (1838).JPG', 'image (1608).JPG', 'image (1238).JPG', 'image (1734).JPG', 'image (1417).JPG', 'image (1764).JPG', 'image (846).JPG', 'image (480).JPG', 'image (307).JPG', 'image (1904).JPG', 'image (52).JPG', 'image (1791).JPG', 'image (922).JPG', 'image (1068).JPG', 'image (578).JPG', 'image (492).JPG', 'image (2048).JPG', 'image (403).JPG', 'image (1574).JPG', 'image (134).JPG', 'image (1712).JPG', 'image (807).JPG', 'image (81).JPG', 'image (174).JPG', 'image (350).JPG', 'image (1880).JPG', 'image (357).JPG', 'image (1061).JPG', 'image (549).JPG', 'image (89).JPG', 'image (2122).JPG', 'image (852).JPG', 'image (1084).JPG', 'image (1691).JPG', 'image (465).JPG', 'image (336).JPG', 'image (382).JPG', 'image (2083).JPG', 'image (571).JPG', 'image (1719).JPG', 'image (1309).JPG', 'image (1847).JPG', 'image (996).JPG', 'image (1004).JPG', 'image (32).JPG', 'image (1807).JPG', 'image (1541).JPG', 'image (2084).JPG', 'image (606).JPG', 'image (2202).JPG', 'image (1308).JPG', 'image (1943).JPG', 'image (2035).JPG', 'image (1123).JPG', 'image (1603).JPG', 'image (724).JPG', 'image (2224).JPG', 'image (1487).JPG', 'image (1439).JPG', 'image (1947).JPG', 'image (792).JPG', 'image (1554).JPG', 'image (473).JPG', 'image (777).JPG', 'image (619).JPG', 'image (1878).JPG', 'image (311).JPG', 'image (1602).JPG', 'image (1066).JPG', 'image (2232).JPG', 'image (811).JPG', 'image (2283).JPG', 'image (202).JPG', 'image (608).JPG', 'image (43).JPG', 'image (1708).JPG', 'image (1469).JPG', 'image (1815).JPG', 'image (1096).JPG', 'image (2040).JPG', 'image (690).JPG', 'image (1630).JPG', 'image (117).JPG', 'image (247).JPG', 'image (327).JPG', 'image (1327).JPG', 'image (1282).JPG', 'image (2264).JPG', 'image (220).JPG', 'image (2059).JPG', 'image (739).JPG', 'image (1677).JPG', 'image (1623).JPG', 'image (1867).JPG', 'image (681).JPG', 'image (1744).JPG', 'image (1292).JPG', 'image (1876).JPG', 'image (1211).JPG', 'image (373).JPG', 'image (890).JPG', 'image (1262).JPG', 'image (1105).JPG', 'image (1218).JPG', 'image (369).JPG', 'image (1913).JPG', 'image (264).JPG', 'image (1578).JPG', 'image (1910).JPG', 'image (209).JPG', 'image (655).JPG', 'image (474).JPG', 'image (881).JPG', 'image (2001).JPG', 'image (212).JPG', 'image (331).JPG', 'image (1226).JPG', 'image (2081).JPG', 'image (1329).JPG', 'image (160).JPG', 'image (1633).JPG', 'image (1676).JPG', 'image (816).JPG', 'image (744).JPG', 'image (1530).JPG', 'image (1256).JPG', 'image (1827).JPG', 'image (1117).JPG', 'image (2279).JPG', 'image (1418).JPG', 'image (845).JPG', 'image (650).JPG', 'image (119).JPG', 'image (1907).JPG', 'image (1101).JPG', 'image (602).JPG', 'image (523).JPG', 'image (2246).JPG', 'image (610).JPG', 'image (414).JPG', 'image (1435).JPG', 'image (2196).JPG', 'image (1382).JPG', 'image (962).JPG', 'image (660).JPG', 'image (679).JPG', 'image (1718).JPG', 'image (1115).JPG', 'image (1371).JPG', 'image (1295).JPG', 'image (583).JPG', 'image (2251).JPG', 'image (1648).JPG', 'image (1284).JPG', 'image (452).JPG', 'image (992).JPG', 'image (1263).JPG', 'image (296).JPG', 'image (1955).JPG', 'image (1741).JPG', 'image (450).JPG', 'image (408).JPG', 'image (810).JPG', 'image (266).JPG', 'image (2).JPG', 'image (2208).JPG', 'image (272).JPG', 'image (210).JPG', 'image (2268).JPG', 'image (419).JPG', 'image (1272).JPG', 'image (368).JPG', 'image (2225).JPG', 'image (1129).JPG', 'image (2002).JPG', 'image (1489).JPG', 'image (554).JPG', 'image (1794).JPG', 'image (1445).JPG', 'image (1261).JPG', 'image (2115).JPG', 'image (1502).JPG', 'image (167).JPG', 'image (1949).JPG', 'image (383).JPG', 'image (2179).JPG', 'image (615).JPG', 'image (2090).JPG', 'image (1481).JPG', 'image (362).JPG', 'image (1916).JPG', 'image (236).JPG', 'image (94).JPG', 'image (1771).JPG', 'image (2296).JPG', 'image (2282).JPG', 'image (1167).JPG', 'image (1848).JPG', 'image (1937).JPG', 'image (703).JPG', 'image (1886).JPG', 'image (562).JPG', 'image (1624).JPG', 'image (796).JPG', 'image (1059).JPG', 'image (478).JPG', 'image (1350).JPG', 'image (1989).JPG', 'image (97).JPG', 'image (1098).JPG', 'image (1662).JPG', 'image (641).JPG', 'image (1088).JPG', 'image (536).JPG', 'image (508).JPG', 'image (640).JPG', 'image (1190).JPG', 'image (2153).JPG', 'image (806).JPG', 'image (444).JPG', 'image (1093).JPG', 'image (1394).JPG', 'image (294).JPG', 'image (1406).JPG', 'image (953).JPG', 'image (1393).JPG', 'image (1731).JPG', 'image (732).JPG', 'image (2204).JPG', 'image (498).JPG', 'image (2113).JPG', 'image (1562).JPG', 'image (576).JPG', 'image (872).JPG', 'image (1140).JPG', 'image (2005).JPG', 'image (2120).JPG', 'image (1110).JPG', 'image (1130).JPG', 'image (1999).JPG', 'image (1063).JPG', 'image (855).JPG', 'image (404).JPG', 'image (1087).JPG', 'image (1056).JPG', 'image (519).JPG', 'image (227).JPG', 'image (632).JPG', 'image (2107).JPG', 'image (1383).JPG', 'image (961).JPG', 'image (1451).JPG', 'image (709).JPG', 'image (2148).JPG', 'image (1474).JPG', 'image (1812).JPG', 'image (169).JPG', 'image (1253).JPG', 'image (727).JPG', 'image (1839).JPG', 'image (1454).JPG', 'image (186).JPG', 'image (998).JPG', 'image (1444).JPG', 'image (587).JPG', 'image (1736).JPG', 'image (738).JPG', 'image (1974).JPG', 'image (528).JPG', 'image (683).JPG', 'image (309).JPG', 'image (1368).JPG', 'image (436).JPG', 'image (613).JPG', 'image (1509).JPG', 'image (1516).JPG', 'image (1945).JPG', 'image (1939).JPG', 'image (1656).JPG', 'image (381).JPG', 'image (1728).JPG', 'image (517).JPG', 'image (1319).JPG', 'image (765).JPG', 'image (634).JPG', 'image (1512).JPG', 'image (1022).JPG', 'image (1271).JPG', 'image (1653).JPG', 'image (829).JPG', 'image (2022).JPG', 'image (1638).JPG', 'image (2150).JPG', 'image (856).JPG', 'image (157).JPG', 'image (1347).JPG', 'image (1752).JPG', 'image (2045).JPG', 'image (1305).JPG', 'image (1561).JPG', 'image (801).JPG', 'image (1052).JPG', 'image (1855).JPG', 'image (1456).JPG', 'image (338).JPG', 'image (1166).JPG', 'image (88).JPG', 'image (711).JPG', 'image (214).JPG', 'image (2068).JPG', 'image (1511).JPG', 'image (57).JPG', 'image (1447).JPG', 'image (731).JPG', 'image (1540).JPG', 'image (1674).JPG', 'image (375).JPG', 'image (879).JPG', 'image (139).JPG', 'image (1787).JPG', 'image (129).JPG', 'image (1273).JPG', 'image (128).JPG', 'image (581).JPG', 'image (1245).JPG', 'image (248).JPG', 'image (339).JPG', 'image (2250).JPG', 'image (1026).JPG', 'image (1173).JPG', 'image (1568).JPG', 'image (422).JPG', 'image (910).JPG', 'image (1555).JPG', 'image (68).JPG', 'image (1534).JPG', 'image (39).JPG', 'image (1227).JPG', 'image (609).JPG', 'image (181).JPG', 'image (1018).JPG', 'image (2106).JPG', 'image (876).JPG', 'image (103).JPG', 'image (27).JPG', 'image (271).JPG', 'image (1992).JPG', 'image (510).JPG', 'image (1495).JPG', 'image (2017).JPG', 'image (851).JPG', 'image (1413).JPG', 'image (217).JPG', 'image (1097).JPG', 'image (794).JPG', 'image (113).JPG', 'image (1836).JPG', 'image (1131).JPG', 'image (230).JPG', 'image (1665).JPG', 'image (1720).JPG', 'image (1372).JPG', 'image (225).JPG', 'image (607).JPG', 'image (695).JPG', 'image (544).JPG', 'image (2087).JPG', 'image (717).JPG', 'image (1464).JPG', 'image (937).JPG', 'image (1337).JPG', 'image (1832).JPG', 'image (284).JPG', 'image (183).JPG', 'image (511).JPG', 'image (1381).JPG', 'image (624).JPG', 'image (760).JPG', 'image (1797).JPG', 'image (661).JPG', 'image (1795).JPG', 'image (1636).JPG', 'image (301).JPG', 'image (1722).JPG', 'image (633).JPG', 'image (2055).JPG', 'image (231).JPG', 'image (1450).JPG', 'image (1213).JPG', 'image (1357).JPG', 'image (347).JPG', 'image (999).JPG', 'image (2123).JPG', 'image (2091).JPG', 'image (1479).JPG', 'image (1550).JPG', 'image (110).JPG', 'image (643).JPG', 'image (26).JPG', 'image (1894).JPG', 'image (111).JPG', 'image (48).JPG', 'image (1466).JPG', 'image (1269).JPG', 'image (2238).JPG', 'image (997).JPG', 'image (968).JPG', 'image (1773).JPG', 'image (1113).JPG', 'image (63).JPG', 'image (2127).JPG', 'image (2260).JPG', 'image (2278).JPG', 'image (674).JPG', 'image (2243).JPG', 'image (21).JPG', 'image (659).JPG', 'image (1733).JPG', 'image (920).JPG', 'image (1209).JPG', 'image (1661).JPG', 'image (884).JPG', 'image (713).JPG', 'image (933).JPG', 'image (75).JPG', 'image (454).JPG', 'image (813).JPG', 'image (1963).JPG', 'image (668).JPG', 'image (1477).JPG', 'image (1753).JPG', 'image (25).JPG', 'image (279).JPG', 'image (669).JPG', 'image (574).JPG', 'image (228).JPG', 'image (1825).JPG', 'image (530).JPG', 'image (2109).JPG', 'image (1085).JPG', 'image (2000).JPG', 'image (1932).JPG', 'image (543).JPG', 'image (1144).JPG', 'image (1162).JPG', 'image (1254).JPG', 'image (756).JPG', 'image (1724).JPG', 'image (460).JPG', 'image (680).JPG', 'image (330).JPG', 'image (1957).JPG', 'image (917).JPG', 'image (552).JPG', 'image (429).JPG', 'image (1425).JPG', 'image (800).JPG', 'image (123).JPG', 'image (944).JPG', 'image (2050).JPG', 'image (1322).JPG', 'image (931).JPG', 'image (457).JPG', 'image (1961).JPG', 'image (1178).JPG', 'image (1354).JPG', 'image (1223).JPG', 'image (586).JPG', 'image (963).JPG', 'image (1643).JPG', 'image (1270).JPG', 'image (1686).JPG', 'image (2287).JPG', 'image (2163).JPG', 'image (1905).JPG', 'image (825).JPG', 'image (1871).JPG', 'image (161).JPG', 'image (635).JPG', 'image (1782).JPG', 'image (2077).JPG', 'image (1416).JPG', 'image (1702).JPG', 'image (1672).JPG', 'image (567).JPG', 'image (1255).JPG', 'image (456).JPG', 'image (1138).JPG', 'image (1222).JPG', 'image (1617).JPG', 'image (1070).JPG', 'image (604).JPG', 'image (2146).JPG', 'image (629).JPG', 'image (1862).JPG', 'image (401).JPG', 'image (292).JPG', 'image (1443).JPG', 'image (559).JPG', 'image (61).JPG', 'image (591).JPG', 'image (1331).JPG', 'image (1401).JPG', 'image (1314).JPG', 'image (1542).JPG', 'image (1854).JPG', 'image (363).JPG', 'image (1729).JPG', 'image (2173).JPG', 'image (2051).JPG', 'image (1114).JPG', 'image (761).JPG', 'image (1057).JPG', 'image (1315).JPG', 'image (2125).JPG', 'image (1373).JPG', 'image (2289).JPG', 'image (548).JPG', 'image (2292).JPG', 'image (2222).JPG', 'image (942).JPG', 'image (2172).JPG', 'image (958).JPG', 'image (943).JPG', 'image (2070).JPG', 'image (896).JPG', 'image (2089).JPG', 'image (334).JPG', 'image (1320).JPG', 'image (1437).JPG', 'image (749).JPG', 'image (384).JPG', 'image (289).JPG', 'image (2280).JPG', 'image (2259).JPG', 'image (512).JPG', 'image (207).JPG', 'image (1500).JPG', 'image (1571).JPG', 'image (2203).JPG', 'image (812).JPG', 'image (159).JPG', 'image (1099).JPG', 'image (1106).JPG', 'image (2117).JPG', 'image (1906).JPG', 'image (685).JPG', 'image (1586).JPG', 'image (2118).JPG', 'image (973).JPG', 'image (1912).JPG', 'image (864).JPG', 'image (726).JPG', 'image (1074).JPG', 'image (1376).JPG', 'image (249).JPG', 'image (1887).JPG', 'image (1768).JPG', 'image (878).JPG', 'image (926).JPG', 'image (390).JPG', 'image (1681).JPG', 'image (959).JPG', 'image (196).JPG', 'image (2256).JPG', 'image (906).JPG', 'image (1158).JPG', 'image (2239).JPG', 'image (745).JPG', 'image (65).JPG', 'image (877).JPG', 'image (1496).JPG', 'image (1715).JPG', 'image (1215).JPG', 'image (1754).JPG', 'image (1902).JPG', 'image (1200).JPG', 'image (1917).JPG', 'image (319).JPG', 'image (1853).JPG', 'image (1457).JPG', 'image (1062).JPG', 'image (1186).JPG', 'image (72).JPG', 'image (35).JPG', 'image (1100).JPG', 'image (1850).JPG', 'image (2063).JPG', 'image (118).JPG', 'image (409).JPG', 'image (1721).JPG', 'image (696).JPG', 'image (1249).JPG', 'image (2141).JPG', 'image (105).JPG', 'image (348).JPG', 'image (358).JPG', 'image (1735).JPG', 'image (189).JPG', 'image (1116).JPG', 'image (1058).JPG', 'image (322).JPG', 'image (894).JPG', 'image (502).JPG', 'image (1399).JPG', 'image (282).JPG', 'image (1503).JPG', 'image (1311).JPG', 'image (1400).JPG', 'image (1499).JPG', 'image (1107).JPG', 'image (2276).JPG', 'image (1828).JPG', 'image (1537).JPG', 'image (817).JPG', 'image (1199).JPG', 'image (312).JPG', 'image (1649).JPG', 'image (1618).JPG', 'image (2009).JPG', 'image (147).JPG', 'image (707).JPG', 'image (529).JPG', 'image (144).JPG', 'image (50).JPG', 'image (1669).JPG', 'image (827).JPG', 'image (541).JPG', 'image (2018).JPG', 'image (2270).JPG', 'image (1440).JPG', 'image (1914).JPG', 'image (940).JPG', 'image (163).JPG', 'image (477).JPG', 'image (1290).JPG', 'image (1339).JPG', 'image (1675).JPG', 'image (1558).JPG', 'image (1824).JPG', 'image (772).JPG', 'image (1775).JPG', 'image (70).JPG', 'image (140).JPG', 'image (315).JPG', 'image (1243).JPG', 'image (712).JPG', 'image (1060).JPG', 'image (53).JPG', 'image (146).JPG', 'image (1650).JPG', 'image (406).JPG', 'image (1826).JPG', 'image (1668).JPG', 'image (908).JPG', 'image (673).JPG', 'image (838).JPG', 'image (1498).JPG', 'image (1415).JPG', 'image (1042).JPG', 'image (836).JPG', 'image (1334).JPG', 'image (1307).JPG', 'image (31).JPG', 'image (721).JPG', 'image (1363).JPG', 'image (1552).JPG', 'image (1843).JPG', 'image (2137).JPG', 'image (859).JPG', 'image (832).JPG', 'image (623).JPG', 'image (637).JPG', 'image (1929).JPG', 'image (1257).JPG', 'image (1698).JPG', 'image (1861).JPG', 'image (126).JPG', 'image (2175).JPG', 'image (588).JPG', 'image (1094).JPG', 'image (205).JPG', 'image (1560).JPG', 'image (1146).JPG', 'image (1750).JPG', 'image (246).JPG', 'image (1950).JPG', 'image (1666).JPG', 'image (1188).JPG', 'image (1706).JPG', 'image (2126).JPG', 'image (389).JPG', 'image (1044).JPG', 'image (1248).JPG', 'image (897).JPG', 'image (950).JPG', 'image (125).JPG', 'image (735).JPG', 'image (1611).JPG', 'image (1859).JPG', 'image (2191).JPG', 'image (1163).JPG', 'image (1366).JPG', 'image (1196).JPG', 'image (22).JPG', 'image (1895).JPG', 'image (1033).JPG', 'image (720).JPG', 'image (1187).JPG', 'image (73).JPG', 'image (142).JPG', 'image (900).JPG', 'image (620).JPG', 'image (1427).JPG', 'image (861).JPG', 'image (975).JPG', 'image (1037).JPG', 'image (1301).JPG', 'image (1019).JPG', 'image (2228).JPG', 'image (158).JPG', 'image (742).JPG', 'image (509).JPG', 'image (2010).JPG', 'image (988).JPG', 'image (2066).JPG', 'image (49).JPG', 'image (1652).JPG', 'image (55).JPG', 'image (1247).JPG', 'image (1340).JPG', 'image (1483).JPG', 'image (244).JPG', 'image (495).JPG', 'image (1351).JPG', 'image (472).JPG', 'image (1553).JPG', 'image (601).JPG', 'image (2079).JPG', 'image (763).JPG', 'image (758).JPG', 'image (1572).JPG', 'image (1756).JPG', 'image (2184).JPG', 'image (573).JPG', 'image (299).JPG', 'image (815).JPG', 'image (1781).JPG', 'image (2019).JPG', 'image (1909).JPG', 'image (1704).JPG', 'image (1900).JPG', 'image (2221).JPG', 'image (470).JPG', 'image (1964).JPG', 'image (366).JPG', 'image (2244).JPG', 'image (33).JPG', 'image (662).JPG', 'image (1318).JPG', 'image (499).JPG', 'image (755).JPG', 'image (1313).JPG', 'image (200).JPG', 'image (2205).JPG', 'image (1635).JPG', 'image (1626).JPG', 'image (1285).JPG', 'image (1523).JPG', 'image (887).JPG', 'image (1898).JPG', 'image (540).JPG', 'image (1153).JPG', 'image (1197).JPG', 'image (324).JPG', 'image (1159).JPG', 'image (1448).JPG', 'image (1908).JPG', 'image (1808).JPG', 'image (345).JPG', 'image (868).JPG', 'image (1879).JPG', 'image (513).JPG', 'image (1845).JPG', 'image (2237).JPG', 'image (716).JPG', 'image (1232).JPG', 'image (883).JPG', 'image (539).JPG', 'image (653).JPG', 'image (1591).JPG', 'image (1873).JPG', 'image (1475).JPG', 'image (1857).JPG', 'image (451).JPG', 'image (468).JPG', 'image (2166).JPG', 'image (692).JPG', 'image (1403).JPG', 'image (475).JPG', 'image (1972).JPG', 'image (387).JPG', 'image (54).JPG', 'image (1420).JPG', 'image (670).JPG', 'image (1210).JPG', 'image (1064).JPG', 'image (1581).JPG', 'image (706).JPG', 'image (1453).JPG', 'image (666).JPG', 'image (2100).JPG', 'image (798).JPG', 'image (2098).JPG', 'image (2295).JPG', 'image (2021).JPG', 'image (1046).JPG', 'image (740).JPG', 'image (895).JPG', 'image (127).JPG', 'image (1690).JPG', 'image (273).JPG', 'image (991).JPG', 'image (1069).JPG', 'image (1711).JPG', 'image (1073).JPG', 'image (1918).JPG', 'image (476).JPG', 'image (24).JPG', 'image (1470).JPG', 'image (1182).JPG', 'image (2076).JPG', 'image (1526).JPG', 'image (1032).JPG', 'image (34).JPG', 'image (122).JPG', 'image (2023).JPG', 'image (537).JPG', 'image (1689).JPG', 'image (1221).JPG', 'image (912).JPG', 'image (201).JPG', 'image (570).JPG', 'image (138).JPG', 'image (1283).JPG', 'image (1966).JPG', 'image (1959).JPG', 'image (1459).JPG', 'image (1535).JPG', 'image (1119).JPG', 'image (1118).JPG', 'image (428).JPG', 'image (281).JPG', 'image (1137).JPG', 'image (783).JPG', 'image (154).JPG', 'image (1392).JPG', 'image (1455).JPG', 'image (42).JPG', 'image (2154).JPG', 'image (1559).JPG', 'image (678).JPG', 'image (847).JPG', 'image (1556).JPG', 'image (986).JPG', 'image (538).JPG', 'image (275).JPG', 'image (2124).JPG', 'image (1806).JPG', 'image (934).JPG', 'image (1250).JPG', 'image (1079).JPG', 'image (1517).JPG', 'image (370).JPG', 'image (2003).JPG', 'image (1713).JPG', 'image (1028).JPG', 'image (1276).JPG', 'image (1600).JPG', 'image (921).JPG', 'image (1472).JPG', 'image (1716).JPG', 'image (1463).JPG', 'image (1157).JPG', 'image (1145).JPG', 'image (1597).JPG', 'image (320).JPG', 'image (2257).JPG', 'image (636).JPG', 'image (1524).JPG', 'image (437).JPG', 'image (372).JPG', 'image (269).JPG', 'image (12).JPG', 'image (893).JPG', 'image (92).JPG', 'image (38).JPG', 'image (2099).JPG', 'image (258).JPG', 'image (1924).JPG', 'image (1237).JPG', 'image (830).JPG', 'image (1521).JPG', 'image (1588).JPG', 'image (1546).JPG', 'image (951).JPG', 'image (1482).JPG', 'image (1761).JPG', 'image (572).JPG', 'image (464).JPG', 'image (2254).JPG', 'image (67).JPG', 'image (352).JPG', 'image (532).JPG', 'image (1212).JPG', 'image (1328).JPG', 'image (162).JPG', 'image (274).JPG', 'image (2226).JPG', 'image (1177).JPG', 'image (1080).JPG', 'image (1490).JPG', 'image (938).JPG', 'image (1889).JPG', 'image (1743).JPG', 'image (360).JPG', 'image (1478).JPG', 'image (751).JPG', 'image (1663).JPG', 'image (493).JPG', 'image (1892).JPG', 'image (1360).JPG', 'image (308).JPG', 'image (967).JPG', 'image (941).JPG', 'image (391).JPG', 'image (2082).JPG', 'image (221).JPG', 'image (1996).JPG', 'image (1414).JPG', 'image (947).JPG', 'image (2177).JPG', 'image (1419).JPG', 'image (325).JPG', 'image (2192).JPG', 'image (1846).JPG', 'image (1557).JPG', 'image (1265).JPG', 'image (1010).JPG', 'image (36).JPG', 'image (978).JPG', 'image (1422).JPG', 'image (1202).JPG', 'image (440).JPG', 'image (2207).JPG', 'image (1471).JPG', 'image (1930).JPG', 'image (1757).JPG', 'image (1746).JPG', 'image (799).JPG', 'image (418).JPG', 'image (2161).JPG', 'image (1316).JPG', 'image (1493).JPG', 'image (1632).JPG', 'image (1680).JPG', 'image (290).JPG', 'image (1103).JPG', 'image (255).JPG', 'image (1387).JPG', 'image (736).JPG', 'image (46).JPG', 'image (427).JPG', 'image (1362).JPG', 'image (1573).JPG', 'image (1317).JPG', 'image (1086).JPG', 'image (2297).JPG', 'image (1246).JPG', 'image (734).JPG', 'image (178).JPG', 'image (1071).JPG', 'image (2062).JPG', 'image (638).JPG', 'image (1268).JPG', 'image (1508).JPG', 'image (56).JPG', 'image (1703).JPG', 'image (1749).JPG', 'image (1279).JPG', 'image (1380).JPG', 'image (303).JPG', 'image (698).JPG', 'image (708).JPG', 'image (1701).JPG', 'image (1220).JPG', 'image (2170).JPG', 'image (1343).JPG', 'image (1647).JPG', 'image (71).JPG', 'image (969).JPG', 'image (616).JPG', 'image (385).JPG', 'image (1374).JPG', 'image (780).JPG', 'image (2151).JPG', 'image (1036).JPG', 'image (447).JPG', 'image (589).JPG', 'image (415).JPG', 'image (564).JPG', 'image (1275).JPG', 'image (1156).JPG', 'image (156).JPG', 'image (170).JPG', 'image (1893).JPG', 'image (1365).JPG', 'image (1583).JPG', 'image (1050).JPG', 'image (305).JPG', 'image (1587).JPG', 'image (839).JPG', 'image (1149).JPG', 'image (2216).JPG', 'image (892).JPG', 'image (2185).JPG', 'image (431).JPG', 'image (1051).JPG', 'image (149).JPG', 'image (2271).JPG', 'image (1174).JPG', 'image (2039).JPG', 'image (525).JPG', 'image (1364).JPG', 'image (321).JPG', 'image (136).JPG', 'image (1017).JPG', 'image (1820).JPG', 'image (1192).JPG', 'image (1927).JPG', 'image (675).JPG', 'image (17).JPG', 'image (1089).JPG', 'image (700).JPG', 'image (1310).JPG', 'image (1031).JPG', 'image (190).JPG', 'image (85).JPG', 'image (326).JPG', 'image (2108).JPG', 'image (1325).JPG', 'image (1077).JPG', 'image (1348).JPG']\n",
            "drive/MyDrive/TRAIN/Tomato___Bacterial_spot\n",
            "['image (1613).JPG', 'image (1619).JPG', 'image (1588).JPG', 'image (1177).JPG', 'image (1633).JPG', 'image (170).JPG', 'image (288).JPG', 'image (474).JPG', 'image (1198).JPG', 'image (1039).JPG', 'image (1244).JPG', 'image (808).JPG', 'image (205).JPG', 'image (2013).JPG', 'image (148).JPG', 'image (122).JPG', 'image (80).JPG', 'image (1991).JPG', 'image (362).JPG', 'image (829).JPG', 'image (957).JPG', 'image (931).JPG', 'image (374).JPG', 'image (309).JPG', 'image (74).JPG', 'image (391).JPG', 'image (185).JPG', 'image (1885).JPG', 'image (1211).JPG', 'image (879).JPG', 'image (1287).JPG', 'image (1587).JPG', 'image (12).JPG', 'image (1896).JPG', 'image (1632).JPG', 'image (1886).JPG', 'image (1171).JPG', 'image (1201).JPG', 'image (1743).JPG', 'image (1498).JPG', 'image (794).JPG', 'image (1406).JPG', 'image (1580).JPG', 'image (100).JPG', 'image (1217).JPG', 'image (912).JPG', 'image (1922).JPG', 'image (639).JPG', 'image (1894).JPG', 'image (522).JPG', 'image (724).JPG', 'image (581).JPG', 'image (77).JPG', 'image (1012).JPG', 'image (1504).JPG', 'image (737).JPG', 'image (1944).JPG', 'image (1642).JPG', 'image (1450).JPG', 'image (1772).JPG', 'image (683).JPG', 'image (76).JPG', 'image (516).JPG', 'image (125).JPG', 'image (1451).JPG', 'image (29).JPG', 'image (2032).JPG', 'image (1422).JPG', 'image (1930).JPG', 'image (2072).JPG', 'image (435).JPG', 'image (1280).JPG', 'image (1649).JPG', 'image (306).JPG', 'image (948).JPG', 'image (512).JPG', 'image (1117).JPG', 'image (138).JPG', 'image (387).JPG', 'image (1083).JPG', 'image (1304).JPG', 'image (806).JPG', 'image (356).JPG', 'image (1093).JPG', 'image (1207).JPG', 'image (420).JPG', 'image (656).JPG', 'image (181).JPG', 'image (1054).JPG', 'image (1275).JPG', 'image (933).JPG', 'image (1760).JPG', 'image (16).JPG', 'image (1816).JPG', 'image (1404).JPG', 'image (1136).JPG', 'image (726).JPG', 'image (671).JPG', 'image (1846).JPG', 'image (2074).JPG', 'image (1736).JPG', 'image (687).JPG', 'image (758).JPG', 'image (1115).JPG', 'image (1320).JPG', 'image (851).JPG', 'image (1982).JPG', 'image (1917).JPG', 'image (1302).JPG', 'image (462).JPG', 'image (1151).JPG', 'image (2104).JPG', 'image (915).JPG', 'image (473).JPG', 'image (1347).JPG', 'image (610).JPG', 'image (544).JPG', 'image (1724).JPG', 'image (1169).JPG', 'image (1541).JPG', 'image (1717).JPG', 'image (1399).JPG', 'image (1276).JPG', 'image (555).JPG', 'image (479).JPG', 'image (1731).JPG', 'image (629).JPG', 'image (736).JPG', 'image (1880).JPG', 'image (884).JPG', 'image (1096).JPG', 'image (1523).JPG', 'image (914).JPG', 'image (809).JPG', 'image (1298).JPG', 'image (1266).JPG', 'image (579).JPG', 'image (1370).JPG', 'image (1857).JPG', 'image (560).JPG', 'image (1357).JPG', 'image (1189).JPG', 'image (52).JPG', 'image (1694).JPG', 'image (1006).JPG', 'image (1639).JPG', 'image (1019).JPG', 'image (1061).JPG', 'image (1981).JPG', 'image (1547).JPG', 'image (249).JPG', 'image (1444).JPG', 'image (800).JPG', 'image (32).JPG', 'image (1781).JPG', 'image (128).JPG', 'image (573).JPG', 'image (1536).JPG', 'image (1753).JPG', 'image (1359).JPG', 'image (1187).JPG', 'image (944).JPG', 'image (1354).JPG', 'image (1799).JPG', 'image (2011).JPG', 'image (1938).JPG', 'image (1481).JPG', 'image (1514).JPG', 'image (2105).JPG', 'image (768).JPG', 'image (1345).JPG', 'image (1569).JPG', 'image (418).JPG', 'image (885).JPG', 'image (1229).JPG', 'image (1030).JPG', 'image (645).JPG', 'image (1265).JPG', 'image (1647).JPG', 'image (538).JPG', 'image (570).JPG', 'image (769).JPG', 'image (1945).JPG', 'image (789).JPG', 'image (2082).JPG', 'image (375).JPG', 'image (1984).JPG', 'image (759).JPG', 'image (1986).JPG', 'image (2005).JPG', 'image (989).JPG', 'image (888).JPG', 'image (1782).JPG', 'image (55).JPG', 'image (1494).JPG', 'image (1005).JPG', 'image (1311).JPG', 'image (368).JPG', 'image (228).JPG', 'image (332).JPG', 'image (347).JPG', 'image (510).JPG', 'image (1913).JPG', 'image (1630).JPG', 'image (1355).JPG', 'image (1906).JPG', 'image (825).JPG', 'image (1409).JPG', 'image (2106).JPG', 'image (982).JPG', 'image (1479).JPG', 'image (2127).JPG', 'image (69).JPG', 'image (1327).JPG', 'image (2100).JPG', 'image (1179).JPG', 'image (796).JPG', 'image (1564).JPG', 'image (222).JPG', 'image (729).JPG', 'image (987).JPG', 'image (1749).JPG', 'image (1562).JPG', 'image (1492).JPG', 'image (658).JPG', 'image (1131).JPG', 'image (943).JPG', 'image (601).JPG', 'image (588).JPG', 'image (268).JPG', 'image (776).JPG', 'image (1278).JPG', 'image (1845).JPG', 'image (1192).JPG', 'image (1863).JPG', 'image (1239).JPG', 'image (1393).JPG', 'image (2050).JPG', 'image (876).JPG', 'image (175).JPG', 'image (678).JPG', 'image (22).JPG', 'image (1841).JPG', 'image (681).JPG', 'image (1292).JPG', 'image (1677).JPG', 'image (1742).JPG', 'image (580).JPG', 'image (902).JPG', 'image (1475).JPG', 'image (927).JPG', 'image (1286).JPG', 'image (1023).JPG', 'image (2048).JPG', 'image (699).JPG', 'image (158).JPG', 'image (1082).JPG', 'image (1720).JPG', 'image (1125).JPG', 'image (1517).JPG', 'image (919).JPG', 'image (1079).JPG', 'image (393).JPG', 'image (28).JPG', 'image (515).JPG', 'image (1423).JPG', 'image (187).JPG', 'image (361).JPG', 'image (1997).JPG', 'image (1437).JPG', 'image (1122).JPG', 'image (1590).JPG', 'image (1088).JPG', 'image (587).JPG', 'image (1876).JPG', 'image (1120).JPG', 'image (407).JPG', 'image (799).JPG', 'image (640).JPG', 'image (1282).JPG', 'image (376).JPG', 'image (343).JPG', 'image (2111).JPG', 'image (1116).JPG', 'image (1683).JPG', 'image (574).JPG', 'image (133).JPG', 'image (1623).JPG', 'image (743).JPG', 'image (97).JPG', 'image (312).JPG', 'image (1790).JPG', 'image (453).JPG', 'image (1658).JPG', 'image (1040).JPG', 'image (1888).JPG', 'image (402).JPG', 'image (1690).JPG', 'image (112).JPG', 'image (478).JPG', 'image (1317).JPG', 'image (1545).JPG', 'image (23).JPG', 'image (1554).JPG', 'image (605).JPG', 'image (684).JPG', 'image (274).JPG', 'image (1568).JPG', 'image (1338).JPG', 'image (1102).JPG', 'image (2081).JPG', 'image (416).JPG', 'image (1773).JPG', 'image (1730).JPG', 'image (617).JPG', 'image (243).JPG', 'image (310).JPG', 'image (1926).JPG', 'image (1853).JPG', 'image (718).JPG', 'image (923).JPG', 'image (1821).JPG', 'image (1457).JPG', 'image (1245).JPG', 'image (1105).JPG', 'image (1303).JPG', 'image (774).JPG', 'image (223).JPG', 'image (1796).JPG', 'image (680).JPG', 'image (444).JPG', 'image (606).JPG', 'image (1402).JPG', 'image (92).JPG', 'image (162).JPG', 'image (1175).JPG', 'image (1518).JPG', 'image (2043).JPG', 'image (1044).JPG', 'image (50).JPG', 'image (1560).JPG', 'image (547).JPG', 'image (550).JPG', 'image (1786).JPG', 'image (955).JPG', 'image (907).JPG', 'image (2070).JPG', 'image (841).JPG', 'image (1063).JPG', 'image (2018).JPG', 'image (217).JPG', 'image (1134).JPG', 'image (816).JPG', 'image (757).JPG', 'image (1901).JPG', 'image (1609).JPG', 'image (260).JPG', 'image (965).JPG', 'image (1936).JPG', 'image (1815).JPG', 'image (1330).JPG', 'image (632).JPG', 'image (961).JPG', 'image (624).JPG', 'image (381).JPG', 'image (1929).JPG', 'image (1531).JPG', 'image (13).JPG', 'image (1277).JPG', 'image (676).JPG', 'image (67).JPG', 'image (2002).JPG', 'image (1371).JPG', 'image (380).JPG', 'image (1173).JPG', 'image (935).JPG', 'image (1826).JPG', 'image (1384).JPG', 'image (1375).JPG', 'image (1744).JPG', 'image (1109).JPG', 'image (1489).JPG', 'image (235).JPG', 'image (901).JPG', 'image (1381).JPG', 'image (897).JPG', 'image (921).JPG', 'image (1955).JPG', 'image (1875).JPG', 'image (245).JPG', 'image (2010).JPG', 'image (1197).JPG', 'image (960).JPG', 'image (524).JPG', 'image (1993).JPG', 'image (1653).JPG', 'image (1243).JPG', 'image (1496).JPG', 'image (1748).JPG', 'image (1365).JPG', 'image (105).JPG', 'image (1257).JPG', 'image (667).JPG', 'image (1883).JPG', 'image (1767).JPG', 'image (932).JPG', 'image (791).JPG', 'image (1995).JPG', 'image (1025).JPG', 'image (572).JPG', 'image (236).JPG', 'image (1312).JPG', 'image (1288).JPG', 'image (73).JPG', 'image (216).JPG', 'image (650).JPG', 'image (459).JPG', 'image (476).JPG', 'image (1181).JPG', 'image (1734).JPG', 'image (99).JPG', 'image (1641).JPG', 'image (966).JPG', 'image (1075).JPG', 'image (1674).JPG', 'image (102).JPG', 'image (1027).JPG', 'image (465).JPG', 'image (345).JPG', 'image (994).JPG', 'image (708).JPG', 'image (211).JPG', 'image (509).JPG', 'image (1512).JPG', 'image (896).JPG', 'image (787).JPG', 'image (2052).JPG', 'image (691).JPG', 'image (1551).JPG', 'image (401).JPG', 'image (199).JPG', 'image (1854).JPG', 'image (664).JPG', 'image (1232).JPG', 'image (1041).JPG', 'image (1699).JPG', 'image (596).JPG', 'image (1305).JPG', 'image (956).JPG', 'image (527).JPG', 'image (1769).JPG', 'image (533).JPG', 'image (979).JPG', 'image (160).JPG', 'image (106).JPG', 'image (1671).JPG', 'image (2044).JPG', 'image (206).JPG', 'image (390).JPG', 'image (899).JPG', 'image (1721).JPG', 'image (126).JPG', 'image (1038).JPG', 'image (2037).JPG', 'image (741).JPG', 'image (1557).JPG', 'image (995).JPG', 'image (1158).JPG', 'image (890).JPG', 'image (1449).JPG', 'image (1890).JPG', 'image (180).JPG', 'image (2076).JPG', 'image (1337).JPG', 'image (731).JPG', 'image (589).JPG', 'image (649).JPG', 'image (1268).JPG', 'image (348).JPG', 'image (1186).JPG', 'image (1869).JPG', 'image (201).JPG', 'image (993).JPG', 'image (325).JPG', 'image (230).JPG', 'image (1110).JPG', 'image (144).JPG', 'image (1807).JPG', 'image (1548).JPG', 'image (528).JPG', 'image (1290).JPG', 'image (1164).JPG', 'image (752).JPG', 'image (246).JPG', 'image (928).JPG', 'image (1706).JPG', 'image (1711).JPG', 'image (2057).JPG', 'image (282).JPG', 'image (1464).JPG', 'image (564).JPG', 'image (1028).JPG', 'image (1768).JPG', 'image (1840).JPG', 'image (412).JPG', 'image (1491).JPG', 'image (1549).JPG', 'image (1335).JPG', 'image (2027).JPG', 'image (255).JPG', 'image (1391).JPG', 'image (1680).JPG', 'image (1172).JPG', 'image (1112).JPG', 'image (1935).JPG', 'image (1904).JPG', 'image (234).JPG', 'image (351).JPG', 'image (1607).JPG', 'image (1478).JPG', 'image (434).JPG', 'image (1323).JPG', 'image (863).JPG', 'image (445).JPG', 'image (1448).JPG', 'image (946).JPG', 'image (164).JPG', 'image (1196).JPG', 'image (1701).JPG', 'image (798).JPG', 'image (171).JPG', 'image (1810).JPG', 'image (1712).JPG', 'image (202).JPG', 'image (1684).JPG', 'image (1595).JPG', 'image (1428).JPG', 'image (174).JPG', 'image (177).JPG', 'image (1739).JPG', 'image (1655).JPG', 'image (1170).JPG', 'image (941).JPG', 'image (270).JPG', 'image (1182).JPG', 'image (1452).JPG', 'image (1191).JPG', 'image (1477).JPG', 'image (1528).JPG', 'image (1146).JPG', 'image (2007).JPG', 'image (446).JPG', 'image (2116).JPG', 'image (1952).JPG', 'image (2039).JPG', 'image (1696).JPG', 'image (831).JPG', 'image (1648).JPG', 'image (2115).JPG', 'image (1326).JPG', 'image (263).JPG', 'image (1765).JPG', 'image (1735).JPG', 'image (1757).JPG', 'image (735).JPG', 'image (1074).JPG', 'image (414).JPG', 'image (1707).JPG', 'image (764).JPG', 'image (988).JPG', 'image (114).JPG', 'image (1820).JPG', 'image (922).JPG', 'image (220).JPG', 'image (19).JPG', 'image (340).JPG', 'image (786).JPG', 'image (331).JPG', 'image (1919).JPG', 'image (14).JPG', 'image (363).JPG', 'image (488).JPG', 'image (1829).JPG', 'image (1596).JPG', 'image (1316).JPG', 'image (1285).JPG', 'image (556).JPG', 'image (972).JPG', 'image (316).JPG', 'image (1296).JPG', 'image (648).JPG', 'image (1254).JPG', 'image (1174).JPG', 'image (1129).JPG', 'image (719).JPG', 'image (1909).JPG', 'image (1400).JPG', 'image (849).JPG', 'image (558).JPG', 'image (1465).JPG', 'image (1185).JPG', 'image (2112).JPG', 'image (642).JPG', 'image (2051).JPG', 'image (1138).JPG', 'image (1271).JPG', 'image (1968).JPG', 'image (70).JPG', 'image (142).JPG', 'image (1859).JPG', 'image (1482).JPG', 'image (868).JPG', 'image (38).JPG', 'image (666).JPG', 'image (1440).JPG', 'image (1567).JPG', 'image (525).JPG', 'image (604).JPG', 'image (1499).JPG', 'image (1974).JPG', 'image (1510).JPG', 'image (739).JPG', 'image (9).JPG', 'image (1084).JPG', 'image (2107).JPG', 'image (599).JPG', 'image (1035).JPG', 'image (49).JPG', 'image (289).JPG', 'image (1538).JPG', 'image (2088).JPG', 'image (597).JPG', 'image (463).JPG', 'image (869).JPG', 'image (761).JPG', 'image (403).JPG', 'image (1795).JPG', 'image (2114).JPG', 'image (762).JPG', 'image (1279).JPG', 'image (1571).JPG', 'image (866).JPG', 'image (1585).JPG', 'image (615).JPG', 'image (1785).JPG', 'image (64).JPG', 'image (567).JPG', 'image (1598).JPG', 'image (1313).JPG', 'image (973).JPG', 'image (1971).JPG', 'image (563).JPG', 'image (1284).JPG', 'image (1459).JPG', 'image (1833).JPG', 'image (124).JPG', 'image (1582).JPG', 'image (698).JPG', 'image (1434).JPG', 'image (1849).JPG', 'image (1589).JPG', 'image (813).JPG', 'image (958).JPG', 'image (458).JPG', 'image (2120).JPG', 'image (1427).JPG', 'image (1740).JPG', 'image (1947).JPG', 'image (1405).JPG', 'image (665).JPG', 'image (1599).JPG', 'image (1738).JPG', 'image (1524).JPG', 'image (1570).JPG', 'image (1977).JPG', 'image (1213).JPG', 'image (920).JPG', 'image (396).JPG', 'image (844).JPG', 'image (143).JPG', 'image (33).JPG', 'image (962).JPG', 'image (2125).JPG', 'image (1060).JPG', 'image (1629).JPG', 'image (2097).JPG', 'image (1133).JPG', 'image (2109).JPG', 'image (1379).JPG', 'image (591).JPG', 'image (1575).JPG', 'image (1237).JPG', 'image (1072).JPG', 'image (1417).JPG', 'image (1882).JPG', 'image (1130).JPG', 'image (746).JPG', 'image (1199).JPG', 'image (248).JPG', 'image (492).JPG', 'image (440).JPG', 'image (1502).JPG', 'image (1505).JPG', 'image (1728).JPG', 'image (1259).JPG', 'image (31).JPG', 'image (767).JPG', 'image (540).JPG', 'image (229).JPG', 'image (1634).JPG', 'image (448).JPG', 'image (467).JPG', 'image (8).JPG', 'image (2053).JPG', 'image (830).JPG', 'image (734).JPG', 'image (1026).JPG', 'image (1708).JPG', 'image (240).JPG', 'image (748).JPG', 'image (344).JPG', 'image (2078).JPG', 'image (1095).JPG', 'image (1999).JPG', 'image (1756).JPG', 'image (1661).JPG', 'image (1024).JPG', 'image (1719).JPG', 'image (1490).JPG', 'image (1990).JPG', 'image (1415).JPG', 'image (484).JPG', 'image (194).JPG', 'image (1858).JPG', 'image (415).JPG', 'image (513).JPG', 'image (638).JPG', 'image (1685).JPG', 'image (985).JPG', 'image (1843).JPG', 'image (1703).JPG', 'image (1793).JPG', 'image (1403).JPG', 'image (1385).JPG', 'image (1314).JPG', 'image (108).JPG', 'image (1823).JPG', 'image (1659).JPG', 'image (1566).JPG', 'image (1561).JPG', 'image (1667).JPG', 'image (536).JPG', 'image (1789).JPG', 'image (877).JPG', 'image (189).JPG', 'image (858).JPG', 'image (1586).JPG', 'image (1645).JPG', 'image (53).JPG', 'image (304).JPG', 'image (795).JPG', 'image (496).JPG', 'image (44).JPG', 'image (59).JPG', 'image (1939).JPG', 'image (1714).JPG', 'image (1535).JPG', 'image (1980).JPG', 'image (898).JPG', 'image (1104).JPG', 'image (455).JPG', 'image (1362).JPG', 'image (1015).JPG', 'image (880).JPG', 'image (1252).JPG', 'image (1527).JPG', 'image (1911).JPG', 'image (1522).JPG', 'image (1166).JPG', 'image (1804).JPG', 'image (335).JPG', 'image (846).JPG', 'image (1439).JPG', 'image (971).JPG', 'image (1831).JPG', 'image (974).JPG', 'image (81).JPG', 'image (1036).JPG', 'image (219).JPG', 'image (239).JPG', 'image (457).JPG', 'image (383).JPG', 'image (1698).JPG', 'image (977).JPG', 'image (760).JPG', 'image (1215).JPG', 'image (2061).JPG', 'image (168).JPG', 'image (1295).JPG', 'image (804).JPG', 'image (1).JPG', 'image (87).JPG', 'image (355).JPG', 'image (873).JPG', 'image (853).JPG', 'image (1078).JPG', 'image (1958).JPG', 'image (593).JPG', 'image (2091).JPG', 'image (1825).JPG', 'image (1542).JPG', 'image (518).JPG', 'image (1597).JPG', 'image (1056).JPG', 'image (602).JPG', 'image (1309).JPG', 'image (264).JPG', 'image (307).JPG', 'image (145).JPG', 'image (1062).JPG', 'image (1121).JPG', 'image (1657).JPG', 'image (592).JPG', 'image (266).JPG', 'image (1771).JPG', 'image (1085).JPG', 'image (60).JPG', 'image (930).JPG', 'image (1905).JPG', 'image (1687).JPG', 'image (460).JPG', 'image (1660).JPG', 'image (1923).JPG', 'image (1242).JPG', 'image (482).JPG', 'image (900).JPG', 'image (1392).JPG', 'image (84).JPG', 'image (193).JPG', 'image (712).JPG', 'image (295).JPG', 'image (612).JPG', 'image (1788).JPG', 'image (1921).JPG', 'image (672).JPG', 'image (1348).JPG', 'image (1119).JPG', 'image (1077).JPG', 'image (1351).JPG', 'image (179).JPG', 'image (1794).JPG', 'image (2054).JPG', 'image (1251).JPG', 'image (365).JPG', 'image (1508).JPG', 'image (502).JPG', 'image (422).JPG', 'image (2028).JPG', 'image (2079).JPG', 'image (908).JPG', 'image (1811).JPG', 'image (1515).JPG', 'image (334).JPG', 'image (238).JPG', 'image (1222).JPG', 'image (2025).JPG', 'image (1472).JPG', 'image (753).JPG', 'image (1802).JPG', 'image (27).JPG', 'image (1778).JPG', 'image (1034).JPG', 'image (1228).JPG', 'image (856).JPG', 'image (129).JPG', 'image (1401).JPG', 'image (838).JPG', 'image (551).JPG', 'image (1663).JPG', 'image (1234).JPG', 'image (497).JPG', 'image (1836).JPG', 'image (503).JPG', 'image (1395).JPG', 'image (690).JPG', 'image (1139).JPG', 'image (1916).JPG', 'image (1318).JPG', 'image (882).JPG', 'image (519).JPG', 'image (1822).JPG', 'image (999).JPG', 'image (926).JPG', 'image (1809).JPG', 'image (1124).JPG', 'image (1572).JPG', 'image (1390).JPG', 'image (417).JPG', 'image (2012).JPG', 'image (725).JPG', 'image (819).JPG', 'image (1915).JPG', 'image (1485).JPG', 'image (668).JPG', 'image (1307).JPG', 'image (186).JPG', 'image (1332).JPG', 'image (554).JPG', 'image (1374).JPG', 'image (1424).JPG', 'image (1388).JPG', 'image (860).JPG', 'image (1037).JPG', 'image (1224).JPG', 'image (628).JPG', 'image (242).JPG', 'image (772).JPG', 'image (200).JPG', 'image (1246).JPG', 'image (568).JPG', 'image (2023).JPG', 'image (1380).JPG', 'image (947).JPG', 'image (1635).JPG', 'image (1361).JPG', 'image (1903).JPG', 'image (1953).JPG', 'image (1654).JPG', 'image (1948).JPG', 'image (1493).JPG', 'image (1543).JPG', 'image (2075).JPG', 'image (670).JPG', 'image (1297).JPG', 'image (25).JPG', 'image (517).JPG', 'image (1256).JPG', 'image (176).JPG', 'image (511).JPG', 'image (117).JPG', 'image (359).JPG', 'image (1301).JPG', 'image (1149).JPG', 'image (1967).JPG', 'image (1675).JPG', 'image (82).JPG', 'image (1293).JPG', 'image (281).JPG', 'image (1067).JPG', 'image (1340).JPG', 'image (893).JPG', 'image (48).JPG', 'image (113).JPG', 'image (409).JPG', 'image (140).JPG', 'image (750).JPG', 'image (686).JPG', 'image (1710).JPG', 'image (1011).JPG', 'image (1144).JPG', 'image (1270).JPG', 'image (1583).JPG', 'image (342).JPG', 'image (137).JPG', 'image (954).JPG', 'image (1819).JPG', 'image (329).JPG', 'image (1525).JPG', 'image (1862).JPG', 'image (1503).JPG', 'image (1383).JPG', 'image (58).JPG', 'image (232).JPG', 'image (2117).JPG', 'image (1219).JPG', 'image (862).JPG', 'image (674).JPG', 'image (1441).JPG', 'image (1299).JPG', 'image (1805).JPG', 'image (56).JPG', 'image (1844).JPG', 'image (389).JPG', 'image (203).JPG', 'image (530).JPG', 'image (1603).JPG', 'image (1873).JPG', 'image (1631).JPG', 'image (1339).JPG', 'image (952).JPG', 'image (1046).JPG', 'image (651).JPG', 'image (1410).JPG', 'image (1937).JPG', 'image (864).JPG', 'image (1691).JPG', 'image (79).JPG', 'image (1154).JPG', 'image (1553).JPG', 'image (2029).JPG', 'image (653).JPG', 'image (803).JPG', 'image (410).JPG', 'image (778).JPG', 'image (2103).JPG', 'image (938).JPG', 'image (494).JPG', 'image (1928).JPG', 'image (1792).JPG', 'image (398).JPG', 'image (1604).JPG', 'image (427).JPG', 'image (1022).JPG', 'image (2030).JPG', 'image (107).JPG', 'image (95).JPG', 'image (1325).JPG', 'image (42).JPG', 'image (2087).JPG', 'image (1226).JPG', 'image (285).JPG', 'image (178).JPG', 'image (161).JPG', 'image (1615).JPG', 'image (2096).JPG', 'image (709).JPG', 'image (976).JPG', 'image (498).JPG', 'image (2056).JPG', 'image (1507).JPG', 'image (848).JPG', 'image (71).JPG', 'image (904).JPG', 'image (421).JPG', 'image (909).JPG', 'image (953).JPG', 'image (35).JPG', 'image (197).JPG', 'image (694).JPG', 'image (75).JPG', 'image (436).JPG', 'image (36).JPG', 'image (781).JPG', 'image (1975).JPG', 'image (529).JPG', 'image (2).JPG', 'image (319).JPG', 'image (1342).JPG', 'image (1064).JPG', 'image (756).JPG', 'image (1741).JPG', 'image (1031).JPG', 'image (742).JPG', 'image (998).JPG', 'image (728).JPG', 'image (1972).JPG', 'image (1798).JPG', 'image (621).JPG', 'image (1467).JPG', 'image (745).JPG', 'image (1055).JPG', 'image (2034).JPG', 'image (1509).JPG', 'image (480).JPG', 'image (1454).JPG', 'image (780).JPG', 'image (86).JPG', 'image (1160).JPG', 'image (1864).JPG', 'image (702).JPG', 'image (461).JPG', 'image (490).JPG', 'image (90).JPG', 'image (1784).JPG', 'image (321).JPG', 'image (788).JPG', 'image (1902).JPG', 'image (1200).JPG', 'image (1249).JPG', 'image (1591).JPG', 'image (1206).JPG', 'image (1830).JPG', 'image (843).JPG', 'image (1421).JPG', 'image (251).JPG', 'image (441).JPG', 'image (2001).JPG', 'image (2119).JPG', 'image (1412).JPG', 'image (906).JPG', 'image (198).JPG', 'image (1774).JPG', 'image (1665).JPG', 'image (314).JPG', 'image (1960).JPG', 'image (1856).JPG', 'image (208).JPG', 'image (1291).JPG', 'image (861).JPG', 'image (1624).JPG', 'image (296).JPG', 'image (471).JPG', 'image (333).JPG', 'image (1951).JPG', 'image (1652).JPG', 'image (1432).JPG', 'image (714).JPG', 'image (1989).JPG', 'image (370).JPG', 'image (131).JPG', 'image (1484).JPG', 'image (1132).JPG', 'image (1018).JPG', 'image (1378).JPG', 'image (1983).JPG', 'image (2126).JPG', 'image (1029).JPG', 'image (1994).JPG', 'image (887).JPG', 'image (2099).JPG', 'image (1556).JPG', 'image (118).JPG', 'image (1360).JPG', 'image (267).JPG', 'image (1140).JPG', 'image (132).JPG', 'image (253).JPG', 'image (116).JPG', 'image (1108).JPG', 'image (1431).JPG', 'image (1135).JPG', 'image (371).JPG', 'image (916).JPG', 'image (2092).JPG', 'image (1763).JPG', 'image (43).JPG', 'image (1090).JPG', 'image (1726).JPG', 'image (341).JPG', 'image (1666).JPG', 'image (842).JPG', 'image (586).JPG', 'image (1010).JPG', 'image (992).JPG', 'image (1253).JPG', 'image (1386).JPG', 'image (231).JPG', 'image (1262).JPG', 'image (1806).JPG', 'image (188).JPG', 'image (1190).JPG', 'image (26).JPG', 'image (1240).JPG', 'image (2006).JPG', 'image (1881).JPG', 'image (929).JPG', 'image (3).JPG', 'image (358).JPG', 'image (1520).JPG', 'image (2026).JPG', 'image (1107).JPG', 'image (1682).JPG', 'image (328).JPG', 'image (493).JPG', 'image (722).JPG', 'image (1194).JPG', 'image (939).JPG', 'image (1473).JPG', 'image (1331).JPG', 'image (951).JPG', 'image (1837).JPG', 'image (366).JPG', 'image (1076).JPG', 'image (1163).JPG', 'image (773).JPG', 'image (963).JPG', 'image (1147).JPG', 'image (2016).JPG', 'image (616).JPG', 'image (2003).JPG', 'image (1861).JPG', 'image (981).JPG', 'image (2121).JPG', 'image (207).JPG', 'image (1042).JPG', 'image (1594).JPG', 'image (1817).JPG', 'image (717).JPG', 'image (630).JPG', 'image (1978).JPG', 'image (432).JPG', 'image (1080).JPG', 'image (713).JPG', 'image (1111).JPG', 'image (1315).JPG', 'image (1456).JPG', 'image (1950).JPG', 'image (1425).JPG', 'image (1870).JPG', 'image (1426).JPG', 'image (710).JPG', 'image (945).JPG', 'image (1540).JPG', 'image (1435).JPG', 'image (633).JPG', 'image (385).JPG', 'image (286).JPG', 'image (1530).JPG', 'image (411).JPG', 'image (1705).JPG', 'image (2065).JPG', 'image (647).JPG', 'image (1248).JPG', 'image (2124).JPG', 'image (1203).JPG', 'image (644).JPG', 'image (218).JPG', 'image (1205).JPG', 'image (1127).JPG', 'image (679).JPG', 'image (1715).JPG', 'image (1581).JPG', 'image (1941).JPG', 'image (379).JPG', 'image (1578).JPG', 'image (834).JPG', 'image (763).JPG', 'image (397).JPG', 'image (1956).JPG', 'image (2045).JPG', 'image (101).JPG', 'image (1914).JPG', 'image (78).JPG', 'image (815).JPG', 'image (294).JPG', 'image (1204).JPG', 'image (472).JPG', 'image (1752).JPG', 'image (1321).JPG', 'image (93).JPG', 'image (881).JPG', 'image (1910).JPG', 'image (584).JPG', 'image (1924).JPG', 'image (911).JPG', 'image (419).JPG', 'image (625).JPG', 'image (10).JPG', 'image (1137).JPG', 'image (172).JPG', 'image (192).JPG', 'image (123).JPG', 'image (275).JPG', 'image (2090).JPG', 'image (1963).JPG', 'image (627).JPG', 'image (284).JPG', 'image (828).JPG', 'image (1867).JPG', 'image (83).JPG', 'image (1872).JPG', 'image (173).JPG', 'image (1747).JPG', 'image (1069).JPG', 'image (2077).JPG', 'image (811).JPG', 'image (1216).JPG', 'image (1912).JPG', 'image (350).JPG', 'image (613).JPG', 'image (30).JPG', 'image (918).JPG', 'image (487).JPG', 'image (1397).JPG', 'image (408).JPG', 'image (68).JPG', 'image (1998).JPG', 'image (1118).JPG', 'image (499).JPG', 'image (2019).JPG', 'image (1558).JPG', 'image (196).JPG', 'image (4).JPG', 'image (226).JPG', 'image (1004).JPG', 'image (833).JPG', 'image (489).JPG', 'image (1264).JPG', 'image (413).JPG', 'image (428).JPG', 'image (166).JPG', 'image (784).JPG', 'image (1209).JPG', 'image (883).JPG', 'image (1593).JPG', 'image (311).JPG', 'image (1218).JPG', 'image (45).JPG', 'image (1511).JPG', 'image (2086).JPG', 'image (1838).JPG', 'image (1341).JPG', 'image (704).JPG', 'image (1155).JPG', 'image (840).JPG', 'image (424).JPG', 'image (1584).JPG', 'image (1068).JPG', 'image (821).JPG', 'image (1889).JPG', 'image (715).JPG', 'image (997).JPG', 'image (1358).JPG', 'image (2093).JPG', 'image (903).JPG', 'image (1387).JPG', 'image (1089).JPG', 'image (353).JPG', 'image (1328).JPG', 'image (1988).JPG', 'image (1053).JPG', 'image (372).JPG', 'image (1152).JPG', 'image (1755).JPG', 'image (298).JPG', 'image (2041).JPG', 'image (364).JPG', 'image (520).JPG', 'image (1874).JPG', 'image (1534).JPG', 'image (1032).JPG', 'image (214).JPG', 'image (37).JPG', 'image (839).JPG', 'image (801).JPG', 'image (805).JPG', 'image (1692).JPG', 'image (1373).JPG', 'image (1573).JPG', 'image (1942).JPG', 'image (859).JPG', 'image (1779).JPG', 'image (1223).JPG', 'image (495).JPG', 'image (1433).JPG', 'image (1407).JPG', 'image (330).JPG', 'image (1800).JPG', 'image (1123).JPG', 'image (2021).JPG', 'image (1689).JPG', 'image (730).JPG', 'image (91).JPG', 'image (936).JPG', 'image (262).JPG', 'image (1606).JPG', 'image (1273).JPG', 'image (765).JPG', 'image (1065).JPG', 'image (646).JPG', 'image (1925).JPG', 'image (521).JPG', 'image (1057).JPG', 'image (984).JPG', 'image (1396).JPG', 'image (437).JPG', 'image (388).JPG', 'image (346).JPG', 'image (1210).JPG', 'image (269).JPG', 'image (1366).JPG', 'image (549).JPG', 'image (561).JPG', 'image (720).JPG', 'image (1350).JPG', 'image (85).JPG', 'image (949).JPG', 'image (1877).JPG', 'image (659).JPG', 'image (1462).JPG', 'image (349).JPG', 'image (233).JPG', 'image (783).JPG', 'image (1007).JPG', 'image (504).JPG', 'image (1927).JPG', 'image (384).JPG', 'image (1272).JPG', 'image (447).JPG', 'image (1442).JPG', 'image (619).JPG', 'image (1269).JPG', 'image (1605).JPG', 'image (983).JPG', 'image (1681).JPG', 'image (1227).JPG', 'image (1754).JPG', 'image (167).JPG', 'image (1732).JPG', 'image (654).JPG', 'image (337).JPG', 'image (727).JPG', 'image (1813).JPG', 'image (1000).JPG', 'image (1364).JPG', 'image (967).JPG', 'image (1071).JPG', 'image (1258).JPG', 'image (378).JPG', 'image (817).JPG', 'image (1764).JPG', 'image (1145).JPG', 'image (802).JPG', 'image (301).JPG', 'image (751).JPG', 'image (1446).JPG', 'image (785).JPG', 'image (771).JPG', 'image (1455).JPG', 'image (823).JPG', 'image (1897).JPG', 'image (352).JPG', 'image (1100).JPG', 'image (1521).JPG', 'image (452).JPG', 'image (1612).JPG', 'image (1310).JPG', 'image (318).JPG', 'image (1214).JPG', 'image (1668).JPG', 'image (910).JPG', 'image (1238).JPG', 'image (1725).JPG', 'image (822).JPG', 'image (338).JPG', 'image (464).JPG', 'image (1453).JPG', 'image (1979).JPG', 'image (252).JPG', 'image (1672).JPG', 'image (1260).JPG', 'image (406).JPG', 'image (1188).JPG', 'image (1907).JPG', 'image (623).JPG', 'image (15).JPG', 'image (969).JPG', 'image (917).JPG', 'image (386).JPG', 'image (583).JPG', 'image (1866).JPG', 'image (1563).JPG', 'image (134).JPG', 'image (1416).JPG', 'image (1368).JPG', 'image (738).JPG', 'image (695).JPG', 'image (256).JPG', 'image (1762).JPG', 'image (1230).JPG', 'image (65).JPG', 'image (1801).JPG', 'image (1644).JPG', 'image (1283).JPG', 'image (241).JPG', 'image (531).JPG', 'image (1918).JPG', 'image (1759).JPG', 'image (430).JPG', 'image (1656).JPG', 'image (1419).JPG', 'image (98).JPG', 'image (1678).JPG', 'image (677).JPG', 'image (2038).JPG', 'image (1611).JPG', 'image (576).JPG', 'image (635).JPG', 'image (2049).JPG', 'image (1438).JPG', 'image (1009).JPG', 'image (1961).JPG', 'image (1162).JPG', 'image (305).JPG', 'image (2067).JPG', 'image (377).JPG', 'image (1985).JPG', 'image (88).JPG', 'image (1636).JPG', 'image (1017).JPG', 'image (661).JPG', 'image (685).JPG', 'image (874).JPG', 'image (1750).JPG', 'image (1620).JPG', 'image (1469).JPG', 'image (1087).JPG', 'image (2058).JPG', 'image (157).JPG', 'image (1343).JPG', 'image (163).JPG', 'image (1934).JPG', 'image (147).JPG', 'image (2118).JPG', 'image (1480).JPG', 'image (986).JPG', 'image (1529).JPG', 'image (782).JPG', 'image (571).JPG', 'image (1050).JPG', 'image (1610).JPG', 'image (1895).JPG', 'image (1669).JPG', 'image (1693).JPG', 'image (1221).JPG', 'image (747).JPG', 'image (1834).JPG', 'image (575).JPG', 'image (500).JPG', 'image (1651).JPG', 'image (692).JPG', 'image (1220).JPG', 'image (2095).JPG', 'image (423).JPG', 'image (1349).JPG', 'image (1879).JPG', 'image (1261).JPG', 'image (317).JPG', 'image (1828).JPG', 'image (1461).JPG', 'image (221).JPG', 'image (227).JPG', 'image (1049).JPG', 'image (392).JPG', 'image (937).JPG', 'image (991).JPG', 'image (636).JPG', 'image (135).JPG', 'image (1250).JPG', 'image (1761).JPG', 'image (357).JPG', 'image (1643).JPG', 'image (1092).JPG', 'image (526).JPG', 'image (5).JPG', 'image (2123).JPG', 'image (1241).JPG', 'image (1516).JPG', 'image (1722).JPG', 'image (2009).JPG', 'image (259).JPG', 'image (827).JPG', 'image (290).JPG', 'image (404).JPG', 'image (508).JPG', 'image (456).JPG', 'image (1824).JPG', 'image (532).JPG', 'image (703).JPG', 'image (394).JPG', 'image (111).JPG', 'image (438).JPG', 'image (2059).JPG', 'image (1592).JPG', 'image (469).JPG', 'image (847).JPG', 'image (1294).JPG', 'image (1086).JPG', 'image (1723).JPG', 'image (1466).JPG', 'image (721).JPG', 'image (2036).JPG', 'image (662).JPG', 'image (1827).JPG', 'image (183).JPG', 'image (1539).JPG', 'image (749).JPG', 'image (1513).JPG', 'image (184).JPG', 'image (1900).JPG', 'image (696).JPG', 'image (34).JPG', 'image (2110).JPG', 'image (1850).JPG', 'image (443).JPG', 'image (367).JPG', 'image (146).JPG', 'image (486).JPG', 'image (225).JPG', 'image (1996).JPG', 'image (865).JPG', 'image (1157).JPG', 'image (1150).JPG', 'image (2085).JPG', 'image (837).JPG', 'image (109).JPG', 'image (244).JPG', 'image (1718).JPG', 'image (1638).JPG', 'image (6).JPG', 'image (454).JPG', 'image (278).JPG', 'image (1700).JPG', 'image (265).JPG', 'image (631).JPG', 'image (2108).JPG', 'image (1142).JPG', 'image (857).JPG', 'image (62).JPG', 'image (1059).JPG', 'image (867).JPG', 'image (2113).JPG', 'image (2080).JPG', 'image (204).JPG', 'image (506).JPG', 'image (1775).JPG', 'image (541).JPG', 'image (1992).JPG', 'image (1946).JPG', 'image (1420).JPG', 'image (1376).JPG', 'image (156).JPG', 'image (360).JPG', 'image (327).JPG', 'image (990).JPG', 'image (1193).JPG', 'image (190).JPG', 'image (431).JPG', 'image (1097).JPG', 'image (2033).JPG', 'image (1622).JPG', 'image (1526).JPG', 'image (562).JPG', 'image (72).JPG', 'image (1411).JPG', 'image (1851).JPG', 'image (2017).JPG', 'image (1468).JPG', 'image (886).JPG', 'image (2040).JPG', 'image (552).JPG', 'image (483).JPG', 'image (2014).JPG', 'image (155).JPG', 'image (1389).JPG', 'image (507).JPG', 'image (224).JPG', 'image (1377).JPG', 'image (1394).JPG', 'image (40).JPG', 'image (1161).JPG', 'image (889).JPG', 'image (277).JPG', 'image (237).JPG', 'image (807).JPG', 'image (121).JPG', 'image (770).JPG', 'image (740).JPG', 'image (2066).JPG', 'image (1614).JPG', 'image (818).JPG', 'image (1601).JPG', 'image (607).JPG', 'image (1333).JPG', 'image (1579).JPG', 'image (442).JPG', 'image (1670).JPG', 'image (382).JPG', 'image (542).JPG', 'image (1602).JPG', 'image (11).JPG', 'image (103).JPG', 'image (2098).JPG', 'image (1099).JPG', 'image (247).JPG', 'image (1899).JPG', 'image (754).JPG', 'image (1231).JPG', 'image (711).JPG', 'image (7).JPG', 'image (797).JPG', 'image (1208).JPG', 'image (96).JPG', 'image (744).JPG', 'image (2094).JPG', 'image (1143).JPG', 'image (537).JPG', 'image (1430).JPG', 'image (878).JPG', 'image (1471).JPG', 'image (104).JPG', 'image (1550).JPG', 'image (1106).JPG', 'image (600).JPG', 'image (565).JPG', 'image (1832).JPG', 'image (1646).JPG', 'image (212).JPG', 'image (1808).JPG', 'image (141).JPG', 'image (1847).JPG', 'image (1803).JPG', 'image (1020).JPG', 'image (1702).JPG', 'image (302).JPG', 'image (213).JPG', 'image (320).JPG', 'image (1576).JPG', 'image (1367).JPG', 'image (1555).JPG', 'image (657).JPG', 'image (2122).JPG', 'image (1506).JPG', 'image (924).JPG', 'image (824).JPG', 'image (136).JPG', 'image (1460).JPG', 'image (1709).JPG', 'image (2064).JPG', 'image (300).JPG', 'image (637).JPG', 'image (1500).JPG', 'image (569).JPG', 'image (675).JPG', 'image (481).JPG', 'image (1103).JPG', 'image (701).JPG', 'image (466).JPG', 'image (433).JPG', 'image (261).JPG', 'image (688).JPG', 'image (425).JPG', 'image (775).JPG', 'image (557).JPG', 'image (2015).JPG', 'image (1893).JPG', 'image (535).JPG', 'image (1737).JPG', 'image (54).JPG', 'image (779).JPG', 'image (152).JPG', 'image (127).JPG', 'image (1920).JPG', 'image (578).JPG', 'image (832).JPG', 'image (514).JPG', 'image (705).JPG', 'image (716).JPG', 'image (39).JPG', 'image (1372).JPG', 'image (119).JPG', 'image (1408).JPG', 'image (1640).JPG', 'image (2020).JPG', 'image (1818).JPG', 'image (1495).JPG', 'image (313).JPG', 'image (836).JPG', 'image (1835).JPG', 'image (1070).JPG', 'image (1519).JPG', 'image (1091).JPG', 'image (652).JPG', 'image (1600).JPG', 'image (1322).JPG', 'image (1156).JPG', 'image (1202).JPG', 'image (1081).JPG', 'image (324).JPG', 'image (272).JPG', 'image (1047).JPG', 'image (1443).JPG', 'image (634).JPG', 'image (870).JPG', 'image (254).JPG', 'image (964).JPG', 'image (151).JPG', 'image (1356).JPG', 'image (2042).JPG', 'image (2024).JPG', 'image (1533).JPG', 'image (2068).JPG', 'image (326).JPG', 'image (1048).JPG', 'image (660).JPG', 'image (2004).JPG', 'image (707).JPG', 'image (1932).JPG', 'image (139).JPG', 'image (1247).JPG', 'image (1184).JPG', 'image (209).JPG', 'image (1165).JPG', 'image (1729).JPG', 'image (1274).JPG', 'image (609).JPG', 'image (539).JPG', 'image (339).JPG', 'image (1559).JPG', 'image (308).JPG', 'image (1565).JPG', 'image (280).JPG', 'image (1098).JPG', 'image (2055).JPG', 'image (505).JPG', 'image (1964).JPG', 'image (2047).JPG', 'image (21).JPG', 'image (2089).JPG', 'image (1058).JPG', 'image (1497).JPG', 'image (875).JPG', 'image (608).JPG', 'image (1346).JPG', 'image (405).JPG', 'image (1608).JPG', 'image (700).JPG', 'image (1398).JPG', 'image (1766).JPG', 'image (1959).JPG', 'image (706).JPG', 'image (1148).JPG', 'image (1195).JPG', 'image (1114).JPG', 'image (1180).JPG', 'image (618).JPG', 'image (1577).JPG', 'image (852).JPG', 'image (336).JPG', 'image (1483).JPG', 'image (1463).JPG', 'image (2073).JPG', 'image (1501).JPG', 'image (1429).JPG', 'image (1300).JPG', 'image (942).JPG', 'image (959).JPG', 'image (1878).JPG', 'image (47).JPG', 'image (733).JPG', 'image (1458).JPG', 'image (1686).JPG', 'image (689).JPG', 'image (150).JPG', 'image (1363).JPG', 'image (777).JPG', 'image (1664).JPG', 'image (585).JPG', 'image (41).JPG', 'image (299).JPG', 'image (303).JPG', 'image (1045).JPG', 'image (872).JPG', 'image (292).JPG', 'image (723).JPG', 'image (545).JPG', 'image (1001).JPG', 'image (1976).JPG', 'image (934).JPG', 'image (940).JPG', 'image (1014).JPG', 'image (697).JPG', 'image (1884).JPG', 'image (110).JPG', 'image (1637).JPG', 'image (2084).JPG', 'image (1848).JPG', 'image (1574).JPG', 'image (1662).JPG', 'image (1051).JPG', 'image (287).JPG', 'image (1016).JPG', 'image (1616).JPG', 'image (1746).JPG', 'image (1168).JPG', 'image (1898).JPG', 'image (1329).JPG', 'image (1791).JPG', 'image (115).JPG', 'image (2069).JPG', 'image (1688).JPG', 'image (1544).JPG', 'image (1447).JPG', 'image (369).JPG', 'image (1625).JPG', 'image (1470).JPG', 'image (154).JPG', 'image (1812).JPG', 'image (892).JPG', 'image (669).JPG', 'image (1957).JPG', 'image (450).JPG', 'image (1908).JPG', 'image (611).JPG', 'image (149).JPG', 'image (354).JPG', 'image (766).JPG', 'image (1933).JPG', 'image (250).JPG', 'image (2046).JPG', 'image (2008).JPG', 'image (1183).JPG', 'image (323).JPG', 'image (2101).JPG', 'image (1868).JPG', 'image (297).JPG', 'image (451).JPG', 'image (820).JPG', 'image (61).JPG', 'image (449).JPG', 'image (895).JPG', 'image (195).JPG', 'image (1413).JPG', 'image (553).JPG', 'image (1263).JPG', 'image (1094).JPG', 'image (980).JPG', 'image (1113).JPG', 'image (2102).JPG', 'image (120).JPG', 'image (1973).JPG', 'image (663).JPG', 'image (1892).JPG', 'image (1319).JPG', 'image (439).JPG', 'image (792).JPG', 'image (626).JPG', 'image (1537).JPG', 'image (2060).JPG', 'image (594).JPG', 'image (468).JPG', 'image (258).JPG', 'image (1776).JPG', 'image (1887).JPG', 'image (373).JPG', 'image (426).JPG', 'image (1618).JPG', 'image (871).JPG', 'image (470).JPG', 'image (276).JPG', 'image (2031).JPG', 'image (1487).JPG', 'image (1153).JPG', 'image (273).JPG', 'image (1352).JPG', 'image (590).JPG', 'image (1236).JPG', 'image (210).JPG', 'image (1865).JPG', 'image (534).JPG', 'image (399).JPG', 'image (835).JPG', 'image (165).JPG', 'image (1777).JPG', 'image (655).JPG', 'image (1021).JPG', 'image (1733).JPG', 'image (826).JPG', 'image (1931).JPG', 'image (598).JPG', 'image (1965).JPG', 'image (970).JPG', 'image (257).JPG', 'image (1235).JPG', 'image (1697).JPG', 'image (1814).JPG', 'image (620).JPG', 'image (1943).JPG', 'image (1839).JPG', 'image (1954).JPG', 'image (845).JPG', 'image (291).JPG', 'image (1334).JPG', 'image (2083).JPG', 'image (1233).JPG', 'image (1626).JPG', 'image (975).JPG', 'image (1002).JPG', 'image (548).JPG', 'image (1126).JPG', 'image (850).JPG', 'image (559).JPG', 'image (1369).JPG', 'image (891).JPG', 'image (2071).JPG', 'image (491).JPG', 'image (810).JPG', 'image (429).JPG', 'image (24).JPG', 'image (1860).JPG', 'image (1052).JPG', 'image (1628).JPG', 'image (523).JPG', 'image (1414).JPG', 'image (1324).JPG', 'image (643).JPG', 'image (1013).JPG', 'image (1382).JPG', 'image (968).JPG', 'image (1787).JPG', 'image (546).JPG', 'image (485).JPG', 'image (1336).JPG', 'image (1962).JPG', 'image (501).JPG', 'image (18).JPG', 'image (279).JPG', 'image (996).JPG', 'image (1855).JPG', 'image (215).JPG', 'image (2000).JPG', 'image (622).JPG', 'image (1621).JPG', 'image (1267).JPG', 'image (595).JPG', 'image (1532).JPG', 'image (2063).JPG', 'image (1852).JPG', 'image (1141).JPG', 'image (1033).JPG', 'image (673).JPG', 'image (400).JPG', 'image (159).JPG', 'image (293).JPG', 'image (1780).JPG', 'image (1255).JPG', 'image (1727).JPG', 'image (271).JPG', 'image (1770).JPG', 'image (1066).JPG', 'image (1797).JPG', 'image (1679).JPG', 'image (51).JPG', 'image (315).JPG', 'image (1627).JPG', 'image (1128).JPG', 'image (1716).JPG', 'image (20).JPG', 'image (283).JPG', 'image (1949).JPG', 'image (1713).JPG', 'image (925).JPG', 'image (854).JPG', 'image (1650).JPG', 'image (1003).JPG', 'image (1552).JPG', 'image (732).JPG', 'image (2022).JPG', 'image (814).JPG', 'image (1617).JPG', 'image (582).JPG', 'image (894).JPG', 'image (1486).JPG', 'image (475).JPG', 'image (2035).JPG', 'image (1212).JPG', 'image (1546).JPG', 'image (1008).JPG', 'image (812).JPG', 'image (1178).JPG', 'image (395).JPG', 'image (1488).JPG', 'image (1281).JPG', 'image (1073).JPG', 'image (682).JPG', 'image (1474).JPG', 'image (1176).JPG', 'image (66).JPG', 'image (755).JPG', 'image (1159).JPG', 'image (793).JPG', 'image (1445).JPG', 'image (913).JPG', 'image (94).JPG', 'image (63).JPG', 'image (1167).JPG', 'image (89).JPG', 'image (614).JPG', 'image (1783).JPG', 'image (17).JPG', 'image (1673).JPG', 'image (1418).JPG', 'image (1842).JPG', 'image (182).JPG', 'image (1101).JPG', 'image (1704).JPG', 'image (1695).JPG', 'image (2062).JPG', 'image (169).JPG', 'image (790).JPG', 'image (1745).JPG', 'image (1758).JPG', 'image (1476).JPG', 'image (322).JPG', 'image (543).JPG', 'image (1306).JPG', 'image (1676).JPG', 'image (1043).JPG', 'image (1871).JPG', 'image (1940).JPG', 'image (1987).JPG', 'image (153).JPG', 'image (46).JPG', 'image (577).JPG', 'image (1891).JPG', 'image (1436).JPG', 'image (191).JPG', 'image (1308).JPG', 'image (603).JPG', 'image (477).JPG', 'image (950).JPG', 'image (1966).JPG', 'image (855).JPG', 'image (566).JPG', 'image (57).JPG', 'image (1289).JPG', 'image (978).JPG', 'image (1225).JPG', 'image (1751).JPG', 'image (1970).JPG', 'image (1353).JPG', 'image (130).JPG', 'image (905).JPG', 'image (641).JPG', 'image (1969).JPG', 'image (1344).JPG', 'image (693).JPG']\n",
            "drive/MyDrive/TRAIN/Cherry___Powdery_mildew\n",
            "['image (674).JPG', 'image (4).JPG', 'image (638).JPG', 'image (709).JPG', 'image (955).JPG', 'image (91).JPG', 'image (928).JPG', 'image (857).JPG', 'image (322).JPG', 'image (777).JPG', 'image (25).JPG', 'image (842).JPG', 'image (495).JPG', 'image (954).JPG', 'image (952).JPG', 'image (379).JPG', 'image (767).JPG', 'image (831).JPG', 'image (601).JPG', 'image (565).JPG', 'image (366).JPG', 'image (731).JPG', 'image (686).JPG', 'image (143).JPG', 'image (649).JPG', 'image (988).JPG', 'image (271).JPG', 'image (820).JPG', 'image (989).JPG', 'image (533).JPG', 'image (209).JPG', 'image (281).JPG', 'image (721).JPG', 'image (266).JPG', 'image (208).JPG', 'image (552).JPG', 'image (710).JPG', 'image (163).JPG', 'image (336).JPG', 'image (902).JPG', 'image (315).JPG', 'image (742).JPG', 'image (17).JPG', 'image (979).JPG', 'image (391).JPG', 'image (464).JPG', 'image (372).JPG', 'image (877).JPG', 'image (922).JPG', 'image (404).JPG', 'image (124).JPG', 'image (185).JPG', 'image (764).JPG', 'image (1043).JPG', 'image (153).JPG', 'image (913).JPG', 'image (397).JPG', 'image (242).JPG', 'image (257).JPG', 'image (354).JPG', 'image (735).JPG', 'image (22).JPG', 'image (687).JPG', 'image (618).JPG', 'image (862).JPG', 'image (305).JPG', 'image (363).JPG', 'image (249).JPG', 'image (221).JPG', 'image (299).JPG', 'image (247).JPG', 'image (691).JPG', 'image (698).JPG', 'image (1041).JPG', 'image (116).JPG', 'image (396).JPG', 'image (602).JPG', 'image (664).JPG', 'image (184).JPG', 'image (544).JPG', 'image (953).JPG', 'image (924).JPG', 'image (409).JPG', 'image (623).JPG', 'image (682).JPG', 'image (568).JPG', 'image (774).JPG', 'image (516).JPG', 'image (90).JPG', 'image (487).JPG', 'image (128).JPG', 'image (752).JPG', 'image (48).JPG', 'image (561).JPG', 'image (1025).JPG', 'image (380).JPG', 'image (291).JPG', 'image (43).JPG', 'image (267).JPG', 'image (500).JPG', 'image (330).JPG', 'image (944).JPG', 'image (398).JPG', 'image (103).JPG', 'image (921).JPG', 'image (946).JPG', 'image (264).JPG', 'image (338).JPG', 'image (475).JPG', 'image (643).JPG', 'image (376).JPG', 'image (285).JPG', 'image (519).JPG', 'image (720).JPG', 'image (1047).JPG', 'image (418).JPG', 'image (678).JPG', 'image (473).JPG', 'image (821).JPG', 'image (661).JPG', 'image (93).JPG', 'image (745).JPG', 'image (845).JPG', 'image (960).JPG', 'image (118).JPG', 'image (348).JPG', 'image (68).JPG', 'image (583).JPG', 'image (532).JPG', 'image (150).JPG', 'image (830).JPG', 'image (414).JPG', 'image (1016).JPG', 'image (801).JPG', 'image (787).JPG', 'image (317).JPG', 'image (424).JPG', 'image (999).JPG', 'image (566).JPG', 'image (76).JPG', 'image (46).JPG', 'image (60).JPG', 'image (1005).JPG', 'image (350).JPG', 'image (160).JPG', 'image (1021).JPG', 'image (625).JPG', 'image (744).JPG', 'image (356).JPG', 'image (948).JPG', 'image (729).JPG', 'image (140).JPG', 'image (106).JPG', 'image (693).JPG', 'image (930).JPG', 'image (800).JPG', 'image (238).JPG', 'image (202).JPG', 'image (181).JPG', 'image (975).JPG', 'image (1009).JPG', 'image (642).JPG', 'image (7).JPG', 'image (444).JPG', 'image (449).JPG', 'image (63).JPG', 'image (456).JPG', 'image (615).JPG', 'image (1035).JPG', 'image (901).JPG', 'image (591).JPG', 'image (239).JPG', 'image (644).JPG', 'image (863).JPG', 'image (637).JPG', 'image (1037).JPG', 'image (126).JPG', 'image (50).JPG', 'image (49).JPG', 'image (965).JPG', 'image (548).JPG', 'image (734).JPG', 'image (747).JPG', 'image (824).JPG', 'image (547).JPG', 'image (557).JPG', 'image (223).JPG', 'image (274).JPG', 'image (490).JPG', 'image (307).JPG', 'image (947).JPG', 'image (342).JPG', 'image (89).JPG', 'image (978).JPG', 'image (879).JPG', 'image (32).JPG', 'image (850).JPG', 'image (912).JPG', 'image (172).JPG', 'image (318).JPG', 'image (458).JPG', 'image (535).JPG', 'image (859).JPG', 'image (713).JPG', 'image (5).JPG', 'image (427).JPG', 'image (915).JPG', 'image (785).JPG', 'image (997).JPG', 'image (178).JPG', 'image (38).JPG', 'image (614).JPG', 'image (653).JPG', 'image (813).JPG', 'image (303).JPG', 'image (869).JPG', 'image (940).JPG', 'image (551).JPG', 'image (983).JPG', 'image (937).JPG', 'image (413).JPG', 'image (231).JPG', 'image (498).JPG', 'image (29).JPG', 'image (873).JPG', 'image (505).JPG', 'image (405).JPG', 'image (377).JPG', 'image (905).JPG', 'image (967).JPG', 'image (287).JPG', 'image (225).JPG', 'image (665).JPG', 'image (345).JPG', 'image (125).JPG', 'image (788).JPG', 'image (680).JPG', 'image (630).JPG', 'image (976).JPG', 'image (144).JPG', 'image (182).JPG', 'image (545).JPG', 'image (149).JPG', 'image (34).JPG', 'image (378).JPG', 'image (394).JPG', 'image (219).JPG', 'image (931).JPG', 'image (2).JPG', 'image (31).JPG', 'image (67).JPG', 'image (232).JPG', 'image (268).JPG', 'image (453).JPG', 'image (1027).JPG', 'image (933).JPG', 'image (927).JPG', 'image (213).JPG', 'image (755).JPG', 'image (540).JPG', 'image (534).JPG', 'image (324).JPG', 'image (964).JPG', 'image (790).JPG', 'image (296).JPG', 'image (722).JPG', 'image (102).JPG', 'image (716).JPG', 'image (320).JPG', 'image (325).JPG', 'image (815).JPG', 'image (962).JPG', 'image (290).JPG', 'image (688).JPG', 'image (343).JPG', 'image (558).JPG', 'image (280).JPG', 'image (18).JPG', 'image (30).JPG', 'image (359).JPG', 'image (855).JPG', 'image (309).JPG', 'image (748).JPG', 'image (606).JPG', 'image (934).JPG', 'image (170).JPG', 'image (1031).JPG', 'image (1013).JPG', 'image (42).JPG', 'image (1007).JPG', 'image (104).JPG', 'image (220).JPG', 'image (871).JPG', 'image (776).JPG', 'image (433).JPG', 'image (243).JPG', 'image (321).JPG', 'image (316).JPG', 'image (28).JPG', 'image (632).JPG', 'image (1001).JPG', 'image (898).JPG', 'image (252).JPG', 'image (79).JPG', 'image (483).JPG', 'image (841).JPG', 'image (171).JPG', 'image (524).JPG', 'image (950).JPG', 'image (360).JPG', 'image (430).JPG', 'image (284).JPG', 'image (782).JPG', 'image (113).JPG', 'image (992).JPG', 'image (92).JPG', 'image (670).JPG', 'image (536).JPG', 'image (107).JPG', 'image (100).JPG', 'image (907).JPG', 'image (641).JPG', 'image (168).JPG', 'image (509).JPG', 'image (97).JPG', 'image (327).JPG', 'image (733).JPG', 'image (331).JPG', 'image (304).JPG', 'image (383).JPG', 'image (306).JPG', 'image (340).JPG', 'image (77).JPG', 'image (525).JPG', 'image (59).JPG', 'image (216).JPG', 'image (522).JPG', 'image (889).JPG', 'image (794).JPG', 'image (105).JPG', 'image (817).JPG', 'image (235).JPG', 'image (486).JPG', 'image (190).JPG', 'image (73).JPG', 'image (875).JPG', 'image (705).JPG', 'image (83).JPG', 'image (421).JPG', 'image (995).JPG', 'image (339).JPG', 'image (335).JPG', 'image (714).JPG', 'image (669).JPG', 'image (660).JPG', 'image (838).JPG', 'image (750).JPG', 'image (392).JPG', 'image (273).JPG', 'image (462).JPG', 'image (594).JPG', 'image (827).JPG', 'image (13).JPG', 'image (289).JPG', 'image (288).JPG', 'image (385).JPG', 'image (679).JPG', 'image (251).JPG', 'image (959).JPG', 'image (894).JPG', 'image (485).JPG', 'image (269).JPG', 'image (134).JPG', 'image (804).JPG', 'image (70).JPG', 'image (888).JPG', 'image (1006).JPG', 'image (529).JPG', 'image (582).JPG', 'image (546).JPG', 'image (761).JPG', 'image (677).JPG', 'image (780).JPG', 'image (369).JPG', 'image (507).JPG', 'image (434).JPG', 'image (19).JPG', 'image (347).JPG', 'image (337).JPG', 'image (998).JPG', 'image (1036).JPG', 'image (455).JPG', 'image (966).JPG', 'image (743).JPG', 'image (308).JPG', 'image (41).JPG', 'image (279).JPG', 'image (302).JPG', 'image (246).JPG', 'image (611).JPG', 'image (412).JPG', 'image (460).JPG', 'image (569).JPG', 'image (778).JPG', 'image (935).JPG', 'image (186).JPG', 'image (44).JPG', 'image (1049).JPG', 'image (567).JPG', 'image (739).JPG', 'image (613).JPG', 'image (467).JPG', 'image (646).JPG', 'image (248).JPG', 'image (187).JPG', 'image (773).JPG', 'image (352).JPG', 'image (559).JPG', 'image (514).JPG', 'image (1051).JPG', 'image (666).JPG', 'image (795).JPG', 'image (847).JPG', 'image (783).JPG', 'image (52).JPG', 'image (183).JPG', 'image (445).JPG', 'image (461).JPG', 'image (1042).JPG', 'image (357).JPG', 'image (803).JPG', 'image (217).JPG', 'image (158).JPG', 'image (656).JPG', 'image (906).JPG', 'image (961).JPG', 'image (837).JPG', 'image (699).JPG', 'image (152).JPG', 'image (165).JPG', 'image (769).JPG', 'image (276).JPG', 'image (62).JPG', 'image (260).JPG', 'image (201).JPG', 'image (892).JPG', 'image (133).JPG', 'image (21).JPG', 'image (511).JPG', 'image (123).JPG', 'image (737).JPG', 'image (95).JPG', 'image (151).JPG', 'image (671).JPG', 'image (87).JPG', 'image (738).JPG', 'image (874).JPG', 'image (114).JPG', 'image (919).JPG', 'image (401).JPG', 'image (695).JPG', 'image (712).JPG', 'image (917).JPG', 'image (155).JPG', 'image (899).JPG', 'image (419).JPG', 'image (110).JPG', 'image (663).JPG', 'image (494).JPG', 'image (466).JPG', 'image (684).JPG', 'image (647).JPG', 'image (390).JPG', 'image (440).JPG', 'image (802).JPG', 'image (603).JPG', 'image (662).JPG', 'image (333).JPG', 'image (400).JPG', 'image (200).JPG', 'image (361).JPG', 'image (229).JPG', 'image (120).JPG', 'image (867).JPG', 'image (759).JPG', 'image (192).JPG', 'image (236).JPG', 'image (314).JPG', 'image (523).JPG', 'image (909).JPG', 'image (1044).JPG', 'image (834).JPG', 'image (147).JPG', 'image (448).JPG', 'image (789).JPG', 'image (471).JPG', 'image (210).JPG', 'image (175).JPG', 'image (945).JPG', 'image (358).JPG', 'image (711).JPG', 'image (868).JPG', 'image (726).JPG', 'image (295).JPG', 'image (3).JPG', 'image (121).JPG', 'image (1014).JPG', 'image (765).JPG', 'image (334).JPG', 'image (531).JPG', 'image (918).JPG', 'image (240).JPG', 'image (370).JPG', 'image (256).JPG', 'image (706).JPG', 'image (981).JPG', 'image (833).JPG', 'image (425).JPG', 'image (384).JPG', 'image (1032).JPG', 'image (560).JPG', 'image (481).JPG', 'image (180).JPG', 'image (627).JPG', 'image (311).JPG', 'image (700).JPG', 'image (193).JPG', 'image (173).JPG', 'image (386).JPG', 'image (222).JPG', 'image (479).JPG', 'image (926).JPG', 'image (595).JPG', 'image (1023).JPG', 'image (277).JPG', 'image (840).JPG', 'image (844).JPG', 'image (10).JPG', 'image (382).JPG', 'image (651).JPG', 'image (576).JPG', 'image (408).JPG', 'image (283).JPG', 'image (96).JPG', 'image (881).JPG', 'image (818).JPG', 'image (805).JPG', 'image (849).JPG', 'image (579).JPG', 'image (497).JPG', 'image (772).JPG', 'image (914).JPG', 'image (205).JPG', 'image (620).JPG', 'image (122).JPG', 'image (572).JPG', 'image (622).JPG', 'image (604).JPG', 'image (756).JPG', 'image (723).JPG', 'image (757).JPG', 'image (963).JPG', 'image (1003).JPG', 'image (112).JPG', 'image (493).JPG', 'image (991).JPG', 'image (442).JPG', 'image (580).JPG', 'image (577).JPG', 'image (470).JPG', 'image (758).JPG', 'image (451).JPG', 'image (154).JPG', 'image (537).JPG', 'image (929).JPG', 'image (798).JPG', 'image (85).JPG', 'image (570).JPG', 'image (826).JPG', 'image (36).JPG', 'image (1040).JPG', 'image (226).JPG', 'image (78).JPG', 'image (228).JPG', 'image (599).JPG', 'image (517).JPG', 'image (399).JPG', 'image (476).JPG', 'image (198).JPG', 'image (736).JPG', 'image (88).JPG', 'image (1046).JPG', 'image (237).JPG', 'image (146).JPG', 'image (648).JPG', 'image (520).JPG', 'image (508).JPG', 'image (255).JPG', 'image (796).JPG', 'image (275).JPG', 'image (469).JPG', 'image (884).JPG', 'image (415).JPG', 'image (176).JPG', 'image (908).JPG', 'image (439).JPG', 'image (127).JPG', 'image (942).JPG', 'image (543).JPG', 'image (82).JPG', 'image (1052).JPG', 'image (211).JPG', 'image (501).JPG', 'image (539).JPG', 'image (438).JPG', 'image (1045).JPG', 'image (878).JPG', 'image (885).JPG', 'image (654).JPG', 'image (1012).JPG', 'image (196).JPG', 'image (11).JPG', 'image (207).JPG', 'image (812).JPG', 'image (132).JPG', 'image (986).JPG', 'image (943).JPG', 'image (650).JPG', 'image (910).JPG', 'image (253).JPG', 'image (891).JPG', 'image (159).JPG', 'image (864).JPG', 'image (589).JPG', 'image (99).JPG', 'image (728).JPG', 'image (66).JPG', 'image (435).JPG', 'image (969).JPG', 'image (970).JPG', 'image (609).JPG', 'image (437).JPG', 'image (12).JPG', 'image (836).JPG', 'image (179).JPG', 'image (846).JPG', 'image (410).JPG', 'image (395).JPG', 'image (640).JPG', 'image (300).JPG', 'image (751).JPG', 'image (956).JPG', 'image (450).JPG', 'image (740).JPG', 'image (775).JPG', 'image (362).JPG', 'image (441).JPG', 'image (142).JPG', 'image (24).JPG', 'image (645).JPG', 'image (585).JPG', 'image (916).JPG', 'image (71).JPG', 'image (725).JPG', 'image (431).JPG', 'image (57).JPG', 'image (510).JPG', 'image (708).JPG', 'image (373).JPG', 'image (822).JPG', 'image (294).JPG', 'image (982).JPG', 'image (629).JPG', 'image (587).JPG', 'image (351).JPG', 'image (286).JPG', 'image (518).JPG', 'image (40).JPG', 'image (189).JPG', 'image (270).JPG', 'image (499).JPG', 'image (513).JPG', 'image (659).JPG', 'image (197).JPG', 'image (811).JPG', 'image (941).JPG', 'image (592).JPG', 'image (265).JPG', 'image (993).JPG', 'image (754).JPG', 'image (282).JPG', 'image (1).JPG', 'image (727).JPG', 'image (328).JPG', 'image (639).JPG', 'image (880).JPG', 'image (597).JPG', 'image (554).JPG', 'image (230).JPG', 'image (416).JPG', 'image (652).JPG', 'image (136).JPG', 'image (130).JPG', 'image (312).JPG', 'image (1010).JPG', 'image (39).JPG', 'image (204).JPG', 'image (692).JPG', 'image (515).JPG', 'image (58).JPG', 'image (528).JPG', 'image (807).JPG', 'image (770).JPG', 'image (298).JPG', 'image (37).JPG', 'image (617).JPG', 'image (876).JPG', 'image (832).JPG', 'image (297).JPG', 'image (732).JPG', 'image (553).JPG', 'image (786).JPG', 'image (972).JPG', 'image (550).JPG', 'image (549).JPG', 'image (86).JPG', 'image (872).JPG', 'image (823).JPG', 'image (843).JPG', 'image (203).JPG', 'image (771).JPG', 'image (897).JPG', 'image (835).JPG', 'image (542).JPG', 'image (584).JPG', 'image (590).JPG', 'image (746).JPG', 'image (177).JPG', 'image (562).JPG', 'image (428).JPG', 'image (1039).JPG', 'image (848).JPG', 'image (724).JPG', 'image (111).JPG', 'image (166).JPG', 'image (574).JPG', 'image (608).JPG', 'image (616).JPG', 'image (227).JPG', 'image (488).JPG', 'image (760).JPG', 'image (20).JPG', 'image (484).JPG', 'image (108).JPG', 'image (911).JPG', 'image (578).JPG', 'image (607).JPG', 'image (188).JPG', 'image (47).JPG', 'image (387).JPG', 'image (1048).JPG', 'image (853).JPG', 'image (541).JPG', 'image (555).JPG', 'image (825).JPG', 'image (117).JPG', 'image (1024).JPG', 'image (920).JPG', 'image (704).JPG', 'image (259).JPG', 'image (762).JPG', 'image (402).JPG', 'image (697).JPG', 'image (74).JPG', 'image (174).JPG', 'image (886).JPG', 'image (261).JPG', 'image (792).JPG', 'image (135).JPG', 'image (262).JPG', 'image (753).JPG', 'image (730).JPG', 'image (346).JPG', 'image (407).JPG', 'image (610).JPG', 'image (323).JPG', 'image (9).JPG', 'image (816).JPG', 'image (527).JPG', 'image (381).JPG', 'image (741).JPG', 'image (417).JPG', 'image (319).JPG', 'image (263).JPG', 'image (672).JPG', 'image (973).JPG', 'image (628).JPG', 'image (292).JPG', 'image (703).JPG', 'image (436).JPG', 'image (199).JPG', 'image (896).JPG', 'image (16).JPG', 'image (633).JPG', 'image (781).JPG', 'image (389).JPG', 'image (521).JPG', 'image (56).JPG', 'image (538).JPG', 'image (423).JPG', 'image (951).JPG', 'image (109).JPG', 'image (685).JPG', 'image (341).JPG', 'image (422).JPG', 'image (65).JPG', 'image (575).JPG', 'image (779).JPG', 'image (866).JPG', 'image (626).JPG', 'image (45).JPG', 'image (624).JPG', 'image (707).JPG', 'image (420).JPG', 'image (996).JPG', 'image (250).JPG', 'image (985).JPG', 'image (119).JPG', 'image (588).JPG', 'image (457).JPG', 'image (388).JPG', 'image (958).JPG', 'image (365).JPG', 'image (326).JPG', 'image (14).JPG', 'image (233).JPG', 'image (586).JPG', 'image (1028).JPG', 'image (621).JPG', 'image (530).JPG', 'image (984).JPG', 'image (819).JPG', 'image (793).JPG', 'image (949).JPG', 'image (852).JPG', 'image (218).JPG', 'image (1020).JPG', 'image (33).JPG', 'image (717).JPG', 'image (564).JPG', 'image (809).JPG', 'image (683).JPG', 'image (690).JPG', 'image (374).JPG', 'image (489).JPG', 'image (367).JPG', 'image (477).JPG', 'image (145).JPG', 'image (310).JPG', 'image (472).JPG', 'image (54).JPG', 'image (573).JPG', 'image (156).JPG', 'image (856).JPG', 'image (329).JPG', 'image (355).JPG', 'image (496).JPG', 'image (212).JPG', 'image (1015).JPG', 'image (715).JPG', 'image (768).JPG', 'image (925).JPG', 'image (364).JPG', 'image (478).JPG', 'image (454).JPG', 'image (668).JPG', 'image (694).JPG', 'image (482).JPG', 'image (887).JPG', 'image (636).JPG', 'image (681).JPG', 'image (169).JPG', 'image (893).JPG', 'image (278).JPG', 'image (1022).JPG', 'image (861).JPG', 'image (968).JPG', 'image (932).JPG', 'image (164).JPG', 'image (814).JPG', 'image (957).JPG', 'image (432).JPG', 'image (571).JPG', 'image (635).JPG', 'image (157).JPG', 'image (1050).JPG', 'image (368).JPG', 'image (526).JPG', 'image (504).JPG', 'image (167).JPG', 'image (828).JPG', 'image (808).JPG', 'image (784).JPG', 'image (344).JPG', 'image (15).JPG', 'image (598).JPG', 'image (459).JPG', 'image (938).JPG', 'image (596).JPG', 'image (903).JPG', 'image (234).JPG', 'image (971).JPG', 'image (137).JPG', 'image (667).JPG', 'image (447).JPG', 'image (512).JPG', 'image (1034).JPG', 'image (503).JPG', 'image (1018).JPG', 'image (272).JPG', 'image (904).JPG', 'image (254).JPG', 'image (101).JPG', 'image (797).JPG', 'image (129).JPG', 'image (806).JPG', 'image (882).JPG', 'image (1004).JPG', 'image (658).JPG', 'image (375).JPG', 'image (631).JPG', 'image (977).JPG', 'image (313).JPG', 'image (293).JPG', 'image (1000).JPG', 'image (452).JPG', 'image (612).JPG', 'image (900).JPG', 'image (619).JPG', 'image (131).JPG', 'image (245).JPG', 'image (655).JPG', 'image (860).JPG', 'image (600).JPG', 'image (593).JPG', 'image (139).JPG', 'image (766).JPG', 'image (55).JPG', 'image (72).JPG', 'image (1030).JPG', 'image (895).JPG', 'image (696).JPG', 'image (1033).JPG', 'image (241).JPG', 'image (474).JPG', 'image (581).JPG', 'image (426).JPG', 'image (224).JPG', 'image (81).JPG', 'image (799).JPG', 'image (6).JPG', 'image (195).JPG', 'image (749).JPG', 'image (353).JPG', 'image (890).JPG', 'image (870).JPG', 'image (214).JPG', 'image (463).JPG', 'image (8).JPG', 'image (75).JPG', 'image (393).JPG', 'image (64).JPG', 'image (689).JPG', 'image (206).JPG', 'image (194).JPG', 'image (446).JPG', 'image (673).JPG', 'image (468).JPG', 'image (443).JPG', 'image (94).JPG', 'image (506).JPG', 'image (480).JPG', 'image (80).JPG', 'image (980).JPG', 'image (810).JPG', 'image (939).JPG', 'image (98).JPG', 'image (244).JPG', 'image (1038).JPG', 'image (1002).JPG', 'image (990).JPG', 'image (215).JPG', 'image (27).JPG', 'image (26).JPG', 'image (53).JPG', 'image (676).JPG', 'image (84).JPG', 'image (371).JPG', 'image (657).JPG', 'image (563).JPG', 'image (301).JPG', 'image (1026).JPG', 'image (258).JPG', 'image (719).JPG', 'image (332).JPG', 'image (1017).JPG', 'image (763).JPG', 'image (141).JPG', 'image (429).JPG', 'image (406).JPG', 'image (829).JPG', 'image (839).JPG', 'image (411).JPG', 'image (974).JPG', 'image (634).JPG', 'image (161).JPG', 'image (138).JPG', 'image (51).JPG', 'image (791).JPG', 'image (1019).JPG', 'image (858).JPG', 'image (936).JPG', 'image (675).JPG', 'image (883).JPG', 'image (502).JPG', 'image (492).JPG', 'image (702).JPG', 'image (605).JPG', 'image (701).JPG', 'image (162).JPG', 'image (349).JPG', 'image (403).JPG', 'image (865).JPG', 'image (718).JPG', 'image (1008).JPG', 'image (115).JPG', 'image (23).JPG', 'image (987).JPG', 'image (923).JPG', 'image (851).JPG', 'image (35).JPG', 'image (61).JPG', 'image (994).JPG', 'image (556).JPG', 'image (854).JPG', 'image (148).JPG', 'image (1011).JPG', 'image (1029).JPG', 'image (491).JPG', 'image (69).JPG', 'image (465).JPG', 'image (191).JPG']\n",
            "drive/MyDrive/TRAIN/Grape___Esca_(Black_Measles)\n",
            "['image (944).JPG', 'image (390).JPG', 'image (1368).JPG', 'image (334).JPG', 'image (364).JPG', 'image (236).JPG', 'image (454).JPG', 'image (1015).JPG', 'image (323).JPG', 'image (398).JPG', 'image (12).JPG', 'image (107).JPG', 'image (1381).JPG', 'image (756).JPG', 'image (1142).JPG', 'image (172).JPG', 'image (975).JPG', 'image (1176).JPG', 'image (183).JPG', 'image (820).JPG', 'image (347).JPG', 'image (818).JPG', 'image (45).JPG', 'image (500).JPG', 'image (504).JPG', 'image (524).JPG', 'image (67).JPG', 'image (237).JPG', 'image (850).JPG', 'image (190).JPG', 'image (626).JPG', 'image (13).JPG', 'image (603).JPG', 'image (468).JPG', 'image (151).JPG', 'image (614).JPG', 'image (971).JPG', 'image (276).JPG', 'image (831).JPG', 'image (630).JPG', 'image (750).JPG', 'image (925).JPG', 'image (681).JPG', 'image (713).JPG', 'image (543).JPG', 'image (1038).JPG', 'image (926).JPG', 'image (941).JPG', 'image (419).JPG', 'image (794).JPG', 'image (685).JPG', 'image (669).JPG', 'image (228).JPG', 'image (1021).JPG', 'image (928).JPG', 'image (741).JPG', 'image (280).JPG', 'image (909).JPG', 'image (1309).JPG', 'image (1094).JPG', 'image (629).JPG', 'image (1000).JPG', 'image (274).JPG', 'image (385).JPG', 'image (704).JPG', 'image (213).JPG', 'image (854).JPG', 'image (380).JPG', 'image (737).JPG', 'image (984).JPG', 'image (205).JPG', 'image (621).JPG', 'image (1171).JPG', 'image (788).JPG', 'image (852).JPG', 'image (1245).JPG', 'image (124).JPG', 'image (169).JPG', 'image (1295).JPG', 'image (716).JPG', 'image (1177).JPG', 'image (360).JPG', 'image (908).JPG', 'image (125).JPG', 'image (264).JPG', 'image (492).JPG', 'image (507).JPG', 'image (346).JPG', 'image (749).JPG', 'image (81).JPG', 'image (1220).JPG', 'image (804).JPG', 'image (155).JPG', 'image (607).JPG', 'image (554).JPG', 'image (80).JPG', 'image (661).JPG', 'image (219).JPG', 'image (815).JPG', 'image (121).JPG', 'image (904).JPG', 'image (394).JPG', 'image (302).JPG', 'image (78).JPG', 'image (1283).JPG', 'image (698).JPG', 'image (503).JPG', 'image (1008).JPG', 'image (742).JPG', 'image (111).JPG', 'image (945).JPG', 'image (366).JPG', 'image (77).JPG', 'image (769).JPG', 'image (18).JPG', 'image (1156).JPG', 'image (1074).JPG', 'image (895).JPG', 'image (1011).JPG', 'image (684).JPG', 'image (1164).JPG', 'image (50).JPG', 'image (706).JPG', 'image (291).JPG', 'image (969).JPG', 'image (10).JPG', 'image (157).JPG', 'image (249).JPG', 'image (529).JPG', 'image (687).JPG', 'image (947).JPG', 'image (807).JPG', 'image (149).JPG', 'image (1379).JPG', 'image (1208).JPG', 'image (649).JPG', 'image (553).JPG', 'image (981).JPG', 'image (1203).JPG', 'image (295).JPG', 'image (732).JPG', 'image (15).JPG', 'image (656).JPG', 'image (714).JPG', 'image (485).JPG', 'image (671).JPG', 'image (296).JPG', 'image (1078).JPG', 'image (51).JPG', 'image (986).JPG', 'image (1167).JPG', 'image (883).JPG', 'image (989).JPG', 'image (1072).JPG', 'image (1301).JPG', 'image (693).JPG', 'image (442).JPG', 'image (1329).JPG', 'image (856).JPG', 'image (486).JPG', 'image (898).JPG', 'image (792).JPG', 'image (821).JPG', 'image (481).JPG', 'image (980).JPG', 'image (315).JPG', 'image (1333).JPG', 'image (1351).JPG', 'image (1085).JPG', 'image (748).JPG', 'image (523).JPG', 'image (373).JPG', 'image (829).JPG', 'image (589).JPG', 'image (277).JPG', 'image (203).JPG', 'image (496).JPG', 'image (118).JPG', 'image (538).JPG', 'image (627).JPG', 'image (842).JPG', 'image (478).JPG', 'image (400).JPG', 'image (530).JPG', 'image (1346).JPG', 'image (53).JPG', 'image (873).JPG', 'image (733).JPG', 'image (290).JPG', 'image (1325).JPG', 'image (1092).JPG', 'image (1222).JPG', 'image (1383).JPG', 'image (1307).JPG', 'image (127).JPG', 'image (60).JPG', 'image (49).JPG', 'image (915).JPG', 'image (293).JPG', 'image (1353).JPG', 'image (755).JPG', 'image (178).JPG', 'image (834).JPG', 'image (217).JPG', 'image (215).JPG', 'image (153).JPG', 'image (87).JPG', 'image (1050).JPG', 'image (368).JPG', 'image (948).JPG', 'image (305).JPG', 'image (311).JPG', 'image (534).JPG', 'image (1136).JPG', 'image (839).JPG', 'image (1187).JPG', 'image (580).JPG', 'image (371).JPG', 'image (1339).JPG', 'image (703).JPG', 'image (735).JPG', 'image (1103).JPG', 'image (230).JPG', 'image (1328).JPG', 'image (1188).JPG', 'image (754).JPG', 'image (269).JPG', 'image (610).JPG', 'image (766).JPG', 'image (22).JPG', 'image (1180).JPG', 'image (71).JPG', 'image (1337).JPG', 'image (858).JPG', 'image (316).JPG', 'image (1089).JPG', 'image (1257).JPG', 'image (1372).JPG', 'image (1189).JPG', 'image (1230).JPG', 'image (632).JPG', 'image (797).JPG', 'image (1357).JPG', 'image (131).JPG', 'image (1247).JPG', 'image (665).JPG', 'image (1267).JPG', 'image (679).JPG', 'image (1370).JPG', 'image (36).JPG', 'image (868).JPG', 'image (878).JPG', 'image (1163).JPG', 'image (1228).JPG', 'image (612).JPG', 'image (177).JPG', 'image (606).JPG', 'image (427).JPG', 'image (1248).JPG', 'image (1120).JPG', 'image (913).JPG', 'image (93).JPG', 'image (565).JPG', 'image (1196).JPG', 'image (1059).JPG', 'image (235).JPG', 'image (519).JPG', 'image (708).JPG', 'image (678).JPG', 'image (1216).JPG', 'image (585).JPG', 'image (198).JPG', 'image (1097).JPG', 'image (765).JPG', 'image (258).JPG', 'image (1123).JPG', 'image (745).JPG', 'image (949).JPG', 'image (402).JPG', 'image (253).JPG', 'image (686).JPG', 'image (254).JPG', 'image (160).JPG', 'image (874).JPG', 'image (1316).JPG', 'image (1310).JPG', 'image (5).JPG', 'image (354).JPG', 'image (891).JPG', 'image (1006).JPG', 'image (880).JPG', 'image (596).JPG', 'image (271).JPG', 'image (583).JPG', 'image (691).JPG', 'image (1262).JPG', 'image (1226).JPG', 'image (705).JPG', 'image (1327).JPG', 'image (1233).JPG', 'image (1240).JPG', 'image (1143).JPG', 'image (301).JPG', 'image (1280).JPG', 'image (185).JPG', 'image (725).JPG', 'image (1285).JPG', 'image (999).JPG', 'image (1152).JPG', 'image (409).JPG', 'image (1355).JPG', 'image (320).JPG', 'image (56).JPG', 'image (294).JPG', 'image (359).JPG', 'image (432).JPG', 'image (1292).JPG', 'image (1051).JPG', 'image (1086).JPG', 'image (55).JPG', 'image (434).JPG', 'image (701).JPG', 'image (176).JPG', 'image (960).JPG', 'image (1250).JPG', 'image (897).JPG', 'image (1276).JPG', 'image (1122).JPG', 'image (595).JPG', 'image (1027).JPG', 'image (444).JPG', 'image (395).JPG', 'image (1249).JPG', 'image (339).JPG', 'image (887).JPG', 'image (722).JPG', 'image (1246).JPG', 'image (830).JPG', 'image (222).JPG', 'image (1126).JPG', 'image (514).JPG', 'image (1287).JPG', 'image (239).JPG', 'image (711).JPG', 'image (1322).JPG', 'image (472).JPG', 'image (343).JPG', 'image (615).JPG', 'image (396).JPG', 'image (1279).JPG', 'image (550).JPG', 'image (469).JPG', 'image (231).JPG', 'image (489).JPG', 'image (326).JPG', 'image (322).JPG', 'image (861).JPG', 'image (889).JPG', 'image (1160).JPG', 'image (521).JPG', 'image (200).JPG', 'image (1273).JPG', 'image (225).JPG', 'image (244).JPG', 'image (870).JPG', 'image (1199).JPG', 'image (1335).JPG', 'image (484).JPG', 'image (667).JPG', 'image (1049).JPG', 'image (886).JPG', 'image (79).JPG', 'image (88).JPG', 'image (774).JPG', 'image (379).JPG', 'image (826).JPG', 'image (935).JPG', 'image (973).JPG', 'image (622).JPG', 'image (214).JPG', 'image (72).JPG', 'image (646).JPG', 'image (838).JPG', 'image (567).JPG', 'image (285).JPG', 'image (1068).JPG', 'image (857).JPG', 'image (110).JPG', 'image (555).JPG', 'image (937).JPG', 'image (1342).JPG', 'image (384).JPG', 'image (120).JPG', 'image (1178).JPG', 'image (210).JPG', 'image (479).JPG', 'image (696).JPG', 'image (692).JPG', 'image (447).JPG', 'image (651).JPG', 'image (876).JPG', 'image (1077).JPG', 'image (779).JPG', 'image (220).JPG', 'image (1076).JPG', 'image (329).JPG', 'image (24).JPG', 'image (306).JPG', 'image (370).JPG', 'image (374).JPG', 'image (428).JPG', 'image (1083).JPG', 'image (513).JPG', 'image (1047).JPG', 'image (1343).JPG', 'image (319).JPG', 'image (1308).JPG', 'image (773).JPG', 'image (439).JPG', 'image (471).JPG', 'image (1001).JPG', 'image (746).JPG', 'image (793).JPG', 'image (282).JPG', 'image (1359).JPG', 'image (1256).JPG', 'image (1159).JPG', 'image (642).JPG', 'image (267).JPG', 'image (134).JPG', 'image (590).JPG', 'image (189).JPG', 'image (421).JPG', 'image (156).JPG', 'image (572).JPG', 'image (761).JPG', 'image (351).JPG', 'image (1318).JPG', 'image (54).JPG', 'image (853).JPG', 'image (1348).JPG', 'image (814).JPG', 'image (963).JPG', 'image (798).JPG', 'image (415).JPG', 'image (414).JPG', 'image (976).JPG', 'image (1058).JPG', 'image (1253).JPG', 'image (781).JPG', 'image (1145).JPG', 'image (1321).JPG', 'image (645).JPG', 'image (1007).JPG', 'image (1202).JPG', 'image (1141).JPG', 'image (1263).JPG', 'image (1183).JPG', 'image (1341).JPG', 'image (221).JPG', 'image (697).JPG', 'image (30).JPG', 'image (1140).JPG', 'image (150).JPG', 'image (445).JPG', 'image (1).JPG', 'image (1057).JPG', 'image (1376).JPG', 'image (1148).JPG', 'image (586).JPG', 'image (639).JPG', 'image (892).JPG', 'image (353).JPG', 'image (946).JPG', 'image (957).JPG', 'image (174).JPG', 'image (161).JPG', 'image (449).JPG', 'image (845).JPG', 'image (1296).JPG', 'image (516).JPG', 'image (23).JPG', 'image (591).JPG', 'image (1045).JPG', 'image (1105).JPG', 'image (1165).JPG', 'image (491).JPG', 'image (675).JPG', 'image (689).JPG', 'image (1192).JPG', 'image (399).JPG', 'image (1205).JPG', 'image (556).JPG', 'image (634).JPG', 'image (495).JPG', 'image (739).JPG', 'image (1232).JPG', 'image (1347).JPG', 'image (977).JPG', 'image (250).JPG', 'image (133).JPG', 'image (950).JPG', 'image (592).JPG', 'image (860).JPG', 'image (1107).JPG', 'image (292).JPG', 'image (138).JPG', 'image (600).JPG', 'image (772).JPG', 'image (404).JPG', 'image (673).JPG', 'image (832).JPG', 'image (1080).JPG', 'image (1362).JPG', 'image (1374).JPG', 'image (1111).JPG', 'image (1173).JPG', 'image (509).JPG', 'image (1110).JPG', 'image (968).JPG', 'image (68).JPG', 'image (546).JPG', 'image (988).JPG', 'image (140).JPG', 'image (341).JPG', 'image (662).JPG', 'image (991).JPG', 'image (994).JPG', 'image (1274).JPG', 'image (512).JPG', 'image (764).JPG', 'image (207).JPG', 'image (635).JPG', 'image (899).JPG', 'image (784).JPG', 'image (934).JPG', 'image (872).JPG', 'image (670).JPG', 'image (718).JPG', 'image (37).JPG', 'image (974).JPG', 'image (1258).JPG', 'image (1133).JPG', 'image (813).JPG', 'image (1040).JPG', 'image (918).JPG', 'image (241).JPG', 'image (618).JPG', 'image (35).JPG', 'image (1061).JPG', 'image (48).JPG', 'image (536).JPG', 'image (1101).JPG', 'image (1029).JPG', 'image (640).JPG', 'image (75).JPG', 'image (1121).JPG', 'image (1375).JPG', 'image (751).JPG', 'image (569).JPG', 'image (1112).JPG', 'image (187).JPG', 'image (657).JPG', 'image (1036).JPG', 'image (1382).JPG', 'image (263).JPG', 'image (1127).JPG', 'image (1254).JPG', 'image (358).JPG', 'image (866).JPG', 'image (494).JPG', 'image (1087).JPG', 'image (611).JPG', 'image (243).JPG', 'image (959).JPG', 'image (570).JPG', 'image (885).JPG', 'image (437).JPG', 'image (800).JPG', 'image (167).JPG', 'image (136).JPG', 'image (462).JPG', 'image (199).JPG', 'image (1286).JPG', 'image (502).JPG', 'image (511).JPG', 'image (578).JPG', 'image (568).JPG', 'image (20).JPG', 'image (435).JPG', 'image (1117).JPG', 'image (19).JPG', 'image (247).JPG', 'image (450).JPG', 'image (480).JPG', 'image (25).JPG', 'image (902).JPG', 'image (894).JPG', 'image (558).JPG', 'image (1073).JPG', 'image (508).JPG', 'image (165).JPG', 'image (819).JPG', 'image (1377).JPG', 'image (526).JPG', 'image (1204).JPG', 'image (836).JPG', 'image (843).JPG', 'image (1265).JPG', 'image (261).JPG', 'image (824).JPG', 'image (608).JPG', 'image (1033).JPG', 'image (69).JPG', 'image (112).JPG', 'image (387).JPG', 'image (40).JPG', 'image (256).JPG', 'image (1179).JPG', 'image (601).JPG', 'image (659).JPG', 'image (943).JPG', 'image (262).JPG', 'image (321).JPG', 'image (307).JPG', 'image (786).JPG', 'image (201).JPG', 'image (1053).JPG', 'image (1218).JPG', 'image (182).JPG', 'image (879).JPG', 'image (407).JPG', 'image (551).JPG', 'image (517).JPG', 'image (233).JPG', 'image (763).JPG', 'image (664).JPG', 'image (1224).JPG', 'image (158).JPG', 'image (938).JPG', 'image (828).JPG', 'image (1157).JPG', 'image (482).JPG', 'image (393).JPG', 'image (238).JPG', 'image (268).JPG', 'image (1174).JPG', 'image (338).JPG', 'image (605).JPG', 'image (1319).JPG', 'image (466).JPG', 'image (1026).JPG', 'image (95).JPG', 'image (1264).JPG', 'image (1243).JPG', 'image (1354).JPG', 'image (1323).JPG', 'image (1062).JPG', 'image (864).JPG', 'image (1075).JPG', 'image (257).JPG', 'image (1071).JPG', 'image (32).JPG', 'image (893).JPG', 'image (363).JPG', 'image (1356).JPG', 'image (27).JPG', 'image (775).JPG', 'image (386).JPG', 'image (785).JPG', 'image (255).JPG', 'image (1352).JPG', 'image (389).JPG', 'image (964).JPG', 'image (990).JPG', 'image (616).JPG', 'image (917).JPG', 'image (8).JPG', 'image (440).JPG', 'image (411).JPG', 'image (1207).JPG', 'image (903).JPG', 'image (349).JPG', 'image (139).JPG', 'image (695).JPG', 'image (86).JPG', 'image (372).JPG', 'image (1242).JPG', 'image (1288).JPG', 'image (702).JPG', 'image (1125).JPG', 'image (723).JPG', 'image (1320).JPG', 'image (499).JPG', 'image (921).JPG', 'image (63).JPG', 'image (890).JPG', 'image (1300).JPG', 'image (1158).JPG', 'image (923).JPG', 'image (1028).JPG', 'image (995).JPG', 'image (905).JPG', 'image (954).JPG', 'image (1311).JPG', 'image (204).JPG', 'image (142).JPG', 'image (577).JPG', 'image (498).JPG', 'image (787).JPG', 'image (637).JPG', 'image (352).JPG', 'image (85).JPG', 'image (778).JPG', 'image (106).JPG', 'image (1124).JPG', 'image (744).JPG', 'image (163).JPG', 'image (1297).JPG', 'image (1016).JPG', 'image (412).JPG', 'image (82).JPG', 'image (916).JPG', 'image (576).JPG', 'image (1023).JPG', 'image (288).JPG', 'image (1345).JPG', 'image (747).JPG', 'image (573).JPG', 'image (1255).JPG', 'image (1261).JPG', 'image (309).JPG', 'image (429).JPG', 'image (710).JPG', 'image (46).JPG', 'image (197).JPG', 'image (599).JPG', 'image (1317).JPG', 'image (16).JPG', 'image (337).JPG', 'image (422).JPG', 'image (1313).JPG', 'image (1005).JPG', 'image (1234).JPG', 'image (14).JPG', 'image (644).JPG', 'image (574).JPG', 'image (623).JPG', 'image (1017).JPG', 'image (1212).JPG', 'image (265).JPG', 'image (812).JPG', 'image (420).JPG', 'image (582).JPG', 'image (1039).JPG', 'image (1030).JPG', 'image (474).JPG', 'image (851).JPG', 'image (848).JPG', 'image (1128).JPG', 'image (173).JPG', 'image (377).JPG', 'image (1221).JPG', 'image (147).JPG', 'image (7).JPG', 'image (135).JPG', 'image (539).JPG', 'image (970).JPG', 'image (234).JPG', 'image (1114).JPG', 'image (357).JPG', 'image (877).JPG', 'image (218).JPG', 'image (768).JPG', 'image (505).JPG', 'image (344).JPG', 'image (170).JPG', 'image (587).JPG', 'image (1272).JPG', 'image (1364).JPG', 'image (560).JPG', 'image (116).JPG', 'image (1095).JPG', 'image (940).JPG', 'image (1034).JPG', 'image (1104).JPG', 'image (884).JPG', 'image (405).JPG', 'image (783).JPG', 'image (1042).JPG', 'image (34).JPG', 'image (729).JPG', 'image (907).JPG', 'image (1239).JPG', 'image (952).JPG', 'image (1172).JPG', 'image (780).JPG', 'image (1260).JPG', 'image (52).JPG', 'image (823).JPG', 'image (1185).JPG', 'image (417).JPG', 'image (1219).JPG', 'image (392).JPG', 'image (476).JPG', 'image (862).JPG', 'image (66).JPG', 'image (929).JPG', 'image (4).JPG', 'image (1252).JPG', 'image (1294).JPG', 'image (1108).JPG', 'image (148).JPG', 'image (1054).JPG', 'image (958).JPG', 'image (1251).JPG', 'image (805).JPG', 'image (1229).JPG', 'image (1010).JPG', 'image (1109).JPG', 'image (41).JPG', 'image (97).JPG', 'image (113).JPG', 'image (1162).JPG', 'image (57).JPG', 'image (61).JPG', 'image (1302).JPG', 'image (1211).JPG', 'image (289).JPG', 'image (283).JPG', 'image (287).JPG', 'image (501).JPG', 'image (388).JPG', 'image (1082).JPG', 'image (998).JPG', 'image (115).JPG', 'image (1066).JPG', 'image (955).JPG', 'image (562).JPG', 'image (308).JPG', 'image (1186).JPG', 'image (625).JPG', 'image (171).JPG', 'image (561).JPG', 'image (446).JPG', 'image (1099).JPG', 'image (1024).JPG', 'image (927).JPG', 'image (356).JPG', 'image (184).JPG', 'image (245).JPG', 'image (1198).JPG', 'image (452).JPG', 'image (194).JPG', 'image (465).JPG', 'image (1291).JPG', 'image (335).JPG', 'image (1330).JPG', 'image (924).JPG', 'image (806).JPG', 'image (602).JPG', 'image (650).JPG', 'image (38).JPG', 'image (1270).JPG', 'image (1238).JPG', 'image (397).JPG', 'image (1200).JPG', 'image (1022).JPG', 'image (162).JPG', 'image (122).JPG', 'image (1096).JPG', 'image (141).JPG', 'image (931).JPG', 'image (62).JPG', 'image (1304).JPG', 'image (1155).JPG', 'image (70).JPG', 'image (300).JPG', 'image (730).JPG', 'image (825).JPG', 'image (738).JPG', 'image (252).JPG', 'image (770).JPG', 'image (1193).JPG', 'image (378).JPG', 'image (1115).JPG', 'image (762).JPG', 'image (888).JPG', 'image (987).JPG', 'image (318).JPG', 'image (712).JPG', 'image (1366).JPG', 'image (223).JPG', 'image (1197).JPG', 'image (102).JPG', 'image (1046).JPG', 'image (1175).JPG', 'image (1102).JPG', 'image (278).JPG', 'image (101).JPG', 'image (104).JPG', 'image (961).JPG', 'image (332).JPG', 'image (1305).JPG', 'image (99).JPG', 'image (330).JPG', 'image (720).JPG', 'image (859).JPG', 'image (535).JPG', 'image (690).JPG', 'image (549).JPG', 'image (700).JPG', 'image (367).JPG', 'image (259).JPG', 'image (26).JPG', 'image (431).JPG', 'image (1118).JPG', 'image (544).JPG', 'image (922).JPG', 'image (1065).JPG', 'image (811).JPG', 'image (457).JPG', 'image (137).JPG', 'image (159).JPG', 'image (1182).JPG', 'image (674).JPG', 'image (1315).JPG', 'image (1031).JPG', 'image (1367).JPG', 'image (424).JPG', 'image (281).JPG', 'image (791).JPG', 'image (114).JPG', 'image (682).JPG', 'image (179).JPG', 'image (483).JPG', 'image (901).JPG', 'image (17).JPG', 'image (193).JPG', 'image (423).JPG', 'image (617).JPG', 'image (520).JPG', 'image (559).JPG', 'image (191).JPG', 'image (451).JPG', 'image (1213).JPG', 'image (846).JPG', 'image (29).JPG', 'image (967).JPG', 'image (312).JPG', 'image (677).JPG', 'image (809).JPG', 'image (83).JPG', 'image (1236).JPG', 'image (1282).JPG', 'image (1340).JPG', 'image (1060).JPG', 'image (406).JPG', 'image (246).JPG', 'image (227).JPG', 'image (94).JPG', 'image (552).JPG', 'image (467).JPG', 'image (753).JPG', 'image (328).JPG', 'image (1151).JPG', 'image (801).JPG', 'image (1344).JPG', 'image (906).JPG', 'image (996).JPG', 'image (575).JPG', 'image (1217).JPG', 'image (175).JPG', 'image (1244).JPG', 'image (1170).JPG', 'image (865).JPG', 'image (1168).JPG', 'image (2).JPG', 'image (455).JPG', 'image (1067).JPG', 'image (694).JPG', 'image (979).JPG', 'image (391).JPG', 'image (3).JPG', 'image (365).JPG', 'image (186).JPG', 'image (1227).JPG', 'image (1139).JPG', 'image (438).JPG', 'image (542).JPG', 'image (375).JPG', 'image (1225).JPG', 'image (410).JPG', 'image (310).JPG', 'image (76).JPG', 'image (631).JPG', 'image (336).JPG', 'image (1269).JPG', 'image (808).JPG', 'image (463).JPG', 'image (1190).JPG', 'image (920).JPG', 'image (383).JPG', 'image (992).JPG', 'image (1055).JPG', 'image (1014).JPG', 'image (724).JPG', 'image (757).JPG', 'image (532).JPG', 'image (103).JPG', 'image (1032).JPG', 'image (105).JPG', 'image (584).JPG', 'image (1268).JPG', 'image (1360).JPG', 'image (470).JPG', 'image (1161).JPG', 'image (362).JPG', 'image (822).JPG', 'image (1373).JPG', 'image (403).JPG', 'image (1134).JPG', 'image (1002).JPG', 'image (914).JPG', 'image (844).JPG', 'image (1184).JPG', 'image (647).JPG', 'image (740).JPG', 'image (464).JPG', 'image (668).JPG', 'image (270).JPG', 'image (1063).JPG', 'image (510).JPG', 'image (594).JPG', 'image (1137).JPG', 'image (1091).JPG', 'image (1019).JPG', 'image (44).JPG', 'image (1284).JPG', 'image (1349).JPG', 'image (166).JPG', 'image (98).JPG', 'image (65).JPG', 'image (985).JPG', 'image (1098).JPG', 'image (676).JPG', 'image (1237).JPG', 'image (1138).JPG', 'image (776).JPG', 'image (982).JPG', 'image (196).JPG', 'image (1306).JPG', 'image (73).JPG', 'image (571).JPG', 'image (1119).JPG', 'image (475).JPG', 'image (643).JPG', 'image (1380).JPG', 'image (216).JPG', 'image (993).JPG', 'image (1201).JPG', 'image (96).JPG', 'image (633).JPG', 'image (1129).JPG', 'image (180).JPG', 'image (164).JPG', 'image (597).JPG', 'image (566).JPG', 'image (381).JPG', 'image (42).JPG', 'image (74).JPG', 'image (458).JPG', 'image (229).JPG', 'image (840).JPG', 'image (799).JPG', 'image (932).JPG', 'image (298).JPG', 'image (660).JPG', 'image (473).JPG', 'image (609).JPG', 'image (130).JPG', 'image (953).JPG', 'image (333).JPG', 'image (154).JPG', 'image (1214).JPG', 'image (728).JPG', 'image (416).JPG', 'image (33).JPG', 'image (1113).JPG', 'image (912).JPG', 'image (795).JPG', 'image (433).JPG', 'image (1332).JPG', 'image (1235).JPG', 'image (847).JPG', 'image (965).JPG', 'image (1064).JPG', 'image (1100).JPG', 'image (919).JPG', 'image (547).JPG', 'image (59).JPG', 'image (816).JPG', 'image (497).JPG', 'image (209).JPG', 'image (426).JPG', 'image (460).JPG', 'image (488).JPG', 'image (11).JPG', 'image (620).JPG', 'image (9).JPG', 'image (810).JPG', 'image (31).JPG', 'image (64).JPG', 'image (132).JPG', 'image (707).JPG', 'image (456).JPG', 'image (314).JPG', 'image (1195).JPG', 'image (453).JPG', 'image (653).JPG', 'image (350).JPG', 'image (875).JPG', 'image (709).JPG', 'image (715).JPG', 'image (1210).JPG', 'image (1149).JPG', 'image (867).JPG', 'image (441).JPG', 'image (1293).JPG', 'image (1275).JPG', 'image (767).JPG', 'image (1004).JPG', 'image (1135).JPG', 'image (655).JPG', 'image (833).JPG', 'image (128).JPG', 'image (418).JPG', 'image (604).JPG', 'image (1241).JPG', 'image (796).JPG', 'image (242).JPG', 'image (266).JPG', 'image (1215).JPG', 'image (1191).JPG', 'image (527).JPG', 'image (39).JPG', 'image (962).JPG', 'image (942).JPG', 'image (790).JPG', 'image (545).JPG', 'image (835).JPG', 'image (525).JPG', 'image (324).JPG', 'image (493).JPG', 'image (726).JPG', 'image (771).JPG', 'image (1334).JPG', 'image (557).JPG', 'image (119).JPG', 'image (777).JPG', 'image (541).JPG', 'image (869).JPG', 'image (666).JPG', 'image (1153).JPG', 'image (717).JPG', 'image (648).JPG', 'image (146).JPG', 'image (537).JPG', 'image (624).JPG', 'image (313).JPG', 'image (619).JPG', 'image (1084).JPG', 'image (658).JPG', 'image (331).JPG', 'image (430).JPG', 'image (1013).JPG', 'image (117).JPG', 'image (1181).JPG', 'image (1106).JPG', 'image (841).JPG', 'image (528).JPG', 'image (1361).JPG', 'image (518).JPG', 'image (699).JPG', 'image (284).JPG', 'image (803).JPG', 'image (1259).JPG', 'image (58).JPG', 'image (719).JPG', 'image (273).JPG', 'image (1070).JPG', 'image (327).JPG', 'image (152).JPG', 'image (240).JPG', 'image (1088).JPG', 'image (563).JPG', 'image (1132).JPG', 'image (855).JPG', 'image (382).JPG', 'image (260).JPG', 'image (978).JPG', 'image (789).JPG', 'image (871).JPG', 'image (1079).JPG', 'image (251).JPG', 'image (477).JPG', 'image (126).JPG', 'image (680).JPG', 'image (1009).JPG', 'image (900).JPG', 'image (911).JPG', 'image (540).JPG', 'image (1020).JPG', 'image (108).JPG', 'image (1044).JPG', 'image (721).JPG', 'image (443).JPG', 'image (515).JPG', 'image (145).JPG', 'image (401).JPG', 'image (47).JPG', 'image (345).JPG', 'image (966).JPG', 'image (129).JPG', 'image (342).JPG', 'image (490).JPG', 'image (743).JPG', 'image (248).JPG', 'image (956).JPG', 'image (1358).JPG', 'image (506).JPG', 'image (143).JPG', 'image (303).JPG', 'image (930).JPG', 'image (972).JPG', 'image (613).JPG', 'image (758).JPG', 'image (89).JPG', 'image (636).JPG', 'image (1130).JPG', 'image (1331).JPG', 'image (1069).JPG', 'image (1281).JPG', 'image (168).JPG', 'image (84).JPG', 'image (663).JPG', 'image (1303).JPG', 'image (997).JPG', 'image (1056).JPG', 'image (212).JPG', 'image (224).JPG', 'image (628).JPG', 'image (759).JPG', 'image (1277).JPG', 'image (933).JPG', 'image (939).JPG', 'image (579).JPG', 'image (195).JPG', 'image (802).JPG', 'image (1350).JPG', 'image (1363).JPG', 'image (1166).JPG', 'image (376).JPG', 'image (192).JPG', 'image (317).JPG', 'image (1289).JPG', 'image (1048).JPG', 'image (688).JPG', 'image (652).JPG', 'image (951).JPG', 'image (206).JPG', 'image (325).JPG', 'image (90).JPG', 'image (487).JPG', 'image (461).JPG', 'image (436).JPG', 'image (1035).JPG', 'image (638).JPG', 'image (92).JPG', 'image (6).JPG', 'image (727).JPG', 'image (28).JPG', 'image (1194).JPG', 'image (1336).JPG', 'image (1312).JPG', 'image (1223).JPG', 'image (1369).JPG', 'image (211).JPG', 'image (448).JPG', 'image (593).JPG', 'image (533).JPG', 'image (1209).JPG', 'image (91).JPG', 'image (752).JPG', 'image (896).JPG', 'image (1090).JPG', 'image (1093).JPG', 'image (849).JPG', 'image (43).JPG', 'image (881).JPG', 'image (232).JPG', 'image (361).JPG', 'image (340).JPG', 'image (1206).JPG', 'image (531).JPG', 'image (1003).JPG', 'image (672).JPG', 'image (782).JPG', 'image (1290).JPG', 'image (1271).JPG', 'image (202).JPG', 'image (1231).JPG', 'image (1037).JPG', 'image (1012).JPG', 'image (279).JPG', 'image (1154).JPG', 'image (109).JPG', 'image (683).JPG', 'image (1018).JPG', 'image (1041).JPG', 'image (983).JPG', 'image (654).JPG', 'image (1371).JPG', 'image (1314).JPG', 'image (1150).JPG', 'image (408).JPG', 'image (123).JPG', 'image (299).JPG', 'image (1043).JPG', 'image (1081).JPG', 'image (910).JPG', 'image (641).JPG', 'image (355).JPG', 'image (936).JPG', 'image (1052).JPG', 'image (1278).JPG', 'image (1338).JPG', 'image (1131).JPG', 'image (731).JPG', 'image (548).JPG', 'image (272).JPG', 'image (1147).JPG', 'image (188).JPG', 'image (827).JPG', 'image (425).JPG', 'image (1146).JPG', 'image (413).JPG', 'image (1025).JPG', 'image (1324).JPG', 'image (275).JPG', 'image (734).JPG', 'image (1266).JPG', 'image (286).JPG', 'image (882).JPG', 'image (588).JPG', 'image (1298).JPG', 'image (837).JPG', 'image (1365).JPG', 'image (144).JPG', 'image (598).JPG', 'image (459).JPG', 'image (1169).JPG', 'image (1326).JPG', 'image (817).JPG', 'image (863).JPG', 'image (21).JPG', 'image (522).JPG', 'image (736).JPG', 'image (1144).JPG', 'image (1116).JPG', 'image (181).JPG', 'image (304).JPG', 'image (760).JPG', 'image (581).JPG', 'image (1299).JPG', 'image (100).JPG', 'image (297).JPG', 'image (564).JPG', 'image (1378).JPG', 'image (208).JPG', 'image (369).JPG', 'image (348).JPG', 'image (226).JPG']\n",
            "drive/MyDrive/TRAIN/Strawberry___Leaf_scorch\n",
            "['image (781).JPG', 'image (35).JPG', 'image (747).JPG', 'image (878).JPG', 'image (909).JPG', 'image (702).JPG', 'image (656).JPG', 'image (611).JPG', 'image (455).JPG', 'image (322).JPG', 'image (547).JPG', 'image (458).JPG', 'image (67).JPG', 'image (769).JPG', 'image (880).JPG', 'image (70).JPG', 'image (1031).JPG', 'image (88).JPG', 'image (388).JPG', 'image (33).JPG', 'image (935).JPG', 'image (710).JPG', 'image (97).JPG', 'image (63).JPG', 'image (129).JPG', 'image (178).JPG', 'image (456).JPG', 'image (137).JPG', 'image (864).JPG', 'image (82).JPG', 'image (103).JPG', 'image (993).JPG', 'image (979).JPG', 'image (680).JPG', 'image (174).JPG', 'image (218).JPG', 'image (376).JPG', 'image (984).JPG', 'image (587).JPG', 'image (378).JPG', 'image (1041).JPG', 'image (1085).JPG', 'image (1010).JPG', 'image (72).JPG', 'image (922).JPG', 'image (2).JPG', 'image (839).JPG', 'image (266).JPG', 'image (253).JPG', 'image (722).JPG', 'image (480).JPG', 'image (1078).JPG', 'image (317).JPG', 'image (231).JPG', 'image (1056).JPG', 'image (654).JPG', 'image (666).JPG', 'image (960).JPG', 'image (229).JPG', 'image (818).JPG', 'image (1036).JPG', 'image (751).JPG', 'image (933).JPG', 'image (117).JPG', 'image (175).JPG', 'image (1084).JPG', 'image (1070).JPG', 'image (868).JPG', 'image (425).JPG', 'image (457).JPG', 'image (1044).JPG', 'image (643).JPG', 'image (102).JPG', 'image (353).JPG', 'image (489).JPG', 'image (1021).JPG', 'image (338).JPG', 'image (580).JPG', 'image (180).JPG', 'image (1011).JPG', 'image (810).JPG', 'image (510).JPG', 'image (273).JPG', 'image (1033).JPG', 'image (1025).JPG', 'image (851).JPG', 'image (955).JPG', 'image (578).JPG', 'image (56).JPG', 'image (413).JPG', 'image (308).JPG', 'image (660).JPG', 'image (1030).JPG', 'image (658).JPG', 'image (264).JPG', 'image (822).JPG', 'image (623).JPG', 'image (940).JPG', 'image (893).JPG', 'image (140).JPG', 'image (913).JPG', 'image (29).JPG', 'image (926).JPG', 'image (831).JPG', 'image (705).JPG', 'image (726).JPG', 'image (907).JPG', 'image (167).JPG', 'image (18).JPG', 'image (544).JPG', 'image (959).JPG', 'image (1029).JPG', 'image (622).JPG', 'image (247).JPG', 'image (951).JPG', 'image (373).JPG', 'image (749).JPG', 'image (451).JPG', 'image (900).JPG', 'image (720).JPG', 'image (683).JPG', 'image (48).JPG', 'image (785).JPG', 'image (196).JPG', 'image (988).JPG', 'image (742).JPG', 'image (255).JPG', 'image (991).JPG', 'image (815).JPG', 'image (490).JPG', 'image (441).JPG', 'image (567).JPG', 'image (636).JPG', 'image (438).JPG', 'image (30).JPG', 'image (1053).JPG', 'image (146).JPG', 'image (856).JPG', 'image (150).JPG', 'image (423).JPG', 'image (270).JPG', 'image (216).JPG', 'image (453).JPG', 'image (279).JPG', 'image (80).JPG', 'image (285).JPG', 'image (1015).JPG', 'image (791).JPG', 'image (589).JPG', 'image (46).JPG', 'image (53).JPG', 'image (298).JPG', 'image (1012).JPG', 'image (768).JPG', 'image (928).JPG', 'image (182).JPG', 'image (682).JPG', 'image (1102).JPG', 'image (843).JPG', 'image (81).JPG', 'image (616).JPG', 'image (635).JPG', 'image (522).JPG', 'image (651).JPG', 'image (908).JPG', 'image (476).JPG', 'image (686).JPG', 'image (625).JPG', 'image (777).JPG', 'image (286).JPG', 'image (265).JPG', 'image (111).JPG', 'image (1091).JPG', 'image (664).JPG', 'image (961).JPG', 'image (219).JPG', 'image (176).JPG', 'image (155).JPG', 'image (444).JPG', 'image (503).JPG', 'image (515).JPG', 'image (359).JPG', 'image (1059).JPG', 'image (329).JPG', 'image (188).JPG', 'image (797).JPG', 'image (653).JPG', 'image (799).JPG', 'image (110).JPG', 'image (74).JPG', 'image (96).JPG', 'image (748).JPG', 'image (549).JPG', 'image (412).JPG', 'image (982).JPG', 'image (327).JPG', 'image (420).JPG', 'image (655).JPG', 'image (1066).JPG', 'image (166).JPG', 'image (1003).JPG', 'image (992).JPG', 'image (496).JPG', 'image (738).JPG', 'image (920).JPG', 'image (677).JPG', 'image (248).JPG', 'image (1050).JPG', 'image (443).JPG', 'image (642).JPG', 'image (752).JPG', 'image (579).JPG', 'image (404).JPG', 'image (523).JPG', 'image (759).JPG', 'image (205).JPG', 'image (495).JPG', 'image (386).JPG', 'image (823).JPG', 'image (875).JPG', 'image (184).JPG', 'image (303).JPG', 'image (149).JPG', 'image (9).JPG', 'image (239).JPG', 'image (586).JPG', 'image (514).JPG', 'image (740).JPG', 'image (699).JPG', 'image (914).JPG', 'image (1104).JPG', 'image (712).JPG', 'image (1016).JPG', 'image (730).JPG', 'image (814).JPG', 'image (1069).JPG', 'image (416).JPG', 'image (885).JPG', 'image (944).JPG', 'image (257).JPG', 'image (657).JPG', 'image (1038).JPG', 'image (782).JPG', 'image (946).JPG', 'image (389).JPG', 'image (340).JPG', 'image (475).JPG', 'image (372).JPG', 'image (709).JPG', 'image (330).JPG', 'image (526).JPG', 'image (466).JPG', 'image (1071).JPG', 'image (1060).JPG', 'image (68).JPG', 'image (114).JPG', 'image (446).JPG', 'image (511).JPG', 'image (288).JPG', 'image (12).JPG', 'image (497).JPG', 'image (42).JPG', 'image (662).JPG', 'image (829).JPG', 'image (268).JPG', 'image (411).JPG', 'image (930).JPG', 'image (1064).JPG', 'image (226).JPG', 'image (694).JPG', 'image (538).JPG', 'image (1005).JPG', 'image (800).JPG', 'image (16).JPG', 'image (333).JPG', 'image (1089).JPG', 'image (1007).JPG', 'image (342).JPG', 'image (1026).JPG', 'image (582).JPG', 'image (460).JPG', 'image (222).JPG', 'image (805).JPG', 'image (299).JPG', 'image (570).JPG', 'image (447).JPG', 'image (485).JPG', 'image (179).JPG', 'image (417).JPG', 'image (981).JPG', 'image (713).JPG', 'image (349).JPG', 'image (825).JPG', 'image (890).JPG', 'image (234).JPG', 'image (867).JPG', 'image (725).JPG', 'image (439).JPG', 'image (1080).JPG', 'image (927).JPG', 'image (500).JPG', 'image (365).JPG', 'image (566).JPG', 'image (181).JPG', 'image (989).JPG', 'image (1061).JPG', 'image (1098).JPG', 'image (320).JPG', 'image (820).JPG', 'image (1055).JPG', 'image (565).JPG', 'image (50).JPG', 'image (830).JPG', 'image (209).JPG', 'image (807).JPG', 'image (90).JPG', 'image (304).JPG', 'image (290).JPG', 'image (1006).JPG', 'image (73).JPG', 'image (646).JPG', 'image (410).JPG', 'image (170).JPG', 'image (550).JPG', 'image (435).JPG', 'image (619).JPG', 'image (729).JPG', 'image (760).JPG', 'image (840).JPG', 'image (821).JPG', 'image (396).JPG', 'image (952).JPG', 'image (1068).JPG', 'image (1074).JPG', 'image (595).JPG', 'image (1097).JPG', 'image (37).JPG', 'image (704).JPG', 'image (824).JPG', 'image (543).JPG', 'image (1040).JPG', 'image (275).JPG', 'image (542).JPG', 'image (403).JPG', 'image (859).JPG', 'image (978).JPG', 'image (990).JPG', 'image (854).JPG', 'image (985).JPG', 'image (207).JPG', 'image (41).JPG', 'image (289).JPG', 'image (236).JPG', 'image (1004).JPG', 'image (827).JPG', 'image (206).JPG', 'image (879).JPG', 'image (1108).JPG', 'image (739).JPG', 'image (601).JPG', 'image (787).JPG', 'image (590).JPG', 'image (891).JPG', 'image (1076).JPG', 'image (197).JPG', 'image (517).JPG', 'image (152).JPG', 'image (764).JPG', 'image (848).JPG', 'image (736).JPG', 'image (123).JPG', 'image (221).JPG', 'image (452).JPG', 'image (741).JPG', 'image (606).JPG', 'image (536).JPG', 'image (970).JPG', 'image (261).JPG', 'image (1014).JPG', 'image (668).JPG', 'image (245).JPG', 'image (346).JPG', 'image (293).JPG', 'image (1109).JPG', 'image (1077).JPG', 'image (832).JPG', 'image (357).JPG', 'image (723).JPG', 'image (942).JPG', 'image (336).JPG', 'image (841).JPG', 'image (581).JPG', 'image (737).JPG', 'image (707).JPG', 'image (685).JPG', 'image (675).JPG', 'image (690).JPG', 'image (630).JPG', 'image (929).JPG', 'image (332).JPG', 'image (341).JPG', 'image (171).JPG', 'image (808).JPG', 'image (127).JPG', 'image (5).JPG', 'image (980).JPG', 'image (377).JPG', 'image (366).JPG', 'image (397).JPG', 'image (141).JPG', 'image (964).JPG', 'image (1024).JPG', 'image (684).JPG', 'image (1058).JPG', 'image (287).JPG', 'image (318).JPG', 'image (871).JPG', 'image (87).JPG', 'image (267).JPG', 'image (86).JPG', 'image (508).JPG', 'image (168).JPG', 'image (846).JPG', 'image (772).JPG', 'image (1022).JPG', 'image (177).JPG', 'image (20).JPG', 'image (802).JPG', 'image (882).JPG', 'image (10).JPG', 'image (101).JPG', 'image (135).JPG', 'image (811).JPG', 'image (1035).JPG', 'image (136).JPG', 'image (588).JPG', 'image (47).JPG', 'image (902).JPG', 'image (620).JPG', 'image (1009).JPG', 'image (762).JPG', 'image (936).jpg', 'image (95).JPG', 'image (943).JPG', 'image (976).JPG', 'image (755).JPG', 'image (647).JPG', 'image (334).JPG', 'image (828).JPG', 'image (208).JPG', 'image (627).JPG', 'image (66).JPG', 'image (1028).JPG', 'image (145).JPG', 'image (947).JPG', 'image (492).JPG', 'image (269).JPG', 'image (528).JPG', 'image (826).JPG', 'image (1088).JPG', 'image (693).JPG', 'image (113).JPG', 'image (612).JPG', 'image (319).JPG', 'image (369).JPG', 'image (302).JPG', 'image (491).JPG', 'image (85).JPG', 'image (1018).JPG', 'image (718).JPG', 'image (795).JPG', 'image (250).JPG', 'image (706).JPG', 'image (431).JPG', 'image (576).JPG', 'image (467).JPG', 'image (99).JPG', 'image (156).JPG', 'image (507).JPG', 'image (55).JPG', 'image (554).JPG', 'image (719).JPG', 'image (473).JPG', 'image (911).JPG', 'image (798).JPG', 'image (445).JPG', 'image (948).JPG', 'image (482).JPG', 'image (125).JPG', 'image (367).JPG', 'image (328).JPG', 'image (19).JPG', 'image (1008).JPG', 'image (310).JPG', 'image (354).JPG', 'image (659).JPG', 'image (758).JPG', 'image (62).JPG', 'image (58).JPG', 'image (60).JPG', 'image (852).JPG', 'image (953).JPG', 'image (11).JPG', 'image (84).JPG', 'image (931).JPG', 'image (753).JPG', 'image (676).JPG', 'image (1105).JPG', 'image (735).JPG', 'image (794).JPG', 'image (1).JPG', 'image (571).JPG', 'image (602).JPG', 'image (479).JPG', 'image (553).JPG', 'image (133).JPG', 'image (574).JPG', 'image (235).JPG', 'image (731).JPG', 'image (921).JPG', 'image (487).JPG', 'image (358).JPG', 'image (343).JPG', 'image (335).JPG', 'image (569).JPG', 'image (406).JPG', 'image (793).JPG', 'image (4).JPG', 'image (573).JPG', 'image (865).JPG', 'image (165).JPG', 'image (158).JPG', 'image (505).JPG', 'image (847).JPG', 'image (77).JPG', 'image (971).JPG', 'image (470).JPG', 'image (7).JPG', 'image (816).JPG', 'image (671).JPG', 'image (115).JPG', 'image (1051).JPG', 'image (773).JPG', 'image (122).JPG', 'image (51).JPG', 'image (352).JPG', 'image (454).JPG', 'image (477).JPG', 'image (194).JPG', 'image (757).JPG', 'image (637).JPG', 'image (313).JPG', 'image (1101).JPG', 'image (696).JPG', 'image (251).JPG', 'image (672).JPG', 'image (384).JPG', 'image (116).JPG', 'image (866).JPG', 'image (604).JPG', 'image (804).JPG', 'image (954).JPG', 'image (459).JPG', 'image (716).JPG', 'image (889).JPG', 'image (836).JPG', 'image (134).JPG', 'image (986).JPG', 'image (243).JPG', 'image (932).JPG', 'image (108).JPG', 'image (950).JPG', 'image (375).JPG', 'image (939).JPG', 'image (681).JPG', 'image (1046).JPG', 'image (838).JPG', 'image (779).JPG', 'image (201).JPG', 'image (260).JPG', 'image (965).JPG', 'image (945).JPG', 'image (645).JPG', 'image (105).JPG', 'image (610).JPG', 'image (728).JPG', 'image (350).JPG', 'image (509).JPG', 'image (64).JPG', 'image (518).JPG', 'image (258).JPG', 'image (520).JPG', 'image (300).JPG', 'image (224).JPG', 'image (483).JPG', 'image (162).JPG', 'image (545).JPG', 'image (163).JPG', 'image (1049).JPG', 'image (93).JPG', 'image (130).JPG', 'image (819).JPG', 'image (183).JPG', 'image (599).JPG', 'image (22).JPG', 'image (628).JPG', 'image (539).JPG', 'image (83).JPG', 'image (380).JPG', 'image (941).JPG', 'image (230).JPG', 'image (204).JPG', 'image (151).JPG', 'image (687).JPG', 'image (232).JPG', 'image (796).JPG', 'image (1107).JPG', 'image (887).JPG', 'image (701).JPG', 'image (1072).JPG', 'image (715).JPG', 'image (788).JPG', 'image (294).JPG', 'image (238).JPG', 'image (189).JPG', 'image (552).JPG', 'image (1017).JPG', 'image (1027).JPG', 'image (632).JPG', 'image (26).JPG', 'image (924).JPG', 'image (1054).JPG', 'image (903).JPG', 'image (618).JPG', 'image (899).JPG', 'image (39).JPG', 'image (276).JPG', 'image (394).JPG', 'image (663).JPG', 'image (355).JPG', 'image (513).JPG', 'image (853).JPG', 'image (363).JPG', 'image (665).JPG', 'image (869).JPG', 'image (374).JPG', 'image (994).JPG', 'image (888).JPG', 'image (605).JPG', 'image (301).JPG', 'image (844).JPG', 'image (541).JPG', 'image (426).JPG', 'image (337).JPG', 'image (1043).JPG', 'image (316).JPG', 'image (1001).JPG', 'image (521).JPG', 'image (744).JPG', 'image (469).JPG', 'image (43).JPG', 'image (537).JPG', 'image (297).JPG', 'image (1079).JPG', 'image (812).JPG', 'image (164).JPG', 'image (254).JPG', 'image (641).JPG', 'image (463).JPG', 'image (488).JPG', 'image (237).JPG', 'image (1081).JPG', 'image (842).JPG', 'image (598).JPG', 'image (910).JPG', 'image (292).JPG', 'image (609).JPG', 'image (393).JPG', 'image (449).JPG', 'image (1062).JPG', 'image (765).JPG', 'image (809).JPG', 'image (220).JPG', 'image (745).JPG', 'image (886).JPG', 'image (563).JPG', 'image (440).JPG', 'image (144).JPG', 'image (617).JPG', 'image (925).JPG', 'image (1103).JPG', 'image (8).JPG', 'image (626).JPG', 'image (148).JPG', 'image (1037).JPG', 'image (233).JPG', 'image (54).JPG', 'image (321).JPG', 'image (703).JPG', 'image (259).JPG', 'image (465).JPG', 'image (211).JPG', 'image (585).JPG', 'image (153).JPG', 'image (949).JPG', 'image (938).JPG', 'image (1002).JPG', 'image (76).JPG', 'image (132).JPG', 'image (995).JPG', 'image (414).JPG', 'image (282).JPG', 'image (193).JPG', 'image (405).JPG', 'image (311).JPG', 'image (1082).JPG', 'image (242).JPG', 'image (27).JPG', 'image (57).JPG', 'image (379).JPG', 'image (516).JPG', 'image (784).JPG', 'image (256).JPG', 'image (972).JPG', 'image (450).JPG', 'image (708).JPG', 'image (883).JPG', 'image (421).JPG', 'image (59).JPG', 'image (711).JPG', 'image (806).JPG', 'image (44).JPG', 'image (75).JPG', 'image (967).JPG', 'image (789).JPG', 'image (915).JPG', 'image (1083).JPG', 'image (400).JPG', 'image (652).JPG', 'image (850).JPG', 'image (481).JPG', 'image (119).JPG', 'image (901).JPG', 'image (199).JPG', 'image (486).JPG', 'image (639).JPG', 'image (263).JPG', 'image (724).JPG', 'image (15).JPG', 'image (669).JPG', 'image (1092).JPG', 'image (524).JPG', 'image (436).JPG', 'image (32).JPG', 'image (568).JPG', 'image (271).JPG', 'image (442).JPG', 'image (904).JPG', 'image (471).JPG', 'image (210).JPG', 'image (535).JPG', 'image (252).JPG', 'image (69).JPG', 'image (464).JPG', 'image (560).JPG', 'image (862).JPG', 'image (678).JPG', 'image (615).JPG', 'image (315).JPG', 'image (614).JPG', 'image (577).JPG', 'image (3).JPG', 'image (558).JPG', 'image (1067).JPG', 'image (98).JPG', 'image (977).JPG', 'image (112).JPG', 'image (918).JPG', 'image (640).JPG', 'image (540).JPG', 'image (679).JPG', 'image (6).JPG', 'image (38).JPG', 'image (61).JPG', 'image (424).JPG', 'image (937).JPG', 'image (244).JPG', 'image (214).JPG', 'image (213).JPG', 'image (92).JPG', 'image (905).JPG', 'image (548).JPG', 'image (874).JPG', 'image (863).JPG', 'image (1063).JPG', 'image (1106).JPG', 'image (963).JPG', 'image (408).JPG', 'image (648).JPG', 'image (362).JPG', 'image (780).JPG', 'image (603).JPG', 'image (564).JPG', 'image (323).JPG', 'image (923).JPG', 'image (227).JPG', 'image (200).JPG', 'image (763).JPG', 'image (203).JPG', 'image (277).JPG', 'image (600).JPG', 'image (934).JPG', 'image (870).JPG', 'image (559).JPG', 'image (877).JPG', 'image (109).JPG', 'image (714).JPG', 'image (504).JPG', 'image (767).JPG', 'image (786).JPG', 'image (314).JPG', 'image (185).JPG', 'image (697).JPG', 'image (306).JPG', 'image (527).JPG', 'image (498).JPG', 'image (835).JPG', 'image (607).JPG', 'image (803).JPG', 'image (957).JPG', 'image (894).JPG', 'image (917).JPG', 'image (633).JPG', 'image (71).JPG', 'image (418).JPG', 'image (128).JPG', 'image (351).JPG', 'image (801).JPG', 'image (347).JPG', 'image (896).JPG', 'image (968).JPG', 'image (360).JPG', 'image (14).JPG', 'image (974).JPG', 'image (512).JPG', 'image (52).JPG', 'image (695).JPG', 'image (13).JPG', 'image (1075).JPG', 'image (1093).JPG', 'image (392).JPG', 'image (858).JPG', 'image (45).JPG', 'image (474).JPG', 'image (187).JPG', 'image (591).JPG', 'image (912).JPG', 'image (644).JPG', 'image (898).JPG', 'image (1013).JPG', 'image (572).JPG', 'image (956).JPG', 'image (817).JPG', 'image (1019).JPG', 'image (638).JPG', 'image (689).JPG', 'image (876).JPG', 'image (519).JPG', 'image (892).JPG', 'image (969).JPG', 'image (1042).JPG', 'image (631).JPG', 'image (775).JPG', 'image (433).JPG', 'image (732).JPG', 'image (91).JPG', 'image (743).JPG', 'image (790).JPG', 'image (881).JPG', 'image (160).JPG', 'image (692).JPG', 'image (173).JPG', 'image (624).JPG', 'image (246).JPG', 'image (398).JPG', 'image (584).JPG', 'image (613).JPG', 'image (215).JPG', 'image (225).JPG', 'image (325).JPG', 'image (191).JPG', 'image (462).JPG', 'image (381).JPG', 'image (546).JPG', 'image (192).JPG', 'image (833).JPG', 'image (142).JPG', 'image (407).JPG', 'image (371).JPG', 'image (621).JPG', 'image (634).JPG', 'image (89).JPG', 'image (434).JPG', 'image (278).JPG', 'image (594).JPG', 'image (78).JPG', 'image (975).JPG', 'image (409).JPG', 'image (688).JPG', 'image (169).JPG', 'image (857).JPG', 'image (1099).JPG', 'image (1057).JPG', 'image (309).JPG', 'image (973).JPG', 'image (34).JPG', 'image (534).JPG', 'image (756).JPG', 'image (120).JPG', 'image (778).JPG', 'image (326).JPG', 'image (649).JPG', 'image (370).JPG', 'image (296).JPG', 'image (556).JPG', 'image (983).JPG', 'image (734).JPG', 'image (391).JPG', 'image (202).JPG', 'image (861).JPG', 'image (1045).JPG', 'image (561).JPG', 'image (107).JPG', 'image (159).JPG', 'image (884).JPG', 'image (147).JPG', 'image (17).JPG', 'image (557).JPG', 'image (348).JPG', 'image (472).JPG', 'image (274).JPG', 'image (727).JPG', 'image (28).JPG', 'image (766).JPG', 'image (305).JPG', 'image (430).JPG', 'image (212).JPG', 'image (40).JPG', 'image (987).JPG', 'image (106).JPG', 'image (494).JPG', 'image (596).JPG', 'image (228).JPG', 'image (324).JPG', 'image (21).JPG', 'image (608).JPG', 'image (1048).JPG', 'image (996).JPG', 'image (717).JPG', 'image (139).JPG', 'image (437).JPG', 'image (698).JPG', 'image (427).JPG', 'image (262).JPG', 'image (161).JPG', 'image (36).JPG', 'image (422).JPG', 'image (118).JPG', 'image (345).JPG', 'image (499).JPG', 'image (575).JPG', 'image (501).JPG', 'image (131).JPG', 'image (771).JPG', 'image (592).JPG', 'image (126).JPG', 'image (661).JPG', 'image (429).JPG', 'image (402).JPG', 'image (999).JPG', 'image (385).JPG', 'image (966).JPG', 'image (555).JPG', 'image (916).JPG', 'image (855).JPG', 'image (312).JPG', 'image (295).JPG', 'image (94).JPG', 'image (172).JPG', 'image (448).JPG', 'image (49).JPG', 'image (531).JPG', 'image (281).JPG', 'image (387).JPG', 'image (700).JPG', 'image (750).JPG', 'image (525).JPG', 'image (331).JPG', 'image (1096).JPG', 'image (502).JPG', 'image (361).JPG', 'image (1034).JPG', 'image (873).JPG', 'image (562).JPG', 'image (1087).JPG', 'image (997).JPG', 'image (721).JPG', 'image (761).JPG', 'image (1095).JPG', 'image (138).JPG', 'image (415).JPG', 'image (428).JPG', 'image (667).JPG', 'image (104).JPG', 'image (1023).JPG', 'image (962).JPG', 'image (124).JPG', 'image (958).JPG', 'image (461).JPG', 'image (674).JPG', 'image (79).JPG', 'image (860).JPG', 'image (895).JPG', 'image (240).JPG', 'image (399).JPG', 'image (65).JPG', 'image (783).JPG', 'image (432).JPG', 'image (154).JPG', 'image (241).JPG', 'image (837).JPG', 'image (834).JPG', 'image (650).JPG', 'image (1000).JPG', 'image (533).JPG', 'image (629).JPG', 'image (478).JPG', 'image (1090).JPG', 'image (1039).JPG', 'image (25).JPG', 'image (906).JPG', 'image (382).JPG', 'image (143).JPG', 'image (597).JPG', 'image (583).JPG', 'image (1052).JPG', 'image (401).JPG', 'image (186).JPG', 'image (493).JPG', 'image (356).JPG', 'image (419).JPG', 'image (390).JPG', 'image (284).JPG', 'image (919).JPG', 'image (190).JPG', 'image (272).JPG', 'image (468).JPG', 'image (776).JPG', 'image (283).JPG', 'image (198).JPG', 'image (1047).JPG', 'image (1086).JPG', 'image (691).JPG', 'image (849).JPG', 'image (746).JPG', 'image (673).JPG', 'image (31).JPG', 'image (792).JPG', 'image (551).JPG', 'image (157).JPG', 'image (529).JPG', 'image (307).JPG', 'image (670).JPG', 'image (998).JPG', 'image (1032).JPG', 'image (223).JPG', 'image (506).JPG', 'image (593).JPG', 'image (195).JPG', 'image (217).JPG', 'image (395).JPG', 'image (249).JPG', 'image (339).JPG', 'image (383).JPG', 'image (1073).JPG', 'image (24).JPG', 'image (344).JPG', 'image (280).JPG', 'image (754).JPG', 'image (1100).JPG', 'image (364).JPG', 'image (1094).JPG', 'image (484).JPG', 'image (733).JPG', 'image (121).JPG', 'image (813).JPG', 'image (872).JPG', 'image (770).JPG', 'image (23).JPG', 'image (845).JPG', 'image (368).JPG', 'image (1020).JPG', 'image (1065).JPG', 'image (532).JPG', 'image (100).JPG', 'image (774).JPG', 'image (530).JPG', 'image (897).JPG', 'image (291).JPG']\n",
            "drive/MyDrive/TRAIN/Tomato___Leaf_Mold\n",
            "['image (276).JPG', 'image (769).JPG', 'image (129).JPG', 'image (811).JPG', 'image (457).JPG', 'image (585).JPG', 'image (195).JPG', 'image (483).JPG', 'image (406).JPG', 'image (709).JPG', 'image (570).JPG', 'image (158).JPG', 'image (572).JPG', 'image (378).JPG', 'image (842).JPG', 'image (764).JPG', 'image (644).JPG', 'image (257).JPG', 'image (304).JPG', 'image (81).JPG', 'image (717).JPG', 'image (825).JPG', 'image (352).JPG', 'image (495).JPG', 'image (870).JPG', 'image (37).JPG', 'image (730).JPG', 'image (660).JPG', 'image (577).JPG', 'image (910).JPG', 'image (942).JPG', 'image (790).JPG', 'image (895).JPG', 'image (277).JPG', 'image (232).JPG', 'image (515).JPG', 'image (85).JPG', 'image (357).JPG', 'image (909).JPG', 'image (836).JPG', 'image (520).JPG', 'image (850).JPG', 'image (83).JPG', 'image (622).JPG', 'image (890).JPG', 'image (888).JPG', 'image (779).JPG', 'image (175).JPG', 'image (725).JPG', 'image (360).JPG', 'image (564).JPG', 'image (666).JPG', 'image (791).JPG', 'image (69).JPG', 'image (207).JPG', 'image (843).JPG', 'image (11).JPG', 'image (757).JPG', 'image (839).JPG', 'image (9).JPG', 'image (413).JPG', 'image (395).JPG', 'image (949).JPG', 'image (71).JPG', 'image (48).JPG', 'image (774).JPG', 'image (864).JPG', 'image (838).JPG', 'image (471).JPG', 'image (255).JPG', 'image (139).JPG', 'image (261).JPG', 'image (156).JPG', 'image (84).JPG', 'image (128).JPG', 'image (443).JPG', 'image (891).JPG', 'image (901).JPG', 'image (563).JPG', 'image (646).JPG', 'image (401).JPG', 'image (631).JPG', 'image (696).JPG', 'image (532).JPG', 'image (876).JPG', 'image (289).JPG', 'image (576).JPG', 'image (485).JPG', 'image (486).JPG', 'image (720).JPG', 'image (171).JPG', 'image (494).JPG', 'image (735).JPG', 'image (571).JPG', 'image (889).JPG', 'image (113).JPG', 'image (642).JPG', 'image (686).JPG', 'image (31).JPG', 'image (578).JPG', 'image (797).JPG', 'image (341).JPG', 'image (430).JPG', 'image (449).JPG', 'image (650).JPG', 'image (121).JPG', 'image (53).JPG', 'image (928).JPG', 'image (861).JPG', 'image (256).JPG', 'image (499).JPG', 'image (215).JPG', 'image (748).JPG', 'image (109).JPG', 'image (682).JPG', 'image (51).JPG', 'image (125).JPG', 'image (592).JPG', 'image (589).JPG', 'image (234).JPG', 'image (98).JPG', 'image (58).JPG', 'image (674).JPG', 'image (833).JPG', 'image (78).JPG', 'image (755).JPG', 'image (873).JPG', 'image (409).JPG', 'image (938).JPG', 'image (803).JPG', 'image (240).JPG', 'image (280).JPG', 'image (10).JPG', 'image (907).JPG', 'image (463).JPG', 'image (266).JPG', 'image (796).JPG', 'image (63).JPG', 'image (294).JPG', 'image (194).JPG', 'image (699).JPG', 'image (673).JPG', 'image (611).JPG', 'image (524).JPG', 'image (509).JPG', 'image (99).JPG', 'image (481).JPG', 'image (45).JPG', 'image (336).JPG', 'image (233).JPG', 'image (661).JPG', 'image (844).JPG', 'image (439).JPG', 'image (219).JPG', 'image (39).JPG', 'image (487).JPG', 'image (339).JPG', 'image (882).JPG', 'image (434).JPG', 'image (840).JPG', 'image (68).JPG', 'image (209).JPG', 'image (20).JPG', 'image (165).JPG', 'image (47).JPG', 'image (805).JPG', 'image (817).JPG', 'image (834).JPG', 'image (580).JPG', 'image (557).JPG', 'image (343).JPG', 'image (480).JPG', 'image (170).JPG', 'image (785).JPG', 'image (587).JPG', 'image (579).JPG', 'image (681).JPG', 'image (290).JPG', 'image (103).JPG', 'image (33).JPG', 'image (114).JPG', 'image (57).JPG', 'image (862).JPG', 'image (916).JPG', 'image (875).JPG', 'image (297).JPG', 'image (345).JPG', 'image (530).JPG', 'image (292).JPG', 'image (396).JPG', 'image (265).JPG', 'image (815).JPG', 'image (742).JPG', 'image (169).JPG', 'image (538).JPG', 'image (937).JPG', 'image (856).JPG', 'image (95).JPG', 'image (553).JPG', 'image (828).JPG', 'image (302).JPG', 'image (601).JPG', 'image (770).JPG', 'image (54).JPG', 'image (459).JPG', 'image (940).JPG', 'image (819).JPG', 'image (736).JPG', 'image (614).JPG', 'image (734).JPG', 'image (593).JPG', 'image (922).JPG', 'image (366).JPG', 'image (747).JPG', 'image (438).JPG', 'image (596).JPG', 'image (124).JPG', 'image (799).JPG', 'image (306).JPG', 'image (49).JPG', 'image (354).JPG', 'image (386).JPG', 'image (749).JPG', 'image (948).JPG', 'image (274).JPG', 'image (669).JPG', 'image (228).JPG', 'image (241).JPG', 'image (309).JPG', 'image (519).JPG', 'image (371).JPG', 'image (549).JPG', 'image (450).JPG', 'image (792).JPG', 'image (38).JPG', 'image (186).JPG', 'image (59).JPG', 'image (376).JPG', 'image (134).JPG', 'image (322).JPG', 'image (404).JPG', 'image (924).JPG', 'image (605).JPG', 'image (252).JPG', 'image (317).JPG', 'image (543).JPG', 'image (251).JPG', 'image (258).JPG', 'image (111).JPG', 'image (465).JPG', 'image (420).JPG', 'image (923).JPG', 'image (223).JPG', 'image (235).JPG', 'image (723).JPG', 'image (582).JPG', 'image (738).JPG', 'image (163).JPG', 'image (399).JPG', 'image (561).JPG', 'image (931).JPG', 'image (286).JPG', 'image (713).JPG', 'image (849).JPG', 'image (695).JPG', 'image (820).JPG', 'image (762).JPG', 'image (652).JPG', 'image (15).JPG', 'image (936).JPG', 'image (752).JPG', 'image (860).JPG', 'image (184).JPG', 'image (398).JPG', 'image (857).JPG', 'image (108).JPG', 'image (112).JPG', 'image (783).JPG', 'image (79).JPG', 'image (505).JPG', 'image (610).JPG', 'image (76).JPG', 'image (202).JPG', 'image (389).JPG', 'image (122).JPG', 'image (272).JPG', 'image (362).JPG', 'image (405).JPG', 'image (556).JPG', 'image (263).JPG', 'image (902).JPG', 'image (597).JPG', 'image (523).JPG', 'image (372).JPG', 'image (547).JPG', 'image (346).JPG', 'image (529).JPG', 'image (814).JPG', 'image (545).JPG', 'image (456).JPG', 'image (869).JPG', 'image (106).JPG', 'image (700).JPG', 'image (897).JPG', 'image (355).JPG', 'image (726).JPG', 'image (460).JPG', 'image (458).JPG', 'image (892).JPG', 'image (410).JPG', 'image (711).JPG', 'image (332).JPG', 'image (858).JPG', 'image (260).JPG', 'image (318).JPG', 'image (544).JPG', 'image (64).JPG', 'image (327).JPG', 'image (351).JPG', 'image (177).JPG', 'image (338).JPG', 'image (180).JPG', 'image (498).JPG', 'image (921).JPG', 'image (153).JPG', 'image (143).JPG', 'image (623).JPG', 'image (542).JPG', 'image (1).JPG', 'image (744).JPG', 'image (632).JPG', 'image (552).JPG', 'image (380).JPG', 'image (21).JPG', 'image (123).JPG', 'image (387).JPG', 'image (52).JPG', 'image (740).JPG', 'image (425).JPG', 'image (707).JPG', 'image (566).JPG', 'image (403).JPG', 'image (904).JPG', 'image (433).JPG', 'image (46).JPG', 'image (324).JPG', 'image (225).JPG', 'image (793).JPG', 'image (878).JPG', 'image (310).JPG', 'image (35).JPG', 'image (394).JPG', 'image (534).JPG', 'image (885).JPG', 'image (422).JPG', 'image (615).JPG', 'image (182).JPG', 'image (918).JPG', 'image (678).JPG', 'image (269).JPG', 'image (325).JPG', 'image (437).JPG', 'image (237).JPG', 'image (4).JPG', 'image (640).JPG', 'image (100).JPG', 'image (56).JPG', 'image (273).JPG', 'image (823).JPG', 'image (93).JPG', 'image (138).JPG', 'image (393).JPG', 'image (664).JPG', 'image (510).JPG', 'image (66).JPG', 'image (493).JPG', 'image (397).JPG', 'image (19).JPG', 'image (941).JPG', 'image (781).JPG', 'image (841).JPG', 'image (540).JPG', 'image (787).JPG', 'image (174).JPG', 'image (506).JPG', 'image (206).JPG', 'image (655).JPG', 'image (116).JPG', 'image (259).JPG', 'image (248).JPG', 'image (687).JPG', 'image (724).JPG', 'image (253).JPG', 'image (431).JPG', 'image (330).JPG', 'image (299).JPG', 'image (776).JPG', 'image (688).JPG', 'image (250).JPG', 'image (185).JPG', 'image (905).JPG', 'image (212).JPG', 'image (560).JPG', 'image (508).JPG', 'image (780).JPG', 'image (680).JPG', 'image (358).JPG', 'image (375).JPG', 'image (855).JPG', 'image (329).JPG', 'image (883).JPG', 'image (881).JPG', 'image (342).JPG', 'image (478).JPG', 'image (363).JPG', 'image (115).JPG', 'image (60).JPG', 'image (44).JPG', 'image (801).JPG', 'image (283).JPG', 'image (802).JPG', 'image (208).JPG', 'image (952).JPG', 'image (887).JPG', 'image (312).JPG', 'image (25).JPG', 'image (379).JPG', 'image (477).JPG', 'image (810).JPG', 'image (2).JPG', 'image (445).JPG', 'image (101).JPG', 'image (848).JPG', 'image (159).JPG', 'image (239).JPG', 'image (633).JPG', 'image (795).JPG', 'image (568).JPG', 'image (912).JPG', 'image (337).JPG', 'image (831).JPG', 'image (421).JPG', 'image (782).JPG', 'image (50).JPG', 'image (148).JPG', 'image (315).JPG', 'image (657).JPG', 'image (247).JPG', 'image (607).JPG', 'image (502).JPG', 'image (429).JPG', 'image (710).JPG', 'image (830).JPG', 'image (287).JPG', 'image (168).JPG', 'image (807).JPG', 'image (676).JPG', 'image (364).JPG', 'image (140).JPG', 'image (144).JPG', 'image (824).JPG', 'image (291).JPG', 'image (767).JPG', 'image (753).JPG', 'image (400).JPG', 'image (388).JPG', 'image (181).JPG', 'image (513).JPG', 'image (546).JPG', 'image (773).JPG', 'image (621).JPG', 'image (624).JPG', 'image (946).JPG', 'image (82).JPG', 'image (385).JPG', 'image (61).JPG', 'image (205).JPG', 'image (24).JPG', 'image (331).JPG', 'image (746).JPG', 'image (197).JPG', 'image (900).JPG', 'image (295).JPG', 'image (634).JPG', 'image (854).JPG', 'image (898).JPG', 'image (435).JPG', 'image (204).JPG', 'image (288).JPG', 'image (871).JPG', 'image (423).JPG', 'image (361).JPG', 'image (943).JPG', 'image (939).JPG', 'image (368).JPG', 'image (763).JPG', 'image (305).JPG', 'image (617).JPG', 'image (229).JPG', 'image (198).JPG', 'image (120).JPG', 'image (866).JPG', 'image (915).JPG', 'image (778).JPG', 'image (89).JPG', 'image (151).JPG', 'image (919).JPG', 'image (416).JPG', 'image (72).JPG', 'image (659).JPG', 'image (668).JPG', 'image (609).JPG', 'image (349).JPG', 'image (391).JPG', 'image (36).JPG', 'image (714).JPG', 'image (604).JPG', 'image (638).JPG', 'image (658).JPG', 'image (628).JPG', 'image (90).JPG', 'image (282).JPG', 'image (627).JPG', 'image (573).JPG', 'image (418).JPG', 'image (326).JPG', 'image (80).JPG', 'image (641).JPG', 'image (733).JPG', 'image (945).JPG', 'image (88).JPG', 'image (262).JPG', 'image (350).JPG', 'image (822).JPG', 'image (821).JPG', 'image (772).JPG', 'image (933).JPG', 'image (581).JPG', 'image (348).JPG', 'image (469).JPG', 'image (662).JPG', 'image (70).JPG', 'image (541).JPG', 'image (531).JPG', 'image (693).JPG', 'image (16).JPG', 'image (18).JPG', 'image (500).JPG', 'image (616).JPG', 'image (189).JPG', 'image (73).JPG', 'image (629).JPG', 'image (716).JPG', 'image (135).JPG', 'image (590).JPG', 'image (768).JPG', 'image (588).JPG', 'image (6).JPG', 'image (199).JPG', 'image (804).JPG', 'image (514).JPG', 'image (930).JPG', 'image (722).JPG', 'image (455).JPG', 'image (473).JPG', 'image (236).JPG', 'image (27).JPG', 'image (254).JPG', 'image (751).JPG', 'image (118).JPG', 'image (141).JPG', 'image (149).JPG', 'image (179).JPG', 'image (539).JPG', 'image (600).JPG', 'image (526).JPG', 'image (691).JPG', 'image (267).JPG', 'image (242).JPG', 'image (131).JPG', 'image (704).JPG', 'image (374).JPG', 'image (527).JPG', 'image (200).JPG', 'image (619).JPG', 'image (467).JPG', 'image (944).JPG', 'image (74).JPG', 'image (321).JPG', 'image (554).JPG', 'image (448).JPG', 'image (800).JPG', 'image (415).JPG', 'image (484).JPG', 'image (586).JPG', 'image (497).JPG', 'image (737).JPG', 'image (96).JPG', 'image (384).JPG', 'image (771).JPG', 'image (639).JPG', 'image (474).JPG', 'image (863).JPG', 'image (214).JPG', 'image (216).JPG', 'image (727).JPG', 'image (829).JPG', 'image (220).JPG', 'image (146).JPG', 'image (203).JPG', 'image (65).JPG', 'image (694).JPG', 'image (702).JPG', 'image (929).JPG', 'image (653).JPG', 'image (466).JPG', 'image (77).JPG', 'image (217).JPG', 'image (808).JPG', 'image (917).JPG', 'image (268).JPG', 'image (132).JPG', 'image (187).JPG', 'image (846).JPG', 'image (392).JPG', 'image (794).JPG', 'image (278).JPG', 'image (784).JPG', 'image (809).JPG', 'image (12).JPG', 'image (712).JPG', 'image (620).JPG', 'image (3).JPG', 'image (164).JPG', 'image (97).JPG', 'image (731).JPG', 'image (26).JPG', 'image (706).JPG', 'image (667).JPG', 'image (635).JPG', 'image (908).JPG', 'image (813).JPG', 'image (886).JPG', 'image (284).JPG', 'image (718).JPG', 'image (314).JPG', 'image (104).JPG', 'image (591).JPG', 'image (535).JPG', 'image (827).JPG', 'image (319).JPG', 'image (777).JPG', 'image (925).JPG', 'image (246).JPG', 'image (442).JPG', 'image (507).JPG', 'image (270).JPG', 'image (150).JPG', 'image (402).JPG', 'image (145).JPG', 'image (788).JPG', 'image (370).JPG', 'image (528).JPG', 'image (559).JPG', 'image (536).JPG', 'image (865).JPG', 'image (683).JPG', 'image (67).JPG', 'image (501).JPG', 'image (249).JPG', 'image (213).JPG', 'image (5).JPG', 'image (489).JPG', 'image (271).JPG', 'image (932).JPG', 'image (323).JPG', 'image (636).JPG', 'image (17).JPG', 'image (663).JPG', 'image (279).JPG', 'image (8).JPG', 'image (7).JPG', 'image (893).JPG', 'image (835).JPG', 'image (648).JPG', 'image (161).JPG', 'image (347).JPG', 'image (868).JPG', 'image (637).JPG', 'image (367).JPG', 'image (55).JPG', 'image (630).JPG', 'image (178).JPG', 'image (334).JPG', 'image (432).JPG', 'image (934).JPG', 'image (490).JPG', 'image (697).JPG', 'image (167).JPG', 'image (142).JPG', 'image (521).JPG', 'image (574).JPG', 'image (690).JPG', 'image (482).JPG', 'image (665).JPG', 'image (296).JPG', 'image (750).JPG', 'image (884).JPG', 'image (42).JPG', 'image (191).JPG', 'image (548).JPG', 'image (313).JPG', 'image (729).JPG', 'image (766).JPG', 'image (533).JPG', 'image (298).JPG', 'image (756).JPG', 'image (845).JPG', 'image (110).JPG', 'image (555).JPG', 'image (670).JPG', 'image (537).JPG', 'image (679).JPG', 'image (162).JPG', 'image (625).JPG', 'image (41).JPG', 'image (504).JPG', 'image (512).JPG', 'image (462).JPG', 'image (703).JPG', 'image (671).JPG', 'image (94).JPG', 'image (852).JPG', 'image (377).JPG', 'image (369).JPG', 'image (381).JPG', 'image (705).JPG', 'image (675).JPG', 'image (86).JPG', 'image (419).JPG', 'image (914).JPG', 'image (698).JPG', 'image (479).JPG', 'image (754).JPG', 'image (91).JPG', 'image (340).JPG', 'image (879).JPG', 'image (602).JPG', 'image (786).JPG', 'image (414).JPG', 'image (461).JPG', 'image (812).JPG', 'image (383).JPG', 'image (569).JPG', 'image (654).JPG', 'image (896).JPG', 'image (684).JPG', 'image (522).JPG', 'image (196).JPG', 'image (133).JPG', 'image (926).JPG', 'image (475).JPG', 'image (218).JPG', 'image (92).JPG', 'image (606).JPG', 'image (22).JPG', 'image (311).JPG', 'image (496).JPG', 'image (453).JPG', 'image (447).JPG', 'image (567).JPG', 'image (353).JPG', 'image (743).JPG', 'image (411).JPG', 'image (950).JPG', 'image (29).JPG', 'image (105).JPG', 'image (741).JPG', 'image (816).JPG', 'image (491).JPG', 'image (476).JPG', 'image (806).JPG', 'image (583).JPG', 'image (307).JPG', 'image (230).JPG', 'image (701).JPG', 'image (595).JPG', 'image (172).JPG', 'image (211).JPG', 'image (464).JPG', 'image (765).JPG', 'image (651).JPG', 'image (119).JPG', 'image (293).JPG', 'image (721).JPG', 'image (645).JPG', 'image (328).JPG', 'image (87).JPG', 'image (551).JPG', 'image (127).JPG', 'image (102).JPG', 'image (222).JPG', 'image (503).JPG', 'image (308).JPG', 'image (356).JPG', 'image (685).JPG', 'image (117).JPG', 'image (872).JPG', 'image (412).JPG', 'image (344).JPG', 'image (689).JPG', 'image (382).JPG', 'image (359).JPG', 'image (452).JPG', 'image (224).JPG', 'image (643).JPG', 'image (598).JPG', 'image (130).JPG', 'image (373).JPG', 'image (468).JPG', 'image (618).JPG', 'image (365).JPG', 'image (761).JPG', 'image (818).JPG', 'image (877).JPG', 'image (599).JPG', 'image (14).JPG', 'image (789).JPG', 'image (472).JPG', 'image (303).JPG', 'image (851).JPG', 'image (775).JPG', 'image (562).JPG', 'image (137).JPG', 'image (719).JPG', 'image (238).JPG', 'image (193).JPG', 'image (837).JPG', 'image (649).JPG', 'image (951).JPG', 'image (166).JPG', 'image (584).JPG', 'image (417).JPG', 'image (188).JPG', 'image (903).JPG', 'image (647).JPG', 'image (672).JPG', 'image (575).JPG', 'image (874).JPG', 'image (320).JPG', 'image (920).JPG', 'image (612).JPG', 'image (745).JPG', 'image (441).JPG', 'image (608).JPG', 'image (715).JPG', 'image (301).JPG', 'image (427).JPG', 'image (470).JPG', 'image (626).JPG', 'image (436).JPG', 'image (157).JPG', 'image (594).JPG', 'image (62).JPG', 'image (75).JPG', 'image (516).JPG', 'image (880).JPG', 'image (867).JPG', 'image (300).JPG', 'image (176).JPG', 'image (316).JPG', 'image (728).JPG', 'image (906).JPG', 'image (243).JPG', 'image (927).JPG', 'image (210).JPG', 'image (894).JPG', 'image (23).JPG', 'image (440).JPG', 'image (32).JPG', 'image (558).JPG', 'image (43).JPG', 'image (859).JPG', 'image (935).JPG', 'image (226).JPG', 'image (147).JPG', 'image (446).JPG', 'image (281).JPG', 'image (947).JPG', 'image (264).JPG', 'image (708).JPG', 'image (451).JPG', 'image (832).JPG', 'image (847).JPG', 'image (245).JPG', 'image (899).JPG', 'image (739).JPG', 'image (192).JPG', 'image (656).JPG', 'image (201).JPG', 'image (492).JPG', 'image (136).JPG', 'image (173).JPG', 'image (244).JPG', 'image (155).JPG', 'image (152).JPG', 'image (30).JPG', 'image (488).JPG', 'image (426).JPG', 'image (231).JPG', 'image (692).JPG', 'image (550).JPG', 'image (407).JPG', 'image (183).JPG', 'image (424).JPG', 'image (826).JPG', 'image (227).JPG', 'image (40).JPG', 'image (525).JPG', 'image (390).JPG', 'image (28).JPG', 'image (444).JPG', 'image (13).JPG', 'image (677).JPG', 'image (511).JPG', 'image (565).JPG', 'image (107).JPG', 'image (333).JPG', 'image (454).JPG', 'image (335).JPG', 'image (285).JPG', 'image (732).JPG', 'image (798).JPG', 'image (275).JPG', 'image (760).JPG', 'image (758).JPG', 'image (911).JPG', 'image (34).JPG', 'image (126).JPG', 'image (190).JPG', 'image (613).JPG', 'image (160).JPG', 'image (221).JPG', 'image (518).JPG', 'image (759).JPG', 'image (408).JPG', 'image (603).JPG', 'image (913).JPG', 'image (428).JPG', 'image (853).JPG', 'image (517).JPG', 'image (154).JPG']\n",
            "drive/MyDrive/TRAIN/Orange___Haunglongbing_(Citrus_greening)\n",
            "['image (3973).JPG', 'image (284).JPG', 'image (1221).JPG', 'image (2145).JPG', 'image (4082).JPG', 'image (4901).JPG', 'image (2534).JPG', 'image (4624).JPG', 'image (1675).JPG', 'image (3096).JPG', 'image (4015).JPG', 'image (4189).JPG', 'image (1370).JPG', 'image (3380).JPG', 'image (3984).JPG', 'image (5134).JPG', 'image (3295).JPG', 'image (138).JPG', 'image (1567).JPG', 'image (5170).JPG', 'image (4081).JPG', 'image (729).JPG', 'image (5254).JPG', 'image (2184).JPG', 'image (450).JPG', 'image (5066).JPG', 'image (1845).JPG', 'image (2085).JPG', 'image (1122).JPG', 'image (4793).JPG', 'image (1013).JPG', 'image (2731).JPG', 'image (4166).JPG', 'image (5389).JPG', 'image (4760).JPG', 'image (4027).JPG', 'image (219).JPG', 'image (2585).JPG', 'image (2973).JPG', 'image (65).JPG', 'image (2857).JPG', 'image (2753).JPG', 'image (492).JPG', 'image (4043).JPG', 'image (995).JPG', 'image (4821).JPG', 'image (4386).JPG', 'image (3247).JPG', 'image (1964).JPG', 'image (2644).JPG', 'image (1555).JPG', 'image (4755).JPG', 'image (5036).JPG', 'image (5364).JPG', 'image (3971).JPG', 'image (4762).JPG', 'image (4186).JPG', 'image (2080).JPG', 'image (690).JPG', 'image (46).JPG', 'image (2627).JPG', 'image (3406).JPG', 'image (4682).JPG', 'image (312).JPG', 'image (2985).JPG', 'image (4343).JPG', 'image (2813).JPG', 'image (2516).JPG', 'image (2010).JPG', 'image (3439).JPG', 'image (1918).JPG', 'image (2883).JPG', 'image (377).JPG', 'image (5384).JPG', 'image (5018).JPG', 'image (1572).JPG', 'image (4490).JPG', 'image (3500).JPG', 'image (4614).JPG', 'image (567).JPG', 'image (4135).JPG', 'image (799).JPG', 'image (424).JPG', 'image (341).JPG', 'image (712).JPG', 'image (1816).JPG', 'image (321).JPG', 'image (4857).JPG', 'image (840).JPG', 'image (5391).JPG', 'image (3447).JPG', 'image (3483).JPG', 'image (5352).JPG', 'image (1315).JPG', 'image (4819).JPG', 'image (2659).JPG', 'image (3734).JPG', 'image (3947).JPG', 'image (2862).JPG', 'image (3423).JPG', 'image (2119).JPG', 'image (4421).JPG', 'image (4508).JPG', 'image (3808).JPG', 'image (3716).JPG', 'image (4090).JPG', 'image (546).JPG', 'image (900).JPG', 'image (1209).JPG', 'image (2230).JPG', 'image (3650).JPG', 'image (3627).JPG', 'image (1436).JPG', 'image (3495).JPG', 'image (617).JPG', 'image (548).JPG', 'image (538).JPG', 'image (996).JPG', 'image (3463).JPG', 'image (3465).JPG', 'image (1144).JPG', 'image (4403).JPG', 'image (1701).JPG', 'image (1380).JPG', 'image (777).JPG', 'image (641).JPG', 'image (1065).JPG', 'image (369).JPG', 'image (3669).JPG', 'image (4002).JPG', 'image (2712).JPG', 'image (2359).JPG', 'image (2599).JPG', 'image (4160).JPG', 'image (2615).JPG', 'image (2622).JPG', 'image (3875).JPG', 'image (2719).JPG', 'image (3816).JPG', 'image (4223).JPG', 'image (3571).JPG', 'image (4751).JPG', 'image (2509).JPG', 'image (3931).JPG', 'image (5216).JPG', 'image (4041).JPG', 'image (1307).JPG', 'image (477).JPG', 'image (2308).JPG', 'image (91).JPG', 'image (3488).JPG', 'image (1929).JPG', 'image (4108).JPG', 'image (3690).JPG', 'image (462).JPG', 'image (1364).JPG', 'image (100).JPG', 'image (959).JPG', 'image (5477).JPG', 'image (1394).JPG', 'image (5105).JPG', 'image (2720).JPG', 'image (1883).JPG', 'image (920).JPG', 'image (4253).JPG', 'image (4195).JPG', 'image (3823).JPG', 'image (3403).JPG', 'image (3091).JPG', 'image (1443).JPG', 'image (1925).JPG', 'image (2087).JPG', 'image (3016).JPG', 'image (3025).JPG', 'image (3753).JPG', 'image (1097).JPG', 'image (1045).JPG', 'image (3139).JPG', 'image (3428).JPG', 'image (1678).JPG', 'image (3017).JPG', 'image (623).JPG', 'image (4257).JPG', 'image (4605).JPG', 'image (4978).JPG', 'image (5279).JPG', 'image (3381).JPG', 'image (952).JPG', 'image (1287).JPG', 'image (11).JPG', 'image (760).JPG', 'image (2095).JPG', 'image (578).JPG', 'image (698).JPG', 'image (4753).JPG', 'image (4690).JPG', 'image (5137).JPG', 'image (3736).JPG', 'image (1912).JPG', 'image (1138).JPG', 'image (5292).JPG', 'image (5322).JPG', 'image (4871).JPG', 'image (2203).JPG', 'image (5430).JPG', 'image (4188).JPG', 'image (4834).JPG', 'image (875).JPG', 'image (4694).JPG', 'image (5349).JPG', 'image (4031).JPG', 'image (5091).JPG', 'image (2791).JPG', 'image (1124).JPG', 'image (516).JPG', 'image (4805).JPG', 'image (4507).JPG', 'image (4301).JPG', 'image (1930).JPG', 'image (2504).JPG', 'image (2577).JPG', 'image (838).JPG', 'image (2488).JPG', 'image (714).JPG', 'image (2425).JPG', 'image (5343).JPG', 'image (2212).JPG', 'image (4425).JPG', 'image (2174).JPG', 'image (4281).JPG', 'image (5050).JPG', 'image (3814).JPG', 'image (2329).JPG', 'image (5388).JPG', 'image (1609).JPG', 'image (4899).JPG', 'image (2877).JPG', 'image (4626).JPG', 'image (3269).JPG', 'image (4669).JPG', 'image (676).JPG', 'image (4203).JPG', 'image (2825).JPG', 'image (495).JPG', 'image (2098).JPG', 'image (1175).JPG', 'image (3623).JPG', 'image (819).JPG', 'image (3724).JPG', 'image (1568).JPG', 'image (2560).JPG', 'image (48).JPG', 'image (51).JPG', 'image (226).JPG', 'image (3453).JPG', 'image (4227).JPG', 'image (3047).JPG', 'image (555).JPG', 'image (565).JPG', 'image (788).JPG', 'image (4329).JPG', 'image (2430).JPG', 'image (177).JPG', 'image (1512).JPG', 'image (670).JPG', 'image (2730).JPG', 'image (1526).JPG', 'image (3121).JPG', 'image (2623).JPG', 'image (4385).JPG', 'image (928).JPG', 'image (3613).JPG', 'image (3414).JPG', 'image (3503).JPG', 'image (3604).JPG', 'image (88).JPG', 'image (1086).JPG', 'image (2497).JPG', 'image (196).JPG', 'image (938).JPG', 'image (4095).JPG', 'image (2848).JPG', 'image (5139).JPG', 'image (3240).JPG', 'image (4587).JPG', 'image (5032).JPG', 'image (3296).JPG', 'image (1428).JPG', 'image (1092).JPG', 'image (2325).JPG', 'image (3714).JPG', 'image (1463).JPG', 'image (238).JPG', 'image (1698).JPG', 'image (1170).JPG', 'image (3520).JPG', 'image (4262).JPG', 'image (309).JPG', 'image (1731).JPG', 'image (2910).JPG', 'image (3285).JPG', 'image (1785).JPG', 'image (764).JPG', 'image (1775).JPG', 'image (2454).JPG', 'image (368).JPG', 'image (3042).JPG', 'image (903).JPG', 'image (1550).JPG', 'image (2763).JPG', 'image (4741).JPG', 'image (4657).JPG', 'image (2870).JPG', 'image (300).JPG', 'image (3412).JPG', 'image (5250).JPG', 'image (4489).JPG', 'image (3557).JPG', 'image (3114).JPG', 'image (371).JPG', 'image (3801).JPG', 'image (3585).JPG', 'image (5425).JPG', 'image (4127).JPG', 'image (2529).JPG', 'image (297).JPG', 'image (2926).JPG', 'image (1965).JPG', 'image (550).JPG', 'image (4363).JPG', 'image (514).JPG', 'image (98).JPG', 'image (161).JPG', 'image (877).JPG', 'image (3202).JPG', 'image (2332).JPG', 'image (773).JPG', 'image (3241).JPG', 'image (1648).JPG', 'image (247).JPG', 'image (2426).JPG', 'image (5167).JPG', 'image (4612).JPG', 'image (3037).JPG', 'image (5113).JPG', 'image (4993).JPG', 'image (3434).JPG', 'image (556).JPG', 'image (3771).JPG', 'image (5395).JPG', 'image (470).JPG', 'image (348).JPG', 'image (4072).JPG', 'image (1570).JPG', 'image (5241).JPG', 'image (4649).JPG', 'image (1308).JPG', 'image (2265).JPG', 'image (3674).JPG', 'image (4823).JPG', 'image (3556).JPG', 'image (4019).JPG', 'image (3876).JPG', 'image (3496).JPG', 'image (2970).JPG', 'image (2338).JPG', 'image (53).JPG', 'image (2921).JPG', 'image (233).JPG', 'image (951).JPG', 'image (5001).JPG', 'image (1224).JPG', 'image (585).JPG', 'image (3693).JPG', 'image (3809).JPG', 'image (2647).JPG', 'image (930).JPG', 'image (148).JPG', 'image (1780).JPG', 'image (3271).JPG', 'image (2058).JPG', 'image (5262).JPG', 'image (4631).JPG', 'image (3937).JPG', 'image (1998).JPG', 'image (1878).JPG', 'image (3894).JPG', 'image (4977).JPG', 'image (1056).JPG', 'image (5446).JPG', 'image (1620).JPG', 'image (207).JPG', 'image (2837).JPG', 'image (5012).JPG', 'image (272).JPG', 'image (666).JPG', 'image (182).JPG', 'image (535).JPG', 'image (1187).JPG', 'image (5363).JPG', 'image (5270).JPG', 'image (4859).JPG', 'image (3048).JPG', 'image (592).JPG', 'image (206).JPG', 'image (1581).JPG', 'image (3610).JPG', 'image (2387).JPG', 'image (1335).JPG', 'image (288).JPG', 'image (5329).JPG', 'image (4491).JPG', 'image (143).JPG', 'image (2171).JPG', 'image (2038).JPG', 'image (824).JPG', 'image (4968).JPG', 'image (1141).JPG', 'image (1586).JPG', 'image (5242).JPG', 'image (3957).JPG', 'image (3374).JPG', 'image (961).JPG', 'image (2477).JPG', 'image (3595).JPG', 'image (2851).JPG', 'image (106).JPG', 'image (5067).JPG', 'image (2457).JPG', 'image (4291).JPG', 'image (4500).JPG', 'image (4813).JPG', 'image (2269).JPG', 'image (3494).JPG', 'image (1324).JPG', 'image (2703).JPG', 'image (4314).JPG', 'image (4298).JPG', 'image (4179).JPG', 'image (3858).JPG', 'image (2953).JPG', 'image (4780).JPG', 'image (2716).JPG', 'image (3710).JPG', 'image (1983).JPG', 'image (3887).JPG', 'image (5229).JPG', 'image (5191).JPG', 'image (4239).JPG', 'image (754).JPG', 'image (5481).JPG', 'image (2581).JPG', 'image (978).JPG', 'image (2377).JPG', 'image (4255).JPG', 'image (3914).JPG', 'image (1432).JPG', 'image (3855).JPG', 'image (1112).JPG', 'image (4552).JPG', 'image (2809).JPG', 'image (3433).JPG', 'image (3945).JPG', 'image (5449).JPG', 'image (2741).JPG', 'image (1034).JPG', 'image (4207).JPG', 'image (2750).JPG', 'image (454).JPG', 'image (2495).JPG', 'image (2554).JPG', 'image (5403).JPG', 'image (4934).JPG', 'image (1314).JPG', 'image (3652).JPG', 'image (1036).JPG', 'image (1935).JPG', 'image (2546).JPG', 'image (3856).JPG', 'image (533).JPG', 'image (863).JPG', 'image (4809).JPG', 'image (5189).JPG', 'image (1066).JPG', 'image (5500).JPG', 'image (1165).JPG', 'image (3868).JPG', 'image (2715).JPG', 'image (4877).JPG', 'image (223).JPG', 'image (2736).JPG', 'image (4310).JPG', 'image (2186).JPG', 'image (4794).JPG', 'image (4202).JPG', 'image (655).JPG', 'image (4837).JPG', 'image (5402).JPG', 'image (4571).JPG', 'image (2690).JPG', 'image (5247).JPG', 'image (1214).JPG', 'image (2226).JPG', 'image (3064).JPG', 'image (1120).JPG', 'image (3854).JPG', 'image (2899).JPG', 'image (1244).JPG', 'image (4792).JPG', 'image (5125).JPG', 'image (3449).JPG', 'image (2011).JPG', 'image (452).JPG', 'image (631).JPG', 'image (3442).JPG', 'image (1295).JPG', 'image (326).JPG', 'image (1264).JPG', 'image (636).JPG', 'image (193).JPG', 'image (2193).JPG', 'image (1459).JPG', 'image (1197).JPG', 'image (1949).JPG', 'image (4701).JPG', 'image (1325).JPG', 'image (2998).JPG', 'image (2602).JPG', 'image (386).JPG', 'image (5251).JPG', 'image (3772).JPG', 'image (1684).JPG', 'image (3237).JPG', 'image (4776).JPG', 'image (1072).JPG', 'image (1767).JPG', 'image (2948).JPG', 'image (225).JPG', 'image (1204).JPG', 'image (1177).JPG', 'image (4051).JPG', 'image (807).JPG', 'image (4849).JPG', 'image (2823).JPG', 'image (1618).JPG', 'image (4279).JPG', 'image (2025).JPG', 'image (3109).JPG', 'image (3793).JPG', 'image (3698).JPG', 'image (3396).JPG', 'image (3728).JPG', 'image (4598).JPG', 'image (3349).JPG', 'image (1049).JPG', 'image (2492).JPG', 'image (772).JPG', 'image (3531).JPG', 'image (2858).JPG', 'image (868).JPG', 'image (1005).JPG', 'image (1210).JPG', 'image (4494).JPG', 'image (1180).JPG', 'image (4680).JPG', 'image (1032).JPG', 'image (2331).JPG', 'image (1376).JPG', 'image (324).JPG', 'image (5294).JPG', 'image (2907).JPG', 'image (833).JPG', 'image (1327).JPG', 'image (897).JPG', 'image (442).JPG', 'image (4804).JPG', 'image (1273).JPG', 'image (4713).JPG', 'image (1223).JPG', 'image (3419).JPG', 'image (5409).JPG', 'image (2137).JPG', 'image (2836).JPG', 'image (192).JPG', 'image (842).JPG', 'image (1917).JPG', 'image (77).JPG', 'image (2258).JPG', 'image (1790).JPG', 'image (2700).JPG', 'image (568).JPG', 'image (2882).JPG', 'image (5440).JPG', 'image (2945).JPG', 'image (4236).JPG', 'image (4686).JPG', 'image (1099).JPG', 'image (599).JPG', 'image (479).JPG', 'image (2041).JPG', 'image (2480).JPG', 'image (410).JPG', 'image (3).JPG', 'image (1479).JPG', 'image (3911).JPG', 'image (4847).JPG', 'image (3196).JPG', 'image (1178).JPG', 'image (1037).JPG', 'image (2947).JPG', 'image (4276).JPG', 'image (792).JPG', 'image (4856).JPG', 'image (2294).JPG', 'image (3362).JPG', 'image (1794).JPG', 'image (1415).JPG', 'image (303).JPG', 'image (4101).JPG', 'image (915).JPG', 'image (5131).JPG', 'image (5455).JPG', 'image (2684).JPG', 'image (2009).JPG', 'image (3007).JPG', 'image (4685).JPG', 'image (1661).JPG', 'image (4300).JPG', 'image (3238).JPG', 'image (1427).JPG', 'image (1046).JPG', 'image (3841).JPG', 'image (2225).JPG', 'image (1582).JPG', 'image (1722).JPG', 'image (3224).JPG', 'image (3642).JPG', 'image (3487).JPG', 'image (2398).JPG', 'image (3021).JPG', 'image (1610).JPG', 'image (936).JPG', 'image (2490).JPG', 'image (2930).JPG', 'image (4377).JPG', 'image (2065).JPG', 'image (4313).JPG', 'image (3822).JPG', 'image (1596).JPG', 'image (2373).JPG', 'image (4646).JPG', 'image (4914).JPG', 'image (1720).JPG', 'image (2561).JPG', 'image (5473).JPG', 'image (2214).JPG', 'image (4176).JPG', 'image (2139).JPG', 'image (3843).JPG', 'image (2482).JPG', 'image (5039).JPG', 'image (3118).JPG', 'image (1739).JPG', 'image (2589).JPG', 'image (3404).JPG', 'image (1601).JPG', 'image (5376).JPG', 'image (4465).JPG', 'image (4347).JPG', 'image (2631).JPG', 'image (3877).JPG', 'image (2275).JPG', 'image (3591).JPG', 'image (3510).JPG', 'image (249).JPG', 'image (3079).JPG', 'image (5158).JPG', 'image (139).JPG', 'image (1155).JPG', 'image (3551).JPG', 'image (4039).JPG', 'image (1705).JPG', 'image (3848).JPG', 'image (4536).JPG', 'image (704).JPG', 'image (1910).JPG', 'image (2384).JPG', 'image (57).JPG', 'image (1461).JPG', 'image (4334).JPG', 'image (5504).JPG', 'image (1852).JPG', 'image (1450).JPG', 'image (473).JPG', 'image (5097).JPG', 'image (4468).JPG', 'image (2896).JPG', 'image (2607).JPG', 'image (4390).JPG', 'image (3917).JPG', 'image (2278).JPG', 'image (382).JPG', 'image (3512).JPG', 'image (3530).JPG', 'image (3176).JPG', 'image (5149).JPG', 'image (1692).JPG', 'image (1593).JPG', 'image (4345).JPG', 'image (418).JPG', 'image (776).JPG', 'image (2784).JPG', 'image (1230).JPG', 'image (4408).JPG', 'image (5460).JPG', 'image (4946).JPG', 'image (1907).JPG', 'image (231).JPG', 'image (906).JPG', 'image (3563).JPG', 'image (4534).JPG', 'image (5159).JPG', 'image (2127).JPG', 'image (4714).JPG', 'image (2540).JPG', 'image (412).JPG', 'image (388).JPG', 'image (1941).JPG', 'image (3922).JPG', 'image (5386).JPG', 'image (3243).JPG', 'image (1188).JPG', 'image (4221).JPG', 'image (4599).JPG', 'image (5420).JPG', 'image (4398).JPG', 'image (2453).JPG', 'image (3206).JPG', 'image (197).JPG', 'image (5223).JPG', 'image (1106).JPG', 'image (3949).JPG', 'image (291).JPG', 'image (916).JPG', 'image (2366).JPG', 'image (763).JPG', 'image (2507).JPG', 'image (1821).JPG', 'image (3376).JPG', 'image (2905).JPG', 'image (2927).JPG', 'image (3229).JPG', 'image (3881).JPG', 'image (4078).JPG', 'image (1192).JPG', 'image (2140).JPG', 'image (1579).JPG', 'image (4625).JPG', 'image (5244).JPG', 'image (1297).JPG', 'image (3958).JPG', 'image (1742).JPG', 'image (1040).JPG', 'image (526).JPG', 'image (3943).JPG', 'image (1611).JPG', 'image (241).JPG', 'image (2347).JPG', 'image (3996).JPG', 'image (406).JPG', 'image (3558).JPG', 'image (2734).JPG', 'image (3095).JPG', 'image (5447).JPG', 'image (160).JPG', 'image (2445).JPG', 'image (2668).JPG', 'image (281).JPG', 'image (327).JPG', 'image (3059).JPG', 'image (3467).JPG', 'image (490).JPG', 'image (2909).JPG', 'image (3002).JPG', 'image (4197).JPG', 'image (2887).JPG', 'image (5353).JPG', 'image (2147).JPG', 'image (2667).JPG', 'image (5271).JPG', 'image (5104).JPG', 'image (3131).JPG', 'image (2665).JPG', 'image (3820).JPG', 'image (4077).JPG', 'image (702).JPG', 'image (883).JPG', 'image (758).JPG', 'image (2790).JPG', 'image (2817).JPG', 'image (1078).JPG', 'image (4461).JPG', 'image (1191).JPG', 'image (2969).JPG', 'image (4250).JPG', 'image (134).JPG', 'image (216).JPG', 'image (2499).JPG', 'image (5258).JPG', 'image (404).JPG', 'image (1).JPG', 'image (518).JPG', 'image (3656).JPG', 'image (1811).JPG', 'image (5074).JPG', 'image (4542).JPG', 'image (2122).JPG', 'image (3309).JPG', 'image (1667).JPG', 'image (2380).JPG', 'image (5183).JPG', 'image (1797).JPG', 'image (5169).JPG', 'image (4321).JPG', 'image (142).JPG', 'image (3919).JPG', 'image (362).JPG', 'image (1216).JPG', 'image (1239).JPG', 'image (3602).JPG', 'image (1296).JPG', 'image (4941).JPG', 'image (4613).JPG', 'image (1158).JPG', 'image (1934).JPG', 'image (5405).JPG', 'image (4954).JPG', 'image (2466).JPG', 'image (5320).JPG', 'image (1636).JPG', 'image (1003).JPG', 'image (1944).JPG', 'image (2648).JPG', 'image (682).JPG', 'image (2407).JPG', 'image (1973).JPG', 'image (4060).JPG', 'image (1105).JPG', 'image (354).JPG', 'image (3074).JPG', 'image (3377).JPG', 'image (2421).JPG', 'image (3280).JPG', 'image (1367).JPG', 'image (5463).JPG', 'image (3208).JPG', 'image (1145).JPG', 'image (2500).JPG', 'image (5136).JPG', 'image (3023).JPG', 'image (4499).JPG', 'image (203).JPG', 'image (3388).JPG', 'image (3550).JPG', 'image (1417).JPG', 'image (4788).JPG', 'image (3541).JPG', 'image (2798).JPG', 'image (3000).JPG', 'image (3603).JPG', 'image (4665).JPG', 'image (5379).JPG', 'image (5290).JPG', 'image (2535).JPG', 'image (4384).JPG', 'image (5459).JPG', 'image (4611).JPG', 'image (1818).JPG', 'image (2066).JPG', 'image (4904).JPG', 'image (2292).JPG', 'image (2111).JPG', 'image (4422).JPG', 'image (2274).JPG', 'image (3153).JPG', 'image (560).JPG', 'image (2235).JPG', 'image (1771).JPG', 'image (4644).JPG', 'image (402).JPG', 'image (929).JPG', 'image (577).JPG', 'image (3902).JPG', 'image (2935).JPG', 'image (2657).JPG', 'image (806).JPG', 'image (3749).JPG', 'image (1651).JPG', 'image (3689).JPG', 'image (4909).JPG', 'image (4473).JPG', 'image (252).JPG', 'image (1351).JPG', 'image (781).JPG', 'image (743).JPG', 'image (950).JPG', 'image (3784).JPG', 'image (1519).JPG', 'image (4931).JPG', 'image (2688).JPG', 'image (1513).JPG', 'image (2987).JPG', 'image (3038).JPG', 'image (1587).JPG', 'image (4565).JPG', 'image (3857).JPG', 'image (3104).JPG', 'image (960).JPG', 'image (409).JPG', 'image (3990).JPG', 'image (156).JPG', 'image (3154).JPG', 'image (4608).JPG', 'image (5421).JPG', 'image (2027).JPG', 'image (5422).JPG', 'image (2304).JPG', 'image (3363).JPG', 'image (5157).JPG', 'image (3890).JPG', 'image (3673).JPG', 'image (1041).JPG', 'image (4879).JPG', 'image (2961).JPG', 'image (2511).JPG', 'image (2505).JPG', 'image (4330).JPG', 'image (4716).JPG', 'image (3925).JPG', 'image (190).JPG', 'image (4566).JPG', 'image (687).JPG', 'image (1218).JPG', 'image (2148).JPG', 'image (3800).JPG', 'image (3788).JPG', 'image (4998).JPG', 'image (117).JPG', 'image (5201).JPG', 'image (2565).JPG', 'image (1160).JPG', 'image (587).JPG', 'image (998).JPG', 'image (1454).JPG', 'image (2818).JPG', 'image (3101).JPG', 'image (2271).JPG', 'image (5442).JPG', 'image (935).JPG', 'image (3179).JPG', 'image (5476).JPG', 'image (4074).JPG', 'image (2247).JPG', 'image (1832).JPG', 'image (2004).JPG', 'image (1872).JPG', 'image (4024).JPG', 'image (898).JPG', 'image (1179).JPG', 'image (168).JPG', 'image (2624).JPG', 'image (3391).JPG', 'image (277).JPG', 'image (5394).JPG', 'image (5010).JPG', 'image (5361).JPG', 'image (3982).JPG', 'image (4739).JPG', 'image (3136).JPG', 'image (4725).JPG', 'image (375).JPG', 'image (201).JPG', 'image (3347).JPG', 'image (4906).JPG', 'image (974).JPG', 'image (3871).JPG', 'image (2514).JPG', 'image (988).JPG', 'image (4538).JPG', 'image (4350).JPG', 'image (4643).JPG', 'image (4955).JPG', 'image (5144).JPG', 'image (3810).JPG', 'image (5120).JPG', 'image (1373).JPG', 'image (2556).JPG', 'image (1017).JPG', 'image (3257).JPG', 'image (154).JPG', 'image (611).JPG', 'image (5023).JPG', 'image (1359).JPG', 'image (1055).JPG', 'image (2952).JPG', 'image (4037).JPG', 'image (3561).JPG', 'image (3711).JPG', 'image (5493).JPG', 'image (3817).JPG', 'image (2672).JPG', 'image (5499).JPG', 'image (4582).JPG', 'image (4150).JPG', 'image (1414).JPG', 'image (186).JPG', 'image (3472).JPG', 'image (603).JPG', 'image (2943).JPG', 'image (2196).JPG', 'image (876).JPG', 'image (2443).JPG', 'image (3701).JPG', 'image (3775).JPG', 'image (2634).JPG', 'image (2079).JPG', 'image (5011).JPG', 'image (1482).JPG', 'image (3872).JPG', 'image (2205).JPG', 'image (75).JPG', 'image (2980).JPG', 'image (5203).JPG', 'image (4138).JPG', 'image (302).JPG', 'image (5312).JPG', 'image (1494).JPG', 'image (5305).JPG', 'image (1502).JPG', 'image (258).JPG', 'image (4459).JPG', 'image (1476).JPG', 'image (1215).JPG', 'image (2867).JPG', 'image (2129).JPG', 'image (3950).JPG', 'image (3236).JPG', 'image (235).JPG', 'image (4412).JPG', 'image (1858).JPG', 'image (4869).JPG', 'image (1384).JPG', 'image (2452).JPG', 'image (564).JPG', 'image (145).JPG', 'image (2386).JPG', 'image (3329).JPG', 'image (3245).JPG', 'image (2868).JPG', 'image (58).JPG', 'image (740).JPG', 'image (3835).JPG', 'image (1924).JPG', 'image (4699).JPG', 'image (3699).JPG', 'image (72).JPG', 'image (4976).JPG', 'image (1469).JPG', 'image (1190).JPG', 'image (1668).JPG', 'image (1166).JPG', 'image (4272).JPG', 'image (1226).JPG', 'image (2333).JPG', 'image (2224).JPG', 'image (3315).JPG', 'image (1075).JPG', 'image (627).JPG', 'image (761).JPG', 'image (2614).JPG', 'image (543).JPG', 'image (1909).JPG', 'image (3022).JPG', 'image (4187).JPG', 'image (2060).JPG', 'image (3147).JPG', 'image (5129).JPG', 'image (3738).JPG', 'image (1803).JPG', 'image (5141).JPG', 'image (4328).JPG', 'image (3850).JPG', 'image (96).JPG', 'image (2610).JPG', 'image (3234).JPG', 'image (901).JPG', 'image (2874).JPG', 'image (5214).JPG', 'image (2303).JPG', 'image (2444).JPG', 'image (2959).JPG', 'image (2289).JPG', 'image (5035).JPG', 'image (5128).JPG', 'image (471).JPG', 'image (3006).JPG', 'image (4376).JPG', 'image (4676).JPG', 'image (4159).JPG', 'image (2903).JPG', 'image (4903).JPG', 'image (3838).JPG', 'image (4773).JPG', 'image (3649).JPG', 'image (4339).JPG', 'image (461).JPG', 'image (1323).JPG', 'image (2176).JPG', 'image (841).JPG', 'image (4767).JPG', 'image (1594).JPG', 'image (983).JPG', 'image (859).JPG', 'image (4066).JPG', 'image (5282).JPG', 'image (396).JPG', 'image (3198).JPG', 'image (5410).JPG', 'image (5404).JPG', 'image (2295).JPG', 'image (2713).JPG', 'image (4798).JPG', 'image (3053).JPG', 'image (2850).JPG', 'image (2356).JPG', 'image (947).JPG', 'image (3533).JPG', 'image (957).JPG', 'image (320).JPG', 'image (1054).JPG', 'image (2005).JPG', 'image (126).JPG', 'image (2416).JPG', 'image (1217).JPG', 'image (4048).JPG', 'image (3665).JPG', 'image (3635).JPG', 'image (2013).JPG', 'image (2154).JPG', 'image (1735).JPG', 'image (2692).JPG', 'image (232).JPG', 'image (1597).JPG', 'image (5273).JPG', 'image (3879).JPG', 'image (1262).JPG', 'image (4407).JPG', 'image (2714).JPG', 'image (31).JPG', 'image (4695).JPG', 'image (3252).JPG', 'image (684).JPG', 'image (816).JPG', 'image (2544).JPG', 'image (4214).JPG', 'image (2307).JPG', 'image (4010).JPG', 'image (5438).JPG', 'image (2774).JPG', 'image (1337).JPG', 'image (4067).JPG', 'image (4463).JPG', 'image (1059).JPG', 'image (2136).JPG', 'image (1920).JPG', 'image (775).JPG', 'image (638).JPG', 'image (4322).JPG', 'image (4288).JPG', 'image (4466).JPG', 'image (2455).JPG', 'image (1219).JPG', 'image (3422).JPG', 'image (2558).JPG', 'image (552).JPG', 'image (4229).JPG', 'image (4171).JPG', 'image (2908).JPG', 'image (2608).JPG', 'image (2768).JPG', 'image (872).JPG', 'image (2305).JPG', 'image (4379).JPG', 'image (3251).JPG', 'image (4815).JPG', 'image (5041).JPG', 'image (2390).JPG', 'image (3444).JPG', 'image (1716).JPG', 'image (4628).JPG', 'image (4619).JPG', 'image (3163).JPG', 'image (3572).JPG', 'image (2032).JPG', 'image (4603).JPG', 'image (1621).JPG', 'image (118).JPG', 'image (1773).JPG', 'image (1286).JPG', 'image (1905).JPG', 'image (2322).JPG', 'image (2429).JPG', 'image (2583).JPG', 'image (4097).JPG', 'image (4182).JPG', 'image (236).JPG', 'image (2357).JPG', 'image (1795).JPG', 'image (2920).JPG', 'image (4497).JPG', 'image (5296).JPG', 'image (801).JPG', 'image (2448).JPG', 'image (4240).JPG', 'image (5088).JPG', 'image (441).JPG', 'image (1980).JPG', 'image (3658).JPG', 'image (2133).JPG', 'image (3661).JPG', 'image (2651).JPG', 'image (1477).JPG', 'image (3222).JPG', 'image (1400).JPG', 'image (2362).JPG', 'image (3161).JPG', 'image (1440).JPG', 'image (4842).JPG', 'image (4396).JPG', 'image (2090).JPG', 'image (1353).JPG', 'image (4036).JPG', 'image (4284).JPG', 'image (2118).JPG', 'image (4942).JPG', 'image (1509).JPG', 'image (2378).JPG', 'image (4299).JPG', 'image (1840).JPG', 'image (2526).JPG', 'image (5124).JPG', 'image (2889).JPG', 'image (2121).JPG', 'image (4664).JPG', 'image (1146).JPG', 'image (1779).JPG', 'image (3119).JPG', 'image (3141).JPG', 'image (2972).JPG', 'image (2902).JPG', 'image (1629).JPG', 'image (150).JPG', 'image (1119).JPG', 'image (1255).JPG', 'image (3818).JPG', 'image (1253).JPG', 'image (4225).JPG', 'image (251).JPG', 'image (3954).JPG', 'image (4426).JPG', 'image (3666).JPG', 'image (1737).JPG', 'image (2931).JPG', 'image (2974).JPG', 'image (4183).JPG', 'image (3201).JPG', 'image (4042).JPG', 'image (999).JPG', 'image (2141).JPG', 'image (2810).JPG', 'image (4325).JPG', 'image (474).JPG', 'image (2572).JPG', 'image (4126).JPG', 'image (3135).JPG', 'image (1557).JPG', 'image (630).JPG', 'image (1728).JPG', 'image (2748).JPG', 'image (2363).JPG', 'image (1142).JPG', 'image (3308).JPG', 'image (5053).JPG', 'image (4677).JPG', 'image (3577).JPG', 'image (5).JPG', 'image (713).JPG', 'image (2096).JPG', 'image (5207).JPG', 'image (2172).JPG', 'image (4696).JPG', 'image (2396).JPG', 'image (507).JPG', 'image (3075).JPG', 'image (4034).JPG', 'image (4246).JPG', 'image (426).JPG', 'image (5297).JPG', 'image (3368).JPG', 'image (4148).JPG', 'image (3831).JPG', 'image (5414).JPG', 'image (1451).JPG', 'image (813).JPG', 'image (3723).JPG', 'image (733).JPG', 'image (3019).JPG', 'image (2259).JPG', 'image (1472).JPG', 'image (3454).JPG', 'image (1967).JPG', 'image (2086).JPG', 'image (5318).JPG', 'image (4781).JPG', 'image (1260).JPG', 'image (2459).JPG', 'image (494).JPG', 'image (1989).JPG', 'image (1410).JPG', 'image (4988).JPG', 'image (2776).JPG', 'image (3102).JPG', 'image (653).JPG', 'image (984).JPG', 'image (2465).JPG', 'image (3166).JPG', 'image (1305).JPG', 'image (2166).JPG', 'image (3425).JPG', 'image (1770).JPG', 'image (3566).JPG', 'image (5412).JPG', 'image (3471).JPG', 'image (1871).JPG', 'image (5397).JPG', 'image (5331).JPG', 'image (3912).JPG', 'image (4173).JPG', 'image (210).JPG', 'image (561).JPG', 'image (1877).JPG', 'image (1392).JPG', 'image (256).JPG', 'image (5230).JPG', 'image (4423).JPG', 'image (1442).JPG', 'image (5342).JPG', 'image (1802).JPG', 'image (4530).JPG', 'image (3764).JPG', 'image (4764).JPG', 'image (464).JPG', 'image (558).JPG', 'image (4216).JPG', 'image (5370).JPG', 'image (5103).JPG', 'image (4418).JPG', 'image (2094).JPG', 'image (158).JPG', 'image (4133).JPG', 'image (1014).JPG', 'image (5311).JPG', 'image (3336).JPG', 'image (4387).JPG', 'image (3256).JPG', 'image (817).JPG', 'image (3508).JPG', 'image (2389).JPG', 'image (3319).JPG', 'image (3024).JPG', 'image (1685).JPG', 'image (4268).JPG', 'image (4315).JPG', 'image (1303).JPG', 'image (2067).JPG', 'image (3127).JPG', 'image (3677).JPG', 'image (5116).JPG', 'image (63).JPG', 'image (4353).JPG', 'image (5313).JPG', 'image (4939).JPG', 'image (1985).JPG', 'image (2724).JPG', 'image (3664).JPG', 'image (597).JPG', 'image (4882).JPG', 'image (2699).JPG', 'image (4395).JPG', 'image (4874).JPG', 'image (296).JPG', 'image (1789).JPG', 'image (4740).JPG', 'image (94).JPG', 'image (2723).JPG', 'image (1275).JPG', 'image (4118).JPG', 'image (3170).JPG', 'image (976).JPG', 'image (2612).JPG', 'image (3354).JPG', 'image (3745).JPG', 'image (45).JPG', 'image (4836).JPG', 'image (4851).JPG', 'image (3499).JPG', 'image (4014).JPG', 'image (4569).JPG', 'image (3688).JPG', 'image (1523).JPG', 'image (657).JPG', 'image (2772).JPG', 'image (1783).JPG', 'image (3920).JPG', 'image (4878).JPG', 'image (1541).JPG', 'image (261).JPG', 'image (1723).JPG', 'image (4020).JPG', 'image (3926).JPG', 'image (3548).JPG', 'image (1814).JPG', 'image (4047).JPG', 'image (4420).JPG', 'image (3350).JPG', 'image (3501).JPG', 'image (3190).JPG', 'image (4561).JPG', 'image (891).JPG', 'image (4756).JPG', 'image (3794).JPG', 'image (1441).JPG', 'image (651).JPG', 'image (4316).JPG', 'image (2268).JPG', 'image (3333).JPG', 'image (5236).JPG', 'image (4220).JPG', 'image (7).JPG', 'image (4506).JPG', 'image (1493).JPG', 'image (4975).JPG', 'image (802).JPG', 'image (851).JPG', 'image (1199).JPG', 'image (2306).JPG', 'image (2638).JPG', 'image (5235).JPG', 'image (1553).JPG', 'image (5127).JPG', 'image (5496).JPG', 'image (5200).JPG', 'image (2962).JPG', 'image (1457).JPG', 'image (4100).JPG', 'image (1704).JPG', 'image (3209).JPG', 'image (5326).JPG', 'image (2675).JPG', 'image (1583).JPG', 'image (43).JPG', 'image (5090).JPG', 'image (74).JPG', 'image (4247).JPG', 'image (4383).JPG', 'image (3526).JPG', 'image (3399).JPG', 'image (174).JPG', 'image (3020).JPG', 'image (2112).JPG', 'image (4457).JPG', 'image (2718).JPG', 'image (3138).JPG', 'image (2934).JPG', 'image (4650).JPG', 'image (436).JPG', 'image (383).JPG', 'image (4990).JPG', 'image (4181).JPG', 'image (5448).JPG', 'image (4840).JPG', 'image (4937).JPG', 'image (3582).JPG', 'image (2016).JPG', 'image (4971).JPG', 'image (3511).JPG', 'image (5328).JPG', 'image (209).JPG', 'image (782).JPG', 'image (735).JPG', 'image (1031).JPG', 'image (315).JPG', 'image (2801).JPG', 'image (4539).JPG', 'image (3458).JPG', 'image (5028).JPG', 'image (1657).JPG', 'image (1467).JPG', 'image (2313).JPG', 'image (3553).JPG', 'image (3977).JPG', 'image (811).JPG', 'image (3641).JPG', 'image (1344).JPG', 'image (3357).JPG', 'image (4088).JPG', 'image (4083).JPG', 'image (4831).JPG', 'image (184).JPG', 'image (5299).JPG', 'image (3524).JPG', 'image (5497).JPG', 'image (2569).JPG', 'image (4167).JPG', 'image (3622).JPG', 'image (4142).JPG', 'image (5052).JPG', 'image (562).JPG', 'image (4638).JPG', 'image (786).JPG', 'image (2968).JPG', 'image (923).JPG', 'image (1132).JPG', 'image (4822).JPG', 'image (2234).JPG', 'image (2957).JPG', 'image (3485).JPG', 'image (3667).JPG', 'image (266).JPG', 'image (4932).JPG', 'image (4556).JPG', 'image (1786).JPG', 'image (823).JPG', 'image (4596).JPG', 'image (1644).JPG', 'image (3625).JPG', 'image (14).JPG', 'image (2941).JPG', 'image (837).JPG', 'image (3707).JPG', 'image (4593).JPG', 'image (2315).JPG', 'image (693).JPG', 'image (2036).JPG', 'image (1263).JPG', 'image (360).JPG', 'image (3564).JPG', 'image (2533).JPG', 'image (4155).JPG', 'image (22).JPG', 'image (1375).JPG', 'image (3832).JPG', 'image (4361).JPG', 'image (4292).JPG', 'image (1012).JPG', 'image (1950).JPG', 'image (1161).JPG', 'image (447).JPG', 'image (3750).JPG', 'image (2773).JPG', 'image (566).JPG', 'image (3534).JPG', 'image (1857).JPG', 'image (2388).JPG', 'image (2778).JPG', 'image (2669).JPG', 'image (439).JPG', 'image (4854).JPG', 'image (3668).JPG', 'image (5260).JPG', 'image (2709).JPG', 'image (1834).JPG', 'image (3504).JPG', 'image (59).JPG', 'image (5464).JPG', 'image (1752).JPG', 'image (3779).JPG', 'image (4139).JPG', 'image (3896).JPG', 'image (2916).JPG', 'image (78).JPG', 'image (5135).JPG', 'image (313).JPG', 'image (1185).JPG', 'image (2043).JPG', 'image (1961).JPG', 'image (4352).JPG', 'image (1540).JPG', 'image (4806).JPG', 'image (2726).JPG', 'image (4512).JPG', 'image (804).JPG', 'image (1922).JPG', 'image (4356).JPG', 'image (1363).JPG', 'image (4023).JPG', 'image (3373).JPG', 'image (3598).JPG', 'image (4602).JPG', 'image (5003).JPG', 'image (2762).JPG', 'image (350).JPG', 'image (4375).JPG', 'image (3041).JPG', 'image (3743).JPG', 'image (2755).JPG', 'image (1898).JPG', 'image (3298).JPG', 'image (646).JPG', 'image (3828).JPG', 'image (1152).JPG', 'image (3895).JPG', 'image (2460).JPG', 'image (1282).JPG', 'image (5096).JPG', 'image (4044).JPG', 'image (4476).JPG', 'image (1468).JPG', 'image (1246).JPG', 'image (99).JPG', 'image (1879).JPG', 'image (3744).JPG', 'image (2290).JPG', 'image (1499).JPG', 'image (3923).JPG', 'image (5287).JPG', 'image (1733).JPG', 'image (2517).JPG', 'image (282).JPG', 'image (3944).JPG', 'image (4758).JPG', 'image (1129).JPG', 'image (5146).JPG', 'image (716).JPG', 'image (395).JPG', 'image (2878).JPG', 'image (4893).JPG', 'image (2866).JPG', 'image (3507).JPG', 'image (1077).JPG', 'image (1974).JPG', 'image (2018).JPG', 'image (1972).JPG', 'image (4785).JPG', 'image (2288).JPG', 'image (4555).JPG', 'image (4485).JPG', 'image (1060).JPG', 'image (1642).JPG', 'image (4711).JPG', 'image (5133).JPG', 'image (4149).JPG', 'image (1987).JPG', 'image (2167).JPG', 'image (3334).JPG', 'image (2083).JPG', 'image (797).JPG', 'image (2330).JPG', 'image (5369).JPG', 'image (5188).JPG', 'image (1763).JPG', 'image (2215).JPG', 'image (4757).JPG', 'image (4360).JPG', 'image (2326).JPG', 'image (1507).JPG', 'image (379).JPG', 'image (2218).JPG', 'image (3018).JPG', 'image (663).JPG', 'image (5390).JPG', 'image (2410).JPG', 'image (4219).JPG', 'image (3637).JPG', 'image (844).JPG', 'image (525).JPG', 'image (4436).JPG', 'image (4945).JPG', 'image (153).JPG', 'image (1310).JPG', 'image (1233).JPG', 'image (719).JPG', 'image (721).JPG', 'image (4145).JPG', 'image (4918).JPG', 'image (4059).JPG', 'image (5263).JPG', 'image (885).JPG', 'image (2246).JPG', 'image (3432).JPG', 'image (3618).JPG', 'image (5385).JPG', 'image (3479).JPG', 'image (4402).JPG', 'image (4443).JPG', 'image (2767).JPG', 'image (3116).JPG', 'image (3517).JPG', 'image (3999).JPG', 'image (86).JPG', 'image (2241).JPG', 'image (4001).JPG', 'image (2293).JPG', 'image (5151).JPG', 'image (2367).JPG', 'image (1421).JPG', 'image (2062).JPG', 'image (4656).JPG', 'image (1677).JPG', 'image (5256).JPG', 'image (1736).JPG', 'image (2391).JPG', 'image (1021).JPG', 'image (2802).JPG', 'image (1198).JPG', 'image (1398).JPG', 'image (4308).JPG', 'image (4799).JPG', 'image (1595).JPG', 'image (2180).JPG', 'image (3686).JPG', 'image (2320).JPG', 'image (4336).JPG', 'image (2467).JPG', 'image (5467).JPG', 'image (1094).JPG', 'image (852).JPG', 'image (2061).JPG', 'image (1576).JPG', 'image (4900).JPG', 'image (2162).JPG', 'image (620).JPG', 'image (3272).JPG', 'image (825).JPG', 'image (2200).JPG', 'image (2217).JPG', 'image (4607).JPG', 'image (3565).JPG', 'image (2335).JPG', 'image (4872).JPG', 'image (36).JPG', 'image (4102).JPG', 'image (4581).JPG', 'image (3995).JPG', 'image (4727).JPG', 'image (4094).JPG', 'image (4980).JPG', 'image (5336).JPG', 'image (2393).JPG', 'image (1881).JPG', 'image (871).JPG', 'image (3375).JPG', 'image (4446).JPG', 'image (1149).JPG', 'image (2996).JPG', 'image (5413).JPG', 'image (2432).JPG', 'image (267).JPG', 'image (2942).JPG', 'image (3697).JPG', 'image (5065).JPG', 'image (2250).JPG', 'image (1544).JPG', 'image (2571).JPG', 'image (19).JPG', 'image (1683).JPG', 'image (791).JPG', 'image (2183).JPG', 'image (2243).JPG', 'image (1326).JPG', 'image (3928).JPG', 'image (5502).JPG', 'image (2209).JPG', 'image (2543).JPG', 'image (5107).JPG', 'image (2846).JPG', 'image (1932).JPG', 'image (316).JPG', 'image (4721).JPG', 'image (92).JPG', 'image (2522).JPG', 'image (3078).JPG', 'image (2248).JPG', 'image (1781).JPG', 'image (3156).JPG', 'image (1084).JPG', 'image (5345).JPG', 'image (1500).JPG', 'image (1711).JPG', 'image (1679).JPG', 'image (3197).JPG', 'image (3514).JPG', 'image (3459).JPG', 'image (3182).JPG', 'image (1483).JPG', 'image (4261).JPG', 'image (1714).JPG', 'image (5483).JPG', 'image (805).JPG', 'image (2456).JPG', 'image (270).JPG', 'image (3071).JPG', 'image (3158).JPG', 'image (3244).JPG', 'image (3918).JPG', 'image (4050).JPG', 'image (1104).JPG', 'image (2107).JPG', 'image (2415).JPG', 'image (808).JPG', 'image (1765).JPG', 'image (2637).JPG', 'image (3044).JPG', 'image (1293).JPG', 'image (2994).JPG', 'image (5307).JPG', 'image (2800).JPG', 'image (5266).JPG', 'image (5259).JPG', 'image (1981).JPG', 'image (3607).JPG', 'image (1828).JPG', 'image (1095).JPG', 'image (469).JPG', 'image (4458).JPG', 'image (73).JPG', 'image (2071).JPG', 'image (3559).JPG', 'image (2913).JPG', 'image (3186).JPG', 'image (390).JPG', 'image (892).JPG', 'image (4105).JPG', 'image (2462).JPG', 'image (855).JPG', 'image (1098).JPG', 'image (954).JPG', 'image (888).JPG', 'image (2981).JPG', 'image (2893).JPG', 'image (2253).JPG', 'image (1039).JPG', 'image (4632).JPG', 'image (5197).JPG', 'image (2311).JPG', 'image (4782).JPG', 'image (640).JPG', 'image (1437).JPG', 'image (4158).JPG', 'image (498).JPG', 'image (1004).JPG', 'image (391).JPG', 'image (3173).JPG', 'image (4454).JPG', 'image (357).JPG', 'image (1254).JPG', 'image (2677).JPG', 'image (1328).JPG', 'image (4600).JPG', 'image (4601).JPG', 'image (3335).JPG', 'image (2662).JPG', 'image (3812).JPG', 'image (3389).JPG', 'image (4526).JPG', 'image (879).JPG', 'image (3284).JPG', 'image (4687).JPG', 'image (2106).JPG', 'image (2317).JPG', 'image (4700).JPG', 'image (4143).JPG', 'image (544).JPG', 'image (3544).JPG', 'image (3356).JPG', 'image (3983).JPG', 'image (2966).JPG', 'image (3589).JPG', 'image (3358).JPG', 'image (5007).JPG', 'image (5132).JPG', 'image (4838).JPG', 'image (5138).JPG', 'image (4916).JPG', 'image (3352).JPG', 'image (1073).JPG', 'image (3054).JPG', 'image (5150).JPG', 'image (4833).JPG', 'image (2538).JPG', 'image (481).JPG', 'image (1923).JPG', 'image (659).JPG', 'image (5316).JPG', 'image (4114).JPG', 'image (2264).JPG', 'image (3424).JPG', 'image (3826).JPG', 'image (2739).JPG', 'image (1749).JPG', 'image (3758).JPG', 'image (2251).JPG', 'image (1330).JPG', 'image (4818).JPG', 'image (3783).JPG', 'image (2301).JPG', 'image (647).JPG', 'image (2835).JPG', 'image (322).JPG', 'image (164).JPG', 'image (3778).JPG', 'image (2006).JPG', 'image (460).JPG', 'image (1429).JPG', 'image (5199).JPG', 'image (3132).JPG', 'image (3326).JPG', 'image (2598).JPG', 'image (5072).JPG', 'image (260).JPG', 'image (4670).JPG', 'image (38).JPG', 'image (114).JPG', 'image (5085).JPG', 'image (2663).JPG', 'image (4091).JPG', 'image (4068).JPG', 'image (5022).JPG', 'image (4912).JPG', 'image (2604).JPG', 'image (4594).JPG', 'image (1561).JPG', 'image (4233).JPG', 'image (212).JPG', 'image (1025).JPG', 'image (3060).JPG', 'image (69).JPG', 'image (1023).JPG', 'image (4464).JPG', 'image (4529).JPG', 'image (1706).JPG', 'image (4201).JPG', 'image (208).JPG', 'image (2986).JPG', 'image (1743).JPG', 'image (654).JPG', 'image (2128).JPG', 'image (4768).JPG', 'image (4509).JPG', 'image (803).JPG', 'image (5165).JPG', 'image (2570).JPG', 'image (5048).JPG', 'image (4109).JPG', 'image (3348).JPG', 'image (3672).JPG', 'image (3058).JPG', 'image (4987).JPG', 'image (3346).JPG', 'image (2658).JPG', 'image (1665).JPG', 'image (198).JPG', 'image (4516).JPG', 'image (345).JPG', 'image (4559).JPG', 'image (3108).JPG', 'image (3685).JPG', 'image (1033).JPG', 'image (4131).JPG', 'image (3718).JPG', 'image (147).JPG', 'image (2470).JPG', 'image (5233).JPG', 'image (774).JPG', 'image (2327).JPG', 'image (4346).JPG', 'image (887).JPG', 'image (1401).JPG', 'image (3370).JPG', 'image (2967).JPG', 'image (1278).JPG', 'image (3003).JPG', 'image (5441).JPG', 'image (4745).JPG', 'image (2349).JPG', 'image (4568).JPG', 'image (1390).JPG', 'image (1577).JPG', 'image (4052).JPG', 'image (739).JPG', 'image (5284).JPG', 'image (2548).JPG', 'image (1471).JPG', 'image (1101).JPG', 'image (5374).JPG', 'image (339).JPG', 'image (1011).JPG', 'image (3225).JPG', 'image (4985).JPG', 'image (2876).JPG', 'image (1357).JPG', 'image (1542).JPG', 'image (1044).JPG', 'image (4689).JPG', 'image (1473).JPG', 'image (2547).JPG', 'image (531).JPG', 'image (5143).JPG', 'image (4200).JPG', 'image (2869).JPG', 'image (333).JPG', 'image (1413).JPG', 'image (253).JPG', 'image (3634).JPG', 'image (3529).JPG', 'image (1559).JPG', 'image (3231).JPG', 'image (2841).JPG', 'image (37).JPG', 'image (1529).JPG', 'image (2017).JPG', 'image (4147).JPG', 'image (2084).JPG', 'image (3703).JPG', 'image (4554).JPG', 'image (4307).JPG', 'image (1227).JPG', 'image (101).JPG', 'image (5081).JPG', 'image (4867).JPG', 'image (2681).JPG', 'image (5278).JPG', 'image (579).JPG', 'image (1053).JPG', 'image (3687).JPG', 'image (3332).JPG', 'image (1320).JPG', 'image (1718).JPG', 'image (4703).JPG', 'image (1234).JPG', 'image (4331).JPG', 'image (911).JPG', 'image (1426).JPG', 'image (2593).JPG', 'image (4502).JPG', 'image (28).JPG', 'image (4075).JPG', 'image (1891).JPG', 'image (1646).JPG', 'image (2649).JPG', 'image (709).JPG', 'image (1933).JPG', 'image (1766).JPG', 'image (902).JPG', 'image (3594).JPG', 'image (3004).JPG', 'image (3134).JPG', 'image (2474).JPG', 'image (944).JPG', 'image (910).JPG', 'image (66).JPG', 'image (5458).JPG', 'image (5378).JPG', 'image (5424).JPG', 'image (268).JPG', 'image (1268).JPG', 'image (534).JPG', 'image (5040).JPG', 'image (3789).JPG', 'image (1478).JPG', 'image (136).JPG', 'image (2472).JPG', 'image (5163).JPG', 'image (1994).JPG', 'image (4746).JPG', 'image (706).JPG', 'image (4698).JPG', 'image (435).JPG', 'image (1322).JPG', 'image (255).JPG', 'image (2352).JPG', 'image (1777).JPG', 'image (3770).JPG', 'image (1829).JPG', 'image (1083).JPG', 'image (3407).JPG', 'image (3880).JPG', 'image (5431).JPG', 'image (5154).JPG', 'image (2710).JPG', 'image (880).JPG', 'image (4217).JPG', 'image (2249).JPG', 'image (1778).JPG', 'image (606).JPG', 'image (4510).JPG', 'image (5061).JPG', 'image (787).JPG', 'image (574).JPG', 'image (512).JPG', 'image (1726).JPG', 'image (2102).JPG', 'image (2485).JPG', 'image (1975).JPG', 'image (2125).JPG', 'image (965).JPG', 'image (658).JPG', 'image (5095).JPG', 'image (319).JPG', 'image (5108).JPG', 'image (4063).JPG', 'image (3759).JPG', 'image (1558).JPG', 'image (2165).JPG', 'image (1632).JPG', 'image (89).JPG', 'image (4290).JPG', 'image (4873).JPG', 'image (3805).JPG', 'image (2368).JPG', 'image (444).JPG', 'image (2955).JPG', 'image (2309).JPG', 'image (5202).JPG', 'image (1756).JPG', 'image (1038).JPG', 'image (4061).JPG', 'image (5457).JPG', 'image (1522).JPG', 'image (677).JPG', 'image (4380).JPG', 'image (5408).JPG', 'image (24).JPG', 'image (1485).JPG', 'image (4456).JPG', 'image (4232).JPG', 'image (829).JPG', 'image (5130).JPG', 'image (2864).JPG', 'image (2158).JPG', 'image (4640).JPG', 'image (3502).JPG', 'image (4653).JPG', 'image (3799).JPG', 'image (4917).JPG', 'image (2369).JPG', 'image (1403).JPG', 'image (1744).JPG', 'image (351).JPG', 'image (4382).JPG', 'image (3864).JPG', 'image (1387).JPG', 'image (5300).JPG', 'image (3574).JPG', 'image (1213).JPG', 'image (2116).JPG', 'image (1355).JPG', 'image (432).JPG', 'image (4265).JPG', 'image (1962).JPG', 'image (5024).JPG', 'image (1969).JPG', 'image (1682).JPG', 'image (2512).JPG', 'image (1691).JPG', 'image (3870).JPG', 'image (175).JPG', 'image (3382).JPG', 'image (4304).JPG', 'image (3643).JPG', 'image (1193).JPG', 'image (10).JPG', 'image (5177).JPG', 'image (5047).JPG', 'image (939).JPG', 'image (1808).JPG', 'image (2676).JPG', 'image (1796).JPG', 'image (4364).JPG', 'image (5194).JPG', 'image (1110).JPG', 'image (1867).JPG', 'image (4085).JPG', 'image (2745).JPG', 'image (4332).JPG', 'image (3306).JPG', 'image (2524).JPG', 'image (2402).JPG', 'image (4623).JPG', 'image (741).JPG', 'image (5484).JPG', 'image (2204).JPG', 'image (2438).JPG', 'image (239).JPG', 'image (5356).JPG', 'image (1546).JPG', 'image (4970).JPG', 'image (701).JPG', 'image (1874).JPG', 'image (762).JPG', 'image (2048).JPG', 'image (674).JPG', 'image (2392).JPG', 'image (1312).JPG', 'image (1921).JPG', 'image (3837).JPG', 'image (3200).JPG', 'image (529).JPG', 'image (2580).JPG', 'image (1928).JPG', 'image (3030).JPG', 'image (1490).JPG', 'image (4327).JPG', 'image (4728).JPG', 'image (5123).JPG', 'image (4573).JPG', 'image (4069).JPG', 'image (3046).JPG', 'image (501).JPG', 'image (2988).JPG', 'image (3171).JPG', 'image (4413).JPG', 'image (3087).JPG', 'image (1283).JPG', 'image (3140).JPG', 'image (831).JPG', 'image (2082).JPG', 'image (3100).JPG', 'image (1741).JPG', 'image (5049).JPG', 'image (2551).JPG', 'image (2351).JPG', 'image (1445).JPG', 'image (3068).JPG', 'image (913).JPG', 'image (2674).JPG', 'image (731).JPG', 'image (242).JPG', 'image (4324).JPG', 'image (3722).JPG', 'image (2891).JPG', 'image (3277).JPG', 'image (3797).JPG', 'image (1702).JPG', 'image (413).JPG', 'image (689).JPG', 'image (5102).JPG', 'image (4442).JPG', 'image (1150).JPG', 'image (2046).JPG', 'image (2698).JPG', 'image (1181).JPG', 'image (5232).JPG', 'image (5111).JPG', 'image (625).JPG', 'image (67).JPG', 'image (429).JPG', 'image (2527).JPG', 'image (234).JPG', 'image (2820).JPG', 'image (5309).JPG', 'image (882).JPG', 'image (3586).JPG', 'image (3233).JPG', 'image (1687).JPG', 'image (2408).JPG', 'image (5152).JPG', 'image (3218).JPG', 'image (4609).JPG', 'image (5387).JPG', 'image (2693).JPG', 'image (3869).JPG', 'image (1515).JPG', 'image (2596).JPG', 'image (3305).JPG', 'image (283).JPG', 'image (1758).JPG', 'image (2727).JPG', 'image (5185).JPG', 'image (3861).JPG', 'image (1774).JPG', 'image (1563).JPG', 'image (2605).JPG', 'image (3438).JPG', 'image (3014).JPG', 'image (1842).JPG', 'image (127).JPG', 'image (3106).JPG', 'image (3330).JPG', 'image (4177).JPG', 'image (1289).JPG', 'image (989).JPG', 'image (4411).JPG', 'image (692).JPG', 'image (2787).JPG', 'image (1516).JPG', 'image (4391).JPG', 'image (1486).JPG', 'image (2906).JPG', 'image (4467).JPG', 'image (4894).JPG', 'image (2350).JPG', 'image (3175).JPG', 'image (1488).JPG', 'image (1173).JPG', 'image (3782).JPG', 'image (222).JPG', 'image (4111).JPG', 'image (4824).JPG', 'image (4841).JPG', 'image (4627).JPG', 'image (5333).JPG', 'image (3029).JPG', 'image (1762).JPG', 'image (756).JPG', 'image (917).JPG', 'image (3379).JPG', 'image (3712).JPG', 'image (600).JPG', 'image (4469).JPG', 'image (2404).JPG', 'image (3766).JPG', 'image (650).JPG', 'image (4282).JPG', 'image (1652).JPG', 'image (545).JPG', 'image (848).JPG', 'image (2381).JPG', 'image (3997).JPG', 'image (1460).JPG', 'image (508).JPG', 'image (5181).JPG', 'image (2890).JPG', 'image (3765).JPG', 'image (286).JPG', 'image (2694).JPG', 'image (4801).JPG', 'image (3062).JPG', 'image (5272).JPG', 'image (5092).JPG', 'image (3194).JPG', 'image (325).JPG', 'image (1666).JPG', 'image (4948).JPG', 'image (4759).JPG', 'image (2223).JPG', 'image (554).JPG', 'image (1560).JPG', 'image (2513).JPG', 'image (3988).JPG', 'image (5030).JPG', 'image (2345).JPG', 'image (2537).JPG', 'image (3761).JPG', 'image (4112).JPG', 'image (2355).JPG', 'image (2442).JPG', 'image (5350).JPG', 'image (621).JPG', 'image (1397).JPG', 'image (4210).JPG', 'image (3781).JPG', 'image (1028).JPG', 'image (459).JPG', 'image (2928).JPG', 'image (3601).JPG', 'image (5355).JPG', 'image (2197).JPG', 'image (1943).JPG', 'image (3155).JPG', 'image (5148).JPG', 'image (4141).JPG', 'image (2789).JPG', 'image (746).JPG', 'image (3390).JPG', 'image (994).JPG', 'image (5056).JPG', 'image (483).JPG', 'image (3214).JPG', 'image (4369).JPG', 'image (4868).JPG', 'image (1843).JPG', 'image (583).JPG', 'image (683).JPG', 'image (3554).JPG', 'image (2042).JPG', 'image (1362).JPG', 'image (4885).JPG', 'image (2785).JPG', 'image (2131).JPG', 'image (3045).JPG', 'image (2746).JPG', 'image (4772).JPG', 'image (3040).JPG', 'image (1730).JPG', 'image (4277).JPG', 'image (5308).JPG', 'image (940).JPG', 'image (3588).JPG', 'image (4053).JPG', 'image (2168).JPG', 'image (2515).JPG', 'image (2872).JPG', 'image (3052).JPG', 'image (5156).JPG', 'image (3729).JPG', 'image (4449).JPG', 'image (4826).JPG', 'image (3552).JPG', 'image (4589).JPG', 'image (4964).JPG', 'image (5093).JPG', 'image (1270).JPG', 'image (4419).JPG', 'image (2319).JPG', 'image (1653).JPG', 'image (2441).JPG', 'image (1754).JPG', 'image (1506).JPG', 'image (2567).JPG', 'image (1252).JPG', 'image (3567).JPG', 'image (662).JPG', 'image (3105).JPG', 'image (605).JPG', 'image (2609).JPG', 'image (4563).JPG', 'image (141).JPG', 'image (1501).JPG', 'image (3798).JPG', 'image (1931).JPG', 'image (4860).JPG', 'image (71).JPG', 'image (1118).JPG', 'image (4362).JPG', 'image (3441).JPG', 'image (1423).JPG', 'image (213).JPG', 'image (2030).JPG', 'image (1386).JPG', 'image (1839).JPG', 'image (5038).JPG', 'image (2777).JPG', 'image (4830).JPG', 'image (3987).JPG', 'image (4835).JPG', 'image (2233).JPG', 'image (5192).JPG', 'image (3986).JPG', 'image (732).JPG', 'image (3477).JPG', 'image (5110).JPG', 'image (3164).JPG', 'image (4481).JPG', 'image (2040).JPG', 'image (1232).JPG', 'image (8).JPG', 'image (5217).JPG', 'image (1627).JPG', 'image (1669).JPG', 'image (4264).JPG', 'image (3659).JPG', 'image (129).JPG', 'image (5427).JPG', 'image (3011).JPG', 'image (3371).JPG', 'image (419).JPG', 'image (591).JPG', 'image (3364).JPG', 'image (5365).JPG', 'image (4286).JPG', 'image (399).JPG', 'image (155).JPG', 'image (3630).JPG', 'image (3998).JPG', 'image (3081).JPG', 'image (4215).JPG', 'image (4765).JPG', 'image (5348).JPG', 'image (3648).JPG', 'image (2108).JPG', 'image (292).JPG', 'image (2449).JPG', 'image (5117).JPG', 'image (1052).JPG', 'image (1248).JPG', 'image (202).JPG', 'image (2766).JPG', 'image (1484).JPG', 'image (2163).JPG', 'image (3546).JPG', 'image (3780).JPG', 'image (4235).JPG', 'image (4524).JPG', 'image (3821).JPG', 'image (4007).JPG', 'image (4).JPG', 'image (2643).JPG', 'image (3146).JPG', 'image (5243).JPG', 'image (815).JPG', 'image (2786).JPG', 'image (3408).JPG', 'image (1680).JPG', 'image (3473).JPG', 'image (2300).JPG', 'image (3901).JPG', 'image (1422).JPG', 'image (685).JPG', 'image (3216).JPG', 'image (4658).JPG', 'image (44).JPG', 'image (4683).JPG', 'image (5025).JPG', 'image (1399).JPG', 'image (5082).JPG', 'image (4749).JPG', 'image (1300).JPG', 'image (5226).JPG', 'image (846).JPG', 'image (5237).JPG', 'image (559).JPG', 'image (3212).JPG', 'image (5268).JPG', 'image (3752).JPG', 'image (1997).JPG', 'image (3741).JPG', 'image (3747).JPG', 'image (2358).JPG', 'image (769).JPG', 'image (1220).JPG', 'image (4927).JPG', 'image (2144).JPG', 'image (2965).JPG', 'image (1552).JPG', 'image (1815).JPG', 'image (2819).JPG', 'image (1379).JPG', 'image (5166).JPG', 'image (5392).JPG', 'image (925).JPG', 'image (2579).JPG', 'image (4972).JPG', 'image (1625).JPG', 'image (4828).JPG', 'image (1336).JPG', 'image (4224).JPG', 'image (4357).JPG', 'image (1569).JPG', 'image (3427).JPG', 'image (5341).JPG', 'image (1424).JPG', 'image (448).JPG', 'image (1520).JPG', 'image (384).JPG', 'image (2194).JPG', 'image (449).JPG', 'image (4641).JPG', 'image (5274).JPG', 'image (2028).JPG', 'image (1688).JPG', 'image (5033).JPG', 'image (5416).JPG', 'image (4913).JPG', 'image (2971).JPG', 'image (681).JPG', 'image (835).JPG', 'image (4486).JPG', 'image (3076).JPG', 'image (850).JPG', 'image (1810).JPG', 'image (2054).JPG', 'image (2807).JPG', 'image (4562).JPG', 'image (2600).JPG', 'image (187).JPG', 'image (2175).JPG', 'image (1176).JPG', 'image (2318).JPG', 'image (3760).JPG', 'image (4397).JPG', 'image (3246).JPG', 'image (3410).JPG', 'image (967).JPG', 'image (2743).JPG', 'image (4811).JPG', 'image (3859).JPG', 'image (3886).JPG', 'image (1306).JPG', 'image (3324).JPG', 'image (4989).JPG', 'image (3263).JPG', 'image (3932).JPG', 'image (1518).JPG', 'image (780).JPG', 'image (2733).JPG', 'image (1043).JPG', 'image (82).JPG', 'image (847).JPG', 'image (1859).JPG', 'image (4606).JPG', 'image (1182).JPG', 'image (3387).JPG', 'image (1745).JPG', 'image (2413).JPG', 'image (4125).JPG', 'image (3195).JPG', 'image (3297).JPG', 'image (1345).JPG', 'image (3239).JPG', 'image (2417).JPG', 'image (5098).JPG', 'image (1466).JPG', 'image (3624).JPG', 'image (3839).JPG', 'image (1673).JPG', 'image (3157).JPG', 'image (953).JPG', 'image (2775).JPG', 'image (4400).JPG', 'image (1195).JPG', 'image (2208).JPG', 'image (4198).JPG', 'image (4452).JPG', 'image (2328).JPG', 'image (3199).JPG', 'image (120).JPG', 'image (3573).JPG', 'image (5080).JPG', 'image (2815).JPG', 'image (5119).JPG', 'image (4493).JPG', 'image (4388).JPG', 'image (248).JPG', 'image (2340).JPG', 'image (5016).JPG', 'image (905).JPG', 'image (2400).JPG', 'image (2950).JPG', 'image (110).JPG', 'image (170).JPG', 'image (4445).JPG', 'image (4908).JPG', 'image (308).JPG', 'image (3261).JPG', 'image (3933).JPG', 'image (1029).JPG', 'image (5470).JPG', 'image (688).JPG', 'image (5330).JPG', 'image (4545).JPG', 'image (3490).JPG', 'image (5034).JPG', 'image (1616).JPG', 'image (486).JPG', 'image (1827).JPG', 'image (3291).JPG', 'image (4983).JPG', 'image (4672).JPG', 'image (1659).JPG', 'image (2574).JPG', 'image (4997).JPG', 'image (5479).JPG', 'image (4693).JPG', 'image (397).JPG', 'image (1656).JPG', 'image (1212).JPG', 'image (4226).JPG', 'image (5100).JPG', 'image (4293).JPG', 'image (2708).JPG', 'image (809).JPG', 'image (2152).JPG', 'image (3891).JPG', 'image (1902).JPG', 'image (4982).JPG', 'image (3344).JPG', 'image (3301).JPG', 'image (506).JPG', 'image (730).JPG', 'image (2487).JPG', 'image (2691).JPG', 'image (1480).JPG', 'image (3655).JPG', 'image (5193).JPG', 'image (4517).JPG', 'image (912).JPG', 'image (1721).JPG', 'image (1645).JPG', 'image (1377).JPG', 'image (4438).JPG', 'image (304).JPG', 'image (4016).JPG', 'image (2923).JPG', 'image (3443).JPG', 'image (1081).JPG', 'image (1134).JPG', 'image (1937).JPG', 'image (2686).JPG', 'image (4595).JPG', 'image (1354).JPG', 'image (2595).JPG', 'image (2619).JPG', 'image (1600).JPG', 'image (2074).JPG', 'image (5020).JPG', 'image (3290).JPG', 'image (2053).JPG', 'image (3210).JPG', 'image (4450).JPG', 'image (3254).JPG', 'image (5398).JPG', 'image (4165).JPG', 'image (5335).JPG', 'image (2471).JPG', 'image (3776).JPG', 'image (2019).JPG', 'image (3631).JPG', 'image (5288).JPG', 'image (403).JPG', 'image (2496).JPG', 'image (1806).JPG', 'image (1649).JPG', 'image (2922).JPG', 'image (3959).JPG', 'image (3993).JPG', 'image (2159).JPG', 'image (2613).JPG', 'image (2729).JPG', 'image (1537).JPG', 'image (532).JPG', 'image (759).JPG', 'image (3193).JPG', 'image (2189).JPG', 'image (614).JPG', 'image (1245).JPG', 'image (5215).JPG', 'image (2451).JPG', 'image (3317).JPG', 'image (3600).JPG', 'image (468).JPG', 'image (4920).JPG', 'image (2418).JPG', 'image (1491).JPG', 'image (3536).JPG', 'image (4439).JPG', 'image (3128).JPG', 'image (1407).JPG', 'image (1404).JPG', 'image (3874).JPG', 'image (1637).JPG', 'image (4374).JPG', 'image (4373).JPG', 'image (981).JPG', 'image (4079).JPG', 'image (3145).JPG', 'image (4585).JPG', 'image (166).JPG', 'image (3227).JPG', 'image (1339).JPG', 'image (3393).JPG', 'image (2446).JPG', 'image (1368).JPG', 'image (1603).JPG', 'image (2838).JPG', 'image (4326).JPG', 'image (3547).JPG', 'image (3521).JPG', 'image (3431).JPG', 'image (3299).JPG', 'image (5371).JPG', 'image (2721).JPG', 'image (5208).JPG', 'image (3174).JPG', 'image (2939).JPG', 'image (3192).JPG', 'image (569).JPG', 'image (1863).JPG', 'image (2553).JPG', 'image (5401).JPG', 'image (3851).JPG', 'image (2468).JPG', 'image (1574).JPG', 'image (1274).JPG', 'image (415).JPG', 'image (3670).JPG', 'image (4692).JPG', 'image (1358).JPG', 'image (878).JPG', 'image (264).JPG', 'image (5204).JPG', 'image (3626).JPG', 'image (1109).JPG', 'image (4926).JPG', 'image (3853).JPG', 'image (323).JPG', 'image (2231).JPG', 'image (4115).JPG', 'image (1115).JPG', 'image (1497).JPG', 'image (793).JPG', 'image (2439).JPG', 'image (596).JPG', 'image (2629).JPG', 'image (215).JPG', 'image (4256).JPG', 'image (2113).JPG', 'image (1290).JPG', 'image (1660).JPG', 'image (1826).JPG', 'image (4880).JPG', 'image (1988).JPG', 'image (2944).JPG', 'image (5503).JPG', 'image (3446).JPG', 'image (5487).JPG', 'image (181).JPG', 'image (551).JPG', 'image (1194).JPG', 'image (2188).JPG', 'image (4472).JPG', 'image (41).JPG', 'image (1753).JPG', 'image (4718).JPG', 'image (1302).JPG', 'image (2379).JPG', 'image (1626).JPG', 'image (843).JPG', 'image (4808).JPG', 'image (2829).JPG', 'image (2793).JPG', 'image (102).JPG', 'image (2276).JPG', 'image (3882).JPG', 'image (1352).JPG', 'image (4437).JPG', 'image (2238).JPG', 'image (5291).JPG', 'image (90).JPG', 'image (2751).JPG', 'image (3675).JPG', 'image (5507).JPG', 'image (1548).JPG', 'image (2642).JPG', 'image (2267).JPG', 'image (3619).JPG', 'image (708).JPG', 'image (3270).JPG', 'image (3098).JPG', 'image (3302).JPG', 'image (1870).JPG', 'image (4003).JPG', 'image (1750).JPG', 'image (4652).JPG', 'image (3884).JPG', 'image (1093).JPG', 'image (2977).JPG', 'image (4637).JPG', 'image (1091).JPG', 'image (1076).JPG', 'image (1901).JPG', 'image (364).JPG', 'image (123).JPG', 'image (42).JPG', 'image (4248).JPG', 'image (1791).JPG', 'image (340).JPG', 'image (3416).JPG', 'image (2933).JPG', 'image (3031).JPG', 'image (4474).JPG', 'image (4750).JPG', 'image (80).JPG', 'image (557).JPG', 'image (672).JPG', 'image (2717).JPG', 'image (2912).JPG', 'image (604).JPG', 'image (4647).JPG', 'image (5225).JPG', 'image (4196).JPG', 'image (1222).JPG', 'image (2126).JPG', 'image (1543).JPG', 'image (4661).JPG', 'image (4205).JPG', 'image (113).JPG', 'image (2652).JPG', 'image (4855).JPG', 'image (1991).JPG', 'image (643).JPG', 'image (1764).JPG', 'image (598).JPG', 'image (4775).JPG', 'image (4056).JPG', 'image (1347).JPG', 'image (3474).JPG', 'image (2695).JPG', 'image (757).JPG', 'image (1849).JPG', 'image (4370).JPG', 'image (4546).JPG', 'image (949).JPG', 'image (890).JPG', 'image (4372).JPG', 'image (582).JPG', 'image (4617).JPG', 'image (1172).JPG', 'image (4124).JPG', 'image (4575).JPG', 'image (4180).JPG', 'image (3777).JPG', 'image (2559).JPG', 'image (4416).JPG', 'image (549).JPG', 'image (1311).JPG', 'image (3994).JPG', 'image (3791).JPG', 'image (4505).JPG', 'image (1958).JPG', 'image (133).JPG', 'image (3242).JPG', 'image (4501).JPG', 'image (4000).JPG', 'image (2161).JPG', 'image (2678).JPG', 'image (1393).JPG', 'image (2979).JPG', 'image (1908).JPG', 'image (2566).JPG', 'image (2771).JPG', 'image (1241).JPG', 'image (4523).JPG', 'image (4241).JPG', 'image (2601).JPG', 'image (4008).JPG', 'image (1913).JPG', 'image (873).JPG', 'image (1395).JPG', 'image (374).JPG', 'image (4211).JPG', 'image (3840).JPG', 'image (3260).JPG', 'image (2117).JPG', 'image (1836).JPG', 'image (3525).JPG', 'image (5060).JPG', 'image (3966).JPG', 'image (541).JPG', 'image (4033).JPG', 'image (4319).JPG', 'image (3035).JPG', 'image (4796).JPG', 'image (1822).JPG', 'image (2050).JPG', 'image (2173).JPG', 'image (3117).JPG', 'image (4013).JPG', 'image (3265).JPG', 'image (834).JPG', 'image (542).JPG', 'image (4688).JPG', 'image (5437).JPG', 'image (2779).JPG', 'image (5145).JPG', 'image (1755).JPG', 'image (2563).JPG', 'image (4814).JPG', 'image (1819).JPG', 'image (3103).JPG', 'image (3462).JPG', 'image (3191).JPG', 'image (593).JPG', 'image (3331).JPG', 'image (854).JPG', 'image (3435).JPG', 'image (4479).JPG', 'image (5015).JPG', 'image (2552).JPG', 'image (4136).JPG', 'image (2493).JPG', 'image (3731).JPG', 'image (4161).JPG', 'image (4564).JPG', 'image (1103).JPG', 'image (3112).JPG', 'image (2783).JPG', 'image (4228).JPG', 'image (1231).JPG', 'image (2732).JPG', 'image (1111).JPG', 'image (4915).JPG', 'image (5029).JPG', 'image (3341).JPG', 'image (3751).JPG', 'image (1817).JPG', 'image (165).JPG', 'image (5321).JPG', 'image (367).JPG', 'image (991).JPG', 'image (3721).JPG', 'image (4810).JPG', 'image (2831).JPG', 'image (2424).JPG', 'image (4584).JPG', 'image (4553).JPG', 'image (2769).JPG', 'image (2100).JPG', 'image (3581).JPG', 'image (27).JPG', 'image (3258).JPG', 'image (1243).JPG', 'image (4122).JPG', 'image (3221).JPG', 'image (4922).JPG', 'image (2597).JPG', 'image (2088).JPG', 'image (1074).JPG', 'image (5366).JPG', 'image (3493).JPG', 'image (820).JPG', 'image (2169).JPG', 'image (4206).JPG', 'image (515).JPG', 'image (2761).JPG', 'image (279).JPG', 'image (3226).JPG', 'image (342).JPG', 'image (2632).JPG', 'image (3262).JPG', 'image (4891).JPG', 'image (5396).JPG', 'image (4305).JPG', 'image (3478).JPG', 'image (1205).JPG', 'image (3804).JPG', 'image (3866).JPG', 'image (771).JPG', 'image (2799).JPG', 'image (4237).JPG', 'image (2298).JPG', 'image (4170).JPG', 'image (4752).JPG', 'image (3365).JPG', 'image (3516).JPG', 'image (385).JPG', 'image (1503).JPG', 'image (3893).JPG', 'image (2521).JPG', 'image (4045).JPG', 'image (4933).JPG', 'image (3273).JPG', 'image (4707).JPG', 'image (1383).JPG', 'image (5432).JPG', 'image (2625).JPG', 'image (2024).JPG', 'image (1167).JPG', 'image (858).JPG', 'image (5490).JPG', 'image (4921).JPG', 'image (2956).JPG', 'image (3188).JPG', 'image (2343).JPG', 'image (387).JPG', 'image (3903).JPG', 'image (3142).JPG', 'image (1316).JPG', 'image (3167).JPG', 'image (1608).JPG', 'image (2093).JPG', 'image (16).JPG', 'image (3980).JPG', 'image (361).JPG', 'image (4784).JPG', 'image (1624).JPG', 'image (5055).JPG', 'image (4404).JPG', 'image (5221).JPG', 'image (9).JPG', 'image (619).JPG', 'image (907).JPG', 'image (4399).JPG', 'image (671).JPG', 'image (3545).JPG', 'image (2182).JPG', 'image (1792).JPG', 'image (652).JPG', 'image (2001).JPG', 'image (1068).JPG', 'image (4986).JPG', 'image (5428).JPG', 'image (2044).JPG', 'image (1331).JPG', 'image (4583).JPG', 'image (4839).JPG', 'image (5306).JPG', 'image (2254).JPG', 'image (1284).JPG', 'image (3883).JPG', 'image (4995).JPG', 'image (975).JPG', 'image (2628).JPG', 'image (3010).JPG', 'image (2399).JPG', 'image (1761).JPG', 'image (4795).JPG', 'image (2015).JPG', 'image (5286).JPG', 'image (4076).JPG', 'image (2427).JPG', 'image (958).JPG', 'image (3700).JPG', 'image (2824).JPG', 'image (4754).JPG', 'image (3122).JPG', 'image (4850).JPG', 'image (2884).JPG', 'image (4338).JPG', 'image (3498).JPG', 'image (5004).JPG', 'image (4642).JPG', 'image (3621).JPG', 'image (4870).JPG', 'image (2124).JPG', 'image (1385).JPG', 'image (3123).JPG', 'image (3605).JPG', 'image (860).JPG', 'image (2997).JPG', 'image (3528).JPG', 'image (2002).JPG', 'image (1939).JPG', 'image (796).JPG', 'image (1738).JPG', 'image (3085).JPG', 'image (4040).JPG', 'image (2725).JPG', 'image (755).JPG', 'image (2754).JPG', 'image (699).JPG', 'image (3460).JPG', 'image (4342).JPG', 'image (3034).JPG', 'image (1916).JPG', 'image (749).JPG', 'image (4807).JPG', 'image (914).JPG', 'image (4252).JPG', 'image (50).JPG', 'image (2097).JPG', 'image (4028).JPG', 'image (845).JPG', 'image (648).JPG', 'image (2069).JPG', 'image (4035).JPG', 'image (1606).JPG', 'image (726).JPG', 'image (4715).JPG', 'image (5115).JPG', 'image (159).JPG', 'image (5084).JPG', 'image (2757).JPG', 'image (5045).JPG', 'image (4790).JPG', 'image (2978).JPG', 'image (4843).JPG', 'image (2782).JPG', 'image (1108).JPG', 'image (295).JPG', 'image (4492).JPG', 'image (4208).JPG', 'image (4678).JPG', 'image (496).JPG', 'image (4011).JPG', 'image (400).JPG', 'image (1008).JPG', 'image (443).JPG', 'image (4098).JPG', 'image (3452).JPG', 'image (2655).JPG', 'image (3639).JPG', 'image (3250).JPG', 'image (673).JPG', 'image (3008).JPG', 'image (3486).JPG', 'image (68).JPG', 'image (107).JPG', 'image (4543).JPG', 'image (2142).JPG', 'image (335).JPG', 'image (4134).JPG', 'image (3513).JPG', 'image (4175).JPG', 'image (2164).JPG', 'image (3492).JPG', 'image (3829).JPG', 'image (1768).JPG', 'image (1348).JPG', 'image (2397).JPG', 'image (955).JPG', 'image (2239).JPG', 'image (4884).JPG', 'image (3093).JPG', 'image (4092).JPG', 'image (4012).JPG', 'image (4062).JPG', 'image (5419).JPG', 'image (4706).JPG', 'image (1343).JPG', 'image (4269).JPG', 'image (2856).JPG', 'image (4541).JPG', 'image (4709).JPG', 'image (2478).JPG', 'image (1291).JPG', 'image (581).JPG', 'image (4666).JPG', 'image (3169).JPG', 'image (1334).JPG', 'image (4576).JPG', 'image (4999).JPG', 'image (163).JPG', 'image (1242).JPG', 'image (1143).JPG', 'image (1551).JPG', 'image (4065).JPG', 'image (2476).JPG', 'image (4992).JPG', 'image (280).JPG', 'image (4712).JPG', 'image (2871).JPG', 'image (1591).JPG', 'image (2120).JPG', 'image (3097).JPG', 'image (3620).JPG', 'image (4522).JPG', 'image (2110).JPG', 'image (1069).JPG', 'image (3219).JPG', 'image (4099).JPG', 'image (1865).JPG', 'image (536).JPG', 'image (1631).JPG', 'image (2792).JPG', 'image (13).JPG', 'image (152).JPG', 'image (4957).JPG', 'image (2830).JPG', 'image (1416).JPG', 'image (1020).JPG', 'image (4254).JPG', 'image (3942).JPG', 'image (1131).JPG', 'image (3908).JPG', 'image (2263).JPG', 'image (632).JPG', 'image (2860).JPG', 'image (2689).JPG', 'image (1976).JPG', 'image (35).JPG', 'image (2037).JPG', 'image (2323).JPG', 'image (4365).JPG', 'image (32).JPG', 'image (130).JPG', 'image (635).JPG', 'image (4548).JPG', 'image (1638).JPG', 'image (1824).JPG', 'image (4866).JPG', 'image (4213).JPG', 'image (3878).JPG', 'image (5155).JPG', 'image (2999).JPG', 'image (789).JPG', 'image (4618).JPG', 'image (2270).JPG', 'image (737).JPG', 'image (2372).JPG', 'image (2528).JPG', 'image (645).JPG', 'image (1374).JPG', 'image (1993).JPG', 'image (5317).JPG', 'image (3409).JPG', 'image (798).JPG', 'image (2911).JPG', 'image (707).JPG', 'image (3392).JPG', 'image (4829).JPG', 'image (2262).JPG', 'image (95).JPG', 'image (4477).JPG', 'image (4259).JPG', 'image (1617).JPG', 'image (4487).JPG', 'image (5478).JPG', 'image (3813).JPG', 'image (4064).JPG', 'image (1856).JPG', 'image (3963).JPG', 'image (4295).JPG', 'image (866).JPG', 'image (5423).JPG', 'image (4960).JPG', 'image (3088).JPG', 'image (1157).JPG', 'image (3654).JPG', 'image (4604).JPG', 'image (4511).JPG', 'image (3632).JPG', 'image (3385).JPG', 'image (2603).JPG', 'image (1719).JPG', 'image (2958).JPG', 'image (2735).JPG', 'image (4021).JPG', 'image (4890).JPG', 'image (3133).JPG', 'image (328).JPG', 'image (430).JPG', 'image (420).JPG', 'image (2187).JPG', 'image (5495).JPG', 'image (405).JPG', 'image (1225).JPG', 'image (2550).JPG', 'image (3384).JPG', 'image (832).JPG', 'image (2179).JPG', 'image (695).JPG', 'image (1464).JPG', 'image (423).JPG', 'image (3090).JPG', 'image (661).JPG', 'image (2484).JPG', 'image (767).JPG', 'image (5498).JPG', 'image (6).JPG', 'image (2385).JPG', 'image (4351).JPG', 'image (2192).JPG', 'image (2816).JPG', 'image (1995).JPG', 'image (4280).JPG', 'image (539).JPG', 'image (2886).JPG', 'image (5293).JPG', 'image (5488).JPG', 'image (1202).JPG', 'image (3036).JPG', 'image (3774).JPG', 'image (262).JPG', 'image (4654).JPG', 'image (5222).JPG', 'image (3691).JPG', 'image (3187).JPG', 'image (5112).JPG', 'image (2984).JPG', 'image (2414).JPG', 'image (4434).JPG', 'image (2796).JPG', 'image (180).JPG', 'image (151).JPG', 'image (3576).JPG', 'image (3417).JPG', 'image (517).JPG', 'image (4515).JPG', 'image (488).JPG', 'image (1102).JPG', 'image (2611).JPG', 'image (49).JPG', 'image (378).JPG', 'image (2336).JPG', 'image (3824).JPG', 'image (3481).JPG', 'image (1850).JPG', 'image (1951).JPG', 'image (2983).JPG', 'image (3975).JPG', 'image (1676).JPG', 'image (3739).JPG', 'image (2237).JPG', 'image (576).JPG', 'image (4910).JPG', 'image (3484).JPG', 'image (376).JPG', 'image (5219).JPG', 'image (5347).JPG', 'image (5245).JPG', 'image (980).JPG', 'image (3748).JPG', 'image (3696).JPG', 'image (2863).JPG', 'image (932).JPG', 'image (4747).JPG', 'image (1630).JPG', 'image (4846).JPG', 'image (4355).JPG', 'image (2232).JPG', 'image (5501).JPG', 'image (1372).JPG', 'image (4302).JPG', 'image (2842).JPG', 'image (867).JPG', 'image (4163).JPG', 'image (1571).JPG', 'image (3318).JPG', 'image (3633).JPG', 'image (667).JPG', 'image (3537).JPG', 'image (4009).JPG', 'image (4947).JPG', 'image (3361).JPG', 'image (1619).JPG', 'image (668).JPG', 'image (4924).JPG', 'image (1835).JPG', 'image (2034).JPG', 'image (1538).JPG', 'image (3437).JPG', 'image (1169).JPG', 'image (4560).JPG', 'image (1411).JPG', 'image (1168).JPG', 'image (2199).JPG', 'image (290).JPG', 'image (199).JPG', 'image (4271).JPG', 'image (3560).JPG', 'image (4022).JPG', 'image (1006).JPG', 'image (4848).JPG', 'image (4887).JPG', 'image (1655).JPG', 'image (4110).JPG', 'image (4409).JPG', 'image (2844).JPG', 'image (4974).JPG', 'image (1139).JPG', 'image (2255).JPG', 'image (172).JPG', 'image (4668).JPG', 'image (2541).JPG', 'image (2089).JPG', 'image (943).JPG', 'image (5031).JPG', 'image (3898).JPG', 'image (1085).JPG', 'image (945).JPG', 'image (5381).JPG', 'image (962).JPG', 'image (510).JPG', 'image (3803).JPG', 'image (4622).JPG', 'image (1238).JPG', 'image (1607).JPG', 'image (3836).JPG', 'image (4591).JPG', 'image (2562).JPG', 'image (1087).JPG', 'image (4406).JPG', 'image (3323).JPG', 'image (5071).JPG', 'image (3115).JPG', 'image (918).JPG', 'image (1007).JPG', 'image (2680).JPG', 'image (1256).JPG', 'image (3638).JPG', 'image (3802).JPG', 'image (3611).JPG', 'image (2419).JPG', 'image (765).JPG', 'image (4172).JPG', 'image (2840).JPG', 'image (61).JPG', 'image (2859).JPG', 'image (747).JPG', 'image (2092).JPG', 'image (478).JPG', 'image (1573).JPG', 'image (3215).JPG', 'image (1406).JPG', 'image (1517).JPG', 'image (2834).JPG', 'image (34).JPG', 'image (2828).JPG', 'image (3480).JPG', 'image (678).JPG', 'image (146).JPG', 'image (1123).JPG', 'image (1088).JPG', 'image (349).JPG', 'image (3340).JPG', 'image (830).JPG', 'image (1508).JPG', 'image (2925).JPG', 'image (1329).JPG', 'image (4895).JPG', 'image (5407).JPG', 'image (2633).JPG', 'image (2704).JPG', 'image (169).JPG', 'image (33).JPG', 'image (4348).JPG', 'image (2057).JPG', 'image (1897).JPG', 'image (499).JPG', 'image (1408).JPG', 'image (5078).JPG', 'image (5068).JPG', 'image (3867).JPG', 'image (2592).JPG', 'image (948).JPG', 'image (4742).JPG', 'image (1125).JPG', 'image (573).JPG', 'image (4820).JPG', 'image (3310).JPG', 'image (4537).JPG', 'image (4959).JPG', 'image (243).JPG', 'image (821).JPG', 'image (656).JPG', 'image (3099).JPG', 'image (4771).JPG', 'image (2440).JPG', 'image (2904).JPG', 'image (467).JPG', 'image (3663).JPG', 'image (5173).JPG', 'image (250).JPG', 'image (1904).JPG', 'image (1378).JPG', 'image (966).JPG', 'image (336).JPG', 'image (5354).JPG', 'image (5239).JPG', 'image (3383).JPG', 'image (254).JPG', 'image (278).JPG', 'image (294).JPG', 'image (4392).JPG', 'image (4557).JPG', 'image (5172).JPG', 'image (812).JPG', 'image (329).JPG', 'image (4480).JPG', 'image (2982).JPG', 'image (2283).JPG', 'image (1602).JPG', 'image (2892).JPG', 'image (5089).JPG', 'image (4943).JPG', 'image (3647).JPG', 'image (3056).JPG', 'image (1148).JPG', 'image (2229).JPG', 'image (3307).JPG', 'image (3930).JPG', 'image (1288).JPG', 'image (1757).JPG', 'image (4231).JPG', 'image (2285).JPG', 'image (3910).JPG', 'image (489).JPG', 'image (3107).JPG', 'image (4681).JPG', 'image (5220).JPG', 'image (4925).JPG', 'image (3172).JPG', 'image (1420).JPG', 'image (3695).JPG', 'image (3294).JPG', 'image (1438).JPG', 'image (1001).JPG', 'image (4417).JPG', 'image (2917).JPG', 'image (1612).JPG', 'image (5209).JPG', 'image (427).JPG', 'image (3482).JPG', 'image (2475).JPG', 'image (4800).JPG', 'image (861).JPG', 'image (4770).JPG', 'image (3762).JPG', 'image (3746).JPG', 'image (2296).JPG', 'image (4812).JPG', 'image (2316).JPG', 'image (609).JPG', 'image (2070).JPG', 'image (4389).JPG', 'image (3082).JPG', 'image (1064).JPG', 'image (881).JPG', 'image (4080).JPG', 'image (2463).JPG', 'image (5281).JPG', 'image (3680).JPG', 'image (5451).JPG', 'image (4786).JPG', 'image (3717).JPG', 'image (3989).JPG', 'image (5351).JPG', 'image (4174).JPG', 'image (4731).JPG', 'image (1433).JPG', 'image (2519).JPG', 'image (4802).JPG', 'image (1978).JPG', 'image (4817).JPG', 'image (3830).JPG', 'image (1622).JPG', 'image (5373).JPG', 'image (1788).JPG', 'image (3862).JPG', 'image (5426).JPG', 'image (476).JPG', 'image (968).JPG', 'image (3969).JPG', 'image (4863).JPG', 'image (2334).JPG', 'image (2747).JPG', 'image (1114).JPG', 'image (458).JPG', 'image (310).JPG', 'image (1439).JPG', 'image (4717).JPG', 'image (4448).JPG', 'image (1588).JPG', 'image (725).JPG', 'image (3555).JPG', 'image (3596).JPG', 'image (4496).JPG', 'image (1061).JPG', 'image (1695).JPG', 'image (4333).JPG', 'image (4435).JPG', 'image (2847).JPG', 'image (3360).JPG', 'image (3026).JPG', 'image (2376).JPG', 'image (5249).JPG', 'image (513).JPG', 'image (3584).JPG', 'image (3283).JPG', 'image (5295).JPG', 'image (5399).JPG', 'image (3440).JPG', 'image (2257).JPG', 'image (3203).JPG', 'image (4278).JPG', 'image (2805).JPG', 'image (4779).JPG', 'image (4289).JPG', 'image (2375).JPG', 'image (5002).JPG', 'image (4440).JPG', 'image (5475).JPG', 'image (2105).JPG', 'image (4962).JPG', 'image (1740).JPG', 'image (869).JPG', 'image (1050).JPG', 'image (453).JPG', 'image (3608).JPG', 'image (4156).JPG', 'image (3916).JPG', 'image (919).JPG', 'image (1890).JPG', 'image (1776).JPG', 'image (1090).JPG', 'image (1547).JPG', 'image (1388).JPG', 'image (2502).JPG', 'image (1082).JPG', 'image (5434).JPG', 'image (332).JPG', 'image (3599).JPG', 'image (1018).JPG', 'image (5319).JPG', 'image (5122).JPG', 'image (122).JPG', 'image (3967).JPG', 'image (4648).JPG', 'image (3909).JPG', 'image (3646).JPG', 'image (4455).JPG', 'image (3985).JPG', 'image (4673).JPG', 'image (421).JPG', 'image (3249).JPG', 'image (2494).JPG', 'image (1946).JPG', 'image (751).JPG', 'image (2008).JPG', 'image (941).JPG', 'image (4146).JPG', 'image (217).JPG', 'image (748).JPG', 'image (1276).JPG', 'image (2371).JPG', 'image (5182).JPG', 'image (121).JPG', 'image (1900).JPG', 'image (2382).JPG', 'image (1409).JPG', 'image (1047).JPG', 'image (4684).JPG', 'image (588).JPG', 'image (5046).JPG', 'image (2483).JPG', 'image (4245).JPG', 'image (2394).JPG', 'image (5224).JPG', 'image (1511).JPG', 'image (438).JPG', 'image (4270).JPG', 'image (1580).JPG', 'image (29).JPG', 'image (4234).JPG', 'image (1319).JPG', 'image (3149).JPG', 'image (924).JPG', 'image (4482).JPG', 'image (4577).JPG', 'image (4087).JPG', 'image (4660).JPG', 'image (1135).JPG', 'image (4572).JPG', 'image (1153).JPG', 'image (1525).JPG', 'image (2365).JPG', 'image (220).JPG', 'image (140).JPG', 'image (214).JPG', 'image (132).JPG', 'image (3321).JPG', 'image (1800).JPG', 'image (1067).JPG', 'image (4936).JPG', 'image (398).JPG', 'image (931).JPG', 'image (584).JPG', 'image (311).JPG', 'image (2915).JPG', 'image (3394).JPG', 'image (1715).JPG', 'image (2549).JPG', 'image (5228).JPG', 'image (3885).JPG', 'image (626).JPG', 'image (3904).JPG', 'image (1970).JPG', 'image (2284).JPG', 'image (4297).JPG', 'image (2653).JPG', 'image (2364).JPG', 'image (2342).JPG', 'image (2518).JPG', 'image (3682).JPG', 'image (3907).JPG', 'image (1725).JPG', 'image (1769).JPG', 'image (2539).JPG', 'image (2617).JPG', 'image (3457).JPG', 'image (4354).JPG', 'image (1799).JPG', 'image (2770).JPG', 'image (818).JPG', 'image (3110).JPG', 'image (1861).JPG', 'image (4381).JPG', 'image (4597).JPG', 'image (4057).JPG', 'image (1565).JPG', 'image (162).JPG', 'image (4311).JPG', 'image (4691).JPG', 'image (5160).JPG', 'image (895).JPG', 'image (1847).JPG', 'image (2149).JPG', 'image (1585).JPG', 'image (2103).JPG', 'image (1605).JPG', 'image (1294).JPG', 'image (5037).JPG', 'image (2073).JPG', 'image (3962).JPG', 'image (1888).JPG', 'image (1474).JPG', 'image (4544).JPG', 'image (1247).JPG', 'image (3694).JPG', 'image (3451).JPG', 'image (3679).JPG', 'image (5087).JPG', 'image (586).JPG', 'image (2827).JPG', 'image (2220).JPG', 'image (2479).JPG', 'image (5179).JPG', 'image (334).JPG', 'image (2281).JPG', 'image (2932).JPG', 'image (1342).JPG', 'image (1481).JPG', 'image (1971).JPG', 'image (5121).JPG', 'image (331).JPG', 'image (2826).JPG', 'image (4905).JPG', 'image (1707).JPG', 'image (3806).JPG', 'image (4026).JPG', 'image (3860).JPG', 'image (2435).JPG', 'image (4190).JPG', 'image (770).JPG', 'image (862).JPG', 'image (4540).JPG', 'image (5017).JPG', 'image (2853).JPG', 'image (3795).JPG', 'image (3657).JPG', 'image (1318).JPG', 'image (3205).JPG', 'image (3084).JPG', 'image (4103).JPG', 'image (5506).JPG', 'image (271).JPG', 'image (5180).JPG', 'image (4119).JPG', 'image (522).JPG', 'image (3617).JPG', 'image (990).JPG', 'image (3151).JPG', 'image (2481).JPG', 'image (3359).JPG', 'image (2531).JPG', 'image (1419).JPG', 'image (3411).JPG', 'image (2865).JPG', 'image (1203).JPG', 'image (337).JPG', 'image (5285).JPG', 'image (3522).JPG', 'image (4084).JPG', 'image (1271).JPG', 'image (4744).JPG', 'image (365).JPG', 'image (826).JPG', 'image (610).JPG', 'image (5190).JPG', 'image (2160).JPG', 'image (1382).JPG', 'image (637).JPG', 'image (5468).JPG', 'image (669).JPG', 'image (530).JPG', 'image (445).JPG', 'image (3981).JPG', 'image (5064).JPG', 'image (1089).JPG', 'image (3845).JPG', 'image (1096).JPG', 'image (2409).JPG', 'image (1475).JPG', 'image (1948).JPG', 'image (3426).JPG', 'image (245).JPG', 'image (1258).JPG', 'image (601).JPG', 'image (4816).JPG', 'image (4258).JPG', 'image (4590).JPG', 'image (4951).JPG', 'image (2936).JPG', 'image (4049).JPG', 'image (2207).JPG', 'image (1697).JPG', 'image (908).JPG', 'image (4949).JPG', 'image (828).JPG', 'image (2765).JPG', 'image (116).JPG', 'image (5334).JPG', 'image (5433).JPG', 'image (4996).JPG', 'image (1578).JPG', 'image (4038).JPG', 'image (4285).JPG', 'image (4940).JPG', 'image (2266).JPG', 'image (1162).JPG', 'image (4659).JPG', 'image (4984).JPG', 'image (752).JPG', 'image (502).JPG', 'image (2760).JPG', 'image (4853).JPG', 'image (4763).JPG', 'image (1267).JPG', 'image (407).JPG', 'image (2587).JPG', 'image (1147).JPG', 'image (5005).JPG', 'image (3342).JPG', 'image (2021).JPG', 'image (1966).JPG', 'image (4275).JPG', 'image (3846).JPG', 'image (2450).JPG', 'image (1159).JPG', 'image (4447).JPG', 'image (3629).JPG', 'image (5027).JPG', 'image (4663).JPG', 'image (4359).JPG', 'image (3523).JPG', 'image (2963).JPG', 'image (2433).JPG', 'image (3705).JPG', 'image (112).JPG', 'image (3351).JPG', 'image (380).JPG', 'image (5486).JPG', 'image (3369).JPG', 'image (2348).JPG', 'image (70).JPG', 'image (3562).JPG', 'image (1880).JPG', 'image (4393).JPG', 'image (188).JPG', 'image (191).JPG', 'image (1183).JPG', 'image (23).JPG', 'image (3929).JPG', 'image (2132).JPG', 'image (3300).JPG', 'image (3055).JPG', 'image (2178).JPG', 'image (4093).JPG', 'image (299).JPG', 'image (5008).JPG', 'image (894).JPG', 'image (3569).JPG', 'image (785).JPG', 'image (1444).JPG', 'image (3448).JPG', 'image (1079).JPG', 'image (2346).JPG', 'image (4498).JPG', 'image (2277).JPG', 'image (2143).JPG', 'image (1860).JPG', 'image (814).JPG', 'image (2530).JPG', 'image (2115).JPG', 'image (2337).JPG', 'image (265).JPG', 'image (3970).JPG', 'image (1449).JPG', 'image (904).JPG', 'image (3144).JPG', 'image (2929).JPG', 'image (4478).JPG', 'image (779).JPG', 'image (728).JPG', 'image (4414).JPG', 'image (5492).JPG', 'image (3583).JPG', 'image (3274).JPG', 'image (1633).JPG', 'image (1035).JPG', 'image (5323).JPG', 'image (5443).JPG', 'image (359).JPG', 'image (4630).JPG', 'image (590).JPG', 'image (1823).JPG', 'image (4724).JPG', 'image (475).JPG', 'image (5472).JPG', 'image (414).JPG', 'image (4531).JPG', 'image (1639).JPG', 'image (3304).JPG', 'image (2590).JPG', 'image (5339).JPG', 'image (1116).JPG', 'image (5051).JPG', 'image (3223).JPG', 'image (3213).JPG', 'image (1868).JPG', 'image (3292).JPG', 'image (2055).JPG', 'image (2728).JPG', 'image (3636).JPG', 'image (1412).JPG', 'image (602).JPG', 'image (5383).JPG', 'image (5280).JPG', 'image (3786).JPG', 'image (827).JPG', 'image (1447).JPG', 'image (2051).JPG', 'image (5367).JPG', 'image (520).JPG', 'image (3230).JPG', 'image (3532).JPG', 'image (2063).JPG', 'image (1807).JPG', 'image (2901).JPG', 'image (5026).JPG', 'image (700).JPG', 'image (2575).JPG', 'image (2937).JPG', 'image (40).JPG', 'image (4222).JPG', 'image (3938).JPG', 'image (1936).JPG', 'image (563).JPG', 'image (3651).JPG', 'image (1313).JPG', 'image (2620).JPG', 'image (1562).JPG', 'image (1070).JPG', 'image (1820).JPG', 'image (2489).JPG', 'image (366).JPG', 'image (2670).JPG', 'image (537).JPG', 'image (3162).JPG', 'image (4528).JPG', 'image (4151).JPG', 'image (4783).JPG', 'image (2764).JPG', 'image (189).JPG', 'image (3609).JPG', 'image (3935).JPG', 'image (3948).JPG', 'image (1235).JPG', 'image (3092).JPG', 'image (5057).JPG', 'image (1895).JPG', 'image (1528).JPG', 'image (5482).JPG', 'image (3094).JPG', 'image (3355).JPG', 'image (1027).JPG', 'image (394).JPG', 'image (4070).JPG', 'image (997).JPG', 'image (229).JPG', 'image (64).JPG', 'image (4484).JPG', 'image (5494).JPG', 'image (3165).JPG', 'image (4897).JPG', 'image (4453).JPG', 'image (4518).JPG', 'image (922).JPG', 'image (3089).JPG', 'image (711).JPG', 'image (3897).JPG', 'image (2641).JPG', 'image (179).JPG', 'image (718).JPG', 'image (2138).JPG', 'image (2555).JPG', 'image (81).JPG', 'image (2302).JPG', 'image (1746).JPG', 'image (2990).JPG', 'image (2321).JPG', 'image (76).JPG', 'image (5075).JPG', 'image (1228).JPG', 'image (3505).JPG', 'image (4368).JPG', 'image (5101).JPG', 'image (1960).JPG', 'image (3506).JPG', 'image (4323).JPG', 'image (1533).JPG', 'image (575).JPG', 'image (1575).JPG', 'image (4963).JPG', 'image (3974).JPG', 'image (4889).JPG', 'image (4697).JPG', 'image (4117).JPG', 'image (3421).JPG', 'image (2707).JPG', 'image (1984).JPG', 'image (301).JPG', 'image (4194).JPG', 'image (624).JPG', 'image (1689).JPG', 'image (108).JPG', 'image (1100).JPG', 'image (5400).JPG', 'image (5462).JPG', 'image (3755).JPG', 'image (5377).JPG', 'image (3708).JPG', 'image (822).JPG', 'image (4514).JPG', 'image (2666).JPG', 'image (1963).JPG', 'image (2104).JPG', 'image (1435).JPG', 'image (422).JPG', 'image (1527).JPG', 'image (3527).JPG', 'image (629).JPG', 'image (3497).JPG', 'image (1662).JPG', 'image (1979).JPG', 'image (5344).JPG', 'image (1589).JPG', 'image (1885).JPG', 'image (4769).JPG', 'image (2153).JPG', 'image (1000).JPG', 'image (1237).JPG', 'image (3787).JPG', 'image (3303).JPG', 'image (2696).JPG', 'image (3535).JPG', 'image (679).JPG', 'image (2405).JPG', 'image (1151).JPG', 'image (853).JPG', 'image (1107).JPG', 'image (2839).JPG', 'image (4004).JPG', 'image (3328).JPG', 'image (1654).JPG', 'image (2029).JPG', 'image (3293).JPG', 'image (3570).JPG', 'image (4679).JPG', 'image (2324).JPG', 'image (4137).JPG', 'image (1321).JPG', 'image (1430).JPG', 'image (992).JPG', 'image (4586).JPG', 'image (1505).JPG', 'image (3888).JPG', 'image (1381).JPG', 'image (1063).JPG', 'image (3282).JPG', 'image (3413).JPG', 'image (4636).JPG', 'image (3185).JPG', 'image (4018).JPG', 'image (665).JPG', 'image (4558).JPG', 'image (5461).JPG', 'image (3415).JPG', 'image (3248).JPG', 'image (2995).JPG', 'image (1787).JPG', 'image (3080).JPG', 'image (4981).JPG', 'image (4405).JPG', 'image (1269).JPG', 'image (1892).JPG', 'image (3737).JPG', 'image (4702).JPG', 'image (21).JPG', 'image (3177).JPG', 'image (1539).JPG', 'image (5114).JPG', 'image (1113).JPG', 'image (1554).JPG', 'image (343).JPG', 'image (1747).JPG', 'image (1200).JPG', 'image (52).JPG', 'image (2697).JPG', 'image (205).JPG', 'image (5234).JPG', 'image (2636).JPG', 'image (2645).JPG', 'image (5505).JPG', 'image (1864).JPG', 'image (4462).JPG', 'image (5153).JPG', 'image (4722).JPG', 'image (3168).JPG', 'image (5435).JPG', 'image (1196).JPG', 'image (2428).JPG', 'image (4743).JPG', 'image (3032).JPG', 'image (3518).JPG', 'image (2437).JPG', 'image (1022).JPG', 'image (5466).JPG', 'image (2091).JPG', 'image (4475).JPG', 'image (4911).JPG', 'image (4266).JPG', 'image (2508).JPG', 'image (5257).JPG', 'image (2403).JPG', 'image (3077).JPG', 'image (642).JPG', 'image (3543).JPG', 'image (1332).JPG', 'image (4130).JPG', 'image (4157).JPG', 'image (2822).JPG', 'image (3072).JPG', 'image (195).JPG', 'image (2202).JPG', 'image (484).JPG', 'image (4935).JPG', 'image (109).JPG', 'image (3593).JPG', 'image (1798).JPG', 'image (2134).JPG', 'image (3232).JPG', 'image (2191).JPG', 'image (2711).JPG', 'image (4274).JPG', 'image (183).JPG', 'image (3120).JPG', 'image (3706).JPG', 'image (973).JPG', 'image (3268).JPG', 'image (3327).JPG', 'image (4592).JPG', 'image (1584).JPG', 'image (356).JPG', 'image (691).JPG', 'image (612).JPG', 'image (3491).JPG', 'image (3015).JPG', 'image (504).JPG', 'image (1956).JPG', 'image (4883).JPG', 'image (3398).JPG', 'image (921).JPG', 'image (3773).JPG', 'image (886).JPG', 'image (3065).JPG', 'image (971).JPG', 'image (3915).JPG', 'image (5393).JPG', 'image (3578).JPG', 'image (986).JPG', 'image (4704).JPG', 'image (1658).JPG', 'image (1184).JPG', 'image (3976).JPG', 'image (5315).JPG', 'image (2503).JPG', 'image (4671).JPG', 'image (1249).JPG', 'image (3940).JPG', 'image (528).JPG', 'image (982).JPG', 'image (2849).JPG', 'image (1536).JPG', 'image (4513).JPG', 'image (4620).JPG', 'image (1356).JPG', 'image (3275).JPG', 'image (4184).JPG', 'image (5314).JPG', 'image (411).JPG', 'image (864).JPG', 'image (5162).JPG', 'image (3001).JPG', 'image (2185).JPG', 'image (2749).JPG', 'image (4616).JPG', 'image (4651).JPG', 'image (3960).JPG', 'image (1156).JPG', 'image (4803).JPG', 'image (500).JPG', 'image (3050).JPG', 'image (5310).JPG', 'image (276).JPG', 'image (2740).JPG', 'image (1992).JPG', 'image (305).JPG', 'image (5187).JPG', 'image (2156).JPG', 'image (1456).JPG', 'image (3660).JPG', 'image (736).JPG', 'image (715).JPG', 'image (2737).JPG', 'image (466).JPG', 'image (2383).JPG', 'image (137).JPG', 'image (1240).JPG', 'image (5255).JPG', 'image (1298).JPG', 'image (3400).JPG', 'image (1431).JPG', 'image (5429).JPG', 'image (1848).JPG', 'image (4969).JPG', 'image (3367).JPG', 'image (1530).JPG', 'image (15).JPG', 'image (5142).JPG', 'image (3715).JPG', 'image (17).JPG', 'image (1048).JPG', 'image (2794).JPG', 'image (1664).JPG', 'image (696).JPG', 'image (4532).JPG', 'image (4218).JPG', 'image (2469).JPG', 'image (4635).JPG', 'image (1535).JPG', 'image (4797).JPG', 'image (893).JPG', 'image (353).JPG', 'image (589).JPG', 'image (4415).JPG', 'image (2291).JPG', 'image (3339).JPG', 'image (3401).JPG', 'image (2210).JPG', 'image (2639).JPG', 'image (1189).JPG', 'image (3402).JPG', 'image (2523).JPG', 'image (1024).JPG', 'image (1130).JPG', 'image (1866).JPG', 'image (1257).JPG', 'image (742).JPG', 'image (167).JPG', 'image (5083).JPG', 'image (2031).JPG', 'image (1186).JPG', 'image (5059).JPG', 'image (224).JPG', 'image (5289).JPG', 'image (2395).JPG', 'image (5303).JPG', 'image (4929).JPG', 'image (4966).JPG', 'image (2781).JPG', 'image (4615).JPG', 'image (2181).JPG', 'image (703).JPG', 'image (2177).JPG', 'image (2370).JPG', 'image (5009).JPG', 'image (1211).JPG', 'image (5058).JPG', 'image (4735).JPG', 'image (1640).JPG', 'image (497).JPG', 'image (2211).JPG', 'image (2068).JPG', 'image (3941).JPG', 'image (3740).JPG', 'image (4865).JPG', 'image (2076).JPG', 'image (4923).JPG', 'image (2626).JPG', 'image (4303).JPG', 'image (1833).JPG', 'image (4825).JPG', 'image (1371).JPG', 'image (1894).JPG', 'image (686).JPG', 'image (2738).JPG', 'image (3590).JPG', 'image (1532).JPG', 'image (4973).JPG', 'image (5094).JPG', 'image (4726).JPG', 'image (3152).JPG', 'image (4140).JPG', 'image (3964).JPG', 'image (1954).JPG', 'image (694).JPG', 'image (3372).JPG', 'image (372).JPG', 'image (1489).JPG', 'image (4128).JPG', 'image (1365).JPG', 'image (2806).JPG', 'image (3160).JPG', 'image (2434).JPG', 'image (1911).JPG', 'image (4073).JPG', 'image (240).JPG', 'image (3612).JPG', 'image (5077).JPG', 'image (3468).JPG', 'image (3313).JPG', 'image (2213).JPG', 'image (5302).JPG', 'image (5489).JPG', 'image (2242).JPG', 'image (4729).JPG', 'image (5174).JPG', 'image (273).JPG', 'image (4428).JPG', 'image (344).JPG', 'image (5205).JPG', 'image (2635).JPG', 'image (3466).JPG', 'image (56).JPG', 'image (2216).JPG', 'image (4705).JPG', 'image (1487).JPG', 'image (4621).JPG', 'image (1510).JPG', 'image (194).JPG', 'image (1729).JPG', 'image (434).JPG', 'image (330).JPG', 'image (5044).JPG', 'image (4578).JPG', 'image (487).JPG', 'image (1452).JPG', 'image (2047).JPG', 'image (1058).JPG', 'image (3889).JPG', 'image (3137).JPG', 'image (3676).JPG', 'image (2272).JPG', 'image (734).JPG', 'image (4129).JPG', 'image (4930).JPG', 'image (2023).JPG', 'image (4861).JPG', 'image (3211).JPG', 'image (4898).JPG', 'image (926).JPG', 'image (4864).JPG', 'image (1734).JPG', 'image (2077).JPG', 'image (1681).JPG', 'image (3027).JPG', 'image (259).JPG', 'image (1784).JPG', 'image (3709).JPG', 'image (5019).JPG', 'image (171).JPG', 'image (1350).JPG', 'image (2045).JPG', 'image (1396).JPG', 'image (3515).JPG', 'image (1977).JPG', 'image (790).JPG', 'image (4162).JPG', 'image (355).JPG', 'image (2506).JPG', 'image (3069).JPG', 'image (1699).JPG', 'image (1010).JPG', 'image (4431).JPG', 'image (3735).JPG', 'image (1926).JPG', 'image (4588).JPG', 'image (1990).JPG', 'image (1531).JPG', 'image (2344).JPG', 'image (3159).JPG', 'image (1628).JPG', 'image (1042).JPG', 'image (4341).JPG', 'image (3049).JPG', 'image (710).JPG', 'image (131).JPG', 'image (5213).JPG', 'image (2354).JPG', 'image (97).JPG', 'image (1615).JPG', 'image (2228).JPG', 'image (2536).JPG', 'image (3754).JPG', 'image (2033).JPG', 'image (5382).JPG', 'image (2501).JPG', 'image (3259).JPG', 'image (2814).JPG', 'image (3312).JPG', 'image (2660).JPG', 'image (2564).JPG', 'image (3066).JPG', 'image (2157).JPG', 'image (2312).JPG', 'image (3678).JPG', 'image (4881).JPG', 'image (2458).JPG', 'image (3217).JPG', 'image (4519).JPG', 'image (1674).JPG', 'image (3189).JPG', 'image (3827).JPG', 'image (519).JPG', 'image (1959).JPG', 'image (511).JPG', 'image (5184).JPG', 'image (314).JPG', 'image (2650).JPG', 'image (227).JPG', 'image (2861).JPG', 'image (3445).JPG', 'image (3968).JPG', 'image (3575).JPG', 'image (3061).JPG', 'image (338).JPG', 'image (3730).JPG', 'image (1942).JPG', 'image (2664).JPG', 'image (5332).JPG', 'image (3316).JPG', 'image (5471).JPG', 'image (2012).JPG', 'image (5175).JPG', 'image (1549).JPG', 'image (3645).JPG', 'image (4958).JPG', 'image (4116).JPG', 'image (3281).JPG', 'image (2964).JPG', 'image (5240).JPG', 'image (660).JPG', 'image (3684).JPG', 'image (4296).JPG', 'image (4132).JPG', 'image (2341).JPG', 'image (5283).JPG', 'image (5465).JPG', 'image (4761).JPG', 'image (2072).JPG', 'image (1030).JPG', 'image (675).JPG', 'image (440).JPG', 'image (5006).JPG', 'image (4845).JPG', 'image (750).JPG', 'image (3756).JPG', 'image (3628).JPG', 'image (4337).JPG', 'image (1703).JPG', 'image (5418).JPG', 'image (2588).JPG', 'image (4249).JPG', 'image (5415).JPG', 'image (4046).JPG', 'image (2436).JPG', 'image (3337).JPG', 'image (2150).JPG', 'image (3965).JPG', 'image (3111).JPG', 'image (4778).JPG', 'image (2035).JPG', 'image (594).JPG', 'image (2854).JPG', 'image (4260).JPG', 'image (5267).JPG', 'image (4574).JPG', 'image (3579).JPG', 'image (2630).JPG', 'image (4209).JPG', 'image (84).JPG', 'image (1277).JPG', 'image (4424).JPG', 'image (2683).JPG', 'image (1405).JPG', 'image (540).JPG', 'image (753).JPG', 'image (3314).JPG', 'image (3568).JPG', 'image (2114).JPG', 'image (144).JPG', 'image (639).JPG', 'image (393).JPG', 'image (2991).JPG', 'image (1641).JPG', 'image (2895).JPG', 'image (4096).JPG', 'image (4401).JPG', 'image (1813).JPG', 'image (4358).JPG', 'image (3278).JPG', 'image (3833).JPG', 'image (5340).JPG', 'image (3539).JPG', 'image (1598).JPG', 'image (3255).JPG', 'image (39).JPG', 'image (628).JPG', 'image (4944).JPG', 'image (784).JPG', 'image (3470).JPG', 'image (5375).JPG', 'image (2532).JPG', 'image (3952).JPG', 'image (4306).JPG', 'image (2520).JPG', 'image (4521).JPG', 'image (1492).JPG', 'image (2461).JPG', 'image (1708).JPG', 'image (1266).JPG', 'image (1782).JPG', 'image (1957).JPG', 'image (2656).JPG', 'image (1019).JPG', 'image (5469).JPG', 'image (2039).JPG', 'image (1732).JPG', 'image (5086).JPG', 'image (5176).JPG', 'image (4953).JPG', 'image (4318).JPG', 'image (4928).JPG', 'image (1614).JPG', 'image (2584).JPG', 'image (1369).JPG', 'image (2914).JPG', 'image (5304).JPG', 'image (4006).JPG', 'image (4549).JPG', 'image (3148).JPG', 'image (5171).JPG', 'image (2486).JPG', 'image (1713).JPG', 'image (4567).JPG', 'image (1831).JPG', 'image (275).JPG', 'image (1876).JPG', 'image (3420).JPG', 'image (4113).JPG', 'image (3322).JPG', 'image (1982).JPG', 'image (4736).JPG', 'image (3905).JPG', 'image (437).JPG', 'image (1201).JPG', 'image (1613).JPG', 'image (3456).JPG', 'image (5265).JPG', 'image (2949).JPG', 'image (5327).JPG', 'image (4777).JPG', 'image (2803).JPG', 'image (3606).JPG', 'image (347).JPG', 'image (1309).JPG', 'image (2049).JPG', 'image (977).JPG', 'image (2498).JPG', 'image (5212).JPG', 'image (4827).JPG', 'image (794).JPG', 'image (4858).JPG', 'image (1117).JPG', 'image (2879).JPG', 'image (5198).JPG', 'image (2022).JPG', 'image (527).JPG', 'image (346).JPG', 'image (4244).JPG', 'image (3768).JPG', 'image (3873).JPG', 'image (2845).JPG', 'image (5277).JPG', 'image (3834).JPG', 'image (745).JPG', 'image (3951).JPG', 'image (3143).JPG', 'image (1259).JPG', 'image (1592).JPG', 'image (4639).JPG', 'image (3921).JPG', 'image (5324).JPG', 'image (942).JPG', 'image (5073).JPG', 'image (933).JPG', 'image (3592).JPG', 'image (3956).JPG', 'image (5372).JPG', 'image (5168).JPG', 'image (571).JPG', 'image (55).JPG', 'image (1760).JPG', 'image (3397).JPG', 'image (5054).JPG', 'image (3183).JPG', 'image (3279).JPG', 'image (1470).JPG', 'image (2198).JPG', 'image (1887).JPG', 'image (3235).JPG', 'image (2020).JPG', 'image (1884).JPG', 'image (5186).JPG', 'image (79).JPG', 'image (2654).JPG', 'image (2374).JPG', 'image (2135).JPG', 'image (1465).JPG', 'image (3849).JPG', 'image (3597).JPG', 'image (455).JPG', 'image (2898).JPG', 'image (1002).JPG', 'image (2679).JPG', 'image (3939).JPG', 'image (352).JPG', 'image (1281).JPG', 'image (3207).JPG', 'image (1952).JPG', 'image (1853).JPG', 'image (1869).JPG', 'image (644).JPG', 'image (1171).JPG', 'image (5444).JPG', 'image (1261).JPG', 'image (4886).JPG', 'image (230).JPG', 'image (257).JPG', 'image (979).JPG', 'image (4212).JPG', 'image (607).JPG', 'image (2245).JPG', 'image (2756).JPG', 'image (1285).JPG', 'image (2273).JPG', 'image (4674).JPG', 'image (4089).JPG', 'image (744).JPG', 'image (2109).JPG', 'image (766).JPG', 'image (491).JPG', 'image (4169).JPG', 'image (5357).JPG', 'image (4495).JPG', 'image (3852).JPG', 'image (3436).JPG', 'image (3892).JPG', 'image (1686).JPG', 'image (3946).JPG', 'image (3979).JPG', 'image (285).JPG', 'image (1717).JPG', 'image (4789).JPG', 'image (5079).JPG', 'image (2190).JPG', 'image (237).JPG', 'image (5178).JPG', 'image (2946).JPG', 'image (1772).JPG', 'image (26).JPG', 'image (3725).JPG', 'image (3489).JPG', 'image (4471).JPG', 'image (5380).JPG', 'image (3865).JPG', 'image (4470).JPG', 'image (3704).JPG', 'image (4961).JPG', 'image (3338).JPG', 'image (3129).JPG', 'image (680).JPG', 'image (4634).JPG', 'image (1694).JPG', 'image (3287).JPG', 'image (4579).JPG', 'image (4733).JPG', 'image (1634).JPG', 'image (480).JPG', 'image (3819).JPG', 'image (3204).JPG', 'image (211).JPG', 'image (1051).JPG', 'image (509).JPG', 'image (1455).JPG', 'image (5337).JPG', 'image (1700).JPG', 'image (3450).JPG', 'image (3644).JPG', 'image (2855).JPG', 'image (3640).JPG', 'image (649).JPG', 'image (5246).JPG', 'image (1955).JPG', 'image (5439).JPG', 'image (2360).JPG', 'image (3253).JPG', 'image (373).JPG', 'image (83).JPG', 'image (1986).JPG', 'image (2804).JPG', 'image (472).JPG', 'image (4120).JPG', 'image (4427).JPG', 'image (1670).JPG', 'image (2003).JPG', 'image (2885).JPG', 'image (963).JPG', 'image (1349).JPG', 'image (1458).JPG', 'image (3418).JPG', 'image (1453).JPG', 'image (3430).JPG', 'image (3429).JPG', 'image (2287).JPG', 'image (1837).JPG', 'image (2701).JPG', 'image (3220).JPG', 'image (1279).JPG', 'image (451).JPG', 'image (2146).JPG', 'image (4263).JPG', 'image (2843).JPG', 'image (4610).JPG', 'image (3842).JPG', 'image (856).JPG', 'image (1333).JPG', 'image (849).JPG', 'image (547).JPG', 'image (157).JPG', 'image (972).JPG', 'image (4862).JPG', 'image (2960).JPG', 'image (896).JPG', 'image (401).JPG', 'image (2900).JPG', 'image (1389).JPG', 'image (4719).JPG', 'image (5362).JPG', 'image (4550).JPG', 'image (3825).JPG', 'image (4071).JPG', 'image (1855).JPG', 'image (4525).JPG', 'image (4017).JPG', 'image (1272).JPG', 'image (1623).JPG', 'image (727).JPG', 'image (4106).JPG', 'image (1174).JPG', 'image (2742).JPG', 'image (274).JPG', 'image (2788).JPG', 'image (1919).JPG', 'image (1391).JPG', 'image (2052).JPG', 'image (4055).JPG', 'image (3767).JPG', 'image (4720).JPG', 'image (1071).JPG', 'image (3732).JPG', 'image (3913).JPG', 'image (4876).JPG', 'image (2833).JPG', 'image (1635).JPG', 'image (392).JPG', 'image (4344).JPG', 'image (4153).JPG', 'image (3086).JPG', 'image (4430).JPG', 'image (4378).JPG', 'image (1504).JPG', 'image (4238).JPG', 'image (4730).JPG', 'image (5301).JPG', 'image (103).JPG', 'image (1015).JPG', 'image (2411).JPG', 'image (523).JPG', 'image (244).JPG', 'image (1873).JPG', 'image (969).JPG', 'image (5275).JPG', 'image (4349).JPG', 'image (3953).JPG', 'image (4121).JPG', 'image (1751).JPG', 'image (2880).JPG', 'image (2339).JPG', 'image (2940).JPG', 'image (783).JPG', 'image (1346).JPG', 'image (1057).JPG', 'image (4488).JPG', 'image (2780).JPG', 'image (307).JPG', 'image (2279).JPG', 'image (1338).JPG', 'image (2201).JPG', 'image (1498).JPG', 'image (2064).JPG', 'image (2894).JPG', 'image (5013).JPG', 'image (2812).JPG', 'image (3073).JPG', 'image (927).JPG', 'image (4367).JPG', 'image (2280).JPG', 'image (4309).JPG', 'image (2014).JPG', 'image (3992).JPG', 'image (2673).JPG', 'image (3180).JPG', 'image (2954).JPG', 'image (4168).JPG', 'image (934).JPG', 'image (4287).JPG', 'image (2811).JPG', 'image (857).JPG', 'image (2706).JPG', 'image (2975).JPG', 'image (2059).JPG', 'image (909).JPG', 'image (4967).JPG', 'image (4283).JPG', 'image (2646).JPG', 'image (1126).JPG', 'image (3614).JPG', 'image (2310).JPG', 'image (2758).JPG', 'image (3028).JPG', 'image (221).JPG', 'image (1280).JPG', 'image (2594).JPG', 'image (4791).JPG', 'image (4192).JPG', 'image (1136).JPG', 'image (3587).JPG', 'image (3671).JPG', 'image (3039).JPG', 'image (2545).JPG', 'image (3461).JPG', 'image (4888).JPG', 'image (4005).JPG', 'image (4104).JPG', 'image (4708).JPG', 'image (1446).JPG', 'image (1292).JPG', 'image (457).JPG', 'image (5109).JPG', 'image (4629).JPG', 'image (4199).JPG', 'image (4371).JPG', 'image (2702).JPG', 'image (2026).JPG', 'image (204).JPG', 'image (1304).JPG', 'image (93).JPG', 'image (1137).JPG', 'image (3899).JPG', 'image (178).JPG', 'image (317).JPG', 'image (4734).JPG', 'image (2888).JPG', 'image (4185).JPG', 'image (2661).JPG', 'image (298).JPG', 'image (1825).JPG', 'image (3009).JPG', 'image (1709).JPG', 'image (5043).JPG', 'image (465).JPG', 'image (115).JPG', 'image (5076).JPG', 'image (1495).JPG', 'image (3927).JPG', 'image (3005).JPG', 'image (2576).JPG', 'image (4956).JPG', 'image (4144).JPG', 'image (4444).JPG', 'image (2989).JPG', 'image (985).JPG', 'image (4875).JPG', 'image (1360).JPG', 'image (2423).JPG', 'image (1521).JPG', 'image (1163).JPG', 'image (5298).JPG', 'image (5147).JPG', 'image (4193).JPG', 'image (723).JPG', 'image (463).JPG', 'image (2361).JPG', 'image (3181).JPG', 'image (4410).JPG', 'image (1805).JPG', 'image (293).JPG', 'image (104).JPG', 'image (2682).JPG', 'image (836).JPG', 'image (964).JPG', 'image (4366).JPG', 'image (5485).JPG', 'image (724).JPG', 'image (3906).JPG', 'image (4432).JPG', 'image (4107).JPG', 'image (2573).JPG', 'image (493).JPG', 'image (446).JPG', 'image (3455).JPG', 'image (5227).JPG', 'image (2852).JPG', 'image (2353).JPG', 'image (228).JPG', 'image (2297).JPG', 'image (1418).JPG', 'image (5406).JPG', 'image (2473).JPG', 'image (2752).JPG', 'image (1208).JPG', 'image (1915).JPG', 'image (4394).JPG', 'image (1647).JPG', 'image (2236).JPG', 'image (1663).JPG', 'image (3043).JPG', 'image (1862).JPG', 'image (4317).JPG', 'image (3727).JPG', 'image (60).JPG', 'image (705).JPG', 'image (3288).JPG', 'image (2195).JPG', 'image (1650).JPG', 'image (2056).JPG', 'image (521).JPG', 'image (4154).JPG', 'image (5417).JPG', 'image (2491).JPG', 'image (5325).JPG', 'image (3126).JPG', 'image (2261).JPG', 'image (5231).JPG', 'image (4774).JPG', 'image (3785).JPG', 'image (1299).JPG', 'image (456).JPG', 'image (25).JPG', 'image (2873).JPG', 'image (1556).JPG', 'image (173).JPG', 'image (3924).JPG', 'image (2219).JPG', 'image (1999).JPG', 'image (200).JPG', 'image (524).JPG', 'image (4633).JPG', 'image (717).JPG', 'image (2687).JPG', 'image (1265).JPG', 'image (4667).JPG', 'image (3972).JPG', 'image (4191).JPG', 'image (1154).JPG', 'image (3012).JPG', 'image (2621).JPG', 'image (2130).JPG', 'image (2821).JPG', 'image (4832).JPG', 'image (3540).JPG', 'image (2420).JPG', 'image (2586).JPG', 'image (5368).JPG', 'image (2705).JPG', 'image (4429).JPG', 'image (3320).JPG', 'image (149).JPG', 'image (595).JPG', 'image (1236).JPG', 'image (4535).JPG', 'image (865).JPG', 'image (4766).JPG', 'image (633).JPG', 'image (3325).JPG', 'image (1080).JPG', 'image (4902).JPG', 'image (3955).JPG', 'image (4547).JPG', 'image (5454).JPG', 'image (433).JPG', 'image (4460).JPG', 'image (2252).JPG', 'image (889).JPG', 'image (5062).JPG', 'image (4787).JPG', 'image (3847).JPG', 'image (2401).JPG', 'image (1341).JPG', 'image (4844).JPG', 'image (2244).JPG', 'image (3733).JPG', 'image (289).JPG', 'image (5206).JPG', 'image (2897).JPG', 'image (1062).JPG', 'image (4267).JPG', 'image (2525).JPG', 'image (5456).JPG', 'image (5269).JPG', 'image (2447).JPG', 'image (1564).JPG', 'image (3900).JPG', 'image (2578).JPG', 'image (3405).JPG', 'image (1830).JPG', 'image (4032).JPG', 'image (4979).JPG', 'image (3464).JPG', 'image (3863).JPG', 'image (2993).JPG', 'image (800).JPG', 'image (4738).JPG', 'image (570).JPG', 'image (2151).JPG', 'image (2256).JPG', 'image (3683).JPG', 'image (1712).JPG', 'image (5445).JPG', 'image (3395).JPG', 'image (3742).JPG', 'image (246).JPG', 'image (3763).JPG', 'image (1133).JPG', 'image (2123).JPG', 'image (4748).JPG', 'image (5360).JPG', 'image (1026).JPG', 'image (3616).JPG', 'image (2722).JPG', 'image (1016).JPG', 'image (1996).JPG', 'image (3792).JPG', 'image (1121).JPG', 'image (2221).JPG', 'image (3549).JPG', 'image (5252).JPG', 'image (4892).JPG', 'image (5126).JPG', 'image (4580).JPG', 'image (4520).JPG', 'image (3815).JPG', 'image (2464).JPG', 'image (125).JPG', 'image (3228).JPG', 'image (3386).JPG', 'image (4433).JPG', 'image (176).JPG', 'image (85).JPG', 'image (1402).JPG', 'image (5000).JPG', 'image (505).JPG', 'image (5196).JPG', 'image (3266).JPG', 'image (3702).JPG', 'image (1724).JPG', 'image (4441).JPG', 'image (287).JPG', 'image (2938).JPG', 'image (4994).JPG', 'image (1604).JPG', 'image (1759).JPG', 'image (1801).JPG', 'image (1366).JPG', 'image (2240).JPG', 'image (1690).JPG', 'image (12).JPG', 'image (2924).JPG', 'image (3124).JPG', 'image (2808).JPG', 'image (622).JPG', 'image (5161).JPG', 'image (3934).JPG', 'image (4938).JPG', 'image (2795).JPG', 'image (5358).JPG', 'image (2000).JPG', 'image (1229).JPG', 'image (1643).JPG', 'image (4054).JPG', 'image (425).JPG', 'image (1838).JPG', 'image (1968).JPG', 'image (381).JPG', 'image (3033).JPG', 'image (937).JPG', 'image (185).JPG', 'image (3796).JPG', 'image (4029).JPG', 'image (1914).JPG', 'image (1496).JPG', 'image (899).JPG', 'image (1128).JPG', 'image (1927).JPG', 'image (5218).JPG', 'image (795).JPG', 'image (1462).JPG', 'image (5276).JPG', 'image (1671).JPG', 'image (4152).JPG', 'image (634).JPG', 'image (4312).JPG', 'image (4570).JPG', 'image (5491).JPG', 'image (119).JPG', 'image (3653).JPG', 'image (5164).JPG', 'image (4030).JPG', 'image (2078).JPG', 'image (5099).JPG', 'image (1206).JPG', 'image (3978).JPG', 'image (970).JPG', 'image (408).JPG', 'image (946).JPG', 'image (3264).JPG', 'image (1889).JPG', 'image (3662).JPG', 'image (1804).JPG', 'image (5195).JPG', 'image (62).JPG', 'image (3615).JPG', 'image (4273).JPG', 'image (1727).JPG', 'image (4737).JPG', 'image (4533).JPG', 'image (482).JPG', 'image (4723).JPG', 'image (618).JPG', 'image (2099).JPG', 'image (2640).JPG', 'image (870).JPG', 'image (2875).JPG', 'image (722).JPG', 'image (5210).JPG', 'image (1854).JPG', 'image (810).JPG', 'image (1844).JPG', 'image (884).JPG', 'image (3475).JPG', 'image (3936).JPG', 'image (1940).JPG', 'image (4504).JPG', 'image (874).JPG', 'image (3289).JPG', 'image (3353).JPG', 'image (1710).JPG', 'image (3378).JPG', 'image (2260).JPG', 'image (5261).JPG', 'image (4451).JPG', 'image (4907).JPG', 'image (2170).JPG', 'image (5359).JPG', 'image (2557).JPG', 'image (2568).JPG', 'image (2618).JPG', 'image (4655).JPG', 'image (124).JPG', 'image (4025).JPG', 'image (1251).JPG', 'image (2606).JPG', 'image (4645).JPG', 'image (1361).JPG', 'image (30).JPG', 'image (3125).JPG', 'image (218).JPG', 'image (2299).JPG', 'image (2075).JPG', 'image (987).JPG', 'image (3051).JPG', 'image (4243).JPG', 'image (3476).JPG', 'image (485).JPG', 'image (5480).JPG', 'image (2976).JPG', 'image (1207).JPG', 'image (18).JPG', 'image (5450).JPG', 'image (1693).JPG', 'image (416).JPG', 'image (613).JPG', 'image (370).JPG', 'image (3807).JPG', 'image (1534).JPG', 'image (1301).JPG', 'image (2744).JPG', 'image (1893).JPG', 'image (5140).JPG', 'image (1317).JPG', 'image (580).JPG', 'image (1899).JPG', 'image (3790).JPG', 'image (3991).JPG', 'image (1672).JPG', 'image (4852).JPG', 'image (5238).JPG', 'image (3067).JPG', 'image (2206).JPG', 'image (3519).JPG', 'image (2227).JPG', 'image (2797).JPG', 'image (738).JPG', 'image (2616).JPG', 'image (5248).JPG', 'image (2832).JPG', 'image (1164).JPG', 'image (3267).JPG', 'image (3343).JPG', 'image (2951).JPG', 'image (135).JPG', 'image (5063).JPG', 'image (1566).JPG', 'image (2286).JPG', 'image (1340).JPG', 'image (4662).JPG', 'image (4164).JPG', 'image (1590).JPG', 'image (1009).JPG', 'image (269).JPG', 'image (3345).JPG', 'image (1812).JPG', 'image (553).JPG', 'image (1434).JPG', 'image (4294).JPG', 'image (1896).JPG', 'image (5021).JPG', 'image (3311).JPG', 'image (3961).JPG', 'image (5106).JPG', 'image (3509).JPG', 'image (5452).JPG', 'image (2282).JPG', 'image (54).JPG', 'image (2542).JPG', 'image (616).JPG', 'image (2881).JPG', 'image (697).JPG', 'image (3150).JPG', 'image (2314).JPG', 'image (2101).JPG', 'image (3184).JPG', 'image (417).JPG', 'image (4335).JPG', 'image (3057).JPG', 'image (1696).JPG', 'image (1140).JPG', 'image (2222).JPG', 'image (5338).JPG', 'image (4178).JPG', 'image (4919).JPG', 'image (1947).JPG', 'image (3178).JPG', 'image (3719).JPG', 'image (20).JPG', 'image (4251).JPG', 'image (3713).JPG', 'image (1903).JPG', 'image (5014).JPG', 'image (1886).JPG', 'image (363).JPG', 'image (3070).JPG', 'image (2007).JPG', 'image (5474).JPG', 'image (111).JPG', 'image (4965).JPG', 'image (3542).JPG', 'image (5453).JPG', 'image (3844).JPG', 'image (2759).JPG', 'image (1250).JPG', 'image (2).JPG', 'image (5069).JPG', 'image (2582).JPG', 'image (4551).JPG', 'image (572).JPG', 'image (3063).JPG', 'image (4340).JPG', 'image (2591).JPG', 'image (105).JPG', 'image (3681).JPG', 'image (1127).JPG', 'image (5253).JPG', 'image (4675).JPG', 'image (1425).JPG', 'image (5070).JPG', 'image (3286).JPG', 'image (4710).JPG', 'image (3130).JPG', 'image (4086).JPG', 'image (720).JPG', 'image (5042).JPG', 'image (3580).JPG', 'image (1793).JPG', 'image (2992).JPG', 'image (1448).JPG', 'image (428).JPG', 'image (431).JPG', 'image (2671).JPG', 'image (4527).JPG', 'image (1841).JPG', 'image (2685).JPG', 'image (3113).JPG', 'image (1953).JPG', 'image (1514).JPG', 'image (3013).JPG', 'image (4991).JPG', 'image (2406).JPG', 'image (3726).JPG', 'image (956).JPG', 'image (3538).JPG', 'image (3769).JPG', 'image (4230).JPG', 'image (778).JPG', 'image (1748).JPG', 'image (4896).JPG', 'image (4320).JPG', 'image (1882).JPG', 'image (4483).JPG', 'image (1906).JPG', 'image (664).JPG', 'image (4732).JPG', 'image (3757).JPG', 'image (2431).JPG', 'image (389).JPG', 'image (1545).JPG', 'image (3366).JPG', 'image (263).JPG', 'image (4952).JPG', 'image (4950).JPG', 'image (3276).JPG', 'image (615).JPG', 'image (4058).JPG', 'image (1599).JPG', 'image (47).JPG', 'image (4503).JPG', 'image (2918).JPG', 'image (358).JPG', 'image (4123).JPG', 'image (1851).JPG', 'image (1846).JPG', 'image (1809).JPG', 'image (768).JPG', 'image (1524).JPG', 'image (318).JPG', 'image (128).JPG', 'image (1938).JPG', 'image (4204).JPG', 'image (1875).JPG', 'image (306).JPG', 'image (2422).JPG', 'image (3469).JPG', 'image (5436).JPG', 'image (4242).JPG', 'image (5211).JPG', 'image (503).JPG', 'image (2510).JPG', 'image (839).JPG', 'image (3083).JPG', 'image (3811).JPG', 'image (5118).JPG', 'image (993).JPG', 'image (5411).JPG', 'image (5264).JPG', 'image (3692).JPG', 'image (3720).JPG', 'image (5346).JPG', 'image (2412).JPG', 'image (87).JPG', 'image (2081).JPG', 'image (608).JPG', 'image (1945).JPG', 'image (2155).JPG', 'image (2919).JPG']\n",
            "drive/MyDrive/TRAIN/Apple___Black_rot\n",
            "['image (212).JPG', 'image (331).JPG', 'image (357).JPG', 'image (354).JPG', 'image (305).JPG', 'image (287).JPG', 'image (132).JPG', 'image (312).JPG', 'image (267).JPG', 'image (73).JPG', 'image (358).JPG', 'image (481).JPG', 'image (316).JPG', 'image (323).JPG', 'image (297).JPG', 'image (441).JPG', 'image (191).JPG', 'image (395).JPG', 'image (93).JPG', 'image (136).JPG', 'image (301).JPG', 'image (333).JPG', 'image (592).JPG', 'image (452).JPG', 'image (340).JPG', 'image (306).JPG', 'image (453).JPG', 'image (343).JPG', 'image (570).JPG', 'image (370).JPG', 'image (384).JPG', 'image (62).JPG', 'image (124).JPG', 'image (175).JPG', 'image (518).JPG', 'image (576).JPG', 'image (2).JPG', 'image (569).JPG', 'image (81).JPG', 'image (243).JPG', 'image (487).JPG', 'image (248).JPG', 'image (497).JPG', 'image (84).JPG', 'image (172).JPG', 'image (164).JPG', 'image (192).JPG', 'image (450).JPG', 'image (8).JPG', 'image (588).JPG', 'image (236).JPG', 'image (594).JPG', 'image (141).JPG', 'image (112).JPG', 'image (105).JPG', 'image (271).JPG', 'image (533).JPG', 'image (205).JPG', 'image (60).JPG', 'image (14).JPG', 'image (342).JPG', 'image (572).JPG', 'image (461).JPG', 'image (530).JPG', 'image (122).JPG', 'image (479).JPG', 'image (477).JPG', 'image (252).JPG', 'image (436).JPG', 'image (574).JPG', 'image (414).JPG', 'image (101).JPG', 'image (193).JPG', 'image (256).JPG', 'image (334).JPG', 'image (490).JPG', 'image (159).JPG', 'image (71).JPG', 'image (37).JPG', 'image (43).JPG', 'image (348).JPG', 'image (154).JPG', 'image (368).JPG', 'image (470).JPG', 'image (294).JPG', 'image (128).JPG', 'image (95).JPG', 'image (546).JPG', 'image (40).JPG', 'image (484).JPG', 'image (188).JPG', 'image (264).JPG', 'image (609).JPG', 'image (485).JPG', 'image (198).JPG', 'image (425).JPG', 'image (102).JPG', 'image (325).JPG', 'image (87).JPG', 'image (451).JPG', 'image (338).JPG', 'image (168).JPG', 'image (189).JPG', 'image (460).JPG', 'image (413).JPG', 'image (108).JPG', 'image (229).JPG', 'image (7).JPG', 'image (53).JPG', 'image (56).JPG', 'image (246).JPG', 'image (587).JPG', 'image (544).JPG', 'image (596).JPG', 'image (509).JPG', 'image (514).JPG', 'image (23).JPG', 'image (589).JPG', 'image (608).JPG', 'image (186).JPG', 'image (26).JPG', 'image (558).JPG', 'image (33).JPG', 'image (612).JPG', 'image (250).JPG', 'image (178).JPG', 'image (580).JPG', 'image (617).JPG', 'image (167).JPG', 'image (403).JPG', 'image (217).JPG', 'image (463).JPG', 'image (607).JPG', 'image (155).JPG', 'image (304).JPG', 'image (28).JPG', 'image (398).JPG', 'image (293).JPG', 'image (435).JPG', 'image (557).JPG', 'image (476).JPG', 'image (232).JPG', 'image (437).JPG', 'image (535).JPG', 'image (249).JPG', 'image (59).JPG', 'image (344).JPG', 'image (206).JPG', 'image (82).JPG', 'image (424).JPG', 'image (619).JPG', 'image (400).JPG', 'image (554).JPG', 'image (70).JPG', 'image (260).JPG', 'image (83).JPG', 'image (21).JPG', 'image (397).JPG', 'image (286).JPG', 'image (288).JPG', 'image (225).JPG', 'image (34).JPG', 'image (39).JPG', 'image (489).JPG', 'image (394).JPG', 'image (380).JPG', 'image (456).JPG', 'image (230).JPG', 'image (55).JPG', 'image (268).JPG', 'image (510).JPG', 'image (181).JPG', 'image (76).JPG', 'image (547).JPG', 'image (493).JPG', 'image (98).JPG', 'image (107).JPG', 'image (4).JPG', 'image (218).JPG', 'image (228).JPG', 'image (233).JPG', 'image (537).JPG', 'image (153).JPG', 'image (157).JPG', 'image (227).JPG', 'image (272).JPG', 'image (573).JPG', 'image (412).JPG', 'image (303).JPG', 'image (12).JPG', 'image (345).JPG', 'image (335).JPG', 'image (135).JPG', 'image (165).JPG', 'image (336).JPG', 'image (567).JPG', 'image (599).JPG', 'image (133).JPG', 'image (610).JPG', 'image (156).JPG', 'image (38).JPG', 'image (22).JPG', 'image (519).JPG', 'image (550).JPG', 'image (542).JPG', 'image (131).JPG', 'image (88).JPG', 'image (274).JPG', 'image (313).JPG', 'image (174).JPG', 'image (307).JPG', 'image (432).JPG', 'image (371).JPG', 'image (125).JPG', 'image (5).JPG', 'image (406).JPG', 'image (237).JPG', 'image (330).JPG', 'image (390).JPG', 'image (475).JPG', 'image (320).JPG', 'image (255).JPG', 'image (258).JPG', 'image (10).JPG', 'image (478).JPG', 'image (161).JPG', 'image (106).JPG', 'image (231).JPG', 'image (404).JPG', 'image (491).JPG', 'image (434).JPG', 'image (374).JPG', 'image (48).JPG', 'image (421).JPG', 'image (448).JPG', 'image (273).JPG', 'image (415).JPG', 'image (317).JPG', 'image (416).JPG', 'image (115).JPG', 'image (551).JPG', 'image (465).JPG', 'image (396).JPG', 'image (606).JPG', 'image (104).JPG', 'image (86).JPG', 'image (593).JPG', 'image (541).JPG', 'image (351).JPG', 'image (259).JPG', 'image (121).JPG', 'image (391).JPG', 'image (44).JPG', 'image (169).JPG', 'image (18).JPG', 'image (515).JPG', 'image (109).JPG', 'image (597).JPG', 'image (281).JPG', 'image (575).JPG', 'image (468).JPG', 'image (207).JPG', 'image (270).JPG', 'image (311).JPG', 'image (364).JPG', 'image (556).JPG', 'image (158).JPG', 'image (527).JPG', 'image (202).JPG', 'image (454).JPG', 'image (375).JPG', 'image (433).JPG', 'image (79).JPG', 'image (488).JPG', 'image (298).JPG', 'image (163).JPG', 'image (151).JPG', 'image (166).JPG', 'image (369).JPG', 'image (455).JPG', 'image (31).JPG', 'image (392).JPG', 'image (503).JPG', 'image (538).JPG', 'image (543).JPG', 'image (90).JPG', 'image (300).JPG', 'image (326).JPG', 'image (564).JPG', 'image (204).JPG', 'image (279).JPG', 'image (171).JPG', 'image (65).JPG', 'image (254).JPG', 'image (92).JPG', 'image (383).JPG', 'image (430).JPG', 'image (144).JPG', 'image (492).JPG', 'image (602).JPG', 'image (539).JPG', 'image (585).JPG', 'image (389).JPG', 'image (523).JPG', 'image (244).JPG', 'image (277).JPG', 'image (20).JPG', 'image (361).JPG', 'image (431).JPG', 'image (184).JPG', 'image (245).JPG', 'image (220).JPG', 'image (595).JPG', 'image (66).JPG', 'image (69).JPG', 'image (208).JPG', 'image (78).JPG', 'image (474).JPG', 'image (577).JPG', 'image (387).JPG', 'image (328).JPG', 'image (219).JPG', 'image (447).JPG', 'image (179).JPG', 'image (604).JPG', 'image (442).JPG', 'image (528).JPG', 'image (17).JPG', 'image (145).JPG', 'image (352).JPG', 'image (349).JPG', 'image (522).JPG', 'image (176).JPG', 'image (466).JPG', 'image (483).JPG', 'image (120).JPG', 'image (502).JPG', 'image (89).JPG', 'image (185).JPG', 'image (429).JPG', 'image (54).JPG', 'image (123).JPG', 'image (613).JPG', 'image (257).JPG', 'image (508).JPG', 'image (473).JPG', 'image (611).JPG', 'image (418).JPG', 'image (238).JPG', 'image (183).JPG', 'image (496).JPG', 'image (561).JPG', 'image (529).JPG', 'image (500).JPG', 'image (196).JPG', 'image (410).JPG', 'image (582).JPG', 'image (247).JPG', 'image (278).JPG', 'image (194).JPG', 'image (559).JPG', 'image (428).JPG', 'image (521).JPG', 'image (139).JPG', 'image (472).JPG', 'image (419).JPG', 'image (377).JPG', 'image (365).JPG', 'image (581).JPG', 'image (215).JPG', 'image (199).JPG', 'image (283).JPG', 'image (46).JPG', 'image (373).JPG', 'image (439).JPG', 'image (64).JPG', 'image (146).JPG', 'image (222).JPG', 'image (536).JPG', 'image (505).JPG', 'image (578).JPG', 'image (182).JPG', 'image (618).JPG', 'image (422).JPG', 'image (310).JPG', 'image (350).JPG', 'image (143).JPG', 'image (467).JPG', 'image (591).JPG', 'image (9).JPG', 'image (600).JPG', 'image (41).JPG', 'image (498).JPG', 'image (160).JPG', 'image (469).JPG', 'image (113).JPG', 'image (285).JPG', 'image (211).JPG', 'image (381).JPG', 'image (423).JPG', 'image (446).JPG', 'image (177).JPG', 'image (170).JPG', 'image (393).JPG', 'image (149).JPG', 'image (388).JPG', 'image (68).JPG', 'image (586).JPG', 'image (36).JPG', 'image (110).JPG', 'image (275).JPG', 'image (444).JPG', 'image (571).JPG', 'image (209).JPG', 'image (405).JPG', 'image (549).JPG', 'image (565).JPG', 'image (531).JPG', 'image (329).JPG', 'image (356).JPG', 'image (265).JPG', 'image (11).JPG', 'image (3).JPG', 'image (19).JPG', 'image (420).JPG', 'image (553).JPG', 'image (603).JPG', 'image (440).JPG', 'image (462).JPG', 'image (449).JPG', 'image (548).JPG', 'image (372).JPG', 'image (127).JPG', 'image (360).JPG', 'image (562).JPG', 'image (63).JPG', 'image (621).JPG', 'image (407).JPG', 'image (91).JPG', 'image (27).JPG', 'image (280).JPG', 'image (482).JPG', 'image (524).JPG', 'image (327).JPG', 'image (99).JPG', 'image (251).JPG', 'image (152).JPG', 'image (180).JPG', 'image (378).JPG', 'image (140).JPG', 'image (15).JPG', 'image (75).JPG', 'image (58).JPG', 'image (25).JPG', 'image (560).JPG', 'image (162).JPG', 'image (532).JPG', 'image (332).JPG', 'image (411).JPG', 'image (241).JPG', 'image (443).JPG', 'image (30).JPG', 'image (309).JPG', 'image (495).JPG', 'image (96).JPG', 'image (282).JPG', 'image (295).JPG', 'image (213).JPG', 'image (97).JPG', 'image (402).JPG', 'image (138).JPG', 'image (13).JPG', 'image (366).JPG', 'image (134).JPG', 'image (480).JPG', 'image (579).JPG', 'image (85).JPG', 'image (540).JPG', 'image (583).JPG', 'image (314).JPG', 'image (117).JPG', 'image (308).JPG', 'image (552).JPG', 'image (289).JPG', 'image (459).JPG', 'image (353).JPG', 'image (290).JPG', 'image (253).JPG', 'image (427).JPG', 'image (321).JPG', 'image (266).JPG', 'image (187).JPG', 'image (35).JPG', 'image (296).JPG', 'image (111).JPG', 'image (318).JPG', 'image (379).JPG', 'image (566).JPG', 'image (130).JPG', 'image (545).JPG', 'image (516).JPG', 'image (100).JPG', 'image (226).JPG', 'image (367).JPG', 'image (77).JPG', 'image (239).JPG', 'image (464).JPG', 'image (319).JPG', 'image (203).JPG', 'image (512).JPG', 'image (299).JPG', 'image (242).JPG', 'image (471).JPG', 'image (520).JPG', 'image (201).JPG', 'image (324).JPG', 'image (1).JPG', 'image (615).JPG', 'image (214).JPG', 'image (620).JPG', 'image (224).JPG', 'image (61).JPG', 'image (74).JPG', 'image (173).JPG', 'image (150).JPG', 'image (42).JPG', 'image (347).JPG', 'image (507).JPG', 'image (195).JPG', 'image (29).JPG', 'image (235).JPG', 'image (200).JPG', 'image (511).JPG', 'image (616).JPG', 'image (382).JPG', 'image (126).JPG', 'image (504).JPG', 'image (409).JPG', 'image (337).JPG', 'image (292).JPG', 'image (363).JPG', 'image (386).JPG', 'image (501).JPG', 'image (385).JPG', 'image (190).JPG', 'image (457).JPG', 'image (590).JPG', 'image (322).JPG', 'image (555).JPG', 'image (276).JPG', 'image (399).JPG', 'image (119).JPG', 'image (16).JPG', 'image (94).JPG', 'image (302).JPG', 'image (417).JPG', 'image (438).JPG', 'image (445).JPG', 'image (614).JPG', 'image (605).JPG', 'image (513).JPG', 'image (49).JPG', 'image (103).JPG', 'image (341).JPG', 'image (408).JPG', 'image (116).JPG', 'image (197).JPG', 'image (517).JPG', 'image (494).JPG', 'image (261).JPG', 'image (57).JPG', 'image (6).JPG', 'image (506).JPG', 'image (291).JPG', 'image (67).JPG', 'image (234).JPG', 'image (129).JPG', 'image (32).JPG', 'image (137).JPG', 'image (359).JPG', 'image (598).JPG', 'image (284).JPG', 'image (45).JPG', 'image (355).JPG', 'image (339).JPG', 'image (601).JPG', 'image (269).JPG', 'image (568).JPG', 'image (51).JPG', 'image (346).JPG', 'image (499).JPG', 'image (47).JPG', 'image (72).JPG', 'image (80).JPG', 'image (50).JPG', 'image (584).JPG', 'image (525).JPG', 'image (148).JPG', 'image (376).JPG', 'image (563).JPG', 'image (458).JPG', 'image (263).JPG', 'image (426).JPG', 'image (262).JPG', 'image (142).JPG', 'image (534).JPG', 'image (362).JPG', 'image (221).JPG', 'image (118).JPG', 'image (401).JPG', 'image (240).JPG', 'image (52).JPG', 'image (147).JPG', 'image (486).JPG', 'image (114).JPG', 'image (24).JPG', 'image (210).JPG', 'image (315).JPG', 'image (223).JPG', 'image (216).JPG', 'image (526).JPG']\n",
            "CPU times: user 943 ms, sys: 624 ms, total: 1.57 s\n",
            "Wall time: 53.9 s\n"
          ]
        }
      ]
    },
    {
      "cell_type": "code",
      "source": [
        "trainx.shape"
      ],
      "metadata": {
        "colab": {
          "base_uri": "https://localhost:8080/"
        },
        "id": "_-GV_igenArU",
        "outputId": "6d2ab0fc-1e3e-4a01-93a9-dada913a6b9c"
      },
      "execution_count": 16,
      "outputs": [
        {
          "output_type": "execute_result",
          "data": {
            "text/plain": [
              "(16611, 64, 64, 3)"
            ]
          },
          "metadata": {},
          "execution_count": 16
        }
      ]
    },
    {
      "cell_type": "code",
      "metadata": {
        "id": "G8urUFzNAaYA",
        "colab": {
          "base_uri": "https://localhost:8080/"
        },
        "outputId": "67a33dcc-c886-47d0-f9c0-3df54af0fd56"
      },
      "source": [
        "%%time\n",
        "testx, testy = read_images('drive/MyDrive/TRAIN')"
      ],
      "execution_count": 8,
      "outputs": [
        {
          "output_type": "stream",
          "name": "stdout",
          "text": [
            "CPU times: user 618 ms, sys: 477 ms, total: 1.1 s\n",
            "Wall time: 26.1 s\n"
          ]
        }
      ]
    },
    {
      "cell_type": "code",
      "metadata": {
        "id": "Li3bT2bPAdih",
        "colab": {
          "base_uri": "https://localhost:8080/"
        },
        "outputId": "f283099d-a9fc-4264-9606-20de51265385"
      },
      "source": [
        "trainx.shape, trainy.shape"
      ],
      "execution_count": 9,
      "outputs": [
        {
          "output_type": "execute_result",
          "data": {
            "text/plain": [
              "((16611, 32, 32, 3), (16611,))"
            ]
          },
          "metadata": {},
          "execution_count": 9
        }
      ]
    },
    {
      "cell_type": "markdown",
      "metadata": {
        "id": "aLWx2XCWwAxx"
      },
      "source": [
        "The training set contains 77,120 images (from 964 * 4 = 3,856 characters in images_background) and the testing set contains 52,720 images (from 659 * 4 = 2,636 characters in images_evaluation)."
      ]
    },
    {
      "cell_type": "markdown",
      "metadata": {
        "id": "J2VcplJ3xA-z"
      },
      "source": [
        "##Create samples"
      ]
    },
    {
      "cell_type": "code",
      "metadata": {
        "id": "oDOhxCjd24bw"
      },
      "source": [
        "def extract_sample(n_way, n_support, n_query, datax, datay):\n",
        "  \"\"\"\n",
        "  Picks random sample of size n_support+n_querry, for n_way classes\n",
        "  Args:\n",
        "      n_way (int): number of classes in a classification task\n",
        "      n_support (int): number of labeled examples per class in the support set\n",
        "      n_query (int): number of labeled examples per class in the query set\n",
        "      datax (np.array): dataset of images\n",
        "      datay (np.array): dataset of labels\n",
        "  Returns:\n",
        "      (dict) of:\n",
        "        (torch.Tensor): sample of images. Size (n_way, n_support+n_query, (dim))\n",
        "        (int): n_way\n",
        "        (int): n_support\n",
        "        (int): n_query\n",
        "  \"\"\"\n",
        "  sample = []\n",
        "  K = np.random.choice(np.unique(datay), n_way, replace=False)\n",
        "  for cls in K:\n",
        "    datax_cls = datax[datay == cls]\n",
        "    perm = np.random.permutation(datax_cls)\n",
        "    sample_cls = perm[:(n_support+n_query)]\n",
        "    sample.append(sample_cls)\n",
        "  sample = np.array(sample)\n",
        "  sample = torch.from_numpy(sample).float()\n",
        "  sample = sample.permute(0,1,4,2,3)\n",
        "  return({\n",
        "      'images': sample,\n",
        "      'n_way': n_way,\n",
        "      'n_support': n_support,\n",
        "      'n_query': n_query\n",
        "      })"
      ],
      "execution_count": 17,
      "outputs": []
    },
    {
      "cell_type": "code",
      "metadata": {
        "id": "ia3JLpQRu4fh"
      },
      "source": [
        "def display_sample(sample):\n",
        "  \"\"\"\n",
        "  Displays sample in a grid\n",
        "  Args:\n",
        "      sample (torch.Tensor): sample of images to display\n",
        "  \"\"\"\n",
        "  #need 4D tensor to create grid, currently 5D\n",
        "  sample_4D = sample.view(sample.shape[0]*sample.shape[1],*sample.shape[2:])\n",
        "  #make a grid\n",
        "  out = torchvision.utils.make_grid(sample_4D, nrow=sample.shape[1])\n",
        "  plt.figure(figsize = (16,7))\n",
        "  plt.imshow(out.permute(1, 2, 0))"
      ],
      "execution_count": 27,
      "outputs": []
    },
    {
      "cell_type": "markdown",
      "metadata": {
        "id": "-uGq_ya4yG2K"
      },
      "source": [
        "As an example, let's pick a sample and display it\n",
        "\n",
        "*   n_way = 8\n",
        "*   n_support = 5\n",
        "*   n_query = 5\n",
        "\n",
        "\n"
      ]
    },
    {
      "cell_type": "code",
      "metadata": {
        "id": "lxOHvWfO1ApZ",
        "colab": {
          "base_uri": "https://localhost:8080/",
          "height": 621
        },
        "outputId": "c6dca586-27e4-4dc7-b603-686153f04760"
      },
      "source": [
        "sample_example = extract_sample(8, 5, 5, trainx, trainy)\n",
        "display_sample(sample_example['images'])"
      ],
      "execution_count": 28,
      "outputs": [
        {
          "output_type": "stream",
          "name": "stderr",
          "text": [
            "WARNING:matplotlib.image:Clipping input data to the valid range for imshow with RGB data ([0..1] for floats or [0..255] for integers).\n"
          ]
        },
        {
          "output_type": "display_data",
          "data": {
            "text/plain": [
              "<Figure size 1600x700 with 1 Axes>"
            ],
            "image/png": "[encoded data removed]"
          },
          "metadata": {}
        }
      ]
    },
    {
      "cell_type": "code",
      "metadata": {
        "id": "RhDNMyG8AjOB",
        "colab": {
          "base_uri": "https://localhost:8080/"
        },
        "outputId": "d9655b2d-f0ef-4baf-c2c2-c566e7da7141"
      },
      "source": [
        "sample_example['images'].shape"
      ],
      "execution_count": 20,
      "outputs": [
        {
          "output_type": "execute_result",
          "data": {
            "text/plain": [
              "torch.Size([8, 10, 3, 64, 64])"
            ]
          },
          "metadata": {},
          "execution_count": 20
        }
      ]
    },
    {
      "cell_type": "markdown",
      "metadata": {
        "id": "HbakTT_nFubI"
      },
      "source": [
        "##Build model"
      ]
    },
    {
      "cell_type": "markdown",
      "metadata": {
        "id": "_-E6-_vvzXZw"
      },
      "source": [
        "Paper: [Prototypical Networks for Few-shot Learning](https://arxiv.org/pdf/1703.05175v2.pdf)"
      ]
    },
    {
      "cell_type": "markdown",
      "metadata": {
        "id": "VuvH9joezgja"
      },
      "source": [
        "The embedding part takes a (28x28x3) image and returns a column vector of length 64. The image2vector function is composed of 4 modules. Each module comprises a 64-filter 3 × 3 convolution, a batch normalization layer, a ReLU nonlinearity and a 2 × 2 max-pooling layer.\n",
        "\n",
        "When applied to the 28 × 28 Omniglot images this architecture results in a 64-dimensional output space."
      ]
    },
    {
      "cell_type": "code",
      "metadata": {
        "id": "DBzAfRyJB-3X"
      },
      "source": [
        "class Flatten(nn.Module):\n",
        "  def __init__(self):\n",
        "    super(Flatten, self).__init__()\n",
        "\n",
        "  def forward(self, x):\n",
        "    return x.view(x.size(0), -1)\n",
        "\n",
        "def load_protonet_conv(**kwargs):\n",
        "  \"\"\"\n",
        "  Loads the prototypical network model\n",
        "  Arg:\n",
        "      x_dim (tuple): dimension of input image\n",
        "      hid_dim (int): dimension of hidden layers in conv blocks\n",
        "      z_dim (int): dimension of embedded image\n",
        "  Returns:\n",
        "      Model (Class ProtoNet)\n",
        "  \"\"\"\n",
        "  x_dim = kwargs['x_dim']\n",
        "  hid_dim = kwargs['hid_dim']\n",
        "  z_dim = kwargs['z_dim']\n",
        "\n",
        "  def conv_block(in_channels, out_channels):\n",
        "    return nn.Sequential(\n",
        "        nn.Conv2d(in_channels, out_channels, 3, padding=1),\n",
        "        nn.BatchNorm2d(out_channels),\n",
        "        nn.ReLU(),\n",
        "        nn.MaxPool2d(2)\n",
        "        )\n",
        "\n",
        "  encoder = nn.Sequential(\n",
        "    conv_block(x_dim[0], hid_dim),\n",
        "    conv_block(hid_dim, hid_dim),\n",
        "    conv_block(hid_dim, hid_dim),\n",
        "    conv_block(hid_dim, z_dim),\n",
        "    Flatten()\n",
        "    )\n",
        "\n",
        "  return ProtoNet(encoder)"
      ],
      "execution_count": 29,
      "outputs": []
    },
    {
      "cell_type": "code",
      "metadata": {
        "id": "FTjSYAz1WY5e"
      },
      "source": [
        "class ProtoNet(nn.Module):\n",
        "  def __init__(self, encoder):\n",
        "    \"\"\"\n",
        "    Args:\n",
        "        encoder : CNN encoding the images in sample\n",
        "        n_way (int): number of classes in a classification task\n",
        "        n_support (int): number of labeled examples per class in the support set\n",
        "        n_query (int): number of labeled examples per class in the query set\n",
        "    \"\"\"\n",
        "    super(ProtoNet, self).__init__()\n",
        "    self.encoder = encoder.cuda()\n",
        "\n",
        "  def set_forward_loss(self, sample):\n",
        "    \"\"\"\n",
        "    Computes loss, accuracy and output for classification task\n",
        "    Args:\n",
        "        sample (torch.Tensor): shape (n_way, n_support+n_query, (dim))\n",
        "    Returns:\n",
        "        torch.Tensor: shape(2), loss, accuracy and y_hat\n",
        "    \"\"\"\n",
        "    sample_images = sample['images'].cuda()\n",
        "    n_way = sample['n_way']\n",
        "    n_support = sample['n_support']\n",
        "    n_query = sample['n_query']\n",
        "\n",
        "    x_support = sample_images[:, :n_support]\n",
        "    x_query = sample_images[:, n_support:]\n",
        "\n",
        "    #target indices are 0 ... n_way-1\n",
        "    target_inds = torch.arange(0, n_way).view(n_way, 1, 1).expand(n_way, n_query, 1).long()\n",
        "    target_inds = Variable(target_inds, requires_grad=False)\n",
        "    target_inds = target_inds.cuda()\n",
        "\n",
        "    #encode images of the support and the query set\n",
        "    x = torch.cat([x_support.contiguous().view(n_way * n_support, *x_support.size()[2:]),\n",
        "                   x_query.contiguous().view(n_way * n_query, *x_query.size()[2:])], 0)\n",
        "\n",
        "    z = self.encoder.forward(x)\n",
        "    z_dim = z.size(-1) #usually 64\n",
        "    z_proto = z[:n_way*n_support].view(n_way, n_support, z_dim).mean(1)\n",
        "    z_query = z[n_way*n_support:]\n",
        "\n",
        "    #compute distances\n",
        "    dists = euclidean_dist(z_query, z_proto)\n",
        "\n",
        "    #compute probabilities\n",
        "    log_p_y = F.log_softmax(-dists, dim=1).view(n_way, n_query, -1)\n",
        "\n",
        "    loss_val = -log_p_y.gather(2, target_inds).squeeze().view(-1).mean()\n",
        "    _, y_hat = log_p_y.max(2)\n",
        "    acc_val = torch.eq(y_hat, target_inds.squeeze()).float().mean()\n",
        "\n",
        "    return loss_val, {\n",
        "        'loss': loss_val.item(),\n",
        "        'acc': acc_val.item(),\n",
        "        'y_hat': y_hat\n",
        "        }"
      ],
      "execution_count": 30,
      "outputs": []
    },
    {
      "cell_type": "code",
      "metadata": {
        "id": "Tjf4lqBFB_Ei"
      },
      "source": [
        "def euclidean_dist(x, y):\n",
        "  \"\"\"\n",
        "  Computes euclidean distance btw x and y\n",
        "  Args:\n",
        "      x (torch.Tensor): shape (n, d). n usually n_way*n_query\n",
        "      y (torch.Tensor): shape (m, d). m usually n_way\n",
        "  Returns:\n",
        "      torch.Tensor: shape(n, m). For each query, the distances to each centroid\n",
        "  \"\"\"\n",
        "  n = x.size(0)\n",
        "  m = y.size(0)\n",
        "  d = x.size(1)\n",
        "  assert d == y.size(1)\n",
        "\n",
        "  x = x.unsqueeze(1).expand(n, m, d)\n",
        "  y = y.unsqueeze(0).expand(n, m, d)\n",
        "\n",
        "  return torch.pow(x - y, 2).sum(2)"
      ],
      "execution_count": 31,
      "outputs": []
    },
    {
      "cell_type": "markdown",
      "metadata": {
        "id": "0Fke38yY6pI9"
      },
      "source": [
        "##Train"
      ]
    },
    {
      "cell_type": "code",
      "metadata": {
        "id": "olSQt0vGg_T3"
      },
      "source": [
        "from tqdm import tqdm_notebook\n",
        "from tqdm import tnrange"
      ],
      "execution_count": 32,
      "outputs": []
    },
    {
      "cell_type": "code",
      "metadata": {
        "id": "BnLOgECOKG_y"
      },
      "source": [
        "def train(model, optimizer, train_x, train_y, n_way, n_support, n_query, max_epoch, epoch_size):\n",
        "  \"\"\"\n",
        "  Trains the protonet\n",
        "  Args:\n",
        "      model\n",
        "      optimizer\n",
        "      train_x (np.array): images of training set\n",
        "      train_y(np.array): labels of training set\n",
        "      n_way (int): number of classes in a classification task\n",
        "      n_support (int): number of labeled examples per class in the support set\n",
        "      n_query (int): number of labeled examples per class in the query set\n",
        "      max_epoch (int): max epochs to train on\n",
        "      epoch_size (int): episodes per epoch\n",
        "  \"\"\"\n",
        "  #divide the learning rate by 2 at each epoch, as suggested in paper\n",
        "  scheduler = optim.lr_scheduler.StepLR(optimizer, 1, gamma=0.5, last_epoch=-1)\n",
        "  epoch = 0 #epochs done so far\n",
        "  stop = False #status to know when to stop\n",
        "\n",
        "  while epoch < max_epoch and not stop:\n",
        "    running_loss = 0.0\n",
        "    running_acc = 0.0\n",
        "\n",
        "    for episode in tnrange(epoch_size, desc=\"Epoch {:d} train\".format(epoch+1)):\n",
        "      sample = extract_sample(n_way, n_support, n_query, train_x, train_y)\n",
        "      optimizer.zero_grad()\n",
        "      loss, output = model.set_forward_loss(sample)\n",
        "      running_loss += output['loss']\n",
        "      running_acc += output['acc']\n",
        "      loss.backward()\n",
        "      optimizer.step()\n",
        "    epoch_loss = running_loss / epoch_size\n",
        "    epoch_acc = running_acc / epoch_size\n",
        "    print('Epoch {:d} -- Loss: {:.4f} Acc: {:.4f}'.format(epoch+1,epoch_loss, epoch_acc))\n",
        "    epoch += 1\n",
        "    scheduler.step()"
      ],
      "execution_count": 33,
      "outputs": []
    },
    {
      "cell_type": "code",
      "metadata": {
        "id": "7uMy99qE-Ed6",
        "colab": {
          "base_uri": "https://localhost:8080/",
          "height": 333,
          "referenced_widgets": [
            "03dfcc66d3db4dfa8a67fb40ecfd6eee",
            "df5099ed72c942dba3c4d33569a24406",
            "81a4ccdee7044790a9a121d1b0c2f6cc",
            "235fecb1f2364a4c8ea4d5b390bc6ecc",
            "032dca4ecb824ab2b4f7678af607ef59",
            "75535542e28548b5b417804264a4b83b",
            "2f3a7ea865244d58947ed3007e0b1ca4",
            "a0a31e76344944f9a57657f79e979744",
            "98e20fb874e4442a9b2811d62d70cbf2",
            "ee14c06b2c664730b4709380b9e0edaa",
            "d77ad6e36b244d1bb2f000c93194ded1",
            "9a088bc9da5b4b2789232b3e8cadcf57",
            "eb6b5e0026da48a18278555e37d004c1",
            "f10d16fba055456085d3e351ef2ff8be",
            "729d8b032ceb4c829c6e6f2f04a2ca9a",
            "7dc718ac264f442a817ac930cf014811",
            "53789c79ac524d6eb455d85557c76f5d",
            "db9ff830ca0b46ac8690f0121d3e1f37",
            "9cdf66c50d3443c7ab846050be0e1f65",
            "a8322f0c98614b7b89bd539edf0c92fb",
            "7288f634cd364fb8aa36eafc6314de05",
            "b125aaf6017544d2adae6e069917a2ca",
            "1f93822bd6df48b29cf87e613a9a31a2",
            "bd7c4f22389b44978ef325205b3b55b5",
            "7a261f209dc04ba1af8d0e06287de885",
            "deec902f0de1491696fbe281245174ad",
            "a8e935c268f6419d89c764c33f013b26",
            "3e50c0f2652f47c3b9736a45356e56d8",
            "e4ff2f449f0949e492a9def49a833e18",
            "abe50e5eac26409ab82cecdcb97c74d8",
            "d5d7f7c6507f40fbbf7c0aec35400b93",
            "e166b55e43064ccf958e4b10c218f86c",
            "037e3fa12ff74455b9f415efcd5ea499",
            "1d71e40cf591427ba885f31310470507",
            "e77c7d90f5fe4dbf99fd60d554fb79d3",
            "07ceab74ceb148f99e25073f0910685e",
            "014b87430d9b4d778e8fcfce22e03568",
            "bcc0d95ad7c0400d8136c90253681128",
            "3fbc70738cc342079d12344389c9713b",
            "1c49424ba5b94aaa8ba5a5e4c89531a5",
            "ed09a6b7f4b347c9b81af5d4bd072752",
            "982bda3410df4b729ff2e881983a8bd5",
            "3787156cd52c4df6bff9af6ed7966552",
            "e1074824b7504da48bdb6ca5f33df856",
            "437076fe5ffb47ce979bad127e72c7dd",
            "a8696b18c3614e3a819c986422448e70",
            "fa83d9393325438f8261949fc3c401de",
            "1fc713cbed724594a185cffd8b468584",
            "524d61a44e474b68b486115df2cef3a4",
            "e97c0d035f5e40ad8d8bec9dead1f0ca",
            "4bf7d9d491524fdf88f2385029cd4660",
            "7f260644bc114ef3a42a88449144195e",
            "adffbab2c8164480aff0883029ab9b73",
            "c4957606da2644bfbd661b94a0e5c358",
            "38b7f0b81978452d814eaf5d7c05337d"
          ]
        },
        "outputId": "776bc458-904b-4d4d-c246-29ab0e4b2cba"
      },
      "source": [
        "%%time\n",
        "\n",
        "model = load_protonet_conv(\n",
        "    x_dim=(3,64,64),\n",
        "    hid_dim=64,\n",
        "    z_dim=64,\n",
        "    )\n",
        "\n",
        "optimizer = optim.Adam(model.parameters(), lr = 0.001)\n",
        "\n",
        "n_way = 3\n",
        "n_support = 5\n",
        "n_query = 5\n",
        "\n",
        "train_x = trainx\n",
        "train_y = trainy\n",
        "\n",
        "max_epoch = 5\n",
        "epoch_size = 2000\n",
        "\n",
        "train(model, optimizer, train_x, train_y, n_way, n_support, n_query, max_epoch, epoch_size)"
      ],
      "execution_count": 37,
      "outputs": [
        {
          "output_type": "stream",
          "name": "stderr",
          "text": [
            "<ipython-input-33-cba23b1f7c8d>:24: TqdmDeprecationWarning: Please use `tqdm.notebook.trange` instead of `tqdm.tnrange`\n",
            "  for episode in tnrange(epoch_size, desc=\"Epoch {:d} train\".format(epoch+1)):\n"
          ]
        },
        {
          "output_type": "display_data",
          "data": {
            "text/plain": [
              "Epoch 1 train:   0%|          | 0/2000 [00:00<?, ?it/s]"
            ],
            "application/vnd.jupyter.widget-view+json": {
              "version_major": 2,
              "version_minor": 0,
              "model_id": "03dfcc66d3db4dfa8a67fb40ecfd6eee"
            }
          },
          "metadata": {}
        },
        {
          "output_type": "stream",
          "name": "stdout",
          "text": [
            "Epoch 1 -- Loss: 0.6365 Acc: 0.9405\n"
          ]
        },
        {
          "output_type": "display_data",
          "data": {
            "text/plain": [
              "Epoch 2 train:   0%|          | 0/2000 [00:00<?, ?it/s]"
            ],
            "application/vnd.jupyter.widget-view+json": {
              "version_major": 2,
              "version_minor": 0,
              "model_id": "9a088bc9da5b4b2789232b3e8cadcf57"
            }
          },
          "metadata": {}
        },
        {
          "output_type": "stream",
          "name": "stdout",
          "text": [
            "Epoch 2 -- Loss: 0.0707 Acc: 0.9767\n"
          ]
        },
        {
          "output_type": "display_data",
          "data": {
            "text/plain": [
              "Epoch 3 train:   0%|          | 0/2000 [00:00<?, ?it/s]"
            ],
            "application/vnd.jupyter.widget-view+json": {
              "version_major": 2,
              "version_minor": 0,
              "model_id": "1f93822bd6df48b29cf87e613a9a31a2"
            }
          },
          "metadata": {}
        },
        {
          "output_type": "stream",
          "name": "stdout",
          "text": [
            "Epoch 3 -- Loss: 0.0480 Acc: 0.9833\n"
          ]
        },
        {
          "output_type": "display_data",
          "data": {
            "text/plain": [
              "Epoch 4 train:   0%|          | 0/2000 [00:00<?, ?it/s]"
            ],
            "application/vnd.jupyter.widget-view+json": {
              "version_major": 2,
              "version_minor": 0,
              "model_id": "1d71e40cf591427ba885f31310470507"
            }
          },
          "metadata": {}
        },
        {
          "output_type": "stream",
          "name": "stdout",
          "text": [
            "Epoch 4 -- Loss: 0.0250 Acc: 0.9914\n"
          ]
        },
        {
          "output_type": "display_data",
          "data": {
            "text/plain": [
              "Epoch 5 train:   0%|          | 0/2000 [00:00<?, ?it/s]"
            ],
            "application/vnd.jupyter.widget-view+json": {
              "version_major": 2,
              "version_minor": 0,
              "model_id": "437076fe5ffb47ce979bad127e72c7dd"
            }
          },
          "metadata": {}
        },
        {
          "output_type": "stream",
          "name": "stdout",
          "text": [
            "Epoch 5 -- Loss: 0.0166 Acc: 0.9943\n",
            "CPU times: user 6min 12s, sys: 1min 5s, total: 7min 17s\n",
            "Wall time: 7min 22s\n"
          ]
        }
      ]
    },
    {
      "cell_type": "code",
      "source": [
        "from PIL import Image\n",
        "data = Image.fromarray(train_x[0])\n",
        "\n",
        "    # saving the final output\n",
        "    # as a PNG file\n",
        "data.save('gfg_dummy_pic.png')"
      ],
      "metadata": {
        "id": "E-IyTwmr3oEx"
      },
      "execution_count": 46,
      "outputs": []
    },
    {
      "cell_type": "markdown",
      "metadata": {
        "id": "pJu50gOb8WxU"
      },
      "source": [
        "##Test"
      ]
    },
    {
      "cell_type": "code",
      "metadata": {
        "id": "qCgoOcCaERHH"
      },
      "source": [
        "def test(model, test_x, test_y, n_way, n_support, n_query, test_episode):\n",
        "  \"\"\"\n",
        "  Tests the protonet\n",
        "  Args:\n",
        "      model: trained model\n",
        "      test_x (np.array): images of testing set\n",
        "      test_y (np.array): labels of testing set\n",
        "      n_way (int): number of classes in a classification task\n",
        "      n_support (int): number of labeled examples per class in the support set\n",
        "      n_query (int): number of labeled examples per class in the query set\n",
        "      test_episode (int): number of episodes to test on\n",
        "  \"\"\"\n",
        "  running_loss = 0.0\n",
        "  running_acc = 0.0\n",
        "  for episode in tnrange(test_episode):\n",
        "    sample = extract_sample(n_way, n_support, n_query, test_x, test_y)\n",
        "    loss, output = model.set_forward_loss(sample)\n",
        "    running_loss += output['loss']\n",
        "    running_acc += output['acc']\n",
        "  avg_loss = running_loss / test_episode\n",
        "  avg_acc = running_acc / test_episode\n",
        "  print('Test results -- Loss: {:.4f} Acc: {:.4f}'.format(avg_loss, avg_acc))"
      ],
      "execution_count": 20,
      "outputs": []
    },
    {
      "cell_type": "code",
      "metadata": {
        "id": "yvyja6x3I6JB",
        "colab": {
          "base_uri": "https://localhost:8080/",
          "height": 101,
          "referenced_widgets": [
            "23058510cb354d45bcbd69057c59acb9",
            "a6bfaf2cfdfa4b2aa35517451ec46749",
            "e77b09c057354ebfa8c2e1a9c492eff8",
            "408d26d4a5a84deb9516a0f41927b711",
            "ce5bb3a7f4a340fc97c69f37b734cf48",
            "94e16bdca1314262b4a8fac9d70860e5",
            "242cc762232a4c6a9275169e4a319503",
            "3de0a07da5c94c6c91b882c24f7d1097",
            "69093d0211244632b1b0b1e83314e93a",
            "76b241e053f24831a36b8f7c0c20b348",
            "7139c5af81fe4f3fb1ae34a2b38674a7"
          ]
        },
        "outputId": "b9c97c61-ac97-4334-cf31-4c11518b83c4"
      },
      "source": [
        "n_way = 5\n",
        "n_support = 5\n",
        "n_query = 5\n",
        "\n",
        "test_x = testx\n",
        "test_y = testy\n",
        "\n",
        "test_episode = 1000\n",
        "\n",
        "test(model, test_x, test_y, n_way, n_support, n_query, test_episode)"
      ],
      "execution_count": 21,
      "outputs": [
        {
          "output_type": "stream",
          "name": "stderr",
          "text": [
            "<ipython-input-20-5c259eed931d>:15: TqdmDeprecationWarning: Please use `tqdm.notebook.trange` instead of `tqdm.tnrange`\n",
            "  for episode in tnrange(test_episode):\n"
          ]
        },
        {
          "output_type": "display_data",
          "data": {
            "text/plain": [
              "  0%|          | 0/1000 [00:00<?, ?it/s]"
            ],
            "application/vnd.jupyter.widget-view+json": {
              "version_major": 2,
              "version_minor": 0,
              "model_id": "23058510cb354d45bcbd69057c59acb9"
            }
          },
          "metadata": {}
        },
        {
          "output_type": "stream",
          "name": "stdout",
          "text": [
            "Test results -- Loss: 0.0237 Acc: 0.9959\n"
          ]
        }
      ]
    },
    {
      "cell_type": "markdown",
      "metadata": {
        "id": "nOH0sg_7EKUW"
      },
      "source": [
        "##Test on specific example"
      ]
    },
    {
      "cell_type": "markdown",
      "metadata": {
        "id": "enVTmBdQJwsB"
      },
      "source": [
        "Let's test the model on a specific example to visualize how well does it label the data"
      ]
    },
    {
      "cell_type": "code",
      "metadata": {
        "id": "eO8PcZ_F0ZWc",
        "colab": {
          "base_uri": "https://localhost:8080/",
          "height": 620
        },
        "outputId": "e1149451-0d6f-4d58-fd17-08af82b731d2"
      },
      "source": [
        "my_sample = extract_sample(n_way, n_support, n_query, test_x, test_y)\n",
        "display_sample(my_sample['images'])"
      ],
      "execution_count": 22,
      "outputs": [
        {
          "output_type": "stream",
          "name": "stderr",
          "text": [
            "WARNING:matplotlib.image:Clipping input data to the valid range for imshow with RGB data ([0..1] for floats or [0..255] for integers).\n"
          ]
        },
        {
          "output_type": "display_data",
          "data": {
            "text/plain": [
              "<Figure size 1600x700 with 1 Axes>"
            ],
            "image/png": "[encoded data removed]"
          },
          "metadata": {}
        }
      ]
    },
    {
      "cell_type": "code",
      "metadata": {
        "id": "6J6LIrsZ0xoU"
      },
      "source": [
        "my_loss, my_output = model.set_forward_loss(my_sample)"
      ],
      "execution_count": 23,
      "outputs": []
    },
    {
      "cell_type": "code",
      "metadata": {
        "id": "0SZ3N2n--LQX",
        "colab": {
          "base_uri": "https://localhost:8080/"
        },
        "outputId": "b558e88e-a089-461c-fdfa-739bec7a8a0e"
      },
      "source": [
        "my_output"
      ],
      "execution_count": 24,
      "outputs": [
        {
          "output_type": "execute_result",
          "data": {
            "text/plain": [
              "{'loss': 4.76837103136063e-09,\n",
              " 'acc': 1.0,\n",
              " 'y_hat': tensor([[0, 0, 0, 0, 0],\n",
              "         [1, 1, 1, 1, 1],\n",
              "         [2, 2, 2, 2, 2],\n",
              "         [3, 3, 3, 3, 3],\n",
              "         [4, 4, 4, 4, 4]], device='cuda:0')}"
            ]
          },
          "metadata": {},
          "execution_count": 24
        }
      ]
    },
    {
      "cell_type": "code",
      "metadata": {
        "id": "JIR1_i62gOUB",
        "colab": {
          "base_uri": "https://localhost:8080/"
        },
        "outputId": "13c157c5-9751-47d2-9180-e1cdc61ca0c1"
      },
      "source": [
        "base_directory = 'images_background'\n",
        "for directory in os.listdir(base_directory):\n",
        "        print(base_directory + '/' + directory + '/', directory)"
      ],
      "execution_count": 25,
      "outputs": [
        {
          "output_type": "stream",
          "name": "stdout",
          "text": [
            "images_background/Futurama/ Futurama\n",
            "images_background/Japanese_(katakana)/ Japanese_(katakana)\n",
            "images_background/N_Ko/ N_Ko\n",
            "images_background/Inuktitut_(Canadian_Aboriginal_Syllabics)/ Inuktitut_(Canadian_Aboriginal_Syllabics)\n",
            "images_background/Asomtavruli_(Georgian)/ Asomtavruli_(Georgian)\n",
            "images_background/Balinese/ Balinese\n",
            "images_background/Braille/ Braille\n",
            "images_background/Bengali/ Bengali\n",
            "images_background/Japanese_(hiragana)/ Japanese_(hiragana)\n",
            "images_background/Ojibwe_(Canadian_Aboriginal_Syllabics)/ Ojibwe_(Canadian_Aboriginal_Syllabics)\n",
            "images_background/Blackfoot_(Canadian_Aboriginal_Syllabics)/ Blackfoot_(Canadian_Aboriginal_Syllabics)\n",
            "images_background/Arcadian/ Arcadian\n",
            "images_background/Sanskrit/ Sanskrit\n",
            "images_background/Gujarati/ Gujarati\n",
            "images_background/Grantha/ Grantha\n",
            "images_background/Armenian/ Armenian\n",
            "images_background/Hebrew/ Hebrew\n",
            "images_background/Tifinagh/ Tifinagh\n",
            "images_background/Burmese_(Myanmar)/ Burmese_(Myanmar)\n",
            "images_background/Syriac_(Estrangelo)/ Syriac_(Estrangelo)\n",
            "images_background/Cyrillic/ Cyrillic\n",
            "images_background/Latin/ Latin\n",
            "images_background/Malay_(Jawi_-_Arabic)/ Malay_(Jawi_-_Arabic)\n",
            "images_background/Early_Aramaic/ Early_Aramaic\n",
            "images_background/Alphabet_of_the_Magi/ Alphabet_of_the_Magi\n",
            "images_background/Mkhedruli_(Georgian)/ Mkhedruli_(Georgian)\n",
            "images_background/Anglo-Saxon_Futhorc/ Anglo-Saxon_Futhorc\n",
            "images_background/Greek/ Greek\n",
            "images_background/Korean/ Korean\n",
            "images_background/Tagalog/ Tagalog\n"
          ]
        }
      ]
    },
    {
      "cell_type": "code",
      "source": [],
      "metadata": {
        "id": "flcZhfejMOP9"
      },
      "execution_count": null,
      "outputs": []
    }
  ]
}